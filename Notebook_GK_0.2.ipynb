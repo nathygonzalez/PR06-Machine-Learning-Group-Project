{
 "cells": [
  {
   "cell_type": "markdown",
   "id": "8c8623b0",
   "metadata": {},
   "source": [
    "## Importación"
   ]
  },
  {
   "cell_type": "code",
   "execution_count": 106,
   "id": "101b32e0",
   "metadata": {
    "ExecuteTime": {
     "end_time": "2022-02-24T20:22:24.198822Z",
     "start_time": "2022-02-24T20:22:24.185822Z"
    }
   },
   "outputs": [],
   "source": [
    "import pandas as pd\n",
    "import numpy as np\n",
    "import matplotlib.pyplot as plt\n",
    "import seaborn as sns\n",
    "from sklearn.ensemble import RandomForestClassifier\n",
    "from sklearn.feature_selection import SelectFromModel\n",
    "from sklearn.model_selection import train_test_split\n",
    "from sklearn.preprocessing import StandardScaler, OneHotEncoder, LabelEncoder, OrdinalEncoder\n",
    "from sklearn.compose import make_column_transformer\n",
    "from sklearn.pipeline import make_pipeline\n",
    "from sklearn.linear_model import LinearRegression, Lasso, Ridge, ElasticNet\n",
    "from sklearn.metrics import classification_report\n",
    "from imblearn.under_sampling import RandomUnderSampler\n",
    "from sklearn.svm import SVC\n",
    "from imblearn.over_sampling import SMOTEN"
   ]
  },
  {
   "cell_type": "code",
   "execution_count": 26,
   "id": "d0073b6b",
   "metadata": {
    "ExecuteTime": {
     "end_time": "2022-02-24T20:14:53.557333Z",
     "start_time": "2022-02-24T20:14:52.660331Z"
    },
    "scrolled": true
   },
   "outputs": [
    {
     "name": "stderr",
     "output_type": "stream",
     "text": [
      "C:\\Users\\carlo\\anaconda3\\lib\\site-packages\\IPython\\core\\interactiveshell.py:3165: DtypeWarning: Columns (99) have mixed types.Specify dtype option on import or set low_memory=False.\n",
      "  has_raised = await self.run_ast_nodes(code_ast.body, cell_name,\n"
     ]
    }
   ],
   "source": [
    "df=pd.read_csv(\"https://raw.githubusercontent.com/nathygonzalez/PR06-Machine-Learning-Group-Project/develop/data/df_cleaned.csv\")"
   ]
  },
  {
   "cell_type": "markdown",
   "id": "af375c3a",
   "metadata": {},
   "source": [
    "## depuración columna \"gk\""
   ]
  },
  {
   "cell_type": "code",
   "execution_count": 27,
   "id": "ff30476c",
   "metadata": {
    "ExecuteTime": {
     "end_time": "2022-02-24T20:17:36.860000Z",
     "start_time": "2022-02-24T20:17:36.843947Z"
    }
   },
   "outputs": [],
   "source": [
    "df['gk'] =df['gk'].replace(\"+\",\"\")"
   ]
  },
  {
   "cell_type": "code",
   "execution_count": 28,
   "id": "ececff56",
   "metadata": {
    "ExecuteTime": {
     "end_time": "2022-02-24T20:17:37.206404Z",
     "start_time": "2022-02-24T20:17:37.109341Z"
    }
   },
   "outputs": [],
   "source": [
    "df['gk'] = df['gk'].str.replace(r'\\+', '', regex=True)\n"
   ]
  },
  {
   "cell_type": "code",
   "execution_count": 29,
   "id": "c32f8e2c",
   "metadata": {
    "ExecuteTime": {
     "end_time": "2022-02-24T20:17:37.503936Z",
     "start_time": "2022-02-24T20:17:37.486659Z"
    }
   },
   "outputs": [],
   "source": [
    "df.gk.fillna(0,inplace=True)"
   ]
  },
  {
   "cell_type": "code",
   "execution_count": 30,
   "id": "0349c1ba",
   "metadata": {
    "ExecuteTime": {
     "end_time": "2022-02-24T20:17:40.391524Z",
     "start_time": "2022-02-24T20:17:40.366478Z"
    }
   },
   "outputs": [],
   "source": [
    "df['gk']=df.gk.astype(int)"
   ]
  },
  {
   "cell_type": "code",
   "execution_count": 31,
   "id": "2848a252",
   "metadata": {},
   "outputs": [
    {
     "data": {
      "text/plain": [
       "0        15\n",
       "1        16\n",
       "2        14\n",
       "3        17\n",
       "4        87\n",
       "         ..\n",
       "87742     0\n",
       "87743     0\n",
       "87744     0\n",
       "87745     0\n",
       "87746     0\n",
       "Name: gk, Length: 87747, dtype: int32"
      ]
     },
     "execution_count": 31,
     "metadata": {},
     "output_type": "execute_result"
    }
   ],
   "source": [
    "df['gk']"
   ]
  },
  {
   "cell_type": "markdown",
   "id": "a6ecf8f3",
   "metadata": {},
   "source": [
    "## Añadir variable años pendientes de contrato"
   ]
  },
  {
   "cell_type": "code",
   "execution_count": 32,
   "id": "26a24d45",
   "metadata": {},
   "outputs": [],
   "source": [
    "df['años_de_contrato']=np.where((df['club_contract_valid_until']-df['año_version'])<0,0,(df['club_contract_valid_until']-df['año_version']))"
   ]
  },
  {
   "cell_type": "code",
   "execution_count": 33,
   "id": "6f2dcd88",
   "metadata": {},
   "outputs": [
    {
     "data": {
      "text/plain": [
       "años_de_contrato\n",
       "0.0    30707\n",
       "1.0    21182\n",
       "2.0    17779\n",
       "3.0     9287\n",
       "4.0     4872\n",
       "5.0     2502\n",
       "6.0     1413\n",
       "7.0        3\n",
       "8.0        2\n",
       "Name: años_de_contrato, dtype: int64"
      ]
     },
     "execution_count": 33,
     "metadata": {},
     "output_type": "execute_result"
    }
   ],
   "source": [
    "#comprobación\n",
    "df.groupby('años_de_contrato')['años_de_contrato'].count()"
   ]
  },
  {
   "cell_type": "markdown",
   "id": "2f59cdea",
   "metadata": {},
   "source": [
    "## Eliminación de ruido"
   ]
  },
  {
   "cell_type": "code",
   "execution_count": 34,
   "id": "694b9187",
   "metadata": {
    "ExecuteTime": {
     "end_time": "2022-02-24T20:17:17.443509Z",
     "start_time": "2022-02-24T20:17:17.363443Z"
    }
   },
   "outputs": [
    {
     "data": {
      "text/plain": [
       "\"df.drop(['sofifa_id',\\n 'short_name',\\n 'long_name',\\n 'player_positions',\\n     'dob', 'club_team_id',\\n 'club_name',\\n 'league_name',\\n 'league_level',\\n'club_jersey_number',\\n 'club_joined',\\n 'club_contract_valid_until',\\n 'nationality_id',\\n 'nationality_name',\\n 'nation_team_id','work_rate',\\n 'body_type',\\n 'real_face',\\n    'player_traits'],axis=1,inplace=True)\""
      ]
     },
     "execution_count": 34,
     "metadata": {},
     "output_type": "execute_result"
    }
   ],
   "source": [
    "#elimino columnas (según Sergio)\n",
    "'''df.drop(['sofifa_id',\n",
    " 'short_name',\n",
    " 'long_name',\n",
    " 'player_positions',\n",
    "     'dob', 'club_team_id',\n",
    " 'club_name',\n",
    " 'league_name',\n",
    " 'league_level',\n",
    "'club_jersey_number',\n",
    " 'club_joined',\n",
    " 'club_contract_valid_until',\n",
    " 'nationality_id',\n",
    " 'nationality_name',\n",
    " 'nation_team_id','work_rate',\n",
    " 'body_type',\n",
    " 'real_face',\n",
    "    'player_traits'],axis=1,inplace=True)'''"
   ]
  },
  {
   "cell_type": "code",
   "execution_count": 35,
   "id": "18634378",
   "metadata": {},
   "outputs": [],
   "source": [
    "#eliminamos columnas que sabemos seguro que sólo aportan ruido (según Carlos)\n",
    "df.drop([\"sofifa_id\",'short_name', 'long_name',\"nationality_id\",\"dob\",'club_team_id', 'club_name', 'league_name',\n",
    "        'club_jersey_number', 'club_joined', 'club_contract_valid_until','nationality_id', 'nationality_name','player_traits',\n",
    "        'ranking','puntos','año_version'],axis=1,inplace=True)"
   ]
  },
  {
   "cell_type": "markdown",
   "id": "e9ef54c5",
   "metadata": {},
   "source": [
    "## Agrupar columna bodytype"
   ]
  },
  {
   "cell_type": "code",
   "execution_count": 36,
   "id": "a79555a7",
   "metadata": {},
   "outputs": [],
   "source": [
    "Lean=['Lean (170-)','Lean (185+)','Lean (170-185)']\n",
    "Normal=['Normal (170-)','Normal (170-185)','Normal (185+)']\n",
    "Stocky=['Stocky (170-)','Stocky (170-185)','Stocky (185+)']\n",
    "\n",
    "#agrupo posiciones en posiciones genéricas    \n",
    "for i in df.index:\n",
    "    if df.at[i,'body_type'] in Lean:\n",
    "        df.at[i,'body_type']='Lean'\n",
    "    elif df.at[i,'body_type'] in Normal:\n",
    "        df.at[i,'body_type']='Normal'\n",
    "    elif df.at[i,'body_type'] in Stocky:\n",
    "        df.at[i,'body_type']='Stocky'\n",
    "    else:\n",
    "        pass"
   ]
  },
  {
   "cell_type": "markdown",
   "id": "91da7391",
   "metadata": {},
   "source": [
    "## Exploración feature engineering"
   ]
  },
  {
   "cell_type": "code",
   "execution_count": 37,
   "id": "41d15456",
   "metadata": {},
   "outputs": [
    {
     "data": {
      "text/plain": [
       "Right    66970\n",
       "Left     20777\n",
       "Name: preferred_foot, dtype: int64"
      ]
     },
     "execution_count": 37,
     "metadata": {},
     "output_type": "execute_result"
    }
   ],
   "source": [
    "df.preferred_foot.value_counts() #categorica a OHE"
   ]
  },
  {
   "cell_type": "code",
   "execution_count": 38,
   "id": "35c80876",
   "metadata": {},
   "outputs": [
    {
     "data": {
      "text/plain": [
       "Medium/Medium    47248\n",
       "High/Medium      15911\n",
       "Medium/High       8196\n",
       "High/High         4712\n",
       "Medium/Low        4072\n",
       "High/Low          3332\n",
       "Low/Medium        2078\n",
       "Low/High          2058\n",
       "Low/Low            140\n",
       "Name: work_rate, dtype: int64"
      ]
     },
     "execution_count": 38,
     "metadata": {},
     "output_type": "execute_result"
    }
   ],
   "source": [
    "df.work_rate.value_counts() #categorica transformarla con un ordinal encoder"
   ]
  },
  {
   "cell_type": "code",
   "execution_count": 39,
   "id": "6e2593a5",
   "metadata": {},
   "outputs": [
    {
     "data": {
      "text/plain": [
       "Normal    51581\n",
       "Lean      30898\n",
       "Stocky     5099\n",
       "Unique      169\n",
       "Name: body_type, dtype: int64"
      ]
     },
     "execution_count": 39,
     "metadata": {},
     "output_type": "execute_result"
    }
   ],
   "source": [
    "df.body_type.value_counts() #categorica a OHE"
   ]
  },
  {
   "cell_type": "code",
   "execution_count": 40,
   "id": "f7eb32f1",
   "metadata": {},
   "outputs": [
    {
     "data": {
      "text/plain": [
       "No     78885\n",
       "Yes     8862\n",
       "Name: real_face, dtype: int64"
      ]
     },
     "execution_count": 40,
     "metadata": {},
     "output_type": "execute_result"
    }
   ],
   "source": [
    "df.real_face.value_counts() #categorica a OHE"
   ]
  },
  {
   "cell_type": "markdown",
   "id": "d42a36c9",
   "metadata": {},
   "source": [
    "## Feature engineering (transformar todas las variables a numéricas menos player_positions)"
   ]
  },
  {
   "cell_type": "code",
   "execution_count": 43,
   "id": "153d6124",
   "metadata": {},
   "outputs": [],
   "source": [
    "#preparación para transformación categorica a num\n",
    "work_rate_ord=['Low/Low','Low/Medium','Low/High','Medium/Low','Medium/Medium','Medium/High','High/Low','High/Medium','High/High']\n",
    "league_level_ord=['0.0','4.0','3.0','2.0','1.0']\n",
    "df['league_level']=df['league_level'].apply(str)"
   ]
  },
  {
   "cell_type": "code",
   "execution_count": 51,
   "id": "fd3368d0",
   "metadata": {},
   "outputs": [],
   "source": [
    "#Ordinal Encoder\n",
    "df[['work_rate','league_level']]=OrdinalEncoder(categories=[work_rate_ord,league_level_ord]).fit_transform(df[['work_rate','league_level']])"
   ]
  },
  {
   "cell_type": "code",
   "execution_count": 58,
   "id": "d5589aa9",
   "metadata": {},
   "outputs": [],
   "source": [
    "#OHE\n",
    "df[['preferred_foot','body_type_1','body_type_2','body_type_3','real_face']]=OneHotEncoder(drop='first',sparse=False).fit_transform(df[['preferred_foot','body_type','real_face']])                                          "
   ]
  },
  {
   "cell_type": "code",
   "execution_count": 59,
   "id": "c5aac211",
   "metadata": {},
   "outputs": [
    {
     "data": {
      "text/plain": [
       "player_positions    True\n",
       "body_type           True\n",
       "dtype: bool"
      ]
     },
     "execution_count": 59,
     "metadata": {},
     "output_type": "execute_result"
    }
   ],
   "source": [
    "#comprobar columnas\n",
    "categorical = df.dtypes == object\n",
    "categorical[categorical==True]"
   ]
  },
  {
   "cell_type": "code",
   "execution_count": 60,
   "id": "389108ce",
   "metadata": {},
   "outputs": [],
   "source": [
    "#eliminar columna body_type\n",
    "df.drop([\"body_type\"],axis=1,inplace=True)"
   ]
  },
  {
   "cell_type": "markdown",
   "id": "6e07157e",
   "metadata": {},
   "source": [
    "## Filtramos el dataset por posicion"
   ]
  },
  {
   "cell_type": "code",
   "execution_count": 61,
   "id": "8eeec70d",
   "metadata": {},
   "outputs": [
    {
     "name": "stderr",
     "output_type": "stream",
     "text": [
      "C:\\Users\\carlo\\anaconda3\\lib\\site-packages\\pandas\\core\\frame.py:4308: SettingWithCopyWarning: \n",
      "A value is trying to be set on a copy of a slice from a DataFrame\n",
      "\n",
      "See the caveats in the documentation: https://pandas.pydata.org/pandas-docs/stable/user_guide/indexing.html#returning-a-view-versus-a-copy\n",
      "  return super().drop(\n"
     ]
    }
   ],
   "source": [
    "#filtramos dataset para evitar excesiva coliniaridad\n",
    "df=df[df['player_positions']=='portero']\n",
    "#eliminar columna player_positions\n",
    "df.drop([\"player_positions\"],axis=1,inplace=True)"
   ]
  },
  {
   "cell_type": "code",
   "execution_count": 63,
   "id": "a4807008",
   "metadata": {},
   "outputs": [
    {
     "data": {
      "text/html": [
       "<div>\n",
       "<style scoped>\n",
       "    .dataframe tbody tr th:only-of-type {\n",
       "        vertical-align: middle;\n",
       "    }\n",
       "\n",
       "    .dataframe tbody tr th {\n",
       "        vertical-align: top;\n",
       "    }\n",
       "\n",
       "    .dataframe thead th {\n",
       "        text-align: right;\n",
       "    }\n",
       "</style>\n",
       "<table border=\"1\" class=\"dataframe\">\n",
       "  <thead>\n",
       "    <tr style=\"text-align: right;\">\n",
       "      <th></th>\n",
       "      <th>overall</th>\n",
       "      <th>potential</th>\n",
       "      <th>value_eur</th>\n",
       "      <th>wage_eur</th>\n",
       "      <th>age</th>\n",
       "      <th>height_cm</th>\n",
       "      <th>weight_kg</th>\n",
       "      <th>league_level</th>\n",
       "      <th>club_position</th>\n",
       "      <th>nation_team_id</th>\n",
       "      <th>...</th>\n",
       "      <th>gk</th>\n",
       "      <th>progresion_anual</th>\n",
       "      <th>overall_team/year</th>\n",
       "      <th>teams_in_league/year</th>\n",
       "      <th>mean_league/year</th>\n",
       "      <th>mean_team/year</th>\n",
       "      <th>años_de_contrato</th>\n",
       "      <th>body_type_1</th>\n",
       "      <th>body_type_2</th>\n",
       "      <th>body_type_3</th>\n",
       "    </tr>\n",
       "  </thead>\n",
       "  <tbody>\n",
       "    <tr>\n",
       "      <th>4</th>\n",
       "      <td>90</td>\n",
       "      <td>90</td>\n",
       "      <td>63500000.0</td>\n",
       "      <td>300000.0</td>\n",
       "      <td>28</td>\n",
       "      <td>193</td>\n",
       "      <td>92</td>\n",
       "      <td>4.0</td>\n",
       "      <td>1</td>\n",
       "      <td>1</td>\n",
       "      <td>...</td>\n",
       "      <td>87</td>\n",
       "      <td>0.0</td>\n",
       "      <td>2061.0</td>\n",
       "      <td>18.0</td>\n",
       "      <td>71.280514</td>\n",
       "      <td>79.269231</td>\n",
       "      <td>4.0</td>\n",
       "      <td>1.0</td>\n",
       "      <td>0.0</td>\n",
       "      <td>0.0</td>\n",
       "    </tr>\n",
       "    <tr>\n",
       "      <th>29</th>\n",
       "      <td>86</td>\n",
       "      <td>90</td>\n",
       "      <td>27000000.0</td>\n",
       "      <td>170000.0</td>\n",
       "      <td>22</td>\n",
       "      <td>199</td>\n",
       "      <td>88</td>\n",
       "      <td>4.0</td>\n",
       "      <td>1</td>\n",
       "      <td>1</td>\n",
       "      <td>...</td>\n",
       "      <td>85</td>\n",
       "      <td>0.0</td>\n",
       "      <td>2305.0</td>\n",
       "      <td>20.0</td>\n",
       "      <td>71.277778</td>\n",
       "      <td>74.354839</td>\n",
       "      <td>4.0</td>\n",
       "      <td>0.0</td>\n",
       "      <td>0.0</td>\n",
       "      <td>0.0</td>\n",
       "    </tr>\n",
       "    <tr>\n",
       "      <th>31</th>\n",
       "      <td>85</td>\n",
       "      <td>85</td>\n",
       "      <td>18000000.0</td>\n",
       "      <td>170000.0</td>\n",
       "      <td>32</td>\n",
       "      <td>196</td>\n",
       "      <td>90</td>\n",
       "      <td>4.0</td>\n",
       "      <td>0</td>\n",
       "      <td>1</td>\n",
       "      <td>...</td>\n",
       "      <td>83</td>\n",
       "      <td>0.0</td>\n",
       "      <td>2305.0</td>\n",
       "      <td>20.0</td>\n",
       "      <td>71.277778</td>\n",
       "      <td>74.354839</td>\n",
       "      <td>1.0</td>\n",
       "      <td>1.0</td>\n",
       "      <td>0.0</td>\n",
       "      <td>0.0</td>\n",
       "    </tr>\n",
       "    <tr>\n",
       "      <th>34</th>\n",
       "      <td>85</td>\n",
       "      <td>86</td>\n",
       "      <td>21000000.0</td>\n",
       "      <td>160000.0</td>\n",
       "      <td>27</td>\n",
       "      <td>188</td>\n",
       "      <td>78</td>\n",
       "      <td>4.0</td>\n",
       "      <td>1</td>\n",
       "      <td>1</td>\n",
       "      <td>...</td>\n",
       "      <td>84</td>\n",
       "      <td>0.0</td>\n",
       "      <td>1991.0</td>\n",
       "      <td>20.0</td>\n",
       "      <td>71.277778</td>\n",
       "      <td>73.740741</td>\n",
       "      <td>4.0</td>\n",
       "      <td>0.0</td>\n",
       "      <td>0.0</td>\n",
       "      <td>0.0</td>\n",
       "    </tr>\n",
       "    <tr>\n",
       "      <th>44</th>\n",
       "      <td>84</td>\n",
       "      <td>84</td>\n",
       "      <td>16500000.0</td>\n",
       "      <td>140000.0</td>\n",
       "      <td>33</td>\n",
       "      <td>185</td>\n",
       "      <td>84</td>\n",
       "      <td>4.0</td>\n",
       "      <td>1</td>\n",
       "      <td>1</td>\n",
       "      <td>...</td>\n",
       "      <td>82</td>\n",
       "      <td>0.0</td>\n",
       "      <td>2418.0</td>\n",
       "      <td>20.0</td>\n",
       "      <td>71.357143</td>\n",
       "      <td>75.562500</td>\n",
       "      <td>2.0</td>\n",
       "      <td>1.0</td>\n",
       "      <td>0.0</td>\n",
       "      <td>0.0</td>\n",
       "    </tr>\n",
       "  </tbody>\n",
       "</table>\n",
       "<p>5 rows × 94 columns</p>\n",
       "</div>"
      ],
      "text/plain": [
       "    overall  potential   value_eur  wage_eur  age  height_cm  weight_kg  \\\n",
       "4        90         90  63500000.0  300000.0   28        193         92   \n",
       "29       86         90  27000000.0  170000.0   22        199         88   \n",
       "31       85         85  18000000.0  170000.0   32        196         90   \n",
       "34       85         86  21000000.0  160000.0   27        188         78   \n",
       "44       84         84  16500000.0  140000.0   33        185         84   \n",
       "\n",
       "    league_level  club_position  nation_team_id  ...  gk  progresion_anual  \\\n",
       "4            4.0              1               1  ...  87               0.0   \n",
       "29           4.0              1               1  ...  85               0.0   \n",
       "31           4.0              0               1  ...  83               0.0   \n",
       "34           4.0              1               1  ...  84               0.0   \n",
       "44           4.0              1               1  ...  82               0.0   \n",
       "\n",
       "    overall_team/year  teams_in_league/year  mean_league/year  mean_team/year  \\\n",
       "4              2061.0                  18.0         71.280514       79.269231   \n",
       "29             2305.0                  20.0         71.277778       74.354839   \n",
       "31             2305.0                  20.0         71.277778       74.354839   \n",
       "34             1991.0                  20.0         71.277778       73.740741   \n",
       "44             2418.0                  20.0         71.357143       75.562500   \n",
       "\n",
       "    años_de_contrato  body_type_1  body_type_2  body_type_3  \n",
       "4                4.0          1.0          0.0          0.0  \n",
       "29               4.0          0.0          0.0          0.0  \n",
       "31               1.0          1.0          0.0          0.0  \n",
       "34               4.0          0.0          0.0          0.0  \n",
       "44               2.0          1.0          0.0          0.0  \n",
       "\n",
       "[5 rows x 94 columns]"
      ]
     },
     "execution_count": 63,
     "metadata": {},
     "output_type": "execute_result"
    }
   ],
   "source": [
    "df.head()"
   ]
  },
  {
   "cell_type": "markdown",
   "id": "6d308c0a",
   "metadata": {},
   "source": [
    "## Features selection"
   ]
  },
  {
   "cell_type": "code",
   "execution_count": 67,
   "id": "417e333f",
   "metadata": {
    "ExecuteTime": {
     "end_time": "2022-02-24T20:20:51.943085Z",
     "start_time": "2022-02-24T20:20:51.893811Z"
    }
   },
   "outputs": [
    {
     "name": "stderr",
     "output_type": "stream",
     "text": [
      "<ipython-input-67-40676595d978>:8: SettingWithCopyWarning: \n",
      "A value is trying to be set on a copy of a slice from a DataFrame.\n",
      "Try using .loc[row_indexer,col_indexer] = value instead\n",
      "\n",
      "See the caveats in the documentation: https://pandas.pydata.org/pandas-docs/stable/user_guide/indexing.html#returning-a-view-versus-a-copy\n",
      "  df[\"target\"]=target\n"
     ]
    }
   ],
   "source": [
    "target=[]\n",
    "#elegimos el % de target para que sea 0 y 1\n",
    "for i in df.progresion_anual:\n",
    "    if i>0.1:\n",
    "        target.append(1)\n",
    "    else:\n",
    "        target.append(0)\n",
    "df[\"target\"]=target"
   ]
  },
  {
   "cell_type": "code",
   "execution_count": 68,
   "id": "d330135a",
   "metadata": {
    "ExecuteTime": {
     "end_time": "2022-02-24T20:40:34.881381Z",
     "start_time": "2022-02-24T20:40:34.841376Z"
    }
   },
   "outputs": [],
   "source": [
    "X=df.drop([\"progresion_anual\",\"target\"],axis=1)\n",
    "y=df.target"
   ]
  },
  {
   "cell_type": "code",
   "execution_count": 70,
   "id": "75e9f6f9",
   "metadata": {
    "ExecuteTime": {
     "end_time": "2022-02-24T20:41:09.093225Z",
     "start_time": "2022-02-24T20:40:36.300755Z"
    }
   },
   "outputs": [
    {
     "data": {
      "text/plain": [
       "SelectFromModel(estimator=RandomForestClassifier())"
      ]
     },
     "execution_count": 70,
     "metadata": {},
     "output_type": "execute_result"
    }
   ],
   "source": [
    "#seleccion de columnas \n",
    "sel = SelectFromModel(RandomForestClassifier(n_estimators = 100))\n",
    "sel.fit(X,y)"
   ]
  },
  {
   "cell_type": "code",
   "execution_count": 71,
   "id": "9e0dad1f",
   "metadata": {
    "ExecuteTime": {
     "end_time": "2022-02-24T20:41:09.390521Z",
     "start_time": "2022-02-24T20:41:09.359514Z"
    },
    "scrolled": true
   },
   "outputs": [
    {
     "data": {
      "text/plain": [
       "array([ True,  True,  True,  True,  True,  True,  True, False, False,\n",
       "       False, False, False, False, False, False, False, False, False,\n",
       "       False, False, False, False, False,  True, False, False,  True,\n",
       "        True, False,  True,  True,  True,  True,  True,  True,  True,\n",
       "        True,  True,  True,  True,  True,  True,  True,  True,  True,\n",
       "        True,  True,  True,  True,  True, False, False,  True,  True,\n",
       "        True,  True,  True,  True, False, False, False, False, False,\n",
       "       False, False, False, False, False, False, False, False, False,\n",
       "       False, False, False, False, False, False, False, False, False,\n",
       "       False, False, False,  True,  True,  True,  True,  True, False,\n",
       "       False, False, False])"
      ]
     },
     "execution_count": 71,
     "metadata": {},
     "output_type": "execute_result"
    }
   ],
   "source": [
    "#columnas que coge\n",
    "sel.get_support()"
   ]
  },
  {
   "cell_type": "code",
   "execution_count": 72,
   "id": "f79c5d53",
   "metadata": {
    "ExecuteTime": {
     "end_time": "2022-02-24T20:41:18.336499Z",
     "start_time": "2022-02-24T20:41:18.285499Z"
    }
   },
   "outputs": [
    {
     "data": {
      "text/plain": [
       "42"
      ]
     },
     "execution_count": 72,
     "metadata": {},
     "output_type": "execute_result"
    }
   ],
   "source": [
    "selected_feat= X.columns[(sel.get_support())]\n",
    "len(selected_feat) #selecciona 42 columnas"
   ]
  },
  {
   "cell_type": "code",
   "execution_count": 78,
   "id": "c94acda7",
   "metadata": {
    "ExecuteTime": {
     "end_time": "2022-02-24T20:41:26.824245Z",
     "start_time": "2022-02-24T20:41:26.814251Z"
    }
   },
   "outputs": [
    {
     "data": {
      "text/plain": [
       "Index(['overall', 'potential', 'value_eur', 'wage_eur', 'age', 'height_cm',\n",
       "       'weight_kg', 'attacking_crossing', 'attacking_short_passing',\n",
       "       'attacking_volleys', 'skill_curve', 'skill_fk_accuracy',\n",
       "       'skill_long_passing', 'skill_ball_control', 'movement_acceleration',\n",
       "       'movement_sprint_speed', 'movement_agility', 'movement_reactions',\n",
       "       'movement_balance', 'power_shot_power', 'power_jumping',\n",
       "       'power_stamina', 'power_strength', 'power_long_shots',\n",
       "       'mentality_aggression', 'mentality_interceptions',\n",
       "       'mentality_positioning', 'mentality_vision', 'mentality_penalties',\n",
       "       'mentality_composure', 'defending_marking_awareness',\n",
       "       'goalkeeping_diving', 'goalkeeping_handling', 'goalkeeping_kicking',\n",
       "       'goalkeeping_positioning', 'goalkeeping_reflexes', 'goalkeeping_speed',\n",
       "       'gk', 'overall_team/year', 'teams_in_league/year', 'mean_league/year',\n",
       "       'mean_team/year'],\n",
       "      dtype='object')"
      ]
     },
     "execution_count": 78,
     "metadata": {},
     "output_type": "execute_result"
    }
   ],
   "source": [
    "#vemos que variables son\n",
    "selected_feat"
   ]
  },
  {
   "cell_type": "code",
   "execution_count": 76,
   "id": "1640338f",
   "metadata": {},
   "outputs": [],
   "source": [
    "#redefinimos X:\n",
    "X=df[selected_feat.to_list()]"
   ]
  },
  {
   "cell_type": "markdown",
   "id": "53ac5078",
   "metadata": {},
   "source": [
    "## Primer modelo naive"
   ]
  },
  {
   "cell_type": "code",
   "execution_count": 79,
   "id": "5a4c7caf",
   "metadata": {
    "ExecuteTime": {
     "end_time": "2022-02-24T20:42:27.481284Z",
     "start_time": "2022-02-24T20:42:27.367290Z"
    }
   },
   "outputs": [],
   "source": [
    "#split el dataframe\n",
    "X_train, X_test, y_train, y_test = train_test_split(X, y, test_size=0.2, random_state=0)"
   ]
  },
  {
   "cell_type": "code",
   "execution_count": 80,
   "id": "513f2e4e",
   "metadata": {
    "ExecuteTime": {
     "end_time": "2022-02-24T20:42:17.969587Z",
     "start_time": "2022-02-24T20:42:17.962592Z"
    }
   },
   "outputs": [],
   "source": [
    "model=RandomForestClassifier()"
   ]
  },
  {
   "cell_type": "code",
   "execution_count": 81,
   "id": "60bdc0f9",
   "metadata": {
    "ExecuteTime": {
     "end_time": "2022-02-24T20:43:04.281305Z",
     "start_time": "2022-02-24T20:42:37.149298Z"
    }
   },
   "outputs": [
    {
     "data": {
      "text/plain": [
       "RandomForestClassifier()"
      ]
     },
     "execution_count": 81,
     "metadata": {},
     "output_type": "execute_result"
    }
   ],
   "source": [
    "model.fit(X_train,y_train)"
   ]
  },
  {
   "cell_type": "code",
   "execution_count": 82,
   "id": "60233585",
   "metadata": {
    "ExecuteTime": {
     "end_time": "2022-02-24T20:43:09.960495Z",
     "start_time": "2022-02-24T20:43:09.495490Z"
    }
   },
   "outputs": [
    {
     "data": {
      "text/plain": [
       "0.9574468085106383"
      ]
     },
     "execution_count": 82,
     "metadata": {},
     "output_type": "execute_result"
    }
   ],
   "source": [
    "model.score(X_test,y_test)"
   ]
  },
  {
   "cell_type": "code",
   "execution_count": 83,
   "id": "fcab7da1",
   "metadata": {
    "ExecuteTime": {
     "end_time": "2022-02-24T20:43:34.917068Z",
     "start_time": "2022-02-24T20:43:34.471069Z"
    }
   },
   "outputs": [],
   "source": [
    "y_pred=model.predict(X_test)"
   ]
  },
  {
   "cell_type": "code",
   "execution_count": 86,
   "id": "16d81d51",
   "metadata": {
    "ExecuteTime": {
     "end_time": "2022-02-24T20:43:49.145049Z",
     "start_time": "2022-02-24T20:43:49.105265Z"
    },
    "scrolled": true
   },
   "outputs": [
    {
     "name": "stdout",
     "output_type": "stream",
     "text": [
      "              precision    recall  f1-score   support\n",
      "\n",
      "           0       0.96      1.00      0.98      1845\n",
      "           1       0.00      0.00      0.00        82\n",
      "\n",
      "    accuracy                           0.96      1927\n",
      "   macro avg       0.48      0.50      0.49      1927\n",
      "weighted avg       0.92      0.96      0.94      1927\n",
      "\n"
     ]
    },
    {
     "name": "stderr",
     "output_type": "stream",
     "text": [
      "C:\\Users\\carlo\\anaconda3\\lib\\site-packages\\sklearn\\metrics\\_classification.py:1318: UndefinedMetricWarning: Precision and F-score are ill-defined and being set to 0.0 in labels with no predicted samples. Use `zero_division` parameter to control this behavior.\n",
      "  _warn_prf(average, modifier, msg_start, len(result))\n",
      "C:\\Users\\carlo\\anaconda3\\lib\\site-packages\\sklearn\\metrics\\_classification.py:1318: UndefinedMetricWarning: Precision and F-score are ill-defined and being set to 0.0 in labels with no predicted samples. Use `zero_division` parameter to control this behavior.\n",
      "  _warn_prf(average, modifier, msg_start, len(result))\n",
      "C:\\Users\\carlo\\anaconda3\\lib\\site-packages\\sklearn\\metrics\\_classification.py:1318: UndefinedMetricWarning: Precision and F-score are ill-defined and being set to 0.0 in labels with no predicted samples. Use `zero_division` parameter to control this behavior.\n",
      "  _warn_prf(average, modifier, msg_start, len(result))\n"
     ]
    }
   ],
   "source": [
    "print(classification_report(y_test,y_pred)) \n",
    "#Se observa accury muy alta => consecuencia posible de df muy desbalanceado"
   ]
  },
  {
   "cell_type": "code",
   "execution_count": 98,
   "id": "ae8a2020",
   "metadata": {},
   "outputs": [
    {
     "data": {
      "text/plain": [
       "0.9574468085106383"
      ]
     },
     "execution_count": 98,
     "metadata": {},
     "output_type": "execute_result"
    }
   ],
   "source": [
    "#desbalanceo de X\n",
    "1845/1927"
   ]
  },
  {
   "cell_type": "markdown",
   "id": "4ab53dd4",
   "metadata": {},
   "source": [
    "## Segundo modelo con undersampling"
   ]
  },
  {
   "cell_type": "code",
   "execution_count": 100,
   "id": "6c9ff206",
   "metadata": {
    "ExecuteTime": {
     "end_time": "2022-02-24T20:44:42.683756Z",
     "start_time": "2022-02-24T20:44:42.565703Z"
    }
   },
   "outputs": [],
   "source": [
    "rus = RandomUnderSampler(random_state=0)\n",
    "X_res, y_res =rus.fit_resample(X, y)\n",
    "\n",
    "#split el dataframe\n",
    "X_train, X_test, y_train, y_test = train_test_split(X_res, y_res, test_size=0.2, random_state=0)\n",
    "\n"
   ]
  },
  {
   "cell_type": "code",
   "execution_count": 101,
   "id": "2999b8e7",
   "metadata": {
    "ExecuteTime": {
     "end_time": "2022-02-24T20:44:51.498300Z",
     "start_time": "2022-02-24T20:44:48.889299Z"
    }
   },
   "outputs": [
    {
     "data": {
      "text/plain": [
       "RandomForestClassifier()"
      ]
     },
     "execution_count": 101,
     "metadata": {},
     "output_type": "execute_result"
    }
   ],
   "source": [
    "model=RandomForestClassifier()\n",
    "model.fit(X_train,y_train)\n",
    "\n",
    "y_pred=model.predict(X_test)\n",
    "\n",
    "print(classification_report(y_test, y_pred))\n",
    "#random forest classifier consigue un 73% de accuracy"
   ]
  },
  {
   "cell_type": "code",
   "execution_count": 105,
   "id": "591512ed",
   "metadata": {
    "ExecuteTime": {
     "end_time": "2022-02-24T20:46:04.172875Z",
     "start_time": "2022-02-24T20:46:00.712817Z"
    }
   },
   "outputs": [
    {
     "name": "stdout",
     "output_type": "stream",
     "text": [
      "              precision    recall  f1-score   support\n",
      "\n",
      "           0       0.72      0.42      0.54        80\n",
      "           1       0.63      0.86      0.73        93\n",
      "\n",
      "    accuracy                           0.66       173\n",
      "   macro avg       0.68      0.64      0.63       173\n",
      "weighted avg       0.68      0.66      0.64       173\n",
      "\n"
     ]
    }
   ],
   "source": [
    "model2=SVC()\n",
    "model2.fit(X_train,y_train)\n",
    "y_pred=model2.predict(X_test)\n",
    "print(classification_report(y_test, y_pred))\n",
    "#SVC consigue un 66% de accuracy"
   ]
  },
  {
   "cell_type": "markdown",
   "id": "7b0f238b",
   "metadata": {},
   "source": [
    "## Tercer modelo con Over-sampling"
   ]
  },
  {
   "cell_type": "code",
   "execution_count": 107,
   "id": "6f71a02c",
   "metadata": {},
   "outputs": [],
   "source": [
    "res= SMOTEN()"
   ]
  },
  {
   "cell_type": "code",
   "execution_count": 109,
   "id": "cb62d94b",
   "metadata": {},
   "outputs": [],
   "source": [
    "X_res,y_res=res.fit_resample(X, y)"
   ]
  },
  {
   "cell_type": "code",
   "execution_count": 112,
   "id": "c675fe1e",
   "metadata": {},
   "outputs": [
    {
     "data": {
      "text/plain": [
       "0.5"
      ]
     },
     "execution_count": 112,
     "metadata": {},
     "output_type": "execute_result"
    }
   ],
   "source": [
    "#comprobación\n",
    "sum(y_res)/len(y_res) "
   ]
  },
  {
   "cell_type": "code",
   "execution_count": 113,
   "id": "a7d91b4b",
   "metadata": {},
   "outputs": [],
   "source": [
    "#split el dataframe\n",
    "X_train, X_test, y_train, y_test = train_test_split(X_res, y_res, test_size=0.2, random_state=0)"
   ]
  },
  {
   "cell_type": "code",
   "execution_count": 114,
   "id": "96cb1cf3",
   "metadata": {},
   "outputs": [
    {
     "name": "stdout",
     "output_type": "stream",
     "text": [
      "              precision    recall  f1-score   support\n",
      "\n",
      "           0       0.96      0.99      0.97      1847\n",
      "           1       0.99      0.96      0.97      1834\n",
      "\n",
      "    accuracy                           0.97      3681\n",
      "   macro avg       0.97      0.97      0.97      3681\n",
      "weighted avg       0.97      0.97      0.97      3681\n",
      "\n"
     ]
    }
   ],
   "source": [
    "model3=RandomForestClassifier()\n",
    "model3.fit(X_train,y_train)\n",
    "y_pred=model3.predict(X_test)\n",
    "print(classification_report(y_test, y_pred))\n",
    "#random forest classifier con oversampling consigue un 97% de accuracy"
   ]
  },
  {
   "cell_type": "code",
   "execution_count": 115,
   "id": "07bd3f67",
   "metadata": {},
   "outputs": [
    {
     "name": "stdout",
     "output_type": "stream",
     "text": [
      "              precision    recall  f1-score   support\n",
      "\n",
      "           0       0.86      0.65      0.74      1847\n",
      "           1       0.72      0.89      0.80      1834\n",
      "\n",
      "    accuracy                           0.77      3681\n",
      "   macro avg       0.79      0.77      0.77      3681\n",
      "weighted avg       0.79      0.77      0.77      3681\n",
      "\n"
     ]
    }
   ],
   "source": [
    "model4=SVC()\n",
    "model4.fit(X_train,y_train).score(X_test,y_test)\n",
    "y_pred=model4.predict(X_test)\n",
    "print(classification_report(y_test, y_pred))\n",
    "#SVC con oversampling consigue un 77% de accuracy"
   ]
  },
  {
   "cell_type": "markdown",
   "id": "e306622f",
   "metadata": {},
   "source": [
    "## Parameter tunnig"
   ]
  },
  {
   "cell_type": "code",
   "execution_count": 125,
   "id": "aa9284d0",
   "metadata": {},
   "outputs": [],
   "source": [
    "param_grid = { \n",
    "    'n_estimators': [200, 500],\n",
    "    'max_features': ['auto', 'sqrt', 'log2'],\n",
    "    'max_depth' : [4,5,6,7,8],\n",
    "    'criterion' :['gini', 'entropy']\n",
    "}"
   ]
  },
  {
   "cell_type": "code",
   "execution_count": 127,
   "id": "792791f4",
   "metadata": {
    "code_folding": []
   },
   "outputs": [
    {
     "name": "stdout",
     "output_type": "stream",
     "text": [
      "Wall time: 18min 10s\n"
     ]
    },
    {
     "data": {
      "text/plain": [
       "GridSearchCV(cv=5, estimator=RandomForestClassifier(),\n",
       "             param_grid={'criterion': ['gini', 'entropy'],\n",
       "                         'max_depth': [4, 5, 6, 7, 8],\n",
       "                         'max_features': ['auto', 'sqrt', 'log2'],\n",
       "                         'n_estimators': [200, 500]})"
      ]
     },
     "execution_count": 127,
     "metadata": {},
     "output_type": "execute_result"
    }
   ],
   "source": [
    "%%time\n",
    "from sklearn.model_selection import GridSearchCV\n",
    "CV_rfc = GridSearchCV(estimator=model3, param_grid=param_grid, cv= 5)\n",
    "CV_rfc.fit(X_train, y_train)"
   ]
  },
  {
   "cell_type": "code",
   "execution_count": 128,
   "id": "4d6dbb44",
   "metadata": {},
   "outputs": [
    {
     "data": {
      "text/plain": [
       "{'criterion': 'entropy',\n",
       " 'max_depth': 8,\n",
       " 'max_features': 'auto',\n",
       " 'n_estimators': 500}"
      ]
     },
     "execution_count": 128,
     "metadata": {},
     "output_type": "execute_result"
    }
   ],
   "source": [
    "CV_rfc.best_params_"
   ]
  },
  {
   "cell_type": "code",
   "execution_count": 129,
   "id": "26fcca24",
   "metadata": {},
   "outputs": [
    {
     "name": "stdout",
     "output_type": "stream",
     "text": [
      "              precision    recall  f1-score   support\n",
      "\n",
      "           0       0.96      0.96      0.96      1847\n",
      "           1       0.96      0.96      0.96      1834\n",
      "\n",
      "    accuracy                           0.96      3681\n",
      "   macro avg       0.96      0.96      0.96      3681\n",
      "weighted avg       0.96      0.96      0.96      3681\n",
      "\n"
     ]
    }
   ],
   "source": [
    "model_def=RandomForestClassifier(max_features='auto', n_estimators= 500, max_depth=8, criterion='entropy')\n",
    "model_def.fit(X_train,y_train)\n",
    "y_pred=model_def.predict(X_test)\n",
    "print(classification_report(y_test, y_pred))\n",
    "#random forest classifier con oversampling consigue un 96% de accuracy"
   ]
  },
  {
   "cell_type": "markdown",
   "id": "fce28475",
   "metadata": {},
   "source": [
    "## Mirar la previsión de jugadores de fifa22"
   ]
  },
  {
   "cell_type": "code",
   "execution_count": 184,
   "id": "d43b7e83",
   "metadata": {},
   "outputs": [
    {
     "name": "stderr",
     "output_type": "stream",
     "text": [
      "C:\\Users\\carlo\\anaconda3\\lib\\site-packages\\IPython\\core\\interactiveshell.py:3165: DtypeWarning: Columns (25,108) have mixed types.Specify dtype option on import or set low_memory=False.\n",
      "  has_raised = await self.run_ast_nodes(code_ast.body, cell_name,\n"
     ]
    }
   ],
   "source": [
    "df22=pd.read_csv('data/players_22.csv')\n",
    "#eliminamos columnas de url que no aportan información\n",
    "df22 = df22[df22.columns.drop(list(df22.filter(regex='url')))]\n"
   ]
  },
  {
   "cell_type": "code",
   "execution_count": 185,
   "id": "731b3c4b",
   "metadata": {},
   "outputs": [],
   "source": [
    "#funcion transformación en lista\n",
    "def lista_posicion(x):\n",
    "    return (x.replace(' ','').split(','))"
   ]
  },
  {
   "cell_type": "code",
   "execution_count": 186,
   "id": "bc3fb76f",
   "metadata": {},
   "outputs": [],
   "source": [
    "#transforma valores de columna player_positions en una lista\n",
    "df22['player_positions']=df22['player_positions'].apply(lambda x: lista_posicion(x))"
   ]
  },
  {
   "cell_type": "code",
   "execution_count": 187,
   "id": "01f2d013",
   "metadata": {},
   "outputs": [],
   "source": [
    "#defino listas para agrupar posiciones por 4 categorias\n",
    "pos_defensas=['LCB','RCB','CB','RB','LB','RWB','LWB']\n",
    "pos_medios=['LW','LCM','RCM','CAM','RW','LDM','CDM','CM','RDM','RM','RAM','LAM','LM']\n",
    "pos_delanteros=['CF','ST','RS','LS','RF']"
   ]
  },
  {
   "cell_type": "code",
   "execution_count": 188,
   "id": "574dcc23",
   "metadata": {},
   "outputs": [],
   "source": [
    "#agrupo posiciones en posiciones genéricas    \n",
    "for i in df22.index:\n",
    "            if len(df22.at[i,'player_positions'])==1:\n",
    "                if df22.at[i,'player_positions'][0]=='GK':\n",
    "                    df22.at[i,'player_positions']='portero'\n",
    "                if df22.at[i,'player_positions'][0] in pos_defensas:\n",
    "                    df22.at[i,'player_positions']='defensa'\n",
    "                elif df22.at[i,'player_positions'][0] in pos_medios:\n",
    "                    df22.at[i,'player_positions']='centrocampista'\n",
    "                elif df22.at[i,'player_positions'][0] in pos_delanteros:\n",
    "                    df22.at[i,'player_positions']='delantero'\n",
    "            else:\n",
    "                if df22.at[i,'player_positions'][0] in pos_defensas:\n",
    "                    df22.at[i,'player_positions']='defensa'\n",
    "                elif df22.at[i,'player_positions'][0] in pos_medios:\n",
    "                    df22.at[i,'player_positions']='centrocampista'\n",
    "                elif df22.at[i,'player_positions'][0] in pos_delanteros:\n",
    "                    df22.at[i,'player_positions']='delantero'\n",
    "                elif df22.at[i,'player_positions'][0]=='GK':\n",
    "                    df22.at[i,'player_positions']='portero'"
   ]
  },
  {
   "cell_type": "code",
   "execution_count": 189,
   "id": "b152c6ea",
   "metadata": {},
   "outputs": [],
   "source": [
    "#filtramos dataset \n",
    "df22=df22[df22['player_positions']=='portero']"
   ]
  },
  {
   "cell_type": "code",
   "execution_count": 190,
   "id": "e9fe9724",
   "metadata": {},
   "outputs": [],
   "source": [
    "#Agrupa por Equipo y año versión(temporada) y añade el total en cada jugador\n",
    "df22['overall_team/year'] = df22.groupby('club_team_id')['overall'].transform('sum')"
   ]
  },
  {
   "cell_type": "code",
   "execution_count": 191,
   "id": "83dfee76",
   "metadata": {},
   "outputs": [],
   "source": [
    "#Crea columna nº de equipos por liga/año\n",
    "df22['teams_in_league/year'] = df22.groupby('league_name')['club_team_id'].transform('nunique')"
   ]
  },
  {
   "cell_type": "code",
   "execution_count": 192,
   "id": "7085e051",
   "metadata": {},
   "outputs": [],
   "source": [
    "#Crea columna media liga/año\n",
    "df22['mean_league/year'] = df22.groupby('league_name')['overall'].transform('mean')"
   ]
  },
  {
   "cell_type": "code",
   "execution_count": 193,
   "id": "18557216",
   "metadata": {},
   "outputs": [],
   "source": [
    "#Crea columna media equipo/año\n",
    "df22['mean_team/year'] = df22.groupby('club_team_id')['overall'].transform('mean')"
   ]
  },
  {
   "cell_type": "code",
   "execution_count": 194,
   "id": "24922101",
   "metadata": {},
   "outputs": [],
   "source": [
    "#df solo con las columnas a transformar\n",
    "posiciones=df22[[\"ls\",\"st\",\"rs\",\"lw\",\"lf\",\"cf\",\"rf\",\"rw\", 'lam', 'cam', 'ram', 'lm', 'lcm', 'cm', 'rcm', 'rm', 'ldm', 'cdm', 'rdm',\n",
    "     'lwb', 'rwb', 'lb', 'lcb', 'cb', 'rcb', 'rb',\"gk\"]]"
   ]
  },
  {
   "cell_type": "code",
   "execution_count": 198,
   "id": "91557c92",
   "metadata": {
    "ExecuteTime": {
     "end_time": "2022-02-24T20:17:36.860000Z",
     "start_time": "2022-02-24T20:17:36.843947Z"
    }
   },
   "outputs": [],
   "source": [
    "df22['gk'] = df22['gk'].str.replace(r'\\+', ' ', regex=True)"
   ]
  },
  {
   "cell_type": "code",
   "execution_count": 200,
   "id": "ad6ca542",
   "metadata": {},
   "outputs": [],
   "source": [
    "#funcion para limpiar valores\n",
    "def limp_posiciones(x):\n",
    "    return x.split(\" \")[0]"
   ]
  },
  {
   "cell_type": "code",
   "execution_count": 201,
   "id": "cbc17bb0",
   "metadata": {},
   "outputs": [],
   "source": [
    "#limpiar en df\n",
    "for i in posiciones.columns:\n",
    "    df22[i]=df22[i].astype(str)\n",
    "    df22[i]=df22[i].apply(limp_posiciones)"
   ]
  },
  {
   "cell_type": "code",
   "execution_count": 203,
   "id": "c32f8e2c",
   "metadata": {
    "ExecuteTime": {
     "end_time": "2022-02-24T20:17:37.503936Z",
     "start_time": "2022-02-24T20:17:37.486659Z"
    }
   },
   "outputs": [],
   "source": [
    "df22.gk.fillna(0,inplace=True)"
   ]
  },
  {
   "cell_type": "code",
   "execution_count": 204,
   "id": "0349c1ba",
   "metadata": {
    "ExecuteTime": {
     "end_time": "2022-02-24T20:17:40.391524Z",
     "start_time": "2022-02-24T20:17:40.366478Z"
    }
   },
   "outputs": [],
   "source": [
    "df22['gk']=df22.gk.astype(int)"
   ]
  },
  {
   "cell_type": "code",
   "execution_count": 205,
   "id": "11f9feb8",
   "metadata": {},
   "outputs": [
    {
     "data": {
      "text/plain": [
       "5        89\n",
       "7        88\n",
       "8        88\n",
       "12       86\n",
       "18       87\n",
       "         ..\n",
       "19210    47\n",
       "19216    47\n",
       "19225    46\n",
       "19227    46\n",
       "19231    46\n",
       "Name: gk, Length: 2132, dtype: int32"
      ]
     },
     "execution_count": 205,
     "metadata": {},
     "output_type": "execute_result"
    }
   ],
   "source": [
    "df22['gk']"
   ]
  },
  {
   "cell_type": "code",
   "execution_count": 207,
   "id": "e84fc365",
   "metadata": {},
   "outputs": [],
   "source": [
    "X22=df22[selected_feat.to_list()]"
   ]
  },
  {
   "cell_type": "code",
   "execution_count": 210,
   "id": "886b4cf0",
   "metadata": {},
   "outputs": [
    {
     "name": "stderr",
     "output_type": "stream",
     "text": [
      "C:\\Users\\carlo\\anaconda3\\lib\\site-packages\\pandas\\core\\frame.py:4462: SettingWithCopyWarning: \n",
      "A value is trying to be set on a copy of a slice from a DataFrame\n",
      "\n",
      "See the caveats in the documentation: https://pandas.pydata.org/pandas-docs/stable/user_guide/indexing.html#returning-a-view-versus-a-copy\n",
      "  return super().fillna(\n"
     ]
    }
   ],
   "source": [
    "X22.fillna(0,inplace=True)"
   ]
  },
  {
   "cell_type": "code",
   "execution_count": 211,
   "id": "e49665b4",
   "metadata": {},
   "outputs": [],
   "source": [
    "y_pred=model_def.predict(X22)"
   ]
  },
  {
   "cell_type": "code",
   "execution_count": 219,
   "id": "f0c1bc92",
   "metadata": {},
   "outputs": [],
   "source": [
    "ind_list=X22[y_pred==1].index.to_list()"
   ]
  },
  {
   "cell_type": "code",
   "execution_count": 228,
   "id": "6c87a912",
   "metadata": {},
   "outputs": [
    {
     "data": {
      "text/html": [
       "<div>\n",
       "<style scoped>\n",
       "    .dataframe tbody tr th:only-of-type {\n",
       "        vertical-align: middle;\n",
       "    }\n",
       "\n",
       "    .dataframe tbody tr th {\n",
       "        vertical-align: top;\n",
       "    }\n",
       "\n",
       "    .dataframe thead th {\n",
       "        text-align: right;\n",
       "    }\n",
       "</style>\n",
       "<table border=\"1\" class=\"dataframe\">\n",
       "  <thead>\n",
       "    <tr style=\"text-align: right;\">\n",
       "      <th></th>\n",
       "      <th>sofifa_id</th>\n",
       "      <th>short_name</th>\n",
       "      <th>long_name</th>\n",
       "      <th>player_positions</th>\n",
       "      <th>overall</th>\n",
       "      <th>potential</th>\n",
       "      <th>value_eur</th>\n",
       "      <th>wage_eur</th>\n",
       "      <th>age</th>\n",
       "      <th>dob</th>\n",
       "      <th>...</th>\n",
       "      <th>lb</th>\n",
       "      <th>lcb</th>\n",
       "      <th>cb</th>\n",
       "      <th>rcb</th>\n",
       "      <th>rb</th>\n",
       "      <th>gk</th>\n",
       "      <th>overall_team/year</th>\n",
       "      <th>teams_in_league/year</th>\n",
       "      <th>mean_league/year</th>\n",
       "      <th>mean_team/year</th>\n",
       "    </tr>\n",
       "  </thead>\n",
       "  <tbody>\n",
       "    <tr>\n",
       "      <th>15058</th>\n",
       "      <td>262254</td>\n",
       "      <td>P. Bos</td>\n",
       "      <td>Pieter Bos</td>\n",
       "      <td>portero</td>\n",
       "      <td>61</td>\n",
       "      <td>65</td>\n",
       "      <td>375000.0</td>\n",
       "      <td>950.0</td>\n",
       "      <td>24</td>\n",
       "      <td>1997-02-23</td>\n",
       "      <td>...</td>\n",
       "      <td>18+2</td>\n",
       "      <td>21+2</td>\n",
       "      <td>21+2</td>\n",
       "      <td>21+2</td>\n",
       "      <td>18+2</td>\n",
       "      <td>60</td>\n",
       "      <td>184.0</td>\n",
       "      <td>18.0</td>\n",
       "      <td>64.537313</td>\n",
       "      <td>61.333333</td>\n",
       "    </tr>\n",
       "    <tr>\n",
       "      <th>15438</th>\n",
       "      <td>246246</td>\n",
       "      <td>B. Leneis</td>\n",
       "      <td>Benjamin Leneis</td>\n",
       "      <td>portero</td>\n",
       "      <td>60</td>\n",
       "      <td>70</td>\n",
       "      <td>475000.0</td>\n",
       "      <td>2000.0</td>\n",
       "      <td>22</td>\n",
       "      <td>1999-03-08</td>\n",
       "      <td>...</td>\n",
       "      <td>16+2</td>\n",
       "      <td>17+2</td>\n",
       "      <td>17+2</td>\n",
       "      <td>17+2</td>\n",
       "      <td>16+2</td>\n",
       "      <td>59</td>\n",
       "      <td>179.0</td>\n",
       "      <td>20.0</td>\n",
       "      <td>60.508475</td>\n",
       "      <td>59.666667</td>\n",
       "    </tr>\n",
       "    <tr>\n",
       "      <th>15731</th>\n",
       "      <td>259783</td>\n",
       "      <td>S. Rojas</td>\n",
       "      <td>Sebastián André Rojas Quesada</td>\n",
       "      <td>portero</td>\n",
       "      <td>60</td>\n",
       "      <td>65</td>\n",
       "      <td>300000.0</td>\n",
       "      <td>500.0</td>\n",
       "      <td>21</td>\n",
       "      <td>1999-10-21</td>\n",
       "      <td>...</td>\n",
       "      <td>18+2</td>\n",
       "      <td>20+2</td>\n",
       "      <td>20+2</td>\n",
       "      <td>20+2</td>\n",
       "      <td>18+2</td>\n",
       "      <td>59</td>\n",
       "      <td>245.0</td>\n",
       "      <td>6.0</td>\n",
       "      <td>62.857143</td>\n",
       "      <td>61.250000</td>\n",
       "    </tr>\n",
       "    <tr>\n",
       "      <th>15400</th>\n",
       "      <td>243737</td>\n",
       "      <td>M. Kamenz</td>\n",
       "      <td>Matti Kamenz</td>\n",
       "      <td>portero</td>\n",
       "      <td>60</td>\n",
       "      <td>66</td>\n",
       "      <td>325000.0</td>\n",
       "      <td>500.0</td>\n",
       "      <td>22</td>\n",
       "      <td>1998-08-09</td>\n",
       "      <td>...</td>\n",
       "      <td>17+2</td>\n",
       "      <td>17+2</td>\n",
       "      <td>17+2</td>\n",
       "      <td>17+2</td>\n",
       "      <td>17+2</td>\n",
       "      <td>59</td>\n",
       "      <td>185.0</td>\n",
       "      <td>20.0</td>\n",
       "      <td>60.508475</td>\n",
       "      <td>61.666667</td>\n",
       "    </tr>\n",
       "    <tr>\n",
       "      <th>15955</th>\n",
       "      <td>188815</td>\n",
       "      <td>R. Lejeune</td>\n",
       "      <td>Romain Lejeune</td>\n",
       "      <td>portero</td>\n",
       "      <td>59</td>\n",
       "      <td>59</td>\n",
       "      <td>150000.0</td>\n",
       "      <td>800.0</td>\n",
       "      <td>30</td>\n",
       "      <td>1991-05-21</td>\n",
       "      <td>...</td>\n",
       "      <td>20+2</td>\n",
       "      <td>21+2</td>\n",
       "      <td>21+2</td>\n",
       "      <td>21+2</td>\n",
       "      <td>20+2</td>\n",
       "      <td>58</td>\n",
       "      <td>182.0</td>\n",
       "      <td>20.0</td>\n",
       "      <td>63.912281</td>\n",
       "      <td>60.666667</td>\n",
       "    </tr>\n",
       "  </tbody>\n",
       "</table>\n",
       "<p>5 rows × 108 columns</p>\n",
       "</div>"
      ],
      "text/plain": [
       "       sofifa_id  short_name                      long_name player_positions  \\\n",
       "15058     262254      P. Bos                     Pieter Bos          portero   \n",
       "15438     246246   B. Leneis                Benjamin Leneis          portero   \n",
       "15731     259783    S. Rojas  Sebastián André Rojas Quesada          portero   \n",
       "15400     243737   M. Kamenz                   Matti Kamenz          portero   \n",
       "15955     188815  R. Lejeune                 Romain Lejeune          portero   \n",
       "\n",
       "       overall  potential  value_eur  wage_eur  age         dob  ...    lb  \\\n",
       "15058       61         65   375000.0     950.0   24  1997-02-23  ...  18+2   \n",
       "15438       60         70   475000.0    2000.0   22  1999-03-08  ...  16+2   \n",
       "15731       60         65   300000.0     500.0   21  1999-10-21  ...  18+2   \n",
       "15400       60         66   325000.0     500.0   22  1998-08-09  ...  17+2   \n",
       "15955       59         59   150000.0     800.0   30  1991-05-21  ...  20+2   \n",
       "\n",
       "        lcb    cb   rcb    rb  gk overall_team/year  teams_in_league/year  \\\n",
       "15058  21+2  21+2  21+2  18+2  60             184.0                  18.0   \n",
       "15438  17+2  17+2  17+2  16+2  59             179.0                  20.0   \n",
       "15731  20+2  20+2  20+2  18+2  59             245.0                   6.0   \n",
       "15400  17+2  17+2  17+2  17+2  59             185.0                  20.0   \n",
       "15955  21+2  21+2  21+2  20+2  58             182.0                  20.0   \n",
       "\n",
       "      mean_league/year mean_team/year  \n",
       "15058        64.537313      61.333333  \n",
       "15438        60.508475      59.666667  \n",
       "15731        62.857143      61.250000  \n",
       "15400        60.508475      61.666667  \n",
       "15955        63.912281      60.666667  \n",
       "\n",
       "[5 rows x 108 columns]"
      ]
     },
     "execution_count": 228,
     "metadata": {},
     "output_type": "execute_result"
    }
   ],
   "source": [
    "#top 5 porteros con mayor proyección\n",
    "df22[df22.index.isin(ind_list)].sort_values(by='overall', ascending=False).head()"
   ]
  },
  {
   "cell_type": "code",
   "execution_count": null,
   "id": "4ffb7b74",
   "metadata": {},
   "outputs": [],
   "source": []
  }
 ],
 "metadata": {
  "kernelspec": {
   "display_name": "Python 3",
   "language": "python",
   "name": "python3"
  },
  "language_info": {
   "codemirror_mode": {
    "name": "ipython",
    "version": 3
   },
   "file_extension": ".py",
   "mimetype": "text/x-python",
   "name": "python",
   "nbconvert_exporter": "python",
   "pygments_lexer": "ipython3",
   "version": "3.8.8"
  },
  "toc": {
   "base_numbering": 1,
   "nav_menu": {},
   "number_sections": true,
   "sideBar": true,
   "skip_h1_title": false,
   "title_cell": "Table of Contents",
   "title_sidebar": "Contents",
   "toc_cell": false,
   "toc_position": {},
   "toc_section_display": true,
   "toc_window_display": false
  },
  "varInspector": {
   "cols": {
    "lenName": 16,
    "lenType": 16,
    "lenVar": 40
   },
   "kernels_config": {
    "python": {
     "delete_cmd_postfix": "",
     "delete_cmd_prefix": "del ",
     "library": "var_list.py",
     "varRefreshCmd": "print(var_dic_list())"
    },
    "r": {
     "delete_cmd_postfix": ") ",
     "delete_cmd_prefix": "rm(",
     "library": "var_list.r",
     "varRefreshCmd": "cat(var_dic_list()) "
    }
   },
   "types_to_exclude": [
    "module",
    "function",
    "builtin_function_or_method",
    "instance",
    "_Feature"
   ],
   "window_display": false
  }
 },
 "nbformat": 4,
 "nbformat_minor": 5
}
