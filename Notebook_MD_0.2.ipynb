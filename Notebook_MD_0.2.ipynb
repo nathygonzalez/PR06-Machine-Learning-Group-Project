{
 "cells": [
  {
   "cell_type": "markdown",
   "id": "50eccc92",
   "metadata": {},
   "source": [
    "## Importación"
   ]
  },
  {
   "cell_type": "code",
   "execution_count": 1,
   "id": "101b32e0",
   "metadata": {
    "ExecuteTime": {
     "end_time": "2022-02-24T20:22:24.198822Z",
     "start_time": "2022-02-24T20:22:24.185822Z"
    }
   },
   "outputs": [],
   "source": [
    "import pandas as pd\n",
    "import numpy as np\n",
    "import matplotlib.pyplot as plt\n",
    "import seaborn as sns\n",
    "from sklearn.ensemble import RandomForestClassifier\n",
    "from sklearn.feature_selection import SelectFromModel\n",
    "from sklearn.model_selection import train_test_split\n",
    "from sklearn.preprocessing import StandardScaler, OneHotEncoder, LabelEncoder, OrdinalEncoder\n",
    "from sklearn.compose import make_column_transformer\n",
    "from sklearn.pipeline import make_pipeline\n",
    "from sklearn.linear_model import LinearRegression, Lasso, Ridge, ElasticNet\n",
    "from sklearn.metrics import classification_report\n",
    "from imblearn.under_sampling import RandomUnderSampler\n",
    "from sklearn.svm import SVC\n",
    "from imblearn.over_sampling import SMOTEN"
   ]
  },
  {
   "cell_type": "code",
   "execution_count": 2,
   "id": "d0073b6b",
   "metadata": {
    "ExecuteTime": {
     "end_time": "2022-02-24T20:14:53.557333Z",
     "start_time": "2022-02-24T20:14:52.660331Z"
    },
    "scrolled": true
   },
   "outputs": [
    {
     "name": "stderr",
     "output_type": "stream",
     "text": [
      "C:\\Users\\carlo\\anaconda3\\lib\\site-packages\\IPython\\core\\interactiveshell.py:3165: DtypeWarning: Columns (99) have mixed types.Specify dtype option on import or set low_memory=False.\n",
      "  has_raised = await self.run_ast_nodes(code_ast.body, cell_name,\n"
     ]
    }
   ],
   "source": [
    "df=pd.read_csv(\"https://raw.githubusercontent.com/nathygonzalez/PR06-Machine-Learning-Group-Project/develop/data/df_cleaned.csv\")"
   ]
  },
  {
   "cell_type": "markdown",
   "id": "bca2bb2e",
   "metadata": {},
   "source": [
    "## depuración columna \"gk\""
   ]
  },
  {
   "cell_type": "code",
   "execution_count": 3,
   "id": "ff30476c",
   "metadata": {
    "ExecuteTime": {
     "end_time": "2022-02-24T20:17:36.860000Z",
     "start_time": "2022-02-24T20:17:36.843947Z"
    }
   },
   "outputs": [],
   "source": [
    "df['gk'] =df['gk'].replace(\"+\",\"\")"
   ]
  },
  {
   "cell_type": "code",
   "execution_count": 4,
   "id": "ececff56",
   "metadata": {
    "ExecuteTime": {
     "end_time": "2022-02-24T20:17:37.206404Z",
     "start_time": "2022-02-24T20:17:37.109341Z"
    }
   },
   "outputs": [],
   "source": [
    "df['gk'] = df['gk'].str.replace(r'\\+', '', regex=True)\n"
   ]
  },
  {
   "cell_type": "code",
   "execution_count": 5,
   "id": "c32f8e2c",
   "metadata": {
    "ExecuteTime": {
     "end_time": "2022-02-24T20:17:37.503936Z",
     "start_time": "2022-02-24T20:17:37.486659Z"
    }
   },
   "outputs": [],
   "source": [
    "df.gk.fillna(0,inplace=True)"
   ]
  },
  {
   "cell_type": "code",
   "execution_count": 6,
   "id": "0349c1ba",
   "metadata": {
    "ExecuteTime": {
     "end_time": "2022-02-24T20:17:40.391524Z",
     "start_time": "2022-02-24T20:17:40.366478Z"
    }
   },
   "outputs": [],
   "source": [
    "df['gk']=df.gk.astype(int)"
   ]
  },
  {
   "cell_type": "code",
   "execution_count": 7,
   "id": "149d27e6",
   "metadata": {},
   "outputs": [
    {
     "data": {
      "text/plain": [
       "0        15\n",
       "1        16\n",
       "2        14\n",
       "3        17\n",
       "4        87\n",
       "         ..\n",
       "87742     0\n",
       "87743     0\n",
       "87744     0\n",
       "87745     0\n",
       "87746     0\n",
       "Name: gk, Length: 87747, dtype: int32"
      ]
     },
     "execution_count": 7,
     "metadata": {},
     "output_type": "execute_result"
    }
   ],
   "source": [
    "df['gk']"
   ]
  },
  {
   "cell_type": "markdown",
   "id": "81d3eae1",
   "metadata": {},
   "source": [
    "## Añadir variable años pendientes de contrato"
   ]
  },
  {
   "cell_type": "code",
   "execution_count": 8,
   "id": "56a05665",
   "metadata": {},
   "outputs": [],
   "source": [
    "df['años_de_contrato']=np.where((df['club_contract_valid_until']-df['año_version'])<0,0,(df['club_contract_valid_until']-df['año_version']))"
   ]
  },
  {
   "cell_type": "code",
   "execution_count": 9,
   "id": "3e483ebd",
   "metadata": {},
   "outputs": [
    {
     "data": {
      "text/plain": [
       "años_de_contrato\n",
       "0.0    30707\n",
       "1.0    21182\n",
       "2.0    17779\n",
       "3.0     9287\n",
       "4.0     4872\n",
       "5.0     2502\n",
       "6.0     1413\n",
       "7.0        3\n",
       "8.0        2\n",
       "Name: años_de_contrato, dtype: int64"
      ]
     },
     "execution_count": 9,
     "metadata": {},
     "output_type": "execute_result"
    }
   ],
   "source": [
    "#comprobación\n",
    "df.groupby('años_de_contrato')['años_de_contrato'].count()"
   ]
  },
  {
   "cell_type": "markdown",
   "id": "82e43289",
   "metadata": {},
   "source": [
    "## Eliminación de ruido"
   ]
  },
  {
   "cell_type": "code",
   "execution_count": 10,
   "id": "694b9187",
   "metadata": {
    "ExecuteTime": {
     "end_time": "2022-02-24T20:17:17.443509Z",
     "start_time": "2022-02-24T20:17:17.363443Z"
    }
   },
   "outputs": [
    {
     "data": {
      "text/plain": [
       "\"df.drop(['sofifa_id',\\n 'short_name',\\n 'long_name',\\n 'player_positions',\\n     'dob', 'club_team_id',\\n 'club_name',\\n 'league_name',\\n 'league_level',\\n'club_jersey_number',\\n 'club_joined',\\n 'club_contract_valid_until',\\n 'nationality_id',\\n 'nationality_name',\\n 'nation_team_id','work_rate',\\n 'body_type',\\n 'real_face',\\n    'player_traits'],axis=1,inplace=True)\""
      ]
     },
     "execution_count": 10,
     "metadata": {},
     "output_type": "execute_result"
    }
   ],
   "source": [
    "#elimino columnas (según Sergio)\n",
    "'''df.drop(['sofifa_id',\n",
    " 'short_name',\n",
    " 'long_name',\n",
    " 'player_positions',\n",
    "     'dob', 'club_team_id',\n",
    " 'club_name',\n",
    " 'league_name',\n",
    " 'league_level',\n",
    "'club_jersey_number',\n",
    " 'club_joined',\n",
    " 'club_contract_valid_until',\n",
    " 'nationality_id',\n",
    " 'nationality_name',\n",
    " 'nation_team_id','work_rate',\n",
    " 'body_type',\n",
    " 'real_face',\n",
    "    'player_traits'],axis=1,inplace=True)'''"
   ]
  },
  {
   "cell_type": "code",
   "execution_count": 11,
   "id": "1f063636",
   "metadata": {},
   "outputs": [],
   "source": [
    "#eliminamos columnas que sabemos seguro que sólo aportan ruido (según Carlos)\n",
    "df.drop([\"sofifa_id\",'short_name', 'long_name',\"nationality_id\",\"dob\",'club_team_id', 'club_name', 'league_name',\n",
    "        'club_jersey_number', 'club_joined', 'club_contract_valid_until','nationality_id', 'nationality_name','player_traits',\n",
    "        'ranking','puntos','año_version'],axis=1,inplace=True)"
   ]
  },
  {
   "cell_type": "markdown",
   "id": "f520282c",
   "metadata": {},
   "source": [
    "## Agrupar columna bodytype"
   ]
  },
  {
   "cell_type": "code",
   "execution_count": 12,
   "id": "c3e21aa3",
   "metadata": {},
   "outputs": [],
   "source": [
    "Lean=['Lean (170-)','Lean (185+)','Lean (170-185)']\n",
    "Normal=['Normal (170-)','Normal (170-185)','Normal (185+)']\n",
    "Stocky=['Stocky (170-)','Stocky (170-185)','Stocky (185+)']\n",
    "\n",
    "#agrupo posiciones en posiciones genéricas    \n",
    "for i in df.index:\n",
    "    if df.at[i,'body_type'] in Lean:\n",
    "        df.at[i,'body_type']='Lean'\n",
    "    elif df.at[i,'body_type'] in Normal:\n",
    "        df.at[i,'body_type']='Normal'\n",
    "    elif df.at[i,'body_type'] in Stocky:\n",
    "        df.at[i,'body_type']='Stocky'\n",
    "    else:\n",
    "        pass"
   ]
  },
  {
   "cell_type": "markdown",
   "id": "27b41930",
   "metadata": {},
   "source": [
    "## Exploración feature engineering"
   ]
  },
  {
   "cell_type": "code",
   "execution_count": 13,
   "id": "339493fc",
   "metadata": {},
   "outputs": [
    {
     "data": {
      "text/plain": [
       "Right    66970\n",
       "Left     20777\n",
       "Name: preferred_foot, dtype: int64"
      ]
     },
     "execution_count": 13,
     "metadata": {},
     "output_type": "execute_result"
    }
   ],
   "source": [
    "df.preferred_foot.value_counts() #categorica a OHE"
   ]
  },
  {
   "cell_type": "code",
   "execution_count": 14,
   "id": "257e0fa9",
   "metadata": {},
   "outputs": [
    {
     "data": {
      "text/plain": [
       "Medium/Medium    47248\n",
       "High/Medium      15911\n",
       "Medium/High       8196\n",
       "High/High         4712\n",
       "Medium/Low        4072\n",
       "High/Low          3332\n",
       "Low/Medium        2078\n",
       "Low/High          2058\n",
       "Low/Low            140\n",
       "Name: work_rate, dtype: int64"
      ]
     },
     "execution_count": 14,
     "metadata": {},
     "output_type": "execute_result"
    }
   ],
   "source": [
    "df.work_rate.value_counts() #categorica transformarla con un ordinal encoder"
   ]
  },
  {
   "cell_type": "code",
   "execution_count": 15,
   "id": "14da448f",
   "metadata": {},
   "outputs": [
    {
     "data": {
      "text/plain": [
       "Normal    51581\n",
       "Lean      30898\n",
       "Stocky     5099\n",
       "Unique      169\n",
       "Name: body_type, dtype: int64"
      ]
     },
     "execution_count": 15,
     "metadata": {},
     "output_type": "execute_result"
    }
   ],
   "source": [
    "df.body_type.value_counts() #categorica a OHE"
   ]
  },
  {
   "cell_type": "code",
   "execution_count": 16,
   "id": "b92c1219",
   "metadata": {},
   "outputs": [
    {
     "data": {
      "text/plain": [
       "No     78885\n",
       "Yes     8862\n",
       "Name: real_face, dtype: int64"
      ]
     },
     "execution_count": 16,
     "metadata": {},
     "output_type": "execute_result"
    }
   ],
   "source": [
    "df.real_face.value_counts() #categorica a OHE"
   ]
  },
  {
   "cell_type": "markdown",
   "id": "ada80a0a",
   "metadata": {},
   "source": [
    "## Feature engineering (transformar todas las variables a numéricas menos player_positions)"
   ]
  },
  {
   "cell_type": "code",
   "execution_count": 17,
   "id": "a39cb327",
   "metadata": {},
   "outputs": [],
   "source": [
    "#preparación para transformación categorica a num\n",
    "work_rate_ord=['Low/Low','Low/Medium','Low/High','Medium/Low','Medium/Medium','Medium/High','High/Low','High/Medium','High/High']\n",
    "league_level_ord=['0.0','4.0','3.0','2.0','1.0']\n",
    "df['league_level']=df['league_level'].apply(str)"
   ]
  },
  {
   "cell_type": "code",
   "execution_count": 18,
   "id": "8e096adb",
   "metadata": {},
   "outputs": [],
   "source": [
    "#Ordinal Encoder\n",
    "df[['work_rate','league_level']]=OrdinalEncoder(categories=[work_rate_ord,league_level_ord]).fit_transform(df[['work_rate','league_level']])"
   ]
  },
  {
   "cell_type": "code",
   "execution_count": 19,
   "id": "95ecfc75",
   "metadata": {},
   "outputs": [],
   "source": [
    "#OHE\n",
    "df[['preferred_foot','body_type_1','body_type_2','body_type_3','real_face']]=OneHotEncoder(drop='first',sparse=False).fit_transform(df[['preferred_foot','body_type','real_face']])                                          "
   ]
  },
  {
   "cell_type": "code",
   "execution_count": 20,
   "id": "8df299a2",
   "metadata": {},
   "outputs": [
    {
     "data": {
      "text/plain": [
       "player_positions    True\n",
       "body_type           True\n",
       "dtype: bool"
      ]
     },
     "execution_count": 20,
     "metadata": {},
     "output_type": "execute_result"
    }
   ],
   "source": [
    "#comprobar columnas\n",
    "categorical = df.dtypes == object\n",
    "categorical[categorical==True]"
   ]
  },
  {
   "cell_type": "code",
   "execution_count": 21,
   "id": "d002f219",
   "metadata": {},
   "outputs": [],
   "source": [
    "#eliminar columna body_type\n",
    "df.drop([\"body_type\"],axis=1,inplace=True)"
   ]
  },
  {
   "cell_type": "markdown",
   "id": "2d3bdd27",
   "metadata": {},
   "source": [
    "## Filtramos el dataset por posicion"
   ]
  },
  {
   "cell_type": "code",
   "execution_count": 22,
   "id": "f9df888c",
   "metadata": {},
   "outputs": [],
   "source": [
    "#filtramos dataset para evitar excesiva coliniaridad\n",
    "df=df[df['player_positions']=='centrocampista']\n",
    "#eliminar columna player_positions\n",
    "df.drop([\"player_positions\"],axis=1,inplace=True)"
   ]
  },
  {
   "cell_type": "code",
   "execution_count": 23,
   "id": "d8727fd4",
   "metadata": {},
   "outputs": [
    {
     "data": {
      "text/html": [
       "<div>\n",
       "<style scoped>\n",
       "    .dataframe tbody tr th:only-of-type {\n",
       "        vertical-align: middle;\n",
       "    }\n",
       "\n",
       "    .dataframe tbody tr th {\n",
       "        vertical-align: top;\n",
       "    }\n",
       "\n",
       "    .dataframe thead th {\n",
       "        text-align: right;\n",
       "    }\n",
       "</style>\n",
       "<table border=\"1\" class=\"dataframe\">\n",
       "  <thead>\n",
       "    <tr style=\"text-align: right;\">\n",
       "      <th></th>\n",
       "      <th>overall</th>\n",
       "      <th>potential</th>\n",
       "      <th>value_eur</th>\n",
       "      <th>wage_eur</th>\n",
       "      <th>age</th>\n",
       "      <th>height_cm</th>\n",
       "      <th>weight_kg</th>\n",
       "      <th>league_level</th>\n",
       "      <th>club_position</th>\n",
       "      <th>nation_team_id</th>\n",
       "      <th>...</th>\n",
       "      <th>gk</th>\n",
       "      <th>progresion_anual</th>\n",
       "      <th>overall_team/year</th>\n",
       "      <th>teams_in_league/year</th>\n",
       "      <th>mean_league/year</th>\n",
       "      <th>mean_team/year</th>\n",
       "      <th>años_de_contrato</th>\n",
       "      <th>body_type_1</th>\n",
       "      <th>body_type_2</th>\n",
       "      <th>body_type_3</th>\n",
       "    </tr>\n",
       "  </thead>\n",
       "  <tbody>\n",
       "    <tr>\n",
       "      <th>1</th>\n",
       "      <td>92</td>\n",
       "      <td>92</td>\n",
       "      <td>79000000.0</td>\n",
       "      <td>375000.0</td>\n",
       "      <td>29</td>\n",
       "      <td>185</td>\n",
       "      <td>80</td>\n",
       "      <td>4.0</td>\n",
       "      <td>1</td>\n",
       "      <td>1</td>\n",
       "      <td>...</td>\n",
       "      <td>16</td>\n",
       "      <td>0.010870</td>\n",
       "      <td>2418.0</td>\n",
       "      <td>20.0</td>\n",
       "      <td>71.357143</td>\n",
       "      <td>75.562500</td>\n",
       "      <td>3.0</td>\n",
       "      <td>1.0</td>\n",
       "      <td>0.0</td>\n",
       "      <td>0.0</td>\n",
       "    </tr>\n",
       "    <tr>\n",
       "      <th>2</th>\n",
       "      <td>90</td>\n",
       "      <td>90</td>\n",
       "      <td>54500000.0</td>\n",
       "      <td>275000.0</td>\n",
       "      <td>30</td>\n",
       "      <td>180</td>\n",
       "      <td>80</td>\n",
       "      <td>4.0</td>\n",
       "      <td>0</td>\n",
       "      <td>1</td>\n",
       "      <td>...</td>\n",
       "      <td>14</td>\n",
       "      <td>0.000000</td>\n",
       "      <td>2061.0</td>\n",
       "      <td>18.0</td>\n",
       "      <td>71.280514</td>\n",
       "      <td>79.269231</td>\n",
       "      <td>2.0</td>\n",
       "      <td>1.0</td>\n",
       "      <td>0.0</td>\n",
       "      <td>0.0</td>\n",
       "    </tr>\n",
       "    <tr>\n",
       "      <th>5</th>\n",
       "      <td>89</td>\n",
       "      <td>89</td>\n",
       "      <td>36000000.0</td>\n",
       "      <td>250000.0</td>\n",
       "      <td>30</td>\n",
       "      <td>170</td>\n",
       "      <td>65</td>\n",
       "      <td>4.0</td>\n",
       "      <td>1</td>\n",
       "      <td>1</td>\n",
       "      <td>...</td>\n",
       "      <td>14</td>\n",
       "      <td>-0.011236</td>\n",
       "      <td>1917.0</td>\n",
       "      <td>20.0</td>\n",
       "      <td>71.357143</td>\n",
       "      <td>79.875000</td>\n",
       "      <td>3.0</td>\n",
       "      <td>1.0</td>\n",
       "      <td>0.0</td>\n",
       "      <td>0.0</td>\n",
       "    </tr>\n",
       "    <tr>\n",
       "      <th>8</th>\n",
       "      <td>88</td>\n",
       "      <td>88</td>\n",
       "      <td>39000000.0</td>\n",
       "      <td>200000.0</td>\n",
       "      <td>29</td>\n",
       "      <td>183</td>\n",
       "      <td>79</td>\n",
       "      <td>4.0</td>\n",
       "      <td>0</td>\n",
       "      <td>1</td>\n",
       "      <td>...</td>\n",
       "      <td>18</td>\n",
       "      <td>-0.022727</td>\n",
       "      <td>2061.0</td>\n",
       "      <td>18.0</td>\n",
       "      <td>71.280514</td>\n",
       "      <td>79.269231</td>\n",
       "      <td>1.0</td>\n",
       "      <td>1.0</td>\n",
       "      <td>0.0</td>\n",
       "      <td>0.0</td>\n",
       "    </tr>\n",
       "    <tr>\n",
       "      <th>9</th>\n",
       "      <td>88</td>\n",
       "      <td>88</td>\n",
       "      <td>33000000.0</td>\n",
       "      <td>200000.0</td>\n",
       "      <td>31</td>\n",
       "      <td>170</td>\n",
       "      <td>72</td>\n",
       "      <td>4.0</td>\n",
       "      <td>0</td>\n",
       "      <td>0</td>\n",
       "      <td>...</td>\n",
       "      <td>14</td>\n",
       "      <td>-0.011364</td>\n",
       "      <td>2061.0</td>\n",
       "      <td>18.0</td>\n",
       "      <td>71.280514</td>\n",
       "      <td>79.269231</td>\n",
       "      <td>2.0</td>\n",
       "      <td>1.0</td>\n",
       "      <td>0.0</td>\n",
       "      <td>0.0</td>\n",
       "    </tr>\n",
       "  </tbody>\n",
       "</table>\n",
       "<p>5 rows × 94 columns</p>\n",
       "</div>"
      ],
      "text/plain": [
       "   overall  potential   value_eur  wage_eur  age  height_cm  weight_kg  \\\n",
       "1       92         92  79000000.0  375000.0   29        185         80   \n",
       "2       90         90  54500000.0  275000.0   30        180         80   \n",
       "5       89         89  36000000.0  250000.0   30        170         65   \n",
       "8       88         88  39000000.0  200000.0   29        183         79   \n",
       "9       88         88  33000000.0  200000.0   31        170         72   \n",
       "\n",
       "   league_level  club_position  nation_team_id  ...  gk  progresion_anual  \\\n",
       "1           4.0              1               1  ...  16          0.010870   \n",
       "2           4.0              0               1  ...  14          0.000000   \n",
       "5           4.0              1               1  ...  14         -0.011236   \n",
       "8           4.0              0               1  ...  18         -0.022727   \n",
       "9           4.0              0               0  ...  14         -0.011364   \n",
       "\n",
       "   overall_team/year  teams_in_league/year  mean_league/year  mean_team/year  \\\n",
       "1             2418.0                  20.0         71.357143       75.562500   \n",
       "2             2061.0                  18.0         71.280514       79.269231   \n",
       "5             1917.0                  20.0         71.357143       79.875000   \n",
       "8             2061.0                  18.0         71.280514       79.269231   \n",
       "9             2061.0                  18.0         71.280514       79.269231   \n",
       "\n",
       "   años_de_contrato  body_type_1  body_type_2  body_type_3  \n",
       "1               3.0          1.0          0.0          0.0  \n",
       "2               2.0          1.0          0.0          0.0  \n",
       "5               3.0          1.0          0.0          0.0  \n",
       "8               1.0          1.0          0.0          0.0  \n",
       "9               2.0          1.0          0.0          0.0  \n",
       "\n",
       "[5 rows x 94 columns]"
      ]
     },
     "execution_count": 23,
     "metadata": {},
     "output_type": "execute_result"
    }
   ],
   "source": [
    "df.head()"
   ]
  },
  {
   "cell_type": "markdown",
   "id": "e6df93d6",
   "metadata": {},
   "source": [
    "## Features selection"
   ]
  },
  {
   "cell_type": "code",
   "execution_count": 24,
   "id": "417e333f",
   "metadata": {
    "ExecuteTime": {
     "end_time": "2022-02-24T20:20:51.943085Z",
     "start_time": "2022-02-24T20:20:51.893811Z"
    }
   },
   "outputs": [],
   "source": [
    "target=[]\n",
    "#elegimos el % de target para que sea 0 y 1\n",
    "for i in df.progresion_anual:\n",
    "    if i>0.1:\n",
    "        target.append(1)\n",
    "    else:\n",
    "        target.append(0)\n",
    "df[\"target\"]=target"
   ]
  },
  {
   "cell_type": "code",
   "execution_count": 25,
   "id": "d330135a",
   "metadata": {
    "ExecuteTime": {
     "end_time": "2022-02-24T20:40:34.881381Z",
     "start_time": "2022-02-24T20:40:34.841376Z"
    }
   },
   "outputs": [],
   "source": [
    "X=df.drop([\"progresion_anual\",\"target\"],axis=1)\n",
    "y=df.target"
   ]
  },
  {
   "cell_type": "code",
   "execution_count": 31,
   "id": "75e9f6f9",
   "metadata": {
    "ExecuteTime": {
     "end_time": "2022-02-24T20:41:09.093225Z",
     "start_time": "2022-02-24T20:40:36.300755Z"
    }
   },
   "outputs": [
    {
     "data": {
      "text/plain": [
       "SelectFromModel(estimator=RandomForestClassifier(n_estimators=200))"
      ]
     },
     "execution_count": 31,
     "metadata": {},
     "output_type": "execute_result"
    }
   ],
   "source": [
    "#seleccion de columnas \n",
    "sel = SelectFromModel(RandomForestClassifier(n_estimators = 200))\n",
    "sel.fit(X,y)"
   ]
  },
  {
   "cell_type": "code",
   "execution_count": 32,
   "id": "9e0dad1f",
   "metadata": {
    "ExecuteTime": {
     "end_time": "2022-02-24T20:41:09.390521Z",
     "start_time": "2022-02-24T20:41:09.359514Z"
    },
    "scrolled": true
   },
   "outputs": [
    {
     "data": {
      "text/plain": [
       "array([ True,  True,  True, False,  True,  True,  True, False, False,\n",
       "       False, False, False, False, False, False, False, False,  True,\n",
       "       False,  True,  True,  True,  True,  True,  True,  True,  True,\n",
       "        True,  True,  True,  True,  True,  True,  True,  True,  True,\n",
       "        True,  True,  True,  True,  True,  True,  True,  True,  True,\n",
       "        True,  True,  True,  True,  True,  True,  True, False, False,\n",
       "       False, False,  True, False, False, False, False, False,  True,\n",
       "        True,  True, False,  True, False,  True,  True, False, False,\n",
       "       False,  True, False, False, False, False, False, False, False,\n",
       "       False, False, False, False,  True,  True,  True,  True, False,\n",
       "       False, False, False])"
      ]
     },
     "execution_count": 32,
     "metadata": {},
     "output_type": "execute_result"
    }
   ],
   "source": [
    "#columnas que coge\n",
    "sel.get_support()"
   ]
  },
  {
   "cell_type": "code",
   "execution_count": 33,
   "id": "f79c5d53",
   "metadata": {
    "ExecuteTime": {
     "end_time": "2022-02-24T20:41:18.336499Z",
     "start_time": "2022-02-24T20:41:18.285499Z"
    }
   },
   "outputs": [
    {
     "data": {
      "text/plain": [
       "52"
      ]
     },
     "execution_count": 33,
     "metadata": {},
     "output_type": "execute_result"
    }
   ],
   "source": [
    "selected_feat= X.columns[(sel.get_support())]\n",
    "len(selected_feat) #selecciona 51 columnas"
   ]
  },
  {
   "cell_type": "code",
   "execution_count": 34,
   "id": "c94acda7",
   "metadata": {
    "ExecuteTime": {
     "end_time": "2022-02-24T20:41:26.824245Z",
     "start_time": "2022-02-24T20:41:26.814251Z"
    }
   },
   "outputs": [
    {
     "data": {
      "text/plain": [
       "Index(['overall', 'potential', 'value_eur', 'age', 'height_cm', 'weight_kg',\n",
       "       'pace', 'passing', 'dribbling', 'defending', 'physic',\n",
       "       'attacking_crossing', 'attacking_finishing',\n",
       "       'attacking_heading_accuracy', 'attacking_short_passing',\n",
       "       'attacking_volleys', 'skill_dribbling', 'skill_curve',\n",
       "       'skill_fk_accuracy', 'skill_long_passing', 'skill_ball_control',\n",
       "       'movement_acceleration', 'movement_sprint_speed', 'movement_agility',\n",
       "       'movement_reactions', 'movement_balance', 'power_shot_power',\n",
       "       'power_jumping', 'power_stamina', 'power_strength', 'power_long_shots',\n",
       "       'mentality_aggression', 'mentality_interceptions',\n",
       "       'mentality_positioning', 'mentality_vision', 'mentality_penalties',\n",
       "       'mentality_composure', 'defending_marking_awareness',\n",
       "       'defending_standing_tackle', 'defending_sliding_tackle',\n",
       "       'goalkeeping_reflexes', 'lf', 'cf', 'rf', 'lam', 'ram', 'lm', 'rm',\n",
       "       'overall_team/year', 'teams_in_league/year', 'mean_league/year',\n",
       "       'mean_team/year'],\n",
       "      dtype='object')"
      ]
     },
     "execution_count": 34,
     "metadata": {},
     "output_type": "execute_result"
    }
   ],
   "source": [
    "#vemos que variables son\n",
    "selected_feat"
   ]
  },
  {
   "cell_type": "code",
   "execution_count": 43,
   "id": "48436921",
   "metadata": {},
   "outputs": [],
   "source": [
    "#redefinimos X_eliminando las que no tienen sentido:\n",
    "list=selected_feat.to_list()\n",
    "list.remove('goalkeeping_reflexes')\n",
    "X=df[list]"
   ]
  },
  {
   "cell_type": "markdown",
   "id": "4e2cad49",
   "metadata": {},
   "source": [
    "## Primer modelo naive"
   ]
  },
  {
   "cell_type": "code",
   "execution_count": 44,
   "id": "5a4c7caf",
   "metadata": {
    "ExecuteTime": {
     "end_time": "2022-02-24T20:42:27.481284Z",
     "start_time": "2022-02-24T20:42:27.367290Z"
    }
   },
   "outputs": [],
   "source": [
    "#split el dataframe\n",
    "X_train, X_test, y_train, y_test = train_test_split(X, y, test_size=0.2, random_state=0)"
   ]
  },
  {
   "cell_type": "code",
   "execution_count": 45,
   "id": "513f2e4e",
   "metadata": {
    "ExecuteTime": {
     "end_time": "2022-02-24T20:42:17.969587Z",
     "start_time": "2022-02-24T20:42:17.962592Z"
    }
   },
   "outputs": [],
   "source": [
    "model=RandomForestClassifier()"
   ]
  },
  {
   "cell_type": "code",
   "execution_count": 46,
   "id": "60bdc0f9",
   "metadata": {
    "ExecuteTime": {
     "end_time": "2022-02-24T20:43:04.281305Z",
     "start_time": "2022-02-24T20:42:37.149298Z"
    }
   },
   "outputs": [
    {
     "data": {
      "text/plain": [
       "RandomForestClassifier()"
      ]
     },
     "execution_count": 46,
     "metadata": {},
     "output_type": "execute_result"
    }
   ],
   "source": [
    "model.fit(X_train,y_train)"
   ]
  },
  {
   "cell_type": "code",
   "execution_count": 47,
   "id": "60233585",
   "metadata": {
    "ExecuteTime": {
     "end_time": "2022-02-24T20:43:09.960495Z",
     "start_time": "2022-02-24T20:43:09.495490Z"
    }
   },
   "outputs": [
    {
     "data": {
      "text/plain": [
       "0.95442690459849"
      ]
     },
     "execution_count": 47,
     "metadata": {},
     "output_type": "execute_result"
    }
   ],
   "source": [
    "model.score(X_test,y_test)"
   ]
  },
  {
   "cell_type": "code",
   "execution_count": 48,
   "id": "fcab7da1",
   "metadata": {
    "ExecuteTime": {
     "end_time": "2022-02-24T20:43:34.917068Z",
     "start_time": "2022-02-24T20:43:34.471069Z"
    }
   },
   "outputs": [],
   "source": [
    "y_pred=model.predict(X_test)"
   ]
  },
  {
   "cell_type": "code",
   "execution_count": 49,
   "id": "16d81d51",
   "metadata": {
    "ExecuteTime": {
     "end_time": "2022-02-24T20:43:49.145049Z",
     "start_time": "2022-02-24T20:43:49.105265Z"
    },
    "scrolled": true
   },
   "outputs": [
    {
     "name": "stdout",
     "output_type": "stream",
     "text": [
      "              precision    recall  f1-score   support\n",
      "\n",
      "           0       0.96      1.00      0.98      6958\n",
      "           1       0.35      0.02      0.03       327\n",
      "\n",
      "    accuracy                           0.95      7285\n",
      "   macro avg       0.65      0.51      0.51      7285\n",
      "weighted avg       0.93      0.95      0.93      7285\n",
      "\n"
     ]
    }
   ],
   "source": [
    "print(classification_report(y_test,y_pred)) \n",
    "#Se observa accury muy alta => consecuencia posible de df muy desbalanceado"
   ]
  },
  {
   "cell_type": "code",
   "execution_count": 50,
   "id": "0975ecd6",
   "metadata": {},
   "outputs": [
    {
     "data": {
      "text/plain": [
       "0.9551132463967056"
      ]
     },
     "execution_count": 50,
     "metadata": {},
     "output_type": "execute_result"
    }
   ],
   "source": [
    "#desbalanceo de X\n",
    "6958/7285"
   ]
  },
  {
   "cell_type": "markdown",
   "id": "deb0bec0",
   "metadata": {},
   "source": [
    "## Segundo modelo con undersampling"
   ]
  },
  {
   "cell_type": "code",
   "execution_count": 51,
   "id": "6c9ff206",
   "metadata": {
    "ExecuteTime": {
     "end_time": "2022-02-24T20:44:42.683756Z",
     "start_time": "2022-02-24T20:44:42.565703Z"
    }
   },
   "outputs": [],
   "source": [
    "rus = RandomUnderSampler(random_state=0)\n",
    "X_res, y_res =rus.fit_resample(X, y)\n",
    "\n",
    "#split el dataframe\n",
    "X_train, X_test, y_train, y_test = train_test_split(X_res, y_res, test_size=0.2, random_state=0)\n",
    "\n"
   ]
  },
  {
   "cell_type": "code",
   "execution_count": 52,
   "id": "2999b8e7",
   "metadata": {
    "ExecuteTime": {
     "end_time": "2022-02-24T20:44:51.498300Z",
     "start_time": "2022-02-24T20:44:48.889299Z"
    }
   },
   "outputs": [
    {
     "name": "stdout",
     "output_type": "stream",
     "text": [
      "              precision    recall  f1-score   support\n",
      "\n",
      "           0       0.82      0.79      0.81       360\n",
      "           1       0.80      0.83      0.82       367\n",
      "\n",
      "    accuracy                           0.81       727\n",
      "   macro avg       0.81      0.81      0.81       727\n",
      "weighted avg       0.81      0.81      0.81       727\n",
      "\n"
     ]
    }
   ],
   "source": [
    "model=RandomForestClassifier()\n",
    "model.fit(X_train,y_train)\n",
    "\n",
    "y_pred=model.predict(X_test)\n",
    "\n",
    "print(classification_report(y_test, y_pred))\n",
    "#random forest classifier consigue un 81% de accuracy"
   ]
  },
  {
   "cell_type": "code",
   "execution_count": 53,
   "id": "591512ed",
   "metadata": {
    "ExecuteTime": {
     "end_time": "2022-02-24T20:46:04.172875Z",
     "start_time": "2022-02-24T20:46:00.712817Z"
    }
   },
   "outputs": [
    {
     "name": "stdout",
     "output_type": "stream",
     "text": [
      "              precision    recall  f1-score   support\n",
      "\n",
      "           0       0.76      0.62      0.68       360\n",
      "           1       0.68      0.80      0.74       367\n",
      "\n",
      "    accuracy                           0.71       727\n",
      "   macro avg       0.72      0.71      0.71       727\n",
      "weighted avg       0.72      0.71      0.71       727\n",
      "\n"
     ]
    }
   ],
   "source": [
    "model2=SVC()\n",
    "model2.fit(X_train,y_train)\n",
    "y_pred=model2.predict(X_test)\n",
    "print(classification_report(y_test, y_pred))\n",
    "#SVC consigue un 71% de accuracy"
   ]
  },
  {
   "cell_type": "markdown",
   "id": "58eacd80",
   "metadata": {},
   "source": [
    "## Tercer modelo con Over-sampling"
   ]
  },
  {
   "cell_type": "code",
   "execution_count": 54,
   "id": "a24edd4a",
   "metadata": {},
   "outputs": [],
   "source": [
    "res= SMOTEN()"
   ]
  },
  {
   "cell_type": "code",
   "execution_count": 55,
   "id": "83ca55ea",
   "metadata": {},
   "outputs": [],
   "source": [
    "X_res,y_res=res.fit_resample(X, y)"
   ]
  },
  {
   "cell_type": "code",
   "execution_count": 56,
   "id": "8a176647",
   "metadata": {},
   "outputs": [
    {
     "data": {
      "text/plain": [
       "0.5"
      ]
     },
     "execution_count": 56,
     "metadata": {},
     "output_type": "execute_result"
    }
   ],
   "source": [
    "#comprobación\n",
    "sum(y_res)/len(y_res) "
   ]
  },
  {
   "cell_type": "code",
   "execution_count": 57,
   "id": "3192e969",
   "metadata": {},
   "outputs": [],
   "source": [
    "#split el dataframe\n",
    "X_train, X_test, y_train, y_test = train_test_split(X_res, y_res, test_size=0.2, random_state=0)"
   ]
  },
  {
   "cell_type": "code",
   "execution_count": 58,
   "id": "368fce5f",
   "metadata": {},
   "outputs": [
    {
     "name": "stdout",
     "output_type": "stream",
     "text": [
      "              precision    recall  f1-score   support\n",
      "\n",
      "           0       0.96      0.99      0.97      6814\n",
      "           1       0.99      0.96      0.97      7030\n",
      "\n",
      "    accuracy                           0.97     13844\n",
      "   macro avg       0.97      0.97      0.97     13844\n",
      "weighted avg       0.97      0.97      0.97     13844\n",
      "\n"
     ]
    }
   ],
   "source": [
    "model3=RandomForestClassifier()\n",
    "model3.fit(X_train,y_train)\n",
    "y_pred=model3.predict(X_test)\n",
    "print(classification_report(y_test, y_pred))\n",
    "#random forest classifier con oversampling consigue un 97% de accuracy"
   ]
  },
  {
   "cell_type": "code",
   "execution_count": 59,
   "id": "3fc11a5f",
   "metadata": {},
   "outputs": [
    {
     "name": "stdout",
     "output_type": "stream",
     "text": [
      "              precision    recall  f1-score   support\n",
      "\n",
      "           0       0.81      0.72      0.77      6814\n",
      "           1       0.76      0.84      0.80      7030\n",
      "\n",
      "    accuracy                           0.78     13844\n",
      "   macro avg       0.79      0.78      0.78     13844\n",
      "weighted avg       0.79      0.78      0.78     13844\n",
      "\n"
     ]
    }
   ],
   "source": [
    "model4=SVC()\n",
    "model4.fit(X_train,y_train).score(X_test,y_test)\n",
    "y_pred=model4.predict(X_test)\n",
    "print(classification_report(y_test, y_pred))\n",
    "#SVC con oversampling consigue un 78% de accuracy"
   ]
  },
  {
   "cell_type": "markdown",
   "id": "8ac67f92",
   "metadata": {},
   "source": [
    "## Parameter tunnig"
   ]
  },
  {
   "cell_type": "code",
   "execution_count": 125,
   "id": "d6758266",
   "metadata": {},
   "outputs": [],
   "source": [
    "param_grid = { \n",
    "    'n_estimators': [200, 500],\n",
    "    'max_features': ['auto', 'sqrt', 'log2'],\n",
    "    'max_depth' : [4,5,6,7,8],\n",
    "    'criterion' :['gini', 'entropy']\n",
    "}"
   ]
  },
  {
   "cell_type": "code",
   "execution_count": 127,
   "id": "8a31de48",
   "metadata": {
    "code_folding": []
   },
   "outputs": [
    {
     "name": "stdout",
     "output_type": "stream",
     "text": [
      "Wall time: 18min 10s\n"
     ]
    },
    {
     "data": {
      "text/plain": [
       "GridSearchCV(cv=5, estimator=RandomForestClassifier(),\n",
       "             param_grid={'criterion': ['gini', 'entropy'],\n",
       "                         'max_depth': [4, 5, 6, 7, 8],\n",
       "                         'max_features': ['auto', 'sqrt', 'log2'],\n",
       "                         'n_estimators': [200, 500]})"
      ]
     },
     "execution_count": 127,
     "metadata": {},
     "output_type": "execute_result"
    }
   ],
   "source": [
    "%%time\n",
    "from sklearn.model_selection import GridSearchCV\n",
    "CV_rfc = GridSearchCV(estimator=model3, param_grid=param_grid, cv= 5)\n",
    "CV_rfc.fit(X_train, y_train)"
   ]
  },
  {
   "cell_type": "code",
   "execution_count": 128,
   "id": "56871e65",
   "metadata": {},
   "outputs": [
    {
     "data": {
      "text/plain": [
       "{'criterion': 'entropy',\n",
       " 'max_depth': 8,\n",
       " 'max_features': 'auto',\n",
       " 'n_estimators': 500}"
      ]
     },
     "execution_count": 128,
     "metadata": {},
     "output_type": "execute_result"
    }
   ],
   "source": [
    "CV_rfc.best_params_"
   ]
  },
  {
   "cell_type": "code",
   "execution_count": 60,
   "id": "937c933b",
   "metadata": {},
   "outputs": [
    {
     "name": "stdout",
     "output_type": "stream",
     "text": [
      "              precision    recall  f1-score   support\n",
      "\n",
      "           0       0.97      0.93      0.95      6814\n",
      "           1       0.93      0.97      0.95      7030\n",
      "\n",
      "    accuracy                           0.95     13844\n",
      "   macro avg       0.95      0.95      0.95     13844\n",
      "weighted avg       0.95      0.95      0.95     13844\n",
      "\n"
     ]
    }
   ],
   "source": [
    "model_def=RandomForestClassifier(max_features='auto', n_estimators= 500, max_depth=8, criterion='entropy')\n",
    "model_def.fit(X_train,y_train)\n",
    "y_pred=model_def.predict(X_test)\n",
    "print(classification_report(y_test, y_pred))\n",
    "#random forest classifier con oversampling consigue un 95% de accuracy"
   ]
  },
  {
   "cell_type": "markdown",
   "id": "dd8152dd",
   "metadata": {},
   "source": [
    "## Mirar la previsión de jugadores de fifa22"
   ]
  },
  {
   "cell_type": "code",
   "execution_count": 95,
   "id": "2967280d",
   "metadata": {},
   "outputs": [
    {
     "name": "stderr",
     "output_type": "stream",
     "text": [
      "C:\\Users\\carlo\\anaconda3\\lib\\site-packages\\IPython\\core\\interactiveshell.py:3165: DtypeWarning: Columns (25,108) have mixed types.Specify dtype option on import or set low_memory=False.\n",
      "  has_raised = await self.run_ast_nodes(code_ast.body, cell_name,\n"
     ]
    }
   ],
   "source": [
    "df22=pd.read_csv('data/players_22.csv')\n",
    "#eliminamos columnas de url que no aportan información\n",
    "df22 = df22[df22.columns.drop(df22.filter(regex='url').columns)]"
   ]
  },
  {
   "cell_type": "code",
   "execution_count": 96,
   "id": "5982f8b6",
   "metadata": {},
   "outputs": [],
   "source": [
    "#funcion transformación en lista\n",
    "def lista_posicion(x):\n",
    "    return (x.replace(' ','').split(','))"
   ]
  },
  {
   "cell_type": "code",
   "execution_count": 97,
   "id": "78a8c857",
   "metadata": {},
   "outputs": [],
   "source": [
    "#transforma valores de columna player_positions en una lista\n",
    "df22['player_positions']=df22['player_positions'].apply(lambda x: lista_posicion(x))"
   ]
  },
  {
   "cell_type": "code",
   "execution_count": 98,
   "id": "4be37cdc",
   "metadata": {},
   "outputs": [],
   "source": [
    "#defino listas para agrupar posiciones por 4 categorias\n",
    "pos_defensas=['LCB','RCB','CB','RB','LB','RWB','LWB']\n",
    "pos_medios=['LW','LCM','RCM','CAM','RW','LDM','CDM','CM','RDM','RM','RAM','LAM','LM']\n",
    "pos_delanteros=['CF','ST','RS','LS','RF']"
   ]
  },
  {
   "cell_type": "code",
   "execution_count": 99,
   "id": "3bc37290",
   "metadata": {},
   "outputs": [],
   "source": [
    "#agrupo posiciones en posiciones genéricas    \n",
    "for i in df22.index:\n",
    "            if len(df22.at[i,'player_positions'])==1:\n",
    "                if df22.at[i,'player_positions'][0]=='GK':\n",
    "                    df22.at[i,'player_positions']='portero'\n",
    "                if df22.at[i,'player_positions'][0] in pos_defensas:\n",
    "                    df22.at[i,'player_positions']='defensa'\n",
    "                elif df22.at[i,'player_positions'][0] in pos_medios:\n",
    "                    df22.at[i,'player_positions']='centrocampista'\n",
    "                elif df22.at[i,'player_positions'][0] in pos_delanteros:\n",
    "                    df22.at[i,'player_positions']='delantero'\n",
    "            else:\n",
    "                if df22.at[i,'player_positions'][0] in pos_defensas:\n",
    "                    df22.at[i,'player_positions']='defensa'\n",
    "                elif df22.at[i,'player_positions'][0] in pos_medios:\n",
    "                    df22.at[i,'player_positions']='centrocampista'\n",
    "                elif df22.at[i,'player_positions'][0] in pos_delanteros:\n",
    "                    df22.at[i,'player_positions']='delantero'\n",
    "                elif df22.at[i,'player_positions'][0]=='GK':\n",
    "                    df22.at[i,'player_positions']='portero'"
   ]
  },
  {
   "cell_type": "code",
   "execution_count": 100,
   "id": "a1f15c9a",
   "metadata": {},
   "outputs": [],
   "source": [
    "#filtramos dataset \n",
    "df22=df22[df22['player_positions']=='centrocampista']"
   ]
  },
  {
   "cell_type": "code",
   "execution_count": 101,
   "id": "9700d009",
   "metadata": {},
   "outputs": [],
   "source": [
    "#Agrupa por Equipo y año versión(temporada) y añade el total en cada jugador\n",
    "df22['overall_team/year'] = df22.groupby('club_team_id')['overall'].transform('sum')"
   ]
  },
  {
   "cell_type": "code",
   "execution_count": 102,
   "id": "68a1265c",
   "metadata": {},
   "outputs": [],
   "source": [
    "#Crea columna nº de equipos por liga/año\n",
    "df22['teams_in_league/year'] = df22.groupby('league_name')['club_team_id'].transform('nunique')"
   ]
  },
  {
   "cell_type": "code",
   "execution_count": 103,
   "id": "2de072f3",
   "metadata": {},
   "outputs": [],
   "source": [
    "#Crea columna media liga/año\n",
    "df22['mean_league/year'] = df22.groupby('league_name')['overall'].transform('mean')"
   ]
  },
  {
   "cell_type": "code",
   "execution_count": 104,
   "id": "58dee7ed",
   "metadata": {},
   "outputs": [],
   "source": [
    "#Crea columna media equipo/año\n",
    "df22['mean_team/year'] = df22.groupby('club_team_id')['overall'].transform('mean')"
   ]
  },
  {
   "cell_type": "code",
   "execution_count": 105,
   "id": "88db0052",
   "metadata": {},
   "outputs": [],
   "source": [
    "#df solo con las columnas a transformar\n",
    "posiciones=df22[[\"ls\",\"st\",\"rs\",\"lw\",\"lf\",\"cf\",\"rf\",\"rw\", 'lam', 'cam', 'ram', 'lm', 'lcm', 'cm', 'rcm', 'rm', 'ldm', 'cdm', 'rdm',\n",
    "     'lwb', 'rwb', 'lb', 'lcb', 'cb', 'rcb', 'rb',\"gk\"]]"
   ]
  },
  {
   "cell_type": "code",
   "execution_count": 106,
   "id": "4d27a4e9",
   "metadata": {},
   "outputs": [],
   "source": [
    "#funcion para limpiar valores\n",
    "def limp_posiciones(x):\n",
    "    x.replace(\"+\",\" \")\n",
    "    return x.split(\" \")[0]"
   ]
  },
  {
   "cell_type": "code",
   "execution_count": 107,
   "id": "574250a6",
   "metadata": {},
   "outputs": [],
   "source": [
    "#limpiar en df\n",
    "for i in posiciones.columns:\n",
    "    df22[i]=df22[i].astype(str)\n",
    "    df22[i]=df22[i].apply(limp_posiciones)"
   ]
  },
  {
   "cell_type": "code",
   "execution_count": 108,
   "id": "e782f1b2",
   "metadata": {},
   "outputs": [],
   "source": [
    "df22['lf'] = df22['lf'].str.replace(r'\\+', ' ', regex=True)\n",
    "df22['cf'] = df22['cf'].str.replace(r'\\+', ' ', regex=True)\n",
    "df22['rf'] = df22['rf'].str.replace(r'\\+', ' ', regex=True)\n",
    "df22['lam'] = df22['lam'].str.replace(r'\\+', ' ', regex=True)\n",
    "df22['ram'] = df22['ram'].str.replace(r'\\+', ' ', regex=True)\n",
    "df22['lm'] = df22['lm'].str.replace(r'\\+', ' ', regex=True)\n",
    "df22['rm'] = df22['rm'].str.replace(r'\\+', ' ', regex=True)\n",
    "\n",
    "df22['lf'] = df22['lf'].str.replace(r'\\-', ' ', regex=True)\n",
    "df22['cf'] = df22['cf'].str.replace(r'\\-', ' ', regex=True)\n",
    "df22['rf'] = df22['rf'].str.replace(r'\\-', ' ', regex=True)\n",
    "df22['lam'] = df22['lam'].str.replace(r'\\-', ' ', regex=True)\n",
    "df22['ram'] = df22['ram'].str.replace(r'\\-', ' ', regex=True)\n",
    "df22['lm'] = df22['lm'].str.replace(r'\\-', ' ', regex=True)\n",
    "df22['rm'] = df22['rm'].str.replace(r'\\-', ' ', regex=True)\n"
   ]
  },
  {
   "cell_type": "code",
   "execution_count": 109,
   "id": "0924b5f6",
   "metadata": {},
   "outputs": [],
   "source": [
    "#funcion para limpiar valores\n",
    "def limp_posiciones(x):\n",
    "    return x.split(\" \")[0]"
   ]
  },
  {
   "cell_type": "code",
   "execution_count": 110,
   "id": "f2026b6c",
   "metadata": {},
   "outputs": [],
   "source": [
    "for i in ['lf','cf','rf','lam','ram','lm','rm']:\n",
    "    df22[i]=df22[i].astype(str)\n",
    "    df22[i]=df22[i].apply(limp_posiciones)"
   ]
  },
  {
   "cell_type": "code",
   "execution_count": 125,
   "id": "cce53e1a",
   "metadata": {},
   "outputs": [],
   "source": [
    "X22=df22[list]"
   ]
  },
  {
   "cell_type": "code",
   "execution_count": 126,
   "id": "990148ae",
   "metadata": {},
   "outputs": [
    {
     "name": "stderr",
     "output_type": "stream",
     "text": [
      "C:\\Users\\carlo\\anaconda3\\lib\\site-packages\\pandas\\core\\frame.py:4462: SettingWithCopyWarning: \n",
      "A value is trying to be set on a copy of a slice from a DataFrame\n",
      "\n",
      "See the caveats in the documentation: https://pandas.pydata.org/pandas-docs/stable/user_guide/indexing.html#returning-a-view-versus-a-copy\n",
      "  return super().fillna(\n"
     ]
    }
   ],
   "source": [
    "X22.fillna(0,inplace=True)"
   ]
  },
  {
   "cell_type": "code",
   "execution_count": 127,
   "id": "ddbe1b48",
   "metadata": {},
   "outputs": [],
   "source": [
    "y_pred=model_def.predict(X22)"
   ]
  },
  {
   "cell_type": "code",
   "execution_count": 131,
   "id": "4a252931",
   "metadata": {},
   "outputs": [],
   "source": [
    "ind_list=X22[y_pred==1].index.to_list()"
   ]
  },
  {
   "cell_type": "code",
   "execution_count": 132,
   "id": "939591a7",
   "metadata": {},
   "outputs": [
    {
     "data": {
      "text/html": [
       "<div>\n",
       "<style scoped>\n",
       "    .dataframe tbody tr th:only-of-type {\n",
       "        vertical-align: middle;\n",
       "    }\n",
       "\n",
       "    .dataframe tbody tr th {\n",
       "        vertical-align: top;\n",
       "    }\n",
       "\n",
       "    .dataframe thead th {\n",
       "        text-align: right;\n",
       "    }\n",
       "</style>\n",
       "<table border=\"1\" class=\"dataframe\">\n",
       "  <thead>\n",
       "    <tr style=\"text-align: right;\">\n",
       "      <th></th>\n",
       "      <th>sofifa_id</th>\n",
       "      <th>short_name</th>\n",
       "      <th>long_name</th>\n",
       "      <th>player_positions</th>\n",
       "      <th>overall</th>\n",
       "      <th>potential</th>\n",
       "      <th>value_eur</th>\n",
       "      <th>wage_eur</th>\n",
       "      <th>age</th>\n",
       "      <th>dob</th>\n",
       "      <th>...</th>\n",
       "      <th>lb</th>\n",
       "      <th>lcb</th>\n",
       "      <th>cb</th>\n",
       "      <th>rcb</th>\n",
       "      <th>rb</th>\n",
       "      <th>gk</th>\n",
       "      <th>overall_team/year</th>\n",
       "      <th>teams_in_league/year</th>\n",
       "      <th>mean_league/year</th>\n",
       "      <th>mean_team/year</th>\n",
       "    </tr>\n",
       "  </thead>\n",
       "  <tbody>\n",
       "    <tr>\n",
       "      <th>10886</th>\n",
       "      <td>255432</td>\n",
       "      <td>K. Salvatierra</td>\n",
       "      <td>Kevin Francisco Salvatierra Flores</td>\n",
       "      <td>centrocampista</td>\n",
       "      <td>65</td>\n",
       "      <td>80</td>\n",
       "      <td>1700000.0</td>\n",
       "      <td>500.0</td>\n",
       "      <td>19</td>\n",
       "      <td>2001-08-05</td>\n",
       "      <td>...</td>\n",
       "      <td>56+2</td>\n",
       "      <td>54+2</td>\n",
       "      <td>54+2</td>\n",
       "      <td>54+2</td>\n",
       "      <td>56+2</td>\n",
       "      <td>17+2</td>\n",
       "      <td>819.0</td>\n",
       "      <td>7.0</td>\n",
       "      <td>63.382716</td>\n",
       "      <td>63.000000</td>\n",
       "    </tr>\n",
       "    <tr>\n",
       "      <th>10974</th>\n",
       "      <td>259903</td>\n",
       "      <td>K. Sambonino</td>\n",
       "      <td>Kevin Josué Sambonino Terán</td>\n",
       "      <td>centrocampista</td>\n",
       "      <td>65</td>\n",
       "      <td>75</td>\n",
       "      <td>1500000.0</td>\n",
       "      <td>500.0</td>\n",
       "      <td>21</td>\n",
       "      <td>2000-02-14</td>\n",
       "      <td>...</td>\n",
       "      <td>62+2</td>\n",
       "      <td>62+2</td>\n",
       "      <td>62+2</td>\n",
       "      <td>62+2</td>\n",
       "      <td>62+2</td>\n",
       "      <td>17+2</td>\n",
       "      <td>563.0</td>\n",
       "      <td>7.0</td>\n",
       "      <td>64.337838</td>\n",
       "      <td>62.555556</td>\n",
       "    </tr>\n",
       "    <tr>\n",
       "      <th>10954</th>\n",
       "      <td>258923</td>\n",
       "      <td>Arribas</td>\n",
       "      <td>Sergio Arribas Calvo</td>\n",
       "      <td>centrocampista</td>\n",
       "      <td>65</td>\n",
       "      <td>81</td>\n",
       "      <td>1800000.0</td>\n",
       "      <td>16000.0</td>\n",
       "      <td>19</td>\n",
       "      <td>2001-09-30</td>\n",
       "      <td>...</td>\n",
       "      <td>47+2</td>\n",
       "      <td>42+2</td>\n",
       "      <td>42+2</td>\n",
       "      <td>42+2</td>\n",
       "      <td>47+2</td>\n",
       "      <td>16+2</td>\n",
       "      <td>1338.0</td>\n",
       "      <td>20.0</td>\n",
       "      <td>73.703846</td>\n",
       "      <td>78.705882</td>\n",
       "    </tr>\n",
       "    <tr>\n",
       "      <th>10955</th>\n",
       "      <td>259043</td>\n",
       "      <td>M. Samoise</td>\n",
       "      <td>Matisse Samoise</td>\n",
       "      <td>centrocampista</td>\n",
       "      <td>65</td>\n",
       "      <td>79</td>\n",
       "      <td>1700000.0</td>\n",
       "      <td>3000.0</td>\n",
       "      <td>19</td>\n",
       "      <td>2001-11-21</td>\n",
       "      <td>...</td>\n",
       "      <td>54+2</td>\n",
       "      <td>47+2</td>\n",
       "      <td>47+2</td>\n",
       "      <td>47+2</td>\n",
       "      <td>54+2</td>\n",
       "      <td>15+2</td>\n",
       "      <td>899.0</td>\n",
       "      <td>18.0</td>\n",
       "      <td>67.463918</td>\n",
       "      <td>69.153846</td>\n",
       "    </tr>\n",
       "    <tr>\n",
       "      <th>12041</th>\n",
       "      <td>257075</td>\n",
       "      <td>P. Nebel</td>\n",
       "      <td>Paul Nebel</td>\n",
       "      <td>centrocampista</td>\n",
       "      <td>64</td>\n",
       "      <td>83</td>\n",
       "      <td>1500000.0</td>\n",
       "      <td>2000.0</td>\n",
       "      <td>18</td>\n",
       "      <td>2002-10-10</td>\n",
       "      <td>...</td>\n",
       "      <td>44+2</td>\n",
       "      <td>37+2</td>\n",
       "      <td>37+2</td>\n",
       "      <td>37+2</td>\n",
       "      <td>44+2</td>\n",
       "      <td>13+2</td>\n",
       "      <td>923.0</td>\n",
       "      <td>18.0</td>\n",
       "      <td>71.148472</td>\n",
       "      <td>65.928571</td>\n",
       "    </tr>\n",
       "  </tbody>\n",
       "</table>\n",
       "<p>5 rows × 108 columns</p>\n",
       "</div>"
      ],
      "text/plain": [
       "       sofifa_id      short_name                           long_name  \\\n",
       "10886     255432  K. Salvatierra  Kevin Francisco Salvatierra Flores   \n",
       "10974     259903    K. Sambonino         Kevin Josué Sambonino Terán   \n",
       "10954     258923         Arribas                Sergio Arribas Calvo   \n",
       "10955     259043      M. Samoise                     Matisse Samoise   \n",
       "12041     257075        P. Nebel                          Paul Nebel   \n",
       "\n",
       "      player_positions  overall  potential  value_eur  wage_eur  age  \\\n",
       "10886   centrocampista       65         80  1700000.0     500.0   19   \n",
       "10974   centrocampista       65         75  1500000.0     500.0   21   \n",
       "10954   centrocampista       65         81  1800000.0   16000.0   19   \n",
       "10955   centrocampista       65         79  1700000.0    3000.0   19   \n",
       "12041   centrocampista       64         83  1500000.0    2000.0   18   \n",
       "\n",
       "              dob  ...    lb   lcb    cb   rcb    rb    gk overall_team/year  \\\n",
       "10886  2001-08-05  ...  56+2  54+2  54+2  54+2  56+2  17+2             819.0   \n",
       "10974  2000-02-14  ...  62+2  62+2  62+2  62+2  62+2  17+2             563.0   \n",
       "10954  2001-09-30  ...  47+2  42+2  42+2  42+2  47+2  16+2            1338.0   \n",
       "10955  2001-11-21  ...  54+2  47+2  47+2  47+2  54+2  15+2             899.0   \n",
       "12041  2002-10-10  ...  44+2  37+2  37+2  37+2  44+2  13+2             923.0   \n",
       "\n",
       "       teams_in_league/year mean_league/year mean_team/year  \n",
       "10886                   7.0        63.382716      63.000000  \n",
       "10974                   7.0        64.337838      62.555556  \n",
       "10954                  20.0        73.703846      78.705882  \n",
       "10955                  18.0        67.463918      69.153846  \n",
       "12041                  18.0        71.148472      65.928571  \n",
       "\n",
       "[5 rows x 108 columns]"
      ]
     },
     "execution_count": 132,
     "metadata": {},
     "output_type": "execute_result"
    }
   ],
   "source": [
    "#top 5 centrocampistas con mayor proyección\n",
    "df22[df22.index.isin(ind_list)].sort_values(by='overall', ascending=False).head()"
   ]
  },
  {
   "cell_type": "code",
   "execution_count": null,
   "id": "67a4deb0",
   "metadata": {},
   "outputs": [],
   "source": []
  }
 ],
 "metadata": {
  "kernelspec": {
   "display_name": "Python 3",
   "language": "python",
   "name": "python3"
  },
  "language_info": {
   "codemirror_mode": {
    "name": "ipython",
    "version": 3
   },
   "file_extension": ".py",
   "mimetype": "text/x-python",
   "name": "python",
   "nbconvert_exporter": "python",
   "pygments_lexer": "ipython3",
   "version": "3.8.8"
  },
  "toc": {
   "base_numbering": 1,
   "nav_menu": {},
   "number_sections": true,
   "sideBar": true,
   "skip_h1_title": false,
   "title_cell": "Table of Contents",
   "title_sidebar": "Contents",
   "toc_cell": false,
   "toc_position": {},
   "toc_section_display": true,
   "toc_window_display": false
  },
  "varInspector": {
   "cols": {
    "lenName": 16,
    "lenType": 16,
    "lenVar": 40
   },
   "kernels_config": {
    "python": {
     "delete_cmd_postfix": "",
     "delete_cmd_prefix": "del ",
     "library": "var_list.py",
     "varRefreshCmd": "print(var_dic_list())"
    },
    "r": {
     "delete_cmd_postfix": ") ",
     "delete_cmd_prefix": "rm(",
     "library": "var_list.r",
     "varRefreshCmd": "cat(var_dic_list()) "
    }
   },
   "types_to_exclude": [
    "module",
    "function",
    "builtin_function_or_method",
    "instance",
    "_Feature"
   ],
   "window_display": false
  }
 },
 "nbformat": 4,
 "nbformat_minor": 5
}
