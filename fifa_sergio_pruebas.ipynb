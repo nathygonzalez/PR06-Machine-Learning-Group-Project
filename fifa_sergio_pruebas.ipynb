{
 "cells": [
  {
   "cell_type": "code",
   "execution_count": 2,
   "id": "d3248cfe",
   "metadata": {
    "ExecuteTime": {
     "end_time": "2022-02-22T19:39:28.071122Z",
     "start_time": "2022-02-22T19:39:26.069690Z"
    }
   },
   "outputs": [],
   "source": [
    "import pandas as pd\n",
    "import numpy as np\n",
    "import matplotlib.pyplot as plt\n",
    "import seaborn as sns\n",
    "\n",
    "%matplotlib inline\n"
   ]
  },
  {
   "cell_type": "code",
   "execution_count": 3,
   "id": "68231f28",
   "metadata": {
    "ExecuteTime": {
     "end_time": "2022-02-22T19:39:30.775255Z",
     "start_time": "2022-02-22T19:39:29.742212Z"
    },
    "scrolled": true
   },
   "outputs": [
    {
     "name": "stderr",
     "output_type": "stream",
     "text": [
      "C:\\Users\\irazu\\anaconda3\\lib\\site-packages\\IPython\\core\\interactiveshell.py:3165: DtypeWarning: Columns (99) have mixed types.Specify dtype option on import or set low_memory=False.\n",
      "  has_raised = await self.run_ast_nodes(code_ast.body, cell_name,\n"
     ]
    }
   ],
   "source": [
    "df=pd.read_csv(\"data/df_cleaned.csv\")"
   ]
  },
  {
   "cell_type": "code",
   "execution_count": 3,
   "id": "7e5bfd13",
   "metadata": {
    "ExecuteTime": {
     "end_time": "2022-02-19T21:41:35.141126Z",
     "start_time": "2022-02-19T21:41:35.131122Z"
    },
    "scrolled": true
   },
   "outputs": [
    {
     "name": "stdout",
     "output_type": "stream",
     "text": [
      "<class 'pandas.core.frame.DataFrame'>\n",
      "RangeIndex: 87747 entries, 0 to 87746\n",
      "Columns: 108 entries, sofifa_id to puntos\n",
      "dtypes: float64(19), int64(75), object(14)\n",
      "memory usage: 72.3+ MB\n"
     ]
    }
   ],
   "source": [
    "df.info()"
   ]
  },
  {
   "cell_type": "code",
   "execution_count": 76,
   "id": "f4a578d4",
   "metadata": {
    "ExecuteTime": {
     "end_time": "2022-02-20T15:45:26.949764Z",
     "start_time": "2022-02-20T15:45:26.386790Z"
    }
   },
   "outputs": [
    {
     "data": {
      "text/html": [
       "<div>\n",
       "<style scoped>\n",
       "    .dataframe tbody tr th:only-of-type {\n",
       "        vertical-align: middle;\n",
       "    }\n",
       "\n",
       "    .dataframe tbody tr th {\n",
       "        vertical-align: top;\n",
       "    }\n",
       "\n",
       "    .dataframe thead th {\n",
       "        text-align: right;\n",
       "    }\n",
       "</style>\n",
       "<table border=\"1\" class=\"dataframe\">\n",
       "  <thead>\n",
       "    <tr style=\"text-align: right;\">\n",
       "      <th></th>\n",
       "      <th>sofifa_id</th>\n",
       "      <th>overall</th>\n",
       "      <th>potential</th>\n",
       "      <th>value_eur</th>\n",
       "      <th>wage_eur</th>\n",
       "      <th>age</th>\n",
       "      <th>height_cm</th>\n",
       "      <th>weight_kg</th>\n",
       "      <th>club_team_id</th>\n",
       "      <th>league_level</th>\n",
       "      <th>...</th>\n",
       "      <th>rcb</th>\n",
       "      <th>rb</th>\n",
       "      <th>año_version</th>\n",
       "      <th>progresion_anual</th>\n",
       "      <th>overall_team/year</th>\n",
       "      <th>teams_in_league/year</th>\n",
       "      <th>mean_league/year</th>\n",
       "      <th>mean_team/year</th>\n",
       "      <th>ranking</th>\n",
       "      <th>puntos</th>\n",
       "    </tr>\n",
       "  </thead>\n",
       "  <tbody>\n",
       "    <tr>\n",
       "      <th>count</th>\n",
       "      <td>87747.000000</td>\n",
       "      <td>87747.000000</td>\n",
       "      <td>87747.000000</td>\n",
       "      <td>8.774700e+04</td>\n",
       "      <td>87747.000000</td>\n",
       "      <td>87747.000000</td>\n",
       "      <td>87747.000000</td>\n",
       "      <td>87747.000000</td>\n",
       "      <td>87747.000000</td>\n",
       "      <td>87747.000000</td>\n",
       "      <td>...</td>\n",
       "      <td>87747.000000</td>\n",
       "      <td>87747.000000</td>\n",
       "      <td>87747.000000</td>\n",
       "      <td>87747.000000</td>\n",
       "      <td>87747.000000</td>\n",
       "      <td>87747.000000</td>\n",
       "      <td>87747.000000</td>\n",
       "      <td>87747.000000</td>\n",
       "      <td>87747.000000</td>\n",
       "      <td>87747.000000</td>\n",
       "    </tr>\n",
       "    <tr>\n",
       "      <th>mean</th>\n",
       "      <td>207862.873705</td>\n",
       "      <td>66.976216</td>\n",
       "      <td>71.867437</td>\n",
       "      <td>2.711921e+06</td>\n",
       "      <td>13872.303327</td>\n",
       "      <td>25.046919</td>\n",
       "      <td>181.371306</td>\n",
       "      <td>75.437941</td>\n",
       "      <td>38332.911290</td>\n",
       "      <td>1.361152</td>\n",
       "      <td>...</td>\n",
       "      <td>53.393119</td>\n",
       "      <td>54.411741</td>\n",
       "      <td>2018.118899</td>\n",
       "      <td>0.017316</td>\n",
       "      <td>1448.864223</td>\n",
       "      <td>18.336547</td>\n",
       "      <td>66.321857</td>\n",
       "      <td>66.321857</td>\n",
       "      <td>391.814079</td>\n",
       "      <td>1137.047295</td>\n",
       "    </tr>\n",
       "    <tr>\n",
       "      <th>std</th>\n",
       "      <td>33223.953156</td>\n",
       "      <td>6.964394</td>\n",
       "      <td>6.244356</td>\n",
       "      <td>6.221718e+06</td>\n",
       "      <td>25594.493521</td>\n",
       "      <td>4.415154</td>\n",
       "      <td>6.728658</td>\n",
       "      <td>7.012805</td>\n",
       "      <td>51583.298021</td>\n",
       "      <td>0.749848</td>\n",
       "      <td>...</td>\n",
       "      <td>14.778440</td>\n",
       "      <td>13.853978</td>\n",
       "      <td>1.980832</td>\n",
       "      <td>0.043107</td>\n",
       "      <td>429.148315</td>\n",
       "      <td>4.838973</td>\n",
       "      <td>7.699739</td>\n",
       "      <td>8.056534</td>\n",
       "      <td>507.534066</td>\n",
       "      <td>659.006786</td>\n",
       "    </tr>\n",
       "    <tr>\n",
       "      <th>min</th>\n",
       "      <td>2.000000</td>\n",
       "      <td>40.000000</td>\n",
       "      <td>43.000000</td>\n",
       "      <td>0.000000e+00</td>\n",
       "      <td>0.000000</td>\n",
       "      <td>16.000000</td>\n",
       "      <td>155.000000</td>\n",
       "      <td>49.000000</td>\n",
       "      <td>0.000000</td>\n",
       "      <td>0.000000</td>\n",
       "      <td>...</td>\n",
       "      <td>16.000000</td>\n",
       "      <td>14.000000</td>\n",
       "      <td>2015.000000</td>\n",
       "      <td>-0.172414</td>\n",
       "      <td>0.000000</td>\n",
       "      <td>0.000000</td>\n",
       "      <td>0.000000</td>\n",
       "      <td>0.000000</td>\n",
       "      <td>0.000000</td>\n",
       "      <td>0.000000</td>\n",
       "    </tr>\n",
       "    <tr>\n",
       "      <th>25%</th>\n",
       "      <td>192634.500000</td>\n",
       "      <td>63.000000</td>\n",
       "      <td>68.000000</td>\n",
       "      <td>3.750000e+05</td>\n",
       "      <td>2000.000000</td>\n",
       "      <td>22.000000</td>\n",
       "      <td>177.000000</td>\n",
       "      <td>70.000000</td>\n",
       "      <td>298.000000</td>\n",
       "      <td>1.000000</td>\n",
       "      <td>...</td>\n",
       "      <td>43.000000</td>\n",
       "      <td>47.000000</td>\n",
       "      <td>2016.000000</td>\n",
       "      <td>-0.012195</td>\n",
       "      <td>1184.000000</td>\n",
       "      <td>16.000000</td>\n",
       "      <td>63.733138</td>\n",
       "      <td>63.411765</td>\n",
       "      <td>4.000000</td>\n",
       "      <td>1225.000000</td>\n",
       "    </tr>\n",
       "    <tr>\n",
       "      <th>50%</th>\n",
       "      <td>212736.000000</td>\n",
       "      <td>67.000000</td>\n",
       "      <td>72.000000</td>\n",
       "      <td>8.250000e+05</td>\n",
       "      <td>5000.000000</td>\n",
       "      <td>25.000000</td>\n",
       "      <td>181.000000</td>\n",
       "      <td>75.000000</td>\n",
       "      <td>1807.000000</td>\n",
       "      <td>1.000000</td>\n",
       "      <td>...</td>\n",
       "      <td>56.000000</td>\n",
       "      <td>57.000000</td>\n",
       "      <td>2018.000000</td>\n",
       "      <td>0.012821</td>\n",
       "      <td>1430.000000</td>\n",
       "      <td>18.000000</td>\n",
       "      <td>66.767338</td>\n",
       "      <td>66.611111</td>\n",
       "      <td>198.000000</td>\n",
       "      <td>1419.000000</td>\n",
       "    </tr>\n",
       "    <tr>\n",
       "      <th>75%</th>\n",
       "      <td>230200.000000</td>\n",
       "      <td>72.000000</td>\n",
       "      <td>76.000000</td>\n",
       "      <td>2.400000e+06</td>\n",
       "      <td>15000.000000</td>\n",
       "      <td>28.000000</td>\n",
       "      <td>186.000000</td>\n",
       "      <td>80.000000</td>\n",
       "      <td>110392.000000</td>\n",
       "      <td>2.000000</td>\n",
       "      <td>...</td>\n",
       "      <td>65.000000</td>\n",
       "      <td>64.000000</td>\n",
       "      <td>2020.000000</td>\n",
       "      <td>0.032258</td>\n",
       "      <td>1725.000000</td>\n",
       "      <td>20.000000</td>\n",
       "      <td>70.288032</td>\n",
       "      <td>70.125000</td>\n",
       "      <td>582.000000</td>\n",
       "      <td>1549.000000</td>\n",
       "    </tr>\n",
       "    <tr>\n",
       "      <th>max</th>\n",
       "      <td>258958.000000</td>\n",
       "      <td>94.000000</td>\n",
       "      <td>95.000000</td>\n",
       "      <td>1.855000e+08</td>\n",
       "      <td>575000.000000</td>\n",
       "      <td>53.000000</td>\n",
       "      <td>208.000000</td>\n",
       "      <td>110.000000</td>\n",
       "      <td>114899.000000</td>\n",
       "      <td>4.000000</td>\n",
       "      <td>...</td>\n",
       "      <td>89.000000</td>\n",
       "      <td>86.000000</td>\n",
       "      <td>2021.000000</td>\n",
       "      <td>0.674419</td>\n",
       "      <td>2593.000000</td>\n",
       "      <td>30.000000</td>\n",
       "      <td>76.800000</td>\n",
       "      <td>82.560000</td>\n",
       "      <td>2737.000000</td>\n",
       "      <td>2089.000000</td>\n",
       "    </tr>\n",
       "  </tbody>\n",
       "</table>\n",
       "<p>8 rows × 94 columns</p>\n",
       "</div>"
      ],
      "text/plain": [
       "           sofifa_id       overall     potential     value_eur       wage_eur  \\\n",
       "count   87747.000000  87747.000000  87747.000000  8.774700e+04   87747.000000   \n",
       "mean   207862.873705     66.976216     71.867437  2.711921e+06   13872.303327   \n",
       "std     33223.953156      6.964394      6.244356  6.221718e+06   25594.493521   \n",
       "min         2.000000     40.000000     43.000000  0.000000e+00       0.000000   \n",
       "25%    192634.500000     63.000000     68.000000  3.750000e+05    2000.000000   \n",
       "50%    212736.000000     67.000000     72.000000  8.250000e+05    5000.000000   \n",
       "75%    230200.000000     72.000000     76.000000  2.400000e+06   15000.000000   \n",
       "max    258958.000000     94.000000     95.000000  1.855000e+08  575000.000000   \n",
       "\n",
       "                age     height_cm     weight_kg   club_team_id  league_level  \\\n",
       "count  87747.000000  87747.000000  87747.000000   87747.000000  87747.000000   \n",
       "mean      25.046919    181.371306     75.437941   38332.911290      1.361152   \n",
       "std        4.415154      6.728658      7.012805   51583.298021      0.749848   \n",
       "min       16.000000    155.000000     49.000000       0.000000      0.000000   \n",
       "25%       22.000000    177.000000     70.000000     298.000000      1.000000   \n",
       "50%       25.000000    181.000000     75.000000    1807.000000      1.000000   \n",
       "75%       28.000000    186.000000     80.000000  110392.000000      2.000000   \n",
       "max       53.000000    208.000000    110.000000  114899.000000      4.000000   \n",
       "\n",
       "       ...           rcb            rb   año_version  progresion_anual  \\\n",
       "count  ...  87747.000000  87747.000000  87747.000000      87747.000000   \n",
       "mean   ...     53.393119     54.411741   2018.118899          0.017316   \n",
       "std    ...     14.778440     13.853978      1.980832          0.043107   \n",
       "min    ...     16.000000     14.000000   2015.000000         -0.172414   \n",
       "25%    ...     43.000000     47.000000   2016.000000         -0.012195   \n",
       "50%    ...     56.000000     57.000000   2018.000000          0.012821   \n",
       "75%    ...     65.000000     64.000000   2020.000000          0.032258   \n",
       "max    ...     89.000000     86.000000   2021.000000          0.674419   \n",
       "\n",
       "       overall_team/year  teams_in_league/year  mean_league/year  \\\n",
       "count       87747.000000          87747.000000      87747.000000   \n",
       "mean         1448.864223             18.336547         66.321857   \n",
       "std           429.148315              4.838973          7.699739   \n",
       "min             0.000000              0.000000          0.000000   \n",
       "25%          1184.000000             16.000000         63.733138   \n",
       "50%          1430.000000             18.000000         66.767338   \n",
       "75%          1725.000000             20.000000         70.288032   \n",
       "max          2593.000000             30.000000         76.800000   \n",
       "\n",
       "       mean_team/year       ranking        puntos  \n",
       "count    87747.000000  87747.000000  87747.000000  \n",
       "mean        66.321857    391.814079   1137.047295  \n",
       "std          8.056534    507.534066    659.006786  \n",
       "min          0.000000      0.000000      0.000000  \n",
       "25%         63.411765      4.000000   1225.000000  \n",
       "50%         66.611111    198.000000   1419.000000  \n",
       "75%         70.125000    582.000000   1549.000000  \n",
       "max         82.560000   2737.000000   2089.000000  \n",
       "\n",
       "[8 rows x 94 columns]"
      ]
     },
     "execution_count": 76,
     "metadata": {},
     "output_type": "execute_result"
    }
   ],
   "source": [
    "df.describe()"
   ]
  },
  {
   "cell_type": "code",
   "execution_count": 78,
   "id": "cd71737b",
   "metadata": {
    "ExecuteTime": {
     "end_time": "2022-02-20T15:45:49.820356Z",
     "start_time": "2022-02-20T15:45:49.810356Z"
    }
   },
   "outputs": [
    {
     "data": {
      "text/plain": [
       "(87747, 108)"
      ]
     },
     "execution_count": 78,
     "metadata": {},
     "output_type": "execute_result"
    }
   ],
   "source": [
    "df.shape"
   ]
  },
  {
   "cell_type": "code",
   "execution_count": 12,
   "id": "8e16b03c",
   "metadata": {
    "ExecuteTime": {
     "end_time": "2022-02-19T21:57:03.664767Z",
     "start_time": "2022-02-19T21:57:03.634767Z"
    }
   },
   "outputs": [
    {
     "data": {
      "text/html": [
       "<div>\n",
       "<style scoped>\n",
       "    .dataframe tbody tr th:only-of-type {\n",
       "        vertical-align: middle;\n",
       "    }\n",
       "\n",
       "    .dataframe tbody tr th {\n",
       "        vertical-align: top;\n",
       "    }\n",
       "\n",
       "    .dataframe thead th {\n",
       "        text-align: right;\n",
       "    }\n",
       "</style>\n",
       "<table border=\"1\" class=\"dataframe\">\n",
       "  <thead>\n",
       "    <tr style=\"text-align: right;\">\n",
       "      <th></th>\n",
       "      <th>sofifa_id</th>\n",
       "      <th>short_name</th>\n",
       "      <th>long_name</th>\n",
       "      <th>player_positions</th>\n",
       "      <th>overall</th>\n",
       "      <th>potential</th>\n",
       "      <th>value_eur</th>\n",
       "      <th>wage_eur</th>\n",
       "      <th>age</th>\n",
       "      <th>dob</th>\n",
       "      <th>...</th>\n",
       "      <th>rb</th>\n",
       "      <th>gk</th>\n",
       "      <th>año_version</th>\n",
       "      <th>progresion_anual</th>\n",
       "      <th>overall_team/year</th>\n",
       "      <th>teams_in_league/year</th>\n",
       "      <th>mean_league/year</th>\n",
       "      <th>mean_team/year</th>\n",
       "      <th>ranking</th>\n",
       "      <th>puntos</th>\n",
       "    </tr>\n",
       "  </thead>\n",
       "  <tbody>\n",
       "    <tr>\n",
       "      <th>0</th>\n",
       "      <td>158023</td>\n",
       "      <td>L. Messi</td>\n",
       "      <td>Lionel Andrés Messi Cuccittini</td>\n",
       "      <td>delantero</td>\n",
       "      <td>93</td>\n",
       "      <td>95</td>\n",
       "      <td>100500000.0</td>\n",
       "      <td>550000.0</td>\n",
       "      <td>27</td>\n",
       "      <td>1987-06-24</td>\n",
       "      <td>...</td>\n",
       "      <td>54</td>\n",
       "      <td>15</td>\n",
       "      <td>2015</td>\n",
       "      <td>0.010753</td>\n",
       "      <td>1917.0</td>\n",
       "      <td>20.0</td>\n",
       "      <td>71.357143</td>\n",
       "      <td>79.875000</td>\n",
       "      <td>13</td>\n",
       "      <td>1833</td>\n",
       "    </tr>\n",
       "    <tr>\n",
       "      <th>1</th>\n",
       "      <td>20801</td>\n",
       "      <td>Cristiano Ronaldo</td>\n",
       "      <td>Cristiano Ronaldo dos Santos Aveiro</td>\n",
       "      <td>centrocampista</td>\n",
       "      <td>92</td>\n",
       "      <td>92</td>\n",
       "      <td>79000000.0</td>\n",
       "      <td>375000.0</td>\n",
       "      <td>29</td>\n",
       "      <td>1985-02-05</td>\n",
       "      <td>...</td>\n",
       "      <td>57</td>\n",
       "      <td>16</td>\n",
       "      <td>2015</td>\n",
       "      <td>0.010870</td>\n",
       "      <td>2418.0</td>\n",
       "      <td>20.0</td>\n",
       "      <td>71.357143</td>\n",
       "      <td>75.562500</td>\n",
       "      <td>4</td>\n",
       "      <td>1980</td>\n",
       "    </tr>\n",
       "    <tr>\n",
       "      <th>2</th>\n",
       "      <td>9014</td>\n",
       "      <td>A. Robben</td>\n",
       "      <td>Arjen Robben</td>\n",
       "      <td>centrocampista</td>\n",
       "      <td>90</td>\n",
       "      <td>90</td>\n",
       "      <td>54500000.0</td>\n",
       "      <td>275000.0</td>\n",
       "      <td>30</td>\n",
       "      <td>1984-01-23</td>\n",
       "      <td>...</td>\n",
       "      <td>55</td>\n",
       "      <td>14</td>\n",
       "      <td>2015</td>\n",
       "      <td>0.000000</td>\n",
       "      <td>2061.0</td>\n",
       "      <td>18.0</td>\n",
       "      <td>71.280514</td>\n",
       "      <td>79.269231</td>\n",
       "      <td>1</td>\n",
       "      <td>2089</td>\n",
       "    </tr>\n",
       "    <tr>\n",
       "      <th>3</th>\n",
       "      <td>41236</td>\n",
       "      <td>Z. Ibrahimović</td>\n",
       "      <td>Zlatan Ibrahimović</td>\n",
       "      <td>delantero</td>\n",
       "      <td>90</td>\n",
       "      <td>90</td>\n",
       "      <td>52500000.0</td>\n",
       "      <td>275000.0</td>\n",
       "      <td>32</td>\n",
       "      <td>1981-10-03</td>\n",
       "      <td>...</td>\n",
       "      <td>56</td>\n",
       "      <td>17</td>\n",
       "      <td>2015</td>\n",
       "      <td>-0.011111</td>\n",
       "      <td>1730.0</td>\n",
       "      <td>20.0</td>\n",
       "      <td>69.209644</td>\n",
       "      <td>78.636364</td>\n",
       "      <td>8</td>\n",
       "      <td>1907</td>\n",
       "    </tr>\n",
       "    <tr>\n",
       "      <th>4</th>\n",
       "      <td>167495</td>\n",
       "      <td>M. Neuer</td>\n",
       "      <td>Manuel Peter Neuer</td>\n",
       "      <td>portero</td>\n",
       "      <td>90</td>\n",
       "      <td>90</td>\n",
       "      <td>63500000.0</td>\n",
       "      <td>300000.0</td>\n",
       "      <td>28</td>\n",
       "      <td>1986-03-27</td>\n",
       "      <td>...</td>\n",
       "      <td>36</td>\n",
       "      <td>87</td>\n",
       "      <td>2015</td>\n",
       "      <td>0.000000</td>\n",
       "      <td>2061.0</td>\n",
       "      <td>18.0</td>\n",
       "      <td>71.280514</td>\n",
       "      <td>79.269231</td>\n",
       "      <td>1</td>\n",
       "      <td>2089</td>\n",
       "    </tr>\n",
       "  </tbody>\n",
       "</table>\n",
       "<p>5 rows × 108 columns</p>\n",
       "</div>"
      ],
      "text/plain": [
       "   sofifa_id         short_name                            long_name  \\\n",
       "0     158023           L. Messi       Lionel Andrés Messi Cuccittini   \n",
       "1      20801  Cristiano Ronaldo  Cristiano Ronaldo dos Santos Aveiro   \n",
       "2       9014          A. Robben                         Arjen Robben   \n",
       "3      41236     Z. Ibrahimović                   Zlatan Ibrahimović   \n",
       "4     167495           M. Neuer                   Manuel Peter Neuer   \n",
       "\n",
       "  player_positions  overall  potential    value_eur  wage_eur  age  \\\n",
       "0        delantero       93         95  100500000.0  550000.0   27   \n",
       "1   centrocampista       92         92   79000000.0  375000.0   29   \n",
       "2   centrocampista       90         90   54500000.0  275000.0   30   \n",
       "3        delantero       90         90   52500000.0  275000.0   32   \n",
       "4          portero       90         90   63500000.0  300000.0   28   \n",
       "\n",
       "          dob  ...  rb  gk  año_version progresion_anual overall_team/year  \\\n",
       "0  1987-06-24  ...  54  15         2015         0.010753            1917.0   \n",
       "1  1985-02-05  ...  57  16         2015         0.010870            2418.0   \n",
       "2  1984-01-23  ...  55  14         2015         0.000000            2061.0   \n",
       "3  1981-10-03  ...  56  17         2015        -0.011111            1730.0   \n",
       "4  1986-03-27  ...  36  87         2015         0.000000            2061.0   \n",
       "\n",
       "   teams_in_league/year  mean_league/year  mean_team/year ranking  puntos  \n",
       "0                  20.0         71.357143       79.875000      13    1833  \n",
       "1                  20.0         71.357143       75.562500       4    1980  \n",
       "2                  18.0         71.280514       79.269231       1    2089  \n",
       "3                  20.0         69.209644       78.636364       8    1907  \n",
       "4                  18.0         71.280514       79.269231       1    2089  \n",
       "\n",
       "[5 rows x 108 columns]"
      ]
     },
     "execution_count": 12,
     "metadata": {},
     "output_type": "execute_result"
    }
   ],
   "source": [
    "df.head()"
   ]
  },
  {
   "cell_type": "code",
   "execution_count": 84,
   "id": "745cbaf2",
   "metadata": {
    "ExecuteTime": {
     "end_time": "2022-02-20T15:58:11.182403Z",
     "start_time": "2022-02-20T15:57:03.581218Z"
    },
    "scrolled": true
   },
   "outputs": [
    {
     "data": {
      "text/plain": [
       "<Figure size 1440x1440 with 0 Axes>"
      ]
     },
     "execution_count": 84,
     "metadata": {},
     "output_type": "execute_result"
    },
    {
     "data": {
      "image/png": "[encoded data removed]",
      "text/plain": [
       "<Figure size 432x288 with 2 Axes>"
      ]
     },
     "metadata": {
      "needs_background": "light"
     },
     "output_type": "display_data"
    },
    {
     "data": {
      "text/plain": [
       "<Figure size 1440x1440 with 0 Axes>"
      ]
     },
     "metadata": {},
     "output_type": "display_data"
    }
   ],
   "source": [
    "sns.heatmap(df.corr(),annot=True, cmap='viridis')\n",
    "plt.figure(figsize=(20,20))"
   ]
  },
  {
   "cell_type": "code",
   "execution_count": 33,
   "id": "cc97dcfb",
   "metadata": {
    "ExecuteTime": {
     "end_time": "2022-02-19T23:03:55.435439Z",
     "start_time": "2022-02-19T23:03:54.076441Z"
    }
   },
   "outputs": [
    {
     "data": {
      "text/html": [
       "<div>\n",
       "<style scoped>\n",
       "    .dataframe tbody tr th:only-of-type {\n",
       "        vertical-align: middle;\n",
       "    }\n",
       "\n",
       "    .dataframe tbody tr th {\n",
       "        vertical-align: top;\n",
       "    }\n",
       "\n",
       "    .dataframe thead th {\n",
       "        text-align: right;\n",
       "    }\n",
       "</style>\n",
       "<table border=\"1\" class=\"dataframe\">\n",
       "  <thead>\n",
       "    <tr style=\"text-align: right;\">\n",
       "      <th></th>\n",
       "      <th>sofifa_id</th>\n",
       "      <th>overall</th>\n",
       "      <th>potential</th>\n",
       "      <th>value_eur</th>\n",
       "      <th>wage_eur</th>\n",
       "      <th>age</th>\n",
       "      <th>height_cm</th>\n",
       "      <th>weight_kg</th>\n",
       "      <th>club_team_id</th>\n",
       "      <th>league_level</th>\n",
       "      <th>...</th>\n",
       "      <th>rcb</th>\n",
       "      <th>rb</th>\n",
       "      <th>año_version</th>\n",
       "      <th>progresion_anual</th>\n",
       "      <th>overall_team/year</th>\n",
       "      <th>teams_in_league/year</th>\n",
       "      <th>mean_league/year</th>\n",
       "      <th>mean_team/year</th>\n",
       "      <th>ranking</th>\n",
       "      <th>puntos</th>\n",
       "    </tr>\n",
       "  </thead>\n",
       "  <tbody>\n",
       "    <tr>\n",
       "      <th>sofifa_id</th>\n",
       "      <td>1.000000</td>\n",
       "      <td>-0.355824</td>\n",
       "      <td>0.044891</td>\n",
       "      <td>-0.096004</td>\n",
       "      <td>-0.262887</td>\n",
       "      <td>-0.652652</td>\n",
       "      <td>-0.081476</td>\n",
       "      <td>-0.173725</td>\n",
       "      <td>0.122574</td>\n",
       "      <td>-0.032449</td>\n",
       "      <td>...</td>\n",
       "      <td>-0.124656</td>\n",
       "      <td>-0.090902</td>\n",
       "      <td>0.363772</td>\n",
       "      <td>0.221681</td>\n",
       "      <td>-0.085564</td>\n",
       "      <td>-0.056468</td>\n",
       "      <td>-0.020004</td>\n",
       "      <td>-0.050149</td>\n",
       "      <td>0.028429</td>\n",
       "      <td>-0.041554</td>\n",
       "    </tr>\n",
       "    <tr>\n",
       "      <th>overall</th>\n",
       "      <td>-0.355824</td>\n",
       "      <td>1.000000</td>\n",
       "      <td>0.711449</td>\n",
       "      <td>0.608275</td>\n",
       "      <td>0.633775</td>\n",
       "      <td>0.442137</td>\n",
       "      <td>0.037362</td>\n",
       "      <td>0.129847</td>\n",
       "      <td>-0.175555</td>\n",
       "      <td>-0.269444</td>\n",
       "      <td>...</td>\n",
       "      <td>0.360587</td>\n",
       "      <td>0.397057</td>\n",
       "      <td>0.066016</td>\n",
       "      <td>-0.425666</td>\n",
       "      <td>0.461236</td>\n",
       "      <td>0.052178</td>\n",
       "      <td>0.296270</td>\n",
       "      <td>0.383343</td>\n",
       "      <td>-0.192628</td>\n",
       "      <td>0.332628</td>\n",
       "    </tr>\n",
       "    <tr>\n",
       "      <th>potential</th>\n",
       "      <td>0.044891</td>\n",
       "      <td>0.711449</td>\n",
       "      <td>1.000000</td>\n",
       "      <td>0.565423</td>\n",
       "      <td>0.527409</td>\n",
       "      <td>-0.203214</td>\n",
       "      <td>-0.003071</td>\n",
       "      <td>-0.012861</td>\n",
       "      <td>-0.246691</td>\n",
       "      <td>-0.231851</td>\n",
       "      <td>...</td>\n",
       "      <td>0.217295</td>\n",
       "      <td>0.276193</td>\n",
       "      <td>0.119282</td>\n",
       "      <td>-0.175539</td>\n",
       "      <td>0.541150</td>\n",
       "      <td>0.097473</td>\n",
       "      <td>0.343509</td>\n",
       "      <td>0.426626</td>\n",
       "      <td>-0.239281</td>\n",
       "      <td>0.351044</td>\n",
       "    </tr>\n",
       "    <tr>\n",
       "      <th>value_eur</th>\n",
       "      <td>-0.096004</td>\n",
       "      <td>0.608275</td>\n",
       "      <td>0.565423</td>\n",
       "      <td>1.000000</td>\n",
       "      <td>0.792974</td>\n",
       "      <td>0.084403</td>\n",
       "      <td>0.005168</td>\n",
       "      <td>0.036692</td>\n",
       "      <td>-0.159775</td>\n",
       "      <td>-0.148103</td>\n",
       "      <td>...</td>\n",
       "      <td>0.168990</td>\n",
       "      <td>0.212889</td>\n",
       "      <td>0.108139</td>\n",
       "      <td>-0.154672</td>\n",
       "      <td>0.411351</td>\n",
       "      <td>0.055490</td>\n",
       "      <td>0.250715</td>\n",
       "      <td>0.330142</td>\n",
       "      <td>-0.168707</td>\n",
       "      <td>0.255283</td>\n",
       "    </tr>\n",
       "    <tr>\n",
       "      <th>wage_eur</th>\n",
       "      <td>-0.262887</td>\n",
       "      <td>0.633775</td>\n",
       "      <td>0.527409</td>\n",
       "      <td>0.792974</td>\n",
       "      <td>1.000000</td>\n",
       "      <td>0.180386</td>\n",
       "      <td>0.018592</td>\n",
       "      <td>0.063303</td>\n",
       "      <td>-0.195551</td>\n",
       "      <td>-0.164483</td>\n",
       "      <td>...</td>\n",
       "      <td>0.209825</td>\n",
       "      <td>0.243530</td>\n",
       "      <td>-0.084632</td>\n",
       "      <td>-0.161276</td>\n",
       "      <td>0.469711</td>\n",
       "      <td>0.084177</td>\n",
       "      <td>0.277271</td>\n",
       "      <td>0.368232</td>\n",
       "      <td>-0.191129</td>\n",
       "      <td>0.294573</td>\n",
       "    </tr>\n",
       "    <tr>\n",
       "      <th>...</th>\n",
       "      <td>...</td>\n",
       "      <td>...</td>\n",
       "      <td>...</td>\n",
       "      <td>...</td>\n",
       "      <td>...</td>\n",
       "      <td>...</td>\n",
       "      <td>...</td>\n",
       "      <td>...</td>\n",
       "      <td>...</td>\n",
       "      <td>...</td>\n",
       "      <td>...</td>\n",
       "      <td>...</td>\n",
       "      <td>...</td>\n",
       "      <td>...</td>\n",
       "      <td>...</td>\n",
       "      <td>...</td>\n",
       "      <td>...</td>\n",
       "      <td>...</td>\n",
       "      <td>...</td>\n",
       "      <td>...</td>\n",
       "      <td>...</td>\n",
       "    </tr>\n",
       "    <tr>\n",
       "      <th>teams_in_league/year</th>\n",
       "      <td>-0.056468</td>\n",
       "      <td>0.052178</td>\n",
       "      <td>0.097473</td>\n",
       "      <td>0.055490</td>\n",
       "      <td>0.084177</td>\n",
       "      <td>-0.034753</td>\n",
       "      <td>-0.004282</td>\n",
       "      <td>-0.005534</td>\n",
       "      <td>-0.039134</td>\n",
       "      <td>0.473318</td>\n",
       "      <td>...</td>\n",
       "      <td>0.023704</td>\n",
       "      <td>0.024718</td>\n",
       "      <td>-0.025982</td>\n",
       "      <td>-0.005040</td>\n",
       "      <td>0.298281</td>\n",
       "      <td>1.000000</td>\n",
       "      <td>0.369235</td>\n",
       "      <td>0.352882</td>\n",
       "      <td>-0.202614</td>\n",
       "      <td>-0.112766</td>\n",
       "    </tr>\n",
       "    <tr>\n",
       "      <th>mean_league/year</th>\n",
       "      <td>-0.020004</td>\n",
       "      <td>0.296270</td>\n",
       "      <td>0.343509</td>\n",
       "      <td>0.250715</td>\n",
       "      <td>0.277271</td>\n",
       "      <td>-0.024045</td>\n",
       "      <td>0.019826</td>\n",
       "      <td>0.020837</td>\n",
       "      <td>-0.029823</td>\n",
       "      <td>-0.089442</td>\n",
       "      <td>...</td>\n",
       "      <td>0.098626</td>\n",
       "      <td>0.112569</td>\n",
       "      <td>0.057468</td>\n",
       "      <td>-0.044407</td>\n",
       "      <td>0.607379</td>\n",
       "      <td>0.369235</td>\n",
       "      <td>1.000000</td>\n",
       "      <td>0.955714</td>\n",
       "      <td>-0.284391</td>\n",
       "      <td>0.194657</td>\n",
       "    </tr>\n",
       "    <tr>\n",
       "      <th>mean_team/year</th>\n",
       "      <td>-0.050149</td>\n",
       "      <td>0.383343</td>\n",
       "      <td>0.426626</td>\n",
       "      <td>0.330142</td>\n",
       "      <td>0.368232</td>\n",
       "      <td>-0.005559</td>\n",
       "      <td>0.022294</td>\n",
       "      <td>0.026890</td>\n",
       "      <td>-0.091399</td>\n",
       "      <td>-0.085481</td>\n",
       "      <td>...</td>\n",
       "      <td>0.129249</td>\n",
       "      <td>0.148463</td>\n",
       "      <td>0.054923</td>\n",
       "      <td>-0.083483</td>\n",
       "      <td>0.672927</td>\n",
       "      <td>0.352882</td>\n",
       "      <td>0.955714</td>\n",
       "      <td>1.000000</td>\n",
       "      <td>-0.340500</td>\n",
       "      <td>0.267823</td>\n",
       "    </tr>\n",
       "    <tr>\n",
       "      <th>ranking</th>\n",
       "      <td>0.028429</td>\n",
       "      <td>-0.192628</td>\n",
       "      <td>-0.239281</td>\n",
       "      <td>-0.168707</td>\n",
       "      <td>-0.191129</td>\n",
       "      <td>0.028053</td>\n",
       "      <td>-0.024550</td>\n",
       "      <td>-0.016310</td>\n",
       "      <td>0.132122</td>\n",
       "      <td>-0.195517</td>\n",
       "      <td>...</td>\n",
       "      <td>-0.063962</td>\n",
       "      <td>-0.074847</td>\n",
       "      <td>-0.014617</td>\n",
       "      <td>0.010059</td>\n",
       "      <td>-0.326452</td>\n",
       "      <td>-0.202614</td>\n",
       "      <td>-0.284391</td>\n",
       "      <td>-0.340500</td>\n",
       "      <td>1.000000</td>\n",
       "      <td>0.271785</td>\n",
       "    </tr>\n",
       "    <tr>\n",
       "      <th>puntos</th>\n",
       "      <td>-0.041554</td>\n",
       "      <td>0.332628</td>\n",
       "      <td>0.351044</td>\n",
       "      <td>0.255283</td>\n",
       "      <td>0.294573</td>\n",
       "      <td>0.024730</td>\n",
       "      <td>0.004771</td>\n",
       "      <td>0.020380</td>\n",
       "      <td>-0.132898</td>\n",
       "      <td>-0.464480</td>\n",
       "      <td>...</td>\n",
       "      <td>0.109446</td>\n",
       "      <td>0.123260</td>\n",
       "      <td>-0.002517</td>\n",
       "      <td>-0.051534</td>\n",
       "      <td>0.389258</td>\n",
       "      <td>-0.112766</td>\n",
       "      <td>0.194657</td>\n",
       "      <td>0.267823</td>\n",
       "      <td>0.271785</td>\n",
       "      <td>1.000000</td>\n",
       "    </tr>\n",
       "  </tbody>\n",
       "</table>\n",
       "<p>94 rows × 94 columns</p>\n",
       "</div>"
      ],
      "text/plain": [
       "                      sofifa_id   overall  potential  value_eur  wage_eur  \\\n",
       "sofifa_id              1.000000 -0.355824   0.044891  -0.096004 -0.262887   \n",
       "overall               -0.355824  1.000000   0.711449   0.608275  0.633775   \n",
       "potential              0.044891  0.711449   1.000000   0.565423  0.527409   \n",
       "value_eur             -0.096004  0.608275   0.565423   1.000000  0.792974   \n",
       "wage_eur              -0.262887  0.633775   0.527409   0.792974  1.000000   \n",
       "...                         ...       ...        ...        ...       ...   \n",
       "teams_in_league/year  -0.056468  0.052178   0.097473   0.055490  0.084177   \n",
       "mean_league/year      -0.020004  0.296270   0.343509   0.250715  0.277271   \n",
       "mean_team/year        -0.050149  0.383343   0.426626   0.330142  0.368232   \n",
       "ranking                0.028429 -0.192628  -0.239281  -0.168707 -0.191129   \n",
       "puntos                -0.041554  0.332628   0.351044   0.255283  0.294573   \n",
       "\n",
       "                           age  height_cm  weight_kg  club_team_id  \\\n",
       "sofifa_id            -0.652652  -0.081476  -0.173725      0.122574   \n",
       "overall               0.442137   0.037362   0.129847     -0.175555   \n",
       "potential            -0.203214  -0.003071  -0.012861     -0.246691   \n",
       "value_eur             0.084403   0.005168   0.036692     -0.159775   \n",
       "wage_eur              0.180386   0.018592   0.063303     -0.195551   \n",
       "...                        ...        ...        ...           ...   \n",
       "teams_in_league/year -0.034753  -0.004282  -0.005534     -0.039134   \n",
       "mean_league/year     -0.024045   0.019826   0.020837     -0.029823   \n",
       "mean_team/year       -0.005559   0.022294   0.026890     -0.091399   \n",
       "ranking               0.028053  -0.024550  -0.016310      0.132122   \n",
       "puntos                0.024730   0.004771   0.020380     -0.132898   \n",
       "\n",
       "                      league_level  ...       rcb        rb  año_version  \\\n",
       "sofifa_id                -0.032449  ... -0.124656 -0.090902     0.363772   \n",
       "overall                  -0.269444  ...  0.360587  0.397057     0.066016   \n",
       "potential                -0.231851  ...  0.217295  0.276193     0.119282   \n",
       "value_eur                -0.148103  ...  0.168990  0.212889     0.108139   \n",
       "wage_eur                 -0.164483  ...  0.209825  0.243530    -0.084632   \n",
       "...                            ...  ...       ...       ...          ...   \n",
       "teams_in_league/year      0.473318  ...  0.023704  0.024718    -0.025982   \n",
       "mean_league/year         -0.089442  ...  0.098626  0.112569     0.057468   \n",
       "mean_team/year           -0.085481  ...  0.129249  0.148463     0.054923   \n",
       "ranking                  -0.195517  ... -0.063962 -0.074847    -0.014617   \n",
       "puntos                   -0.464480  ...  0.109446  0.123260    -0.002517   \n",
       "\n",
       "                      progresion_anual  overall_team/year  \\\n",
       "sofifa_id                     0.221681          -0.085564   \n",
       "overall                      -0.425666           0.461236   \n",
       "potential                    -0.175539           0.541150   \n",
       "value_eur                    -0.154672           0.411351   \n",
       "wage_eur                     -0.161276           0.469711   \n",
       "...                                ...                ...   \n",
       "teams_in_league/year         -0.005040           0.298281   \n",
       "mean_league/year             -0.044407           0.607379   \n",
       "mean_team/year               -0.083483           0.672927   \n",
       "ranking                       0.010059          -0.326452   \n",
       "puntos                       -0.051534           0.389258   \n",
       "\n",
       "                      teams_in_league/year  mean_league/year  mean_team/year  \\\n",
       "sofifa_id                        -0.056468         -0.020004       -0.050149   \n",
       "overall                           0.052178          0.296270        0.383343   \n",
       "potential                         0.097473          0.343509        0.426626   \n",
       "value_eur                         0.055490          0.250715        0.330142   \n",
       "wage_eur                          0.084177          0.277271        0.368232   \n",
       "...                                    ...               ...             ...   \n",
       "teams_in_league/year              1.000000          0.369235        0.352882   \n",
       "mean_league/year                  0.369235          1.000000        0.955714   \n",
       "mean_team/year                    0.352882          0.955714        1.000000   \n",
       "ranking                          -0.202614         -0.284391       -0.340500   \n",
       "puntos                           -0.112766          0.194657        0.267823   \n",
       "\n",
       "                       ranking    puntos  \n",
       "sofifa_id             0.028429 -0.041554  \n",
       "overall              -0.192628  0.332628  \n",
       "potential            -0.239281  0.351044  \n",
       "value_eur            -0.168707  0.255283  \n",
       "wage_eur             -0.191129  0.294573  \n",
       "...                        ...       ...  \n",
       "teams_in_league/year -0.202614 -0.112766  \n",
       "mean_league/year     -0.284391  0.194657  \n",
       "mean_team/year       -0.340500  0.267823  \n",
       "ranking               1.000000  0.271785  \n",
       "puntos                0.271785  1.000000  \n",
       "\n",
       "[94 rows x 94 columns]"
      ]
     },
     "execution_count": 33,
     "metadata": {},
     "output_type": "execute_result"
    }
   ],
   "source": [
    "df.corr()"
   ]
  },
  {
   "cell_type": "code",
   "execution_count": 93,
   "id": "85c44e3e",
   "metadata": {
    "ExecuteTime": {
     "end_time": "2022-02-20T16:03:24.631376Z",
     "start_time": "2022-02-20T16:03:24.619378Z"
    }
   },
   "outputs": [
    {
     "data": {
      "text/plain": [
       "0        Finesse Shot, Speed Dribbler (AI), One Club Pl...\n",
       "1        Power Free-Kick, Flair, Long Shot Taker (AI), ...\n",
       "2        Diver, Injury Prone, Avoids Using Weaker Foot,...\n",
       "3        Power Free-Kick, Leadership, Flair, Long Shot ...\n",
       "4            GK Up for Corners, GK Long Throw, 1-on-1 Rush\n",
       "                               ...                        \n",
       "87742                                                    0\n",
       "87743                                                    0\n",
       "87744                                                    0\n",
       "87745                                                    0\n",
       "87746                                                    0\n",
       "Name: player_traits, Length: 87747, dtype: object"
      ]
     },
     "execution_count": 93,
     "metadata": {},
     "output_type": "execute_result"
    }
   ],
   "source": [
    "df.player_traits"
   ]
  },
  {
   "cell_type": "code",
   "execution_count": 4,
   "id": "cc81090d",
   "metadata": {
    "ExecuteTime": {
     "end_time": "2022-02-22T19:39:44.927047Z",
     "start_time": "2022-02-22T19:39:44.893061Z"
    }
   },
   "outputs": [],
   "source": [
    "#columnas que no aportan\n",
    "df2=df.drop(['sofifa_id',\n",
    " 'short_name',\n",
    " 'long_name',\n",
    " 'player_positions',\n",
    "     'dob', 'club_team_id',\n",
    " 'club_name',\n",
    " 'league_name',\n",
    " 'league_level',\n",
    "'club_jersey_number',\n",
    " 'club_joined',\n",
    " 'club_contract_valid_until',\n",
    " 'nationality_id',\n",
    " 'nationality_name',\n",
    " 'nation_team_id','work_rate',\n",
    " 'body_type',\n",
    " 'real_face',\n",
    "    'player_traits'],axis=1)\n",
    "    "
   ]
  },
  {
   "cell_type": "code",
   "execution_count": 5,
   "id": "e67d6d9c",
   "metadata": {
    "ExecuteTime": {
     "end_time": "2022-02-22T19:39:50.273378Z",
     "start_time": "2022-02-22T19:39:50.239382Z"
    },
    "scrolled": true
   },
   "outputs": [
    {
     "data": {
      "text/html": [
       "<div>\n",
       "<style scoped>\n",
       "    .dataframe tbody tr th:only-of-type {\n",
       "        vertical-align: middle;\n",
       "    }\n",
       "\n",
       "    .dataframe tbody tr th {\n",
       "        vertical-align: top;\n",
       "    }\n",
       "\n",
       "    .dataframe thead th {\n",
       "        text-align: right;\n",
       "    }\n",
       "</style>\n",
       "<table border=\"1\" class=\"dataframe\">\n",
       "  <thead>\n",
       "    <tr style=\"text-align: right;\">\n",
       "      <th></th>\n",
       "      <th>preferred_foot</th>\n",
       "      <th>gk</th>\n",
       "    </tr>\n",
       "  </thead>\n",
       "  <tbody>\n",
       "    <tr>\n",
       "      <th>0</th>\n",
       "      <td>Left</td>\n",
       "      <td>15</td>\n",
       "    </tr>\n",
       "    <tr>\n",
       "      <th>1</th>\n",
       "      <td>Right</td>\n",
       "      <td>16</td>\n",
       "    </tr>\n",
       "    <tr>\n",
       "      <th>2</th>\n",
       "      <td>Left</td>\n",
       "      <td>14</td>\n",
       "    </tr>\n",
       "    <tr>\n",
       "      <th>3</th>\n",
       "      <td>Right</td>\n",
       "      <td>17</td>\n",
       "    </tr>\n",
       "    <tr>\n",
       "      <th>4</th>\n",
       "      <td>Right</td>\n",
       "      <td>87</td>\n",
       "    </tr>\n",
       "    <tr>\n",
       "      <th>...</th>\n",
       "      <td>...</td>\n",
       "      <td>...</td>\n",
       "    </tr>\n",
       "    <tr>\n",
       "      <th>87742</th>\n",
       "      <td>Right</td>\n",
       "      <td>14</td>\n",
       "    </tr>\n",
       "    <tr>\n",
       "      <th>87743</th>\n",
       "      <td>Right</td>\n",
       "      <td>16</td>\n",
       "    </tr>\n",
       "    <tr>\n",
       "      <th>87744</th>\n",
       "      <td>Right</td>\n",
       "      <td>15</td>\n",
       "    </tr>\n",
       "    <tr>\n",
       "      <th>87745</th>\n",
       "      <td>Right</td>\n",
       "      <td>11</td>\n",
       "    </tr>\n",
       "    <tr>\n",
       "      <th>87746</th>\n",
       "      <td>Right</td>\n",
       "      <td>14</td>\n",
       "    </tr>\n",
       "  </tbody>\n",
       "</table>\n",
       "<p>87747 rows × 2 columns</p>\n",
       "</div>"
      ],
      "text/plain": [
       "      preferred_foot  gk\n",
       "0               Left  15\n",
       "1              Right  16\n",
       "2               Left  14\n",
       "3              Right  17\n",
       "4              Right  87\n",
       "...              ...  ..\n",
       "87742          Right  14\n",
       "87743          Right  16\n",
       "87744          Right  15\n",
       "87745          Right  11\n",
       "87746          Right  14\n",
       "\n",
       "[87747 rows x 2 columns]"
      ]
     },
     "execution_count": 5,
     "metadata": {},
     "output_type": "execute_result"
    }
   ],
   "source": [
    "df2.select_dtypes(\"object\")"
   ]
  },
  {
   "cell_type": "code",
   "execution_count": null,
   "id": "4a8efa4f",
   "metadata": {},
   "outputs": [],
   "source": [
    "for i in "
   ]
  },
  {
   "cell_type": "code",
   "execution_count": 132,
   "id": "14f509d0",
   "metadata": {
    "ExecuteTime": {
     "end_time": "2022-02-20T16:40:21.447731Z",
     "start_time": "2022-02-20T16:40:21.398517Z"
    }
   },
   "outputs": [],
   "source": [
    "#get_dummies de preferred_foot\n",
    "df2[[\"left\",\"right\"]]=pd.get_dummies(df2.preferred_foot)\n",
    "df2.drop(\"preferred_foot\",axis=1,inplace=True)"
   ]
  },
  {
   "cell_type": "code",
   "execution_count": 102,
   "id": "d435a27a",
   "metadata": {
    "ExecuteTime": {
     "end_time": "2022-02-20T16:06:33.532803Z",
     "start_time": "2022-02-20T16:06:32.887732Z"
    },
    "scrolled": true
   },
   "outputs": [
    {
     "name": "stderr",
     "output_type": "stream",
     "text": [
      "C:\\Users\\irazu\\anaconda3\\lib\\site-packages\\seaborn\\distributions.py:2557: FutureWarning: `distplot` is a deprecated function and will be removed in a future version. Please adapt your code to use either `displot` (a figure-level function with similar flexibility) or `histplot` (an axes-level function for histograms).\n",
      "  warnings.warn(msg, FutureWarning)\n"
     ]
    },
    {
     "data": {
      "text/plain": [
       "<AxesSubplot:xlabel='progresion_anual', ylabel='Density'>"
      ]
     },
     "execution_count": 102,
     "metadata": {},
     "output_type": "execute_result"
    },
    {
     "data": {
      "image/png": "[encoded data removed]",
      "text/plain": [
       "<Figure size 432x288 with 1 Axes>"
      ]
     },
     "metadata": {
      "needs_background": "light"
     },
     "output_type": "display_data"
    }
   ],
   "source": [
    "#analisis de la progresion anual\n",
    "sns.distplot(df.progresion_anual)"
   ]
  },
  {
   "cell_type": "code",
   "execution_count": 104,
   "id": "1bacfef0",
   "metadata": {
    "ExecuteTime": {
     "end_time": "2022-02-20T16:07:27.633457Z",
     "start_time": "2022-02-20T16:07:26.369480Z"
    },
    "scrolled": true
   },
   "outputs": [
    {
     "data": {
      "text/html": [
       "<div>\n",
       "<style scoped>\n",
       "    .dataframe tbody tr th:only-of-type {\n",
       "        vertical-align: middle;\n",
       "    }\n",
       "\n",
       "    .dataframe tbody tr th {\n",
       "        vertical-align: top;\n",
       "    }\n",
       "\n",
       "    .dataframe thead th {\n",
       "        text-align: right;\n",
       "    }\n",
       "</style>\n",
       "<table border=\"1\" class=\"dataframe\">\n",
       "  <thead>\n",
       "    <tr style=\"text-align: right;\">\n",
       "      <th></th>\n",
       "      <th>overall</th>\n",
       "      <th>potential</th>\n",
       "      <th>value_eur</th>\n",
       "      <th>wage_eur</th>\n",
       "      <th>age</th>\n",
       "      <th>height_cm</th>\n",
       "      <th>weight_kg</th>\n",
       "      <th>club_position</th>\n",
       "      <th>nation_position</th>\n",
       "      <th>weak_foot</th>\n",
       "      <th>...</th>\n",
       "      <th>rcb</th>\n",
       "      <th>rb</th>\n",
       "      <th>año_version</th>\n",
       "      <th>progresion_anual</th>\n",
       "      <th>overall_team/year</th>\n",
       "      <th>teams_in_league/year</th>\n",
       "      <th>mean_league/year</th>\n",
       "      <th>mean_team/year</th>\n",
       "      <th>ranking</th>\n",
       "      <th>puntos</th>\n",
       "    </tr>\n",
       "  </thead>\n",
       "  <tbody>\n",
       "    <tr>\n",
       "      <th>overall</th>\n",
       "      <td>1.000000</td>\n",
       "      <td>0.711449</td>\n",
       "      <td>0.608275</td>\n",
       "      <td>0.633775</td>\n",
       "      <td>0.442137</td>\n",
       "      <td>0.037362</td>\n",
       "      <td>0.129847</td>\n",
       "      <td>0.321906</td>\n",
       "      <td>0.320873</td>\n",
       "      <td>0.208616</td>\n",
       "      <td>...</td>\n",
       "      <td>0.360587</td>\n",
       "      <td>0.397057</td>\n",
       "      <td>0.066016</td>\n",
       "      <td>0.425666</td>\n",
       "      <td>0.461236</td>\n",
       "      <td>0.052178</td>\n",
       "      <td>0.296270</td>\n",
       "      <td>0.383343</td>\n",
       "      <td>0.192628</td>\n",
       "      <td>0.332628</td>\n",
       "    </tr>\n",
       "    <tr>\n",
       "      <th>potential</th>\n",
       "      <td>0.711449</td>\n",
       "      <td>1.000000</td>\n",
       "      <td>0.565423</td>\n",
       "      <td>0.527409</td>\n",
       "      <td>0.203214</td>\n",
       "      <td>0.003071</td>\n",
       "      <td>0.012861</td>\n",
       "      <td>0.107758</td>\n",
       "      <td>0.258570</td>\n",
       "      <td>0.170725</td>\n",
       "      <td>...</td>\n",
       "      <td>0.217295</td>\n",
       "      <td>0.276193</td>\n",
       "      <td>0.119282</td>\n",
       "      <td>0.175539</td>\n",
       "      <td>0.541150</td>\n",
       "      <td>0.097473</td>\n",
       "      <td>0.343509</td>\n",
       "      <td>0.426626</td>\n",
       "      <td>0.239281</td>\n",
       "      <td>0.351044</td>\n",
       "    </tr>\n",
       "    <tr>\n",
       "      <th>value_eur</th>\n",
       "      <td>0.608275</td>\n",
       "      <td>0.565423</td>\n",
       "      <td>1.000000</td>\n",
       "      <td>0.792974</td>\n",
       "      <td>0.084403</td>\n",
       "      <td>0.005168</td>\n",
       "      <td>0.036692</td>\n",
       "      <td>0.152331</td>\n",
       "      <td>0.340740</td>\n",
       "      <td>0.153498</td>\n",
       "      <td>...</td>\n",
       "      <td>0.168990</td>\n",
       "      <td>0.212889</td>\n",
       "      <td>0.108139</td>\n",
       "      <td>0.154672</td>\n",
       "      <td>0.411351</td>\n",
       "      <td>0.055490</td>\n",
       "      <td>0.250715</td>\n",
       "      <td>0.330142</td>\n",
       "      <td>0.168707</td>\n",
       "      <td>0.255283</td>\n",
       "    </tr>\n",
       "    <tr>\n",
       "      <th>wage_eur</th>\n",
       "      <td>0.633775</td>\n",
       "      <td>0.527409</td>\n",
       "      <td>0.792974</td>\n",
       "      <td>1.000000</td>\n",
       "      <td>0.180386</td>\n",
       "      <td>0.018592</td>\n",
       "      <td>0.063303</td>\n",
       "      <td>0.116984</td>\n",
       "      <td>0.348940</td>\n",
       "      <td>0.149445</td>\n",
       "      <td>...</td>\n",
       "      <td>0.209825</td>\n",
       "      <td>0.243530</td>\n",
       "      <td>0.084632</td>\n",
       "      <td>0.161276</td>\n",
       "      <td>0.469711</td>\n",
       "      <td>0.084177</td>\n",
       "      <td>0.277271</td>\n",
       "      <td>0.368232</td>\n",
       "      <td>0.191129</td>\n",
       "      <td>0.294573</td>\n",
       "    </tr>\n",
       "    <tr>\n",
       "      <th>age</th>\n",
       "      <td>0.442137</td>\n",
       "      <td>0.203214</td>\n",
       "      <td>0.084403</td>\n",
       "      <td>0.180386</td>\n",
       "      <td>1.000000</td>\n",
       "      <td>0.081501</td>\n",
       "      <td>0.219459</td>\n",
       "      <td>0.284826</td>\n",
       "      <td>0.100774</td>\n",
       "      <td>0.056731</td>\n",
       "      <td>...</td>\n",
       "      <td>0.173773</td>\n",
       "      <td>0.124949</td>\n",
       "      <td>0.032968</td>\n",
       "      <td>0.362188</td>\n",
       "      <td>0.022670</td>\n",
       "      <td>0.034753</td>\n",
       "      <td>0.024045</td>\n",
       "      <td>0.005559</td>\n",
       "      <td>0.028053</td>\n",
       "      <td>0.024730</td>\n",
       "    </tr>\n",
       "    <tr>\n",
       "      <th>...</th>\n",
       "      <td>...</td>\n",
       "      <td>...</td>\n",
       "      <td>...</td>\n",
       "      <td>...</td>\n",
       "      <td>...</td>\n",
       "      <td>...</td>\n",
       "      <td>...</td>\n",
       "      <td>...</td>\n",
       "      <td>...</td>\n",
       "      <td>...</td>\n",
       "      <td>...</td>\n",
       "      <td>...</td>\n",
       "      <td>...</td>\n",
       "      <td>...</td>\n",
       "      <td>...</td>\n",
       "      <td>...</td>\n",
       "      <td>...</td>\n",
       "      <td>...</td>\n",
       "      <td>...</td>\n",
       "      <td>...</td>\n",
       "      <td>...</td>\n",
       "    </tr>\n",
       "    <tr>\n",
       "      <th>teams_in_league/year</th>\n",
       "      <td>0.052178</td>\n",
       "      <td>0.097473</td>\n",
       "      <td>0.055490</td>\n",
       "      <td>0.084177</td>\n",
       "      <td>0.034753</td>\n",
       "      <td>0.004282</td>\n",
       "      <td>0.005534</td>\n",
       "      <td>0.064771</td>\n",
       "      <td>0.133592</td>\n",
       "      <td>0.037844</td>\n",
       "      <td>...</td>\n",
       "      <td>0.023704</td>\n",
       "      <td>0.024718</td>\n",
       "      <td>0.025982</td>\n",
       "      <td>0.005040</td>\n",
       "      <td>0.298281</td>\n",
       "      <td>1.000000</td>\n",
       "      <td>0.369235</td>\n",
       "      <td>0.352882</td>\n",
       "      <td>0.202614</td>\n",
       "      <td>0.112766</td>\n",
       "    </tr>\n",
       "    <tr>\n",
       "      <th>mean_league/year</th>\n",
       "      <td>0.296270</td>\n",
       "      <td>0.343509</td>\n",
       "      <td>0.250715</td>\n",
       "      <td>0.277271</td>\n",
       "      <td>0.024045</td>\n",
       "      <td>0.019826</td>\n",
       "      <td>0.020837</td>\n",
       "      <td>0.121152</td>\n",
       "      <td>0.192942</td>\n",
       "      <td>0.038886</td>\n",
       "      <td>...</td>\n",
       "      <td>0.098626</td>\n",
       "      <td>0.112569</td>\n",
       "      <td>0.057468</td>\n",
       "      <td>0.044407</td>\n",
       "      <td>0.607379</td>\n",
       "      <td>0.369235</td>\n",
       "      <td>1.000000</td>\n",
       "      <td>0.955714</td>\n",
       "      <td>0.284391</td>\n",
       "      <td>0.194657</td>\n",
       "    </tr>\n",
       "    <tr>\n",
       "      <th>mean_team/year</th>\n",
       "      <td>0.383343</td>\n",
       "      <td>0.426626</td>\n",
       "      <td>0.330142</td>\n",
       "      <td>0.368232</td>\n",
       "      <td>0.005559</td>\n",
       "      <td>0.022294</td>\n",
       "      <td>0.026890</td>\n",
       "      <td>0.118751</td>\n",
       "      <td>0.131265</td>\n",
       "      <td>0.063251</td>\n",
       "      <td>...</td>\n",
       "      <td>0.129249</td>\n",
       "      <td>0.148463</td>\n",
       "      <td>0.054923</td>\n",
       "      <td>0.083483</td>\n",
       "      <td>0.672927</td>\n",
       "      <td>0.352882</td>\n",
       "      <td>0.955714</td>\n",
       "      <td>1.000000</td>\n",
       "      <td>0.340500</td>\n",
       "      <td>0.267823</td>\n",
       "    </tr>\n",
       "    <tr>\n",
       "      <th>ranking</th>\n",
       "      <td>0.192628</td>\n",
       "      <td>0.239281</td>\n",
       "      <td>0.168707</td>\n",
       "      <td>0.191129</td>\n",
       "      <td>0.028053</td>\n",
       "      <td>0.024550</td>\n",
       "      <td>0.016310</td>\n",
       "      <td>0.045106</td>\n",
       "      <td>0.004572</td>\n",
       "      <td>0.043258</td>\n",
       "      <td>...</td>\n",
       "      <td>0.063962</td>\n",
       "      <td>0.074847</td>\n",
       "      <td>0.014617</td>\n",
       "      <td>0.010059</td>\n",
       "      <td>0.326452</td>\n",
       "      <td>0.202614</td>\n",
       "      <td>0.284391</td>\n",
       "      <td>0.340500</td>\n",
       "      <td>1.000000</td>\n",
       "      <td>0.271785</td>\n",
       "    </tr>\n",
       "    <tr>\n",
       "      <th>puntos</th>\n",
       "      <td>0.332628</td>\n",
       "      <td>0.351044</td>\n",
       "      <td>0.255283</td>\n",
       "      <td>0.294573</td>\n",
       "      <td>0.024730</td>\n",
       "      <td>0.004771</td>\n",
       "      <td>0.020380</td>\n",
       "      <td>0.034585</td>\n",
       "      <td>0.154126</td>\n",
       "      <td>0.062834</td>\n",
       "      <td>...</td>\n",
       "      <td>0.109446</td>\n",
       "      <td>0.123260</td>\n",
       "      <td>0.002517</td>\n",
       "      <td>0.051534</td>\n",
       "      <td>0.389258</td>\n",
       "      <td>0.112766</td>\n",
       "      <td>0.194657</td>\n",
       "      <td>0.267823</td>\n",
       "      <td>0.271785</td>\n",
       "      <td>1.000000</td>\n",
       "    </tr>\n",
       "  </tbody>\n",
       "</table>\n",
       "<p>87 rows × 87 columns</p>\n",
       "</div>"
      ],
      "text/plain": [
       "                       overall  potential  value_eur  wage_eur       age  \\\n",
       "overall               1.000000   0.711449   0.608275  0.633775  0.442137   \n",
       "potential             0.711449   1.000000   0.565423  0.527409  0.203214   \n",
       "value_eur             0.608275   0.565423   1.000000  0.792974  0.084403   \n",
       "wage_eur              0.633775   0.527409   0.792974  1.000000  0.180386   \n",
       "age                   0.442137   0.203214   0.084403  0.180386  1.000000   \n",
       "...                        ...        ...        ...       ...       ...   \n",
       "teams_in_league/year  0.052178   0.097473   0.055490  0.084177  0.034753   \n",
       "mean_league/year      0.296270   0.343509   0.250715  0.277271  0.024045   \n",
       "mean_team/year        0.383343   0.426626   0.330142  0.368232  0.005559   \n",
       "ranking               0.192628   0.239281   0.168707  0.191129  0.028053   \n",
       "puntos                0.332628   0.351044   0.255283  0.294573  0.024730   \n",
       "\n",
       "                      height_cm  weight_kg  club_position  nation_position  \\\n",
       "overall                0.037362   0.129847       0.321906         0.320873   \n",
       "potential              0.003071   0.012861       0.107758         0.258570   \n",
       "value_eur              0.005168   0.036692       0.152331         0.340740   \n",
       "wage_eur               0.018592   0.063303       0.116984         0.348940   \n",
       "age                    0.081501   0.219459       0.284826         0.100774   \n",
       "...                         ...        ...            ...              ...   \n",
       "teams_in_league/year   0.004282   0.005534       0.064771         0.133592   \n",
       "mean_league/year       0.019826   0.020837       0.121152         0.192942   \n",
       "mean_team/year         0.022294   0.026890       0.118751         0.131265   \n",
       "ranking                0.024550   0.016310       0.045106         0.004572   \n",
       "puntos                 0.004771   0.020380       0.034585         0.154126   \n",
       "\n",
       "                      weak_foot  ...       rcb        rb  año_version  \\\n",
       "overall                0.208616  ...  0.360587  0.397057     0.066016   \n",
       "potential              0.170725  ...  0.217295  0.276193     0.119282   \n",
       "value_eur              0.153498  ...  0.168990  0.212889     0.108139   \n",
       "wage_eur               0.149445  ...  0.209825  0.243530     0.084632   \n",
       "age                    0.056731  ...  0.173773  0.124949     0.032968   \n",
       "...                         ...  ...       ...       ...          ...   \n",
       "teams_in_league/year   0.037844  ...  0.023704  0.024718     0.025982   \n",
       "mean_league/year       0.038886  ...  0.098626  0.112569     0.057468   \n",
       "mean_team/year         0.063251  ...  0.129249  0.148463     0.054923   \n",
       "ranking                0.043258  ...  0.063962  0.074847     0.014617   \n",
       "puntos                 0.062834  ...  0.109446  0.123260     0.002517   \n",
       "\n",
       "                      progresion_anual  overall_team/year  \\\n",
       "overall                       0.425666           0.461236   \n",
       "potential                     0.175539           0.541150   \n",
       "value_eur                     0.154672           0.411351   \n",
       "wage_eur                      0.161276           0.469711   \n",
       "age                           0.362188           0.022670   \n",
       "...                                ...                ...   \n",
       "teams_in_league/year          0.005040           0.298281   \n",
       "mean_league/year              0.044407           0.607379   \n",
       "mean_team/year                0.083483           0.672927   \n",
       "ranking                       0.010059           0.326452   \n",
       "puntos                        0.051534           0.389258   \n",
       "\n",
       "                      teams_in_league/year  mean_league/year  mean_team/year  \\\n",
       "overall                           0.052178          0.296270        0.383343   \n",
       "potential                         0.097473          0.343509        0.426626   \n",
       "value_eur                         0.055490          0.250715        0.330142   \n",
       "wage_eur                          0.084177          0.277271        0.368232   \n",
       "age                               0.034753          0.024045        0.005559   \n",
       "...                                    ...               ...             ...   \n",
       "teams_in_league/year              1.000000          0.369235        0.352882   \n",
       "mean_league/year                  0.369235          1.000000        0.955714   \n",
       "mean_team/year                    0.352882          0.955714        1.000000   \n",
       "ranking                           0.202614          0.284391        0.340500   \n",
       "puntos                            0.112766          0.194657        0.267823   \n",
       "\n",
       "                       ranking    puntos  \n",
       "overall               0.192628  0.332628  \n",
       "potential             0.239281  0.351044  \n",
       "value_eur             0.168707  0.255283  \n",
       "wage_eur              0.191129  0.294573  \n",
       "age                   0.028053  0.024730  \n",
       "...                        ...       ...  \n",
       "teams_in_league/year  0.202614  0.112766  \n",
       "mean_league/year      0.284391  0.194657  \n",
       "mean_team/year        0.340500  0.267823  \n",
       "ranking               1.000000  0.271785  \n",
       "puntos                0.271785  1.000000  \n",
       "\n",
       "[87 rows x 87 columns]"
      ]
     },
     "execution_count": 104,
     "metadata": {},
     "output_type": "execute_result"
    }
   ],
   "source": [
    "#correlacion con valores absolutos\n",
    "df2.corr().abs()"
   ]
  },
  {
   "cell_type": "code",
   "execution_count": 153,
   "id": "f9ece0fe",
   "metadata": {
    "ExecuteTime": {
     "end_time": "2022-02-20T16:48:04.667373Z",
     "start_time": "2022-02-20T16:48:02.183373Z"
    }
   },
   "outputs": [
    {
     "data": {
      "text/html": [
       "<div>\n",
       "<style scoped>\n",
       "    .dataframe tbody tr th:only-of-type {\n",
       "        vertical-align: middle;\n",
       "    }\n",
       "\n",
       "    .dataframe tbody tr th {\n",
       "        vertical-align: top;\n",
       "    }\n",
       "\n",
       "    .dataframe thead th {\n",
       "        text-align: right;\n",
       "    }\n",
       "</style>\n",
       "<table border=\"1\" class=\"dataframe\">\n",
       "  <thead>\n",
       "    <tr style=\"text-align: right;\">\n",
       "      <th></th>\n",
       "      <th>overall</th>\n",
       "      <th>potential</th>\n",
       "      <th>value_eur</th>\n",
       "      <th>wage_eur</th>\n",
       "      <th>age</th>\n",
       "      <th>height_cm</th>\n",
       "      <th>weight_kg</th>\n",
       "      <th>club_position</th>\n",
       "      <th>nation_position</th>\n",
       "      <th>weak_foot</th>\n",
       "      <th>...</th>\n",
       "      <th>año_version</th>\n",
       "      <th>progresion_anual</th>\n",
       "      <th>overall_team/year</th>\n",
       "      <th>teams_in_league/year</th>\n",
       "      <th>mean_league/year</th>\n",
       "      <th>mean_team/year</th>\n",
       "      <th>ranking</th>\n",
       "      <th>puntos</th>\n",
       "      <th>left</th>\n",
       "      <th>right</th>\n",
       "    </tr>\n",
       "  </thead>\n",
       "  <tbody>\n",
       "    <tr>\n",
       "      <th>overall</th>\n",
       "      <td>NaN</td>\n",
       "      <td>0.711449</td>\n",
       "      <td>0.608275</td>\n",
       "      <td>0.633775</td>\n",
       "      <td>0.442137</td>\n",
       "      <td>0.037362</td>\n",
       "      <td>0.129847</td>\n",
       "      <td>0.321906</td>\n",
       "      <td>0.320873</td>\n",
       "      <td>0.208616</td>\n",
       "      <td>...</td>\n",
       "      <td>0.066016</td>\n",
       "      <td>0.425666</td>\n",
       "      <td>0.461236</td>\n",
       "      <td>0.052178</td>\n",
       "      <td>0.296270</td>\n",
       "      <td>0.383343</td>\n",
       "      <td>0.192628</td>\n",
       "      <td>0.332628</td>\n",
       "      <td>0.030572</td>\n",
       "      <td>0.030572</td>\n",
       "    </tr>\n",
       "    <tr>\n",
       "      <th>potential</th>\n",
       "      <td>NaN</td>\n",
       "      <td>NaN</td>\n",
       "      <td>0.565423</td>\n",
       "      <td>0.527409</td>\n",
       "      <td>0.203214</td>\n",
       "      <td>0.003071</td>\n",
       "      <td>0.012861</td>\n",
       "      <td>0.107758</td>\n",
       "      <td>0.258570</td>\n",
       "      <td>0.170725</td>\n",
       "      <td>...</td>\n",
       "      <td>0.119282</td>\n",
       "      <td>0.175539</td>\n",
       "      <td>0.541150</td>\n",
       "      <td>0.097473</td>\n",
       "      <td>0.343509</td>\n",
       "      <td>0.426626</td>\n",
       "      <td>0.239281</td>\n",
       "      <td>0.351044</td>\n",
       "      <td>0.028405</td>\n",
       "      <td>0.028405</td>\n",
       "    </tr>\n",
       "    <tr>\n",
       "      <th>value_eur</th>\n",
       "      <td>NaN</td>\n",
       "      <td>NaN</td>\n",
       "      <td>NaN</td>\n",
       "      <td>0.792974</td>\n",
       "      <td>0.084403</td>\n",
       "      <td>0.005168</td>\n",
       "      <td>0.036692</td>\n",
       "      <td>0.152331</td>\n",
       "      <td>0.340740</td>\n",
       "      <td>0.153498</td>\n",
       "      <td>...</td>\n",
       "      <td>0.108139</td>\n",
       "      <td>0.154672</td>\n",
       "      <td>0.411351</td>\n",
       "      <td>0.055490</td>\n",
       "      <td>0.250715</td>\n",
       "      <td>0.330142</td>\n",
       "      <td>0.168707</td>\n",
       "      <td>0.255283</td>\n",
       "      <td>0.011958</td>\n",
       "      <td>0.011958</td>\n",
       "    </tr>\n",
       "    <tr>\n",
       "      <th>wage_eur</th>\n",
       "      <td>NaN</td>\n",
       "      <td>NaN</td>\n",
       "      <td>NaN</td>\n",
       "      <td>NaN</td>\n",
       "      <td>0.180386</td>\n",
       "      <td>0.018592</td>\n",
       "      <td>0.063303</td>\n",
       "      <td>0.116984</td>\n",
       "      <td>0.348940</td>\n",
       "      <td>0.149445</td>\n",
       "      <td>...</td>\n",
       "      <td>0.084632</td>\n",
       "      <td>0.161276</td>\n",
       "      <td>0.469711</td>\n",
       "      <td>0.084177</td>\n",
       "      <td>0.277271</td>\n",
       "      <td>0.368232</td>\n",
       "      <td>0.191129</td>\n",
       "      <td>0.294573</td>\n",
       "      <td>0.009147</td>\n",
       "      <td>0.009147</td>\n",
       "    </tr>\n",
       "    <tr>\n",
       "      <th>age</th>\n",
       "      <td>NaN</td>\n",
       "      <td>NaN</td>\n",
       "      <td>NaN</td>\n",
       "      <td>NaN</td>\n",
       "      <td>NaN</td>\n",
       "      <td>0.081501</td>\n",
       "      <td>0.219459</td>\n",
       "      <td>0.284826</td>\n",
       "      <td>0.100774</td>\n",
       "      <td>0.056731</td>\n",
       "      <td>...</td>\n",
       "      <td>0.032968</td>\n",
       "      <td>0.362188</td>\n",
       "      <td>0.022670</td>\n",
       "      <td>0.034753</td>\n",
       "      <td>0.024045</td>\n",
       "      <td>0.005559</td>\n",
       "      <td>0.028053</td>\n",
       "      <td>0.024730</td>\n",
       "      <td>0.004626</td>\n",
       "      <td>0.004626</td>\n",
       "    </tr>\n",
       "    <tr>\n",
       "      <th>...</th>\n",
       "      <td>...</td>\n",
       "      <td>...</td>\n",
       "      <td>...</td>\n",
       "      <td>...</td>\n",
       "      <td>...</td>\n",
       "      <td>...</td>\n",
       "      <td>...</td>\n",
       "      <td>...</td>\n",
       "      <td>...</td>\n",
       "      <td>...</td>\n",
       "      <td>...</td>\n",
       "      <td>...</td>\n",
       "      <td>...</td>\n",
       "      <td>...</td>\n",
       "      <td>...</td>\n",
       "      <td>...</td>\n",
       "      <td>...</td>\n",
       "      <td>...</td>\n",
       "      <td>...</td>\n",
       "      <td>...</td>\n",
       "      <td>...</td>\n",
       "    </tr>\n",
       "    <tr>\n",
       "      <th>mean_team/year</th>\n",
       "      <td>NaN</td>\n",
       "      <td>NaN</td>\n",
       "      <td>NaN</td>\n",
       "      <td>NaN</td>\n",
       "      <td>NaN</td>\n",
       "      <td>NaN</td>\n",
       "      <td>NaN</td>\n",
       "      <td>NaN</td>\n",
       "      <td>NaN</td>\n",
       "      <td>NaN</td>\n",
       "      <td>...</td>\n",
       "      <td>NaN</td>\n",
       "      <td>NaN</td>\n",
       "      <td>NaN</td>\n",
       "      <td>NaN</td>\n",
       "      <td>NaN</td>\n",
       "      <td>NaN</td>\n",
       "      <td>0.340500</td>\n",
       "      <td>0.267823</td>\n",
       "      <td>0.023748</td>\n",
       "      <td>0.023748</td>\n",
       "    </tr>\n",
       "    <tr>\n",
       "      <th>ranking</th>\n",
       "      <td>NaN</td>\n",
       "      <td>NaN</td>\n",
       "      <td>NaN</td>\n",
       "      <td>NaN</td>\n",
       "      <td>NaN</td>\n",
       "      <td>NaN</td>\n",
       "      <td>NaN</td>\n",
       "      <td>NaN</td>\n",
       "      <td>NaN</td>\n",
       "      <td>NaN</td>\n",
       "      <td>...</td>\n",
       "      <td>NaN</td>\n",
       "      <td>NaN</td>\n",
       "      <td>NaN</td>\n",
       "      <td>NaN</td>\n",
       "      <td>NaN</td>\n",
       "      <td>NaN</td>\n",
       "      <td>NaN</td>\n",
       "      <td>0.271785</td>\n",
       "      <td>0.017953</td>\n",
       "      <td>0.017953</td>\n",
       "    </tr>\n",
       "    <tr>\n",
       "      <th>puntos</th>\n",
       "      <td>NaN</td>\n",
       "      <td>NaN</td>\n",
       "      <td>NaN</td>\n",
       "      <td>NaN</td>\n",
       "      <td>NaN</td>\n",
       "      <td>NaN</td>\n",
       "      <td>NaN</td>\n",
       "      <td>NaN</td>\n",
       "      <td>NaN</td>\n",
       "      <td>NaN</td>\n",
       "      <td>...</td>\n",
       "      <td>NaN</td>\n",
       "      <td>NaN</td>\n",
       "      <td>NaN</td>\n",
       "      <td>NaN</td>\n",
       "      <td>NaN</td>\n",
       "      <td>NaN</td>\n",
       "      <td>NaN</td>\n",
       "      <td>NaN</td>\n",
       "      <td>0.007077</td>\n",
       "      <td>0.007077</td>\n",
       "    </tr>\n",
       "    <tr>\n",
       "      <th>left</th>\n",
       "      <td>NaN</td>\n",
       "      <td>NaN</td>\n",
       "      <td>NaN</td>\n",
       "      <td>NaN</td>\n",
       "      <td>NaN</td>\n",
       "      <td>NaN</td>\n",
       "      <td>NaN</td>\n",
       "      <td>NaN</td>\n",
       "      <td>NaN</td>\n",
       "      <td>NaN</td>\n",
       "      <td>...</td>\n",
       "      <td>NaN</td>\n",
       "      <td>NaN</td>\n",
       "      <td>NaN</td>\n",
       "      <td>NaN</td>\n",
       "      <td>NaN</td>\n",
       "      <td>NaN</td>\n",
       "      <td>NaN</td>\n",
       "      <td>NaN</td>\n",
       "      <td>NaN</td>\n",
       "      <td>1.000000</td>\n",
       "    </tr>\n",
       "    <tr>\n",
       "      <th>right</th>\n",
       "      <td>NaN</td>\n",
       "      <td>NaN</td>\n",
       "      <td>NaN</td>\n",
       "      <td>NaN</td>\n",
       "      <td>NaN</td>\n",
       "      <td>NaN</td>\n",
       "      <td>NaN</td>\n",
       "      <td>NaN</td>\n",
       "      <td>NaN</td>\n",
       "      <td>NaN</td>\n",
       "      <td>...</td>\n",
       "      <td>NaN</td>\n",
       "      <td>NaN</td>\n",
       "      <td>NaN</td>\n",
       "      <td>NaN</td>\n",
       "      <td>NaN</td>\n",
       "      <td>NaN</td>\n",
       "      <td>NaN</td>\n",
       "      <td>NaN</td>\n",
       "      <td>NaN</td>\n",
       "      <td>NaN</td>\n",
       "    </tr>\n",
       "  </tbody>\n",
       "</table>\n",
       "<p>89 rows × 89 columns</p>\n",
       "</div>"
      ],
      "text/plain": [
       "                overall  potential  value_eur  wage_eur       age  height_cm  \\\n",
       "overall             NaN   0.711449   0.608275  0.633775  0.442137   0.037362   \n",
       "potential           NaN        NaN   0.565423  0.527409  0.203214   0.003071   \n",
       "value_eur           NaN        NaN        NaN  0.792974  0.084403   0.005168   \n",
       "wage_eur            NaN        NaN        NaN       NaN  0.180386   0.018592   \n",
       "age                 NaN        NaN        NaN       NaN       NaN   0.081501   \n",
       "...                 ...        ...        ...       ...       ...        ...   \n",
       "mean_team/year      NaN        NaN        NaN       NaN       NaN        NaN   \n",
       "ranking             NaN        NaN        NaN       NaN       NaN        NaN   \n",
       "puntos              NaN        NaN        NaN       NaN       NaN        NaN   \n",
       "left                NaN        NaN        NaN       NaN       NaN        NaN   \n",
       "right               NaN        NaN        NaN       NaN       NaN        NaN   \n",
       "\n",
       "                weight_kg  club_position  nation_position  weak_foot  ...  \\\n",
       "overall          0.129847       0.321906         0.320873   0.208616  ...   \n",
       "potential        0.012861       0.107758         0.258570   0.170725  ...   \n",
       "value_eur        0.036692       0.152331         0.340740   0.153498  ...   \n",
       "wage_eur         0.063303       0.116984         0.348940   0.149445  ...   \n",
       "age              0.219459       0.284826         0.100774   0.056731  ...   \n",
       "...                   ...            ...              ...        ...  ...   \n",
       "mean_team/year        NaN            NaN              NaN        NaN  ...   \n",
       "ranking               NaN            NaN              NaN        NaN  ...   \n",
       "puntos                NaN            NaN              NaN        NaN  ...   \n",
       "left                  NaN            NaN              NaN        NaN  ...   \n",
       "right                 NaN            NaN              NaN        NaN  ...   \n",
       "\n",
       "                año_version  progresion_anual  overall_team/year  \\\n",
       "overall            0.066016          0.425666           0.461236   \n",
       "potential          0.119282          0.175539           0.541150   \n",
       "value_eur          0.108139          0.154672           0.411351   \n",
       "wage_eur           0.084632          0.161276           0.469711   \n",
       "age                0.032968          0.362188           0.022670   \n",
       "...                     ...               ...                ...   \n",
       "mean_team/year          NaN               NaN                NaN   \n",
       "ranking                 NaN               NaN                NaN   \n",
       "puntos                  NaN               NaN                NaN   \n",
       "left                    NaN               NaN                NaN   \n",
       "right                   NaN               NaN                NaN   \n",
       "\n",
       "                teams_in_league/year  mean_league/year  mean_team/year  \\\n",
       "overall                     0.052178          0.296270        0.383343   \n",
       "potential                   0.097473          0.343509        0.426626   \n",
       "value_eur                   0.055490          0.250715        0.330142   \n",
       "wage_eur                    0.084177          0.277271        0.368232   \n",
       "age                         0.034753          0.024045        0.005559   \n",
       "...                              ...               ...             ...   \n",
       "mean_team/year                   NaN               NaN             NaN   \n",
       "ranking                          NaN               NaN             NaN   \n",
       "puntos                           NaN               NaN             NaN   \n",
       "left                             NaN               NaN             NaN   \n",
       "right                            NaN               NaN             NaN   \n",
       "\n",
       "                 ranking    puntos      left     right  \n",
       "overall         0.192628  0.332628  0.030572  0.030572  \n",
       "potential       0.239281  0.351044  0.028405  0.028405  \n",
       "value_eur       0.168707  0.255283  0.011958  0.011958  \n",
       "wage_eur        0.191129  0.294573  0.009147  0.009147  \n",
       "age             0.028053  0.024730  0.004626  0.004626  \n",
       "...                  ...       ...       ...       ...  \n",
       "mean_team/year  0.340500  0.267823  0.023748  0.023748  \n",
       "ranking              NaN  0.271785  0.017953  0.017953  \n",
       "puntos               NaN       NaN  0.007077  0.007077  \n",
       "left                 NaN       NaN       NaN  1.000000  \n",
       "right                NaN       NaN       NaN       NaN  \n",
       "\n",
       "[89 rows x 89 columns]"
      ]
     },
     "execution_count": 153,
     "metadata": {},
     "output_type": "execute_result"
    }
   ],
   "source": [
    "#unicamente tercio superior\n",
    "triangulo_sup=df2.corr().abs().where(np.triu(np.ones(df2.corr().abs().shape), k=1).astype(np.bool))\n",
    "triangulo_sup"
   ]
  },
  {
   "cell_type": "code",
   "execution_count": 160,
   "id": "94c3ead0",
   "metadata": {
    "ExecuteTime": {
     "end_time": "2022-02-20T16:49:50.618608Z",
     "start_time": "2022-02-20T16:49:50.603567Z"
    }
   },
   "outputs": [
    {
     "name": "stdout",
     "output_type": "stream",
     "text": [
      "['dribbling', 'attacking_finishing', 'attacking_short_passing', 'skill_dribbling', 'skill_ball_control', 'movement_sprint_speed', 'power_long_shots', 'mentality_interceptions', 'mentality_positioning', 'defending_marking_awareness', 'defending_standing_tackle', 'defending_sliding_tackle', 'goalkeeping_handling', 'goalkeeping_kicking', 'goalkeeping_positioning', 'goalkeeping_reflexes', 'goalkeeping_speed', 'ls', 'st', 'rs', 'lw', 'lf', 'cf', 'rf', 'rw', 'lam', 'cam', 'ram', 'lm', 'lcm', 'cm', 'rcm', 'rm', 'lwb', 'ldm', 'cdm', 'rdm', 'rwb', 'lb', 'lcb', 'cb', 'rcb', 'rb', 'mean_team/year', 'right']\n"
     ]
    }
   ],
   "source": [
    "#columnas con gran correlacion\n",
    "correl= [column for column in triangulo_sup.columns if any(triangulo_sup[column] > 0.9)]\n",
    "print(correl)"
   ]
  },
  {
   "cell_type": "code",
   "execution_count": 162,
   "id": "14fb431f",
   "metadata": {
    "ExecuteTime": {
     "end_time": "2022-02-20T16:50:10.192054Z",
     "start_time": "2022-02-20T16:50:10.146018Z"
    }
   },
   "outputs": [],
   "source": [
    "df2.drop(correl,axis=1,inplace=True)"
   ]
  },
  {
   "cell_type": "code",
   "execution_count": 163,
   "id": "153c6426",
   "metadata": {
    "ExecuteTime": {
     "end_time": "2022-02-20T16:50:18.796973Z",
     "start_time": "2022-02-20T16:50:18.147972Z"
    }
   },
   "outputs": [
    {
     "data": {
      "text/plain": [
       "<AxesSubplot:>"
      ]
     },
     "execution_count": 163,
     "metadata": {},
     "output_type": "execute_result"
    },
    {
     "data": {
      "image/png": "[encoded data removed]",
      "text/plain": [
       "<Figure size 432x288 with 2 Axes>"
      ]
     },
     "metadata": {
      "needs_background": "light"
     },
     "output_type": "display_data"
    }
   ],
   "source": [
    "sns.heatmap(df2.corr())"
   ]
  },
  {
   "cell_type": "code",
   "execution_count": 143,
   "id": "9c889d66",
   "metadata": {
    "ExecuteTime": {
     "end_time": "2022-02-20T16:43:30.994857Z",
     "start_time": "2022-02-20T16:43:30.988864Z"
    }
   },
   "outputs": [
    {
     "data": {
      "text/plain": [
       "MultiIndex([(                      'cdm',                      'rdm'),\n",
       "            (                      'cam',                      'ram'),\n",
       "            (                       'ls',                       'rs'),\n",
       "            (                       'ls',                       'st'),\n",
       "            (                       'lw',                       'rw'),\n",
       "            (                      'lcm',                      'rcm'),\n",
       "            (                      'ldm',                      'cdm'),\n",
       "            (                       'cb',                      'rcb'),\n",
       "            (                      'lcb',                      'rcb'),\n",
       "            (                      'lam',                      'cam'),\n",
       "            ...\n",
       "            ('defending_standing_tackle',              'año_version'),\n",
       "            (         'movement_agility',              'año_version'),\n",
       "            (           'power_strength',                       'rm'),\n",
       "            (           'power_strength',                       'lm'),\n",
       "            (       'goalkeeping_diving',                  'ranking'),\n",
       "            (        'attacking_volleys', 'defending_sliding_tackle'),\n",
       "            (        'attacking_volleys',           'power_strength'),\n",
       "            (           'power_strength',                      'lam'),\n",
       "            (           'power_strength',                      'cam'),\n",
       "            (           'power_strength',                      'ram')],\n",
       "           length=3741)"
      ]
     },
     "execution_count": 143,
     "metadata": {},
     "output_type": "execute_result"
    }
   ],
   "source": [
    "#Vemos que hay mucha colinearidad\n",
    "variables_corr.keys()"
   ]
  },
  {
   "cell_type": "code",
   "execution_count": 169,
   "id": "fd9228aa",
   "metadata": {
    "ExecuteTime": {
     "end_time": "2022-02-20T16:52:45.402138Z",
     "start_time": "2022-02-20T16:52:45.380102Z"
    }
   },
   "outputs": [],
   "source": [
    "X=df2.drop([\"progresion_anual\",\"gk\"],axis=1)\n",
    "y=df2.progresion_anual"
   ]
  },
  {
   "cell_type": "code",
   "execution_count": 170,
   "id": "b638940d",
   "metadata": {
    "ExecuteTime": {
     "end_time": "2022-02-20T16:52:47.155346Z",
     "start_time": "2022-02-20T16:52:47.100115Z"
    }
   },
   "outputs": [],
   "source": [
    "X_train, X_test, y_train, y_test = train_test_split(X, y, test_size=0.2, random_state=0)"
   ]
  },
  {
   "cell_type": "code",
   "execution_count": 176,
   "id": "9c09bd08",
   "metadata": {
    "ExecuteTime": {
     "end_time": "2022-02-20T16:53:56.561726Z",
     "start_time": "2022-02-20T16:53:56.417460Z"
    }
   },
   "outputs": [
    {
     "data": {
      "text/html": [
       "<style>#sk-3661769c-de34-4e1d-8e2d-ff3610ee0431 {color: black;background-color: white;}#sk-3661769c-de34-4e1d-8e2d-ff3610ee0431 pre{padding: 0;}#sk-3661769c-de34-4e1d-8e2d-ff3610ee0431 div.sk-toggleable {background-color: white;}#sk-3661769c-de34-4e1d-8e2d-ff3610ee0431 label.sk-toggleable__label {cursor: pointer;display: block;width: 100%;margin-bottom: 0;padding: 0.3em;box-sizing: border-box;text-align: center;}#sk-3661769c-de34-4e1d-8e2d-ff3610ee0431 label.sk-toggleable__label-arrow:before {content: \"▸\";float: left;margin-right: 0.25em;color: #696969;}#sk-3661769c-de34-4e1d-8e2d-ff3610ee0431 label.sk-toggleable__label-arrow:hover:before {color: black;}#sk-3661769c-de34-4e1d-8e2d-ff3610ee0431 div.sk-estimator:hover label.sk-toggleable__label-arrow:before {color: black;}#sk-3661769c-de34-4e1d-8e2d-ff3610ee0431 div.sk-toggleable__content {max-height: 0;max-width: 0;overflow: hidden;text-align: left;background-color: #f0f8ff;}#sk-3661769c-de34-4e1d-8e2d-ff3610ee0431 div.sk-toggleable__content pre {margin: 0.2em;color: black;border-radius: 0.25em;background-color: #f0f8ff;}#sk-3661769c-de34-4e1d-8e2d-ff3610ee0431 input.sk-toggleable__control:checked~div.sk-toggleable__content {max-height: 200px;max-width: 100%;overflow: auto;}#sk-3661769c-de34-4e1d-8e2d-ff3610ee0431 input.sk-toggleable__control:checked~label.sk-toggleable__label-arrow:before {content: \"▾\";}#sk-3661769c-de34-4e1d-8e2d-ff3610ee0431 div.sk-estimator input.sk-toggleable__control:checked~label.sk-toggleable__label {background-color: #d4ebff;}#sk-3661769c-de34-4e1d-8e2d-ff3610ee0431 div.sk-label input.sk-toggleable__control:checked~label.sk-toggleable__label {background-color: #d4ebff;}#sk-3661769c-de34-4e1d-8e2d-ff3610ee0431 input.sk-hidden--visually {border: 0;clip: rect(1px 1px 1px 1px);clip: rect(1px, 1px, 1px, 1px);height: 1px;margin: -1px;overflow: hidden;padding: 0;position: absolute;width: 1px;}#sk-3661769c-de34-4e1d-8e2d-ff3610ee0431 div.sk-estimator {font-family: monospace;background-color: #f0f8ff;border: 1px dotted black;border-radius: 0.25em;box-sizing: border-box;margin-bottom: 0.5em;}#sk-3661769c-de34-4e1d-8e2d-ff3610ee0431 div.sk-estimator:hover {background-color: #d4ebff;}#sk-3661769c-de34-4e1d-8e2d-ff3610ee0431 div.sk-parallel-item::after {content: \"\";width: 100%;border-bottom: 1px solid gray;flex-grow: 1;}#sk-3661769c-de34-4e1d-8e2d-ff3610ee0431 div.sk-label:hover label.sk-toggleable__label {background-color: #d4ebff;}#sk-3661769c-de34-4e1d-8e2d-ff3610ee0431 div.sk-serial::before {content: \"\";position: absolute;border-left: 1px solid gray;box-sizing: border-box;top: 2em;bottom: 0;left: 50%;}#sk-3661769c-de34-4e1d-8e2d-ff3610ee0431 div.sk-serial {display: flex;flex-direction: column;align-items: center;background-color: white;padding-right: 0.2em;padding-left: 0.2em;}#sk-3661769c-de34-4e1d-8e2d-ff3610ee0431 div.sk-item {z-index: 1;}#sk-3661769c-de34-4e1d-8e2d-ff3610ee0431 div.sk-parallel {display: flex;align-items: stretch;justify-content: center;background-color: white;}#sk-3661769c-de34-4e1d-8e2d-ff3610ee0431 div.sk-parallel::before {content: \"\";position: absolute;border-left: 1px solid gray;box-sizing: border-box;top: 2em;bottom: 0;left: 50%;}#sk-3661769c-de34-4e1d-8e2d-ff3610ee0431 div.sk-parallel-item {display: flex;flex-direction: column;position: relative;background-color: white;}#sk-3661769c-de34-4e1d-8e2d-ff3610ee0431 div.sk-parallel-item:first-child::after {align-self: flex-end;width: 50%;}#sk-3661769c-de34-4e1d-8e2d-ff3610ee0431 div.sk-parallel-item:last-child::after {align-self: flex-start;width: 50%;}#sk-3661769c-de34-4e1d-8e2d-ff3610ee0431 div.sk-parallel-item:only-child::after {width: 0;}#sk-3661769c-de34-4e1d-8e2d-ff3610ee0431 div.sk-dashed-wrapped {border: 1px dashed gray;margin: 0 0.4em 0.5em 0.4em;box-sizing: border-box;padding-bottom: 0.4em;background-color: white;position: relative;}#sk-3661769c-de34-4e1d-8e2d-ff3610ee0431 div.sk-label label {font-family: monospace;font-weight: bold;background-color: white;display: inline-block;line-height: 1.2em;}#sk-3661769c-de34-4e1d-8e2d-ff3610ee0431 div.sk-label-container {position: relative;z-index: 2;text-align: center;}#sk-3661769c-de34-4e1d-8e2d-ff3610ee0431 div.sk-container {/* jupyter's `normalize.less` sets `[hidden] { display: none; }` but bootstrap.min.css set `[hidden] { display: none !important; }` so we also need the `!important` here to be able to override the default hidden behavior on the sphinx rendered scikit-learn.org. See: https://github.com/scikit-learn/scikit-learn/issues/21755 */display: inline-block !important;position: relative;}#sk-3661769c-de34-4e1d-8e2d-ff3610ee0431 div.sk-text-repr-fallback {display: none;}</style><div id=\"sk-3661769c-de34-4e1d-8e2d-ff3610ee0431\" class=\"sk-top-container\"><div class=\"sk-text-repr-fallback\"><pre>LinearRegression()</pre><b>Please rerun this cell to show the HTML repr or trust the notebook.</b></div><div class=\"sk-container\" hidden><div class=\"sk-item\"><div class=\"sk-estimator sk-toggleable\"><input class=\"sk-toggleable__control sk-hidden--visually\" id=\"d3228de2-1577-40fc-ac0e-0f88d65708e2\" type=\"checkbox\" checked><label for=\"d3228de2-1577-40fc-ac0e-0f88d65708e2\" class=\"sk-toggleable__label sk-toggleable__label-arrow\">LinearRegression</label><div class=\"sk-toggleable__content\"><pre>LinearRegression()</pre></div></div></div></div></div>"
      ],
      "text/plain": [
       "LinearRegression()"
      ]
     },
     "execution_count": 176,
     "metadata": {},
     "output_type": "execute_result"
    }
   ],
   "source": [
    "model=LinearRegression()\n",
    "model.fit(X_train, y_train)"
   ]
  },
  {
   "cell_type": "code",
   "execution_count": 177,
   "id": "2f3acf48",
   "metadata": {
    "ExecuteTime": {
     "end_time": "2022-02-20T16:54:13.174383Z",
     "start_time": "2022-02-20T16:54:13.156381Z"
    }
   },
   "outputs": [
    {
     "data": {
      "text/plain": [
       "0.28789938227396605"
      ]
     },
     "execution_count": 177,
     "metadata": {},
     "output_type": "execute_result"
    }
   ],
   "source": [
    "model.score(X_test,y_test)"
   ]
  },
  {
   "cell_type": "code",
   "execution_count": 175,
   "id": "6cebb3c3",
   "metadata": {
    "ExecuteTime": {
     "end_time": "2022-02-20T16:53:26.041922Z",
     "start_time": "2022-02-20T16:53:26.012922Z"
    }
   },
   "outputs": [
    {
     "data": {
      "text/html": [
       "<div>\n",
       "<style scoped>\n",
       "    .dataframe tbody tr th:only-of-type {\n",
       "        vertical-align: middle;\n",
       "    }\n",
       "\n",
       "    .dataframe tbody tr th {\n",
       "        vertical-align: top;\n",
       "    }\n",
       "\n",
       "    .dataframe thead th {\n",
       "        text-align: right;\n",
       "    }\n",
       "</style>\n",
       "<table border=\"1\" class=\"dataframe\">\n",
       "  <thead>\n",
       "    <tr style=\"text-align: right;\">\n",
       "      <th></th>\n",
       "      <th>value_eur</th>\n",
       "      <th>wage_eur</th>\n",
       "      <th>pace</th>\n",
       "      <th>shooting</th>\n",
       "      <th>passing</th>\n",
       "      <th>defending</th>\n",
       "      <th>physic</th>\n",
       "      <th>mentality_composure</th>\n",
       "      <th>overall_team/year</th>\n",
       "      <th>teams_in_league/year</th>\n",
       "      <th>mean_league/year</th>\n",
       "    </tr>\n",
       "  </thead>\n",
       "  <tbody>\n",
       "    <tr>\n",
       "      <th>78876</th>\n",
       "      <td>3600000.0</td>\n",
       "      <td>52000.0</td>\n",
       "      <td>69.0</td>\n",
       "      <td>59.0</td>\n",
       "      <td>67.0</td>\n",
       "      <td>35.0</td>\n",
       "      <td>58.0</td>\n",
       "      <td>73.0</td>\n",
       "      <td>2467.0</td>\n",
       "      <td>20.0</td>\n",
       "      <td>73.907104</td>\n",
       "    </tr>\n",
       "    <tr>\n",
       "      <th>35197</th>\n",
       "      <td>60000.0</td>\n",
       "      <td>1000.0</td>\n",
       "      <td>70.0</td>\n",
       "      <td>37.0</td>\n",
       "      <td>48.0</td>\n",
       "      <td>41.0</td>\n",
       "      <td>50.0</td>\n",
       "      <td>40.0</td>\n",
       "      <td>1396.0</td>\n",
       "      <td>24.0</td>\n",
       "      <td>62.515152</td>\n",
       "    </tr>\n",
       "    <tr>\n",
       "      <th>49</th>\n",
       "      <td>21000000.0</td>\n",
       "      <td>160000.0</td>\n",
       "      <td>75.0</td>\n",
       "      <td>80.0</td>\n",
       "      <td>87.0</td>\n",
       "      <td>48.0</td>\n",
       "      <td>63.0</td>\n",
       "      <td>0.0</td>\n",
       "      <td>1795.0</td>\n",
       "      <td>18.0</td>\n",
       "      <td>67.713836</td>\n",
       "    </tr>\n",
       "    <tr>\n",
       "      <th>13106</th>\n",
       "      <td>3800000.0</td>\n",
       "      <td>60000.0</td>\n",
       "      <td>69.0</td>\n",
       "      <td>62.0</td>\n",
       "      <td>68.0</td>\n",
       "      <td>75.0</td>\n",
       "      <td>77.0</td>\n",
       "      <td>0.0</td>\n",
       "      <td>1735.0</td>\n",
       "      <td>30.0</td>\n",
       "      <td>65.957407</td>\n",
       "    </tr>\n",
       "    <tr>\n",
       "      <th>59302</th>\n",
       "      <td>400000.0</td>\n",
       "      <td>1000.0</td>\n",
       "      <td>75.0</td>\n",
       "      <td>45.0</td>\n",
       "      <td>50.0</td>\n",
       "      <td>58.0</td>\n",
       "      <td>60.0</td>\n",
       "      <td>54.0</td>\n",
       "      <td>1610.0</td>\n",
       "      <td>16.0</td>\n",
       "      <td>63.373188</td>\n",
       "    </tr>\n",
       "    <tr>\n",
       "      <th>...</th>\n",
       "      <td>...</td>\n",
       "      <td>...</td>\n",
       "      <td>...</td>\n",
       "      <td>...</td>\n",
       "      <td>...</td>\n",
       "      <td>...</td>\n",
       "      <td>...</td>\n",
       "      <td>...</td>\n",
       "      <td>...</td>\n",
       "      <td>...</td>\n",
       "      <td>...</td>\n",
       "    </tr>\n",
       "    <tr>\n",
       "      <th>21243</th>\n",
       "      <td>210000.0</td>\n",
       "      <td>2000.0</td>\n",
       "      <td>71.0</td>\n",
       "      <td>51.0</td>\n",
       "      <td>58.0</td>\n",
       "      <td>46.0</td>\n",
       "      <td>56.0</td>\n",
       "      <td>0.0</td>\n",
       "      <td>1111.0</td>\n",
       "      <td>30.0</td>\n",
       "      <td>65.957407</td>\n",
       "    </tr>\n",
       "    <tr>\n",
       "      <th>45891</th>\n",
       "      <td>550000.0</td>\n",
       "      <td>9000.0</td>\n",
       "      <td>66.0</td>\n",
       "      <td>45.0</td>\n",
       "      <td>57.0</td>\n",
       "      <td>35.0</td>\n",
       "      <td>59.0</td>\n",
       "      <td>44.0</td>\n",
       "      <td>1909.0</td>\n",
       "      <td>18.0</td>\n",
       "      <td>70.696970</td>\n",
       "    </tr>\n",
       "    <tr>\n",
       "      <th>42613</th>\n",
       "      <td>775000.0</td>\n",
       "      <td>3000.0</td>\n",
       "      <td>78.0</td>\n",
       "      <td>61.0</td>\n",
       "      <td>64.0</td>\n",
       "      <td>32.0</td>\n",
       "      <td>41.0</td>\n",
       "      <td>66.0</td>\n",
       "      <td>1349.0</td>\n",
       "      <td>18.0</td>\n",
       "      <td>68.557292</td>\n",
       "    </tr>\n",
       "    <tr>\n",
       "      <th>43567</th>\n",
       "      <td>850000.0</td>\n",
       "      <td>3000.0</td>\n",
       "      <td>60.0</td>\n",
       "      <td>45.0</td>\n",
       "      <td>57.0</td>\n",
       "      <td>64.0</td>\n",
       "      <td>67.0</td>\n",
       "      <td>54.0</td>\n",
       "      <td>1360.0</td>\n",
       "      <td>10.0</td>\n",
       "      <td>64.368132</td>\n",
       "    </tr>\n",
       "    <tr>\n",
       "      <th>68268</th>\n",
       "      <td>1000000.0</td>\n",
       "      <td>3000.0</td>\n",
       "      <td>85.0</td>\n",
       "      <td>65.0</td>\n",
       "      <td>52.0</td>\n",
       "      <td>24.0</td>\n",
       "      <td>68.0</td>\n",
       "      <td>60.0</td>\n",
       "      <td>1059.0</td>\n",
       "      <td>16.0</td>\n",
       "      <td>63.254826</td>\n",
       "    </tr>\n",
       "  </tbody>\n",
       "</table>\n",
       "<p>70197 rows × 11 columns</p>\n",
       "</div>"
      ],
      "text/plain": [
       "        value_eur  wage_eur  pace  shooting  passing  defending  physic  \\\n",
       "78876   3600000.0   52000.0  69.0      59.0     67.0       35.0    58.0   \n",
       "35197     60000.0    1000.0  70.0      37.0     48.0       41.0    50.0   \n",
       "49     21000000.0  160000.0  75.0      80.0     87.0       48.0    63.0   \n",
       "13106   3800000.0   60000.0  69.0      62.0     68.0       75.0    77.0   \n",
       "59302    400000.0    1000.0  75.0      45.0     50.0       58.0    60.0   \n",
       "...           ...       ...   ...       ...      ...        ...     ...   \n",
       "21243    210000.0    2000.0  71.0      51.0     58.0       46.0    56.0   \n",
       "45891    550000.0    9000.0  66.0      45.0     57.0       35.0    59.0   \n",
       "42613    775000.0    3000.0  78.0      61.0     64.0       32.0    41.0   \n",
       "43567    850000.0    3000.0  60.0      45.0     57.0       64.0    67.0   \n",
       "68268   1000000.0    3000.0  85.0      65.0     52.0       24.0    68.0   \n",
       "\n",
       "       mentality_composure  overall_team/year  teams_in_league/year  \\\n",
       "78876                 73.0             2467.0                  20.0   \n",
       "35197                 40.0             1396.0                  24.0   \n",
       "49                     0.0             1795.0                  18.0   \n",
       "13106                  0.0             1735.0                  30.0   \n",
       "59302                 54.0             1610.0                  16.0   \n",
       "...                    ...                ...                   ...   \n",
       "21243                  0.0             1111.0                  30.0   \n",
       "45891                 44.0             1909.0                  18.0   \n",
       "42613                 66.0             1349.0                  18.0   \n",
       "43567                 54.0             1360.0                  10.0   \n",
       "68268                 60.0             1059.0                  16.0   \n",
       "\n",
       "       mean_league/year  \n",
       "78876         73.907104  \n",
       "35197         62.515152  \n",
       "49            67.713836  \n",
       "13106         65.957407  \n",
       "59302         63.373188  \n",
       "...                 ...  \n",
       "21243         65.957407  \n",
       "45891         70.696970  \n",
       "42613         68.557292  \n",
       "43567         64.368132  \n",
       "68268         63.254826  \n",
       "\n",
       "[70197 rows x 11 columns]"
      ]
     },
     "execution_count": 175,
     "metadata": {},
     "output_type": "execute_result"
    }
   ],
   "source": [
    "X_train.select_dtypes(\"float\")"
   ]
  },
  {
   "cell_type": "code",
   "execution_count": 34,
   "id": "3fe6fdcf",
   "metadata": {
    "ExecuteTime": {
     "end_time": "2022-02-19T23:06:11.151406Z",
     "start_time": "2022-02-19T23:06:11.012940Z"
    }
   },
   "outputs": [],
   "source": [
    "import numpy as np\n",
    "from sklearn.compose import ColumnTransformer\n",
    "from sklearn.datasets import fetch_openml\n",
    "from sklearn.pipeline import Pipeline\n",
    "from sklearn.impute import SimpleImputer\n",
    "from sklearn.preprocessing import StandardScaler, OneHotEncoder\n",
    "from sklearn.linear_model import LogisticRegression\n",
    "from sklearn.model_selection import train_test_split, GridSearchCV"
   ]
  },
  {
   "cell_type": "code",
   "execution_count": 45,
   "id": "8a476f3e",
   "metadata": {
    "ExecuteTime": {
     "end_time": "2022-02-19T23:10:15.382031Z",
     "start_time": "2022-02-19T23:10:15.373030Z"
    }
   },
   "outputs": [],
   "source": [
    "#columnas categoricas\n",
    "categorical_features = [\"player_positions\", \"preferred_foot\",\"club_position\",\"nation_team_id\"]"
   ]
  },
  {
   "cell_type": "code",
   "execution_count": 56,
   "id": "375470aa",
   "metadata": {
    "ExecuteTime": {
     "end_time": "2022-02-19T23:16:53.059766Z",
     "start_time": "2022-02-19T23:16:53.017763Z"
    }
   },
   "outputs": [],
   "source": [
    "numeric_features=df.select_dtypes(\"int64\").drop(\"sofifa_id\",axis=1)"
   ]
  },
  {
   "cell_type": "code",
   "execution_count": 57,
   "id": "d3453520",
   "metadata": {
    "ExecuteTime": {
     "end_time": "2022-02-19T23:16:54.122400Z",
     "start_time": "2022-02-19T23:16:54.107334Z"
    }
   },
   "outputs": [],
   "source": [
    "categorical_transformer = OneHotEncoder(handle_unknown=\"ignore\")"
   ]
  },
  {
   "cell_type": "code",
   "execution_count": 58,
   "id": "fb83c6e9",
   "metadata": {
    "ExecuteTime": {
     "end_time": "2022-02-19T23:16:55.167306Z",
     "start_time": "2022-02-19T23:16:55.152297Z"
    }
   },
   "outputs": [
    {
     "data": {
      "text/plain": [
       "OneHotEncoder(handle_unknown='ignore')"
      ]
     },
     "execution_count": 58,
     "metadata": {},
     "output_type": "execute_result"
    }
   ],
   "source": [
    "categorical_transformer"
   ]
  },
  {
   "cell_type": "code",
   "execution_count": 59,
   "id": "ff2c0343",
   "metadata": {
    "ExecuteTime": {
     "end_time": "2022-02-19T23:16:56.228825Z",
     "start_time": "2022-02-19T23:16:56.213823Z"
    }
   },
   "outputs": [],
   "source": [
    "numeric_transformer = Pipeline(\n",
    "    steps=[(\"imputer\", SimpleImputer(strategy=\"median\")), (\"scaler\", StandardScaler())]\n",
    ")"
   ]
  },
  {
   "cell_type": "code",
   "execution_count": 60,
   "id": "351fc581",
   "metadata": {
    "ExecuteTime": {
     "end_time": "2022-02-19T23:16:57.310481Z",
     "start_time": "2022-02-19T23:16:57.296473Z"
    },
    "scrolled": false
   },
   "outputs": [],
   "source": [
    "preprocessor = ColumnTransformer(\n",
    "    transformers=[\n",
    "        (\"num\", numeric_transformer, numeric_features),\n",
    "        (\"cat\", categorical_transformer, categorical_features),\n",
    "    ]\n",
    ")"
   ]
  },
  {
   "cell_type": "code",
   "execution_count": 61,
   "id": "5b9a1faa",
   "metadata": {
    "ExecuteTime": {
     "end_time": "2022-02-19T23:16:58.690933Z",
     "start_time": "2022-02-19T23:16:58.603899Z"
    }
   },
   "outputs": [
    {
     "data": {
      "text/plain": [
       "ColumnTransformer(transformers=[('num',\n",
       "                                 Pipeline(steps=[('imputer',\n",
       "                                                  SimpleImputer(strategy='median')),\n",
       "                                                 ('scaler', StandardScaler())]),\n",
       "                                        overall  potential  age  height_cm  weight_kg  club_position  \\\n",
       "0           93         95   27        169         67              1   \n",
       "1           92         92   29        185         80              1   \n",
       "2           90         90   30        180         80              0   \n",
       "3           90         90   32        195         95              1   \n",
       "4           90         90   28        193         92              1   \n",
       "...        ...        ...  ...        ...        ...            ...   \n",
       "87742       47         57   20        175         69              0   \n",
       "87743       47         51   20        185         74              0   \n",
       "87744       47         53   20        181         77              0   \n",
       "87745       47         47   28        185         79              0   \n",
       "87746       47         67   17        171         5...\n",
       "3       61  56   55  55   55  56         2015        8    1907  \n",
       "4       36  36   38  38   38  36         2015        1    2089  \n",
       "...    ...  ..  ...  ..  ...  ..          ...      ...     ...  \n",
       "87742   40  39   35  35   35  39         2021     1779    1271  \n",
       "87743   42  44   47  47   47  44         2021     2081    1250  \n",
       "87744   42  45   47  47   47  45         2021     1299    1314  \n",
       "87745   47  47   46  46   46  47         2021     2081    1250  \n",
       "87746   35  33   26  26   26  33         2021        0       0  \n",
       "\n",
       "[87747 rows x 74 columns]),\n",
       "                                ('cat', OneHotEncoder(handle_unknown='ignore'),\n",
       "                                 ['player_positions', 'preferred_foot',\n",
       "                                  'club_position', 'nation_team_id'])])"
      ]
     },
     "execution_count": 61,
     "metadata": {},
     "output_type": "execute_result"
    }
   ],
   "source": [
    "preprocessor"
   ]
  },
  {
   "cell_type": "code",
   "execution_count": 62,
   "id": "8c2fe1d9",
   "metadata": {
    "ExecuteTime": {
     "end_time": "2022-02-19T23:17:02.153390Z",
     "start_time": "2022-02-19T23:17:02.150392Z"
    }
   },
   "outputs": [],
   "source": [
    "# Append classifier to preprocessing pipeline.\n",
    "# Now we have a full prediction pipeline.\n",
    "clf = Pipeline(\n",
    "    steps=[(\"preprocessor\", preprocessor), (\"classifier\", LogisticRegression())]\n",
    ")\n"
   ]
  },
  {
   "cell_type": "code",
   "execution_count": 63,
   "id": "785468cb",
   "metadata": {
    "ExecuteTime": {
     "end_time": "2022-02-19T23:17:05.223234Z",
     "start_time": "2022-02-19T23:17:05.151132Z"
    }
   },
   "outputs": [],
   "source": [
    "X_train, X_test, y_train, y_test = train_test_split(X, y, test_size=0.2, random_state=0)\n"
   ]
  },
  {
   "cell_type": "code",
   "execution_count": 65,
   "id": "673f34e3",
   "metadata": {
    "ExecuteTime": {
     "end_time": "2022-02-19T23:17:21.647846Z",
     "start_time": "2022-02-19T23:17:21.529848Z"
    }
   },
   "outputs": [
    {
     "data": {
      "text/plain": [
       "LinearRegression()"
      ]
     },
     "execution_count": 65,
     "metadata": {},
     "output_type": "execute_result"
    }
   ],
   "source": [
    "model.fit(X_train, y_train)"
   ]
  },
  {
   "cell_type": "code",
   "execution_count": 66,
   "id": "ef4a0511",
   "metadata": {
    "ExecuteTime": {
     "end_time": "2022-02-19T23:17:30.636070Z",
     "start_time": "2022-02-19T23:17:30.612077Z"
    }
   },
   "outputs": [
    {
     "data": {
      "text/plain": [
       "0.28461979173298046"
      ]
     },
     "execution_count": 66,
     "metadata": {},
     "output_type": "execute_result"
    }
   ],
   "source": [
    "model.score(X_test,y_test)"
   ]
  },
  {
   "cell_type": "code",
   "execution_count": 14,
   "id": "84a70acb",
   "metadata": {
    "ExecuteTime": {
     "end_time": "2022-02-19T21:58:24.669532Z",
     "start_time": "2022-02-19T21:58:24.633247Z"
    }
   },
   "outputs": [],
   "source": [
    "X=df.select_dtypes(\"int64\")\n",
    "y=df.progresion_anual"
   ]
  },
  {
   "cell_type": "code",
   "execution_count": null,
   "id": "fc2cee3b",
   "metadata": {},
   "outputs": [],
   "source": []
  },
  {
   "cell_type": "code",
   "execution_count": 20,
   "id": "8a6cc067",
   "metadata": {
    "ExecuteTime": {
     "end_time": "2022-02-19T22:06:15.762017Z",
     "start_time": "2022-02-19T22:06:15.754017Z"
    }
   },
   "outputs": [],
   "source": [
    "from sklearn import linear_model\n",
    "from sklearn.linear_model import LinearRegression"
   ]
  },
  {
   "cell_type": "code",
   "execution_count": 16,
   "id": "ed6fb108",
   "metadata": {
    "ExecuteTime": {
     "end_time": "2022-02-19T22:03:00.513796Z",
     "start_time": "2022-02-19T22:03:00.497794Z"
    }
   },
   "outputs": [],
   "source": [
    "model=LinearRegression()"
   ]
  },
  {
   "cell_type": "code",
   "execution_count": 17,
   "id": "8873225f",
   "metadata": {
    "ExecuteTime": {
     "end_time": "2022-02-19T22:03:12.581749Z",
     "start_time": "2022-02-19T22:03:12.354725Z"
    }
   },
   "outputs": [
    {
     "data": {
      "text/plain": [
       "LinearRegression()"
      ]
     },
     "execution_count": 17,
     "metadata": {},
     "output_type": "execute_result"
    }
   ],
   "source": [
    "model.fit(X_train,y_train)"
   ]
  },
  {
   "cell_type": "code",
   "execution_count": 18,
   "id": "38b0997a",
   "metadata": {
    "ExecuteTime": {
     "end_time": "2022-02-19T22:03:23.377568Z",
     "start_time": "2022-02-19T22:03:23.342148Z"
    },
    "scrolled": true
   },
   "outputs": [
    {
     "data": {
      "text/plain": [
       "0.2831689430794311"
      ]
     },
     "execution_count": 18,
     "metadata": {},
     "output_type": "execute_result"
    }
   ],
   "source": [
    "model.score(X_test,y_test)"
   ]
  },
  {
   "cell_type": "markdown",
   "id": "58925692",
   "metadata": {},
   "source": [
    "# otra regresion lineal"
   ]
  },
  {
   "cell_type": "code",
   "execution_count": 21,
   "id": "ffa2ef24",
   "metadata": {
    "ExecuteTime": {
     "end_time": "2022-02-19T22:06:18.814987Z",
     "start_time": "2022-02-19T22:06:18.797989Z"
    }
   },
   "outputs": [],
   "source": [
    "reg = linear_model.Ridge(alpha=.5)"
   ]
  },
  {
   "cell_type": "code",
   "execution_count": 22,
   "id": "ca915ec8",
   "metadata": {
    "ExecuteTime": {
     "end_time": "2022-02-19T22:06:42.278487Z",
     "start_time": "2022-02-19T22:06:42.176449Z"
    }
   },
   "outputs": [
    {
     "data": {
      "text/plain": [
       "Ridge(alpha=0.5)"
      ]
     },
     "execution_count": 22,
     "metadata": {},
     "output_type": "execute_result"
    }
   ],
   "source": [
    "reg.fit(X_train,y_train)"
   ]
  },
  {
   "cell_type": "code",
   "execution_count": 23,
   "id": "6fad6446",
   "metadata": {
    "ExecuteTime": {
     "end_time": "2022-02-19T22:06:50.289386Z",
     "start_time": "2022-02-19T22:06:50.274393Z"
    }
   },
   "outputs": [
    {
     "data": {
      "text/plain": [
       "0.2831689886819654"
      ]
     },
     "execution_count": 23,
     "metadata": {},
     "output_type": "execute_result"
    }
   ],
   "source": [
    "reg.score(X_test,y_test)"
   ]
  },
  {
   "cell_type": "code",
   "execution_count": null,
   "id": "535e583b",
   "metadata": {},
   "outputs": [],
   "source": [
    "# hay que hace sclaler y dstribucionbb"
   ]
  },
  {
   "cell_type": "code",
   "execution_count": null,
   "id": "82d6f2dc",
   "metadata": {},
   "outputs": [],
   "source": []
  },
  {
   "cell_type": "code",
   "execution_count": null,
   "id": "2879cdab",
   "metadata": {},
   "outputs": [],
   "source": []
  },
  {
   "cell_type": "code",
   "execution_count": null,
   "id": "52aad16c",
   "metadata": {},
   "outputs": [],
   "source": []
  },
  {
   "cell_type": "code",
   "execution_count": null,
   "id": "b85e3517",
   "metadata": {
    "ExecuteTime": {
     "end_time": "2022-02-19T20:48:53.766282Z",
     "start_time": "2022-02-19T20:48:53.713286Z"
    },
    "scrolled": true
   },
   "outputs": [],
   "source": [
    "df.select_dtypes(\"int64\")"
   ]
  },
  {
   "cell_type": "code",
   "execution_count": 28,
   "id": "77fd543e",
   "metadata": {
    "ExecuteTime": {
     "end_time": "2022-02-19T22:39:43.464576Z",
     "start_time": "2022-02-19T22:39:42.897298Z"
    },
    "scrolled": true
   },
   "outputs": [
    {
     "name": "stderr",
     "output_type": "stream",
     "text": [
      "C:\\Users\\irazu\\anaconda3\\lib\\site-packages\\seaborn\\distributions.py:2557: FutureWarning: `distplot` is a deprecated function and will be removed in a future version. Please adapt your code to use either `displot` (a figure-level function with similar flexibility) or `histplot` (an axes-level function for histograms).\n",
      "  warnings.warn(msg, FutureWarning)\n"
     ]
    },
    {
     "data": {
      "text/plain": [
       "<AxesSubplot:xlabel='progresion_anual', ylabel='Density'>"
      ]
     },
     "execution_count": 28,
     "metadata": {},
     "output_type": "execute_result"
    },
    {
     "data": {
      "image/png": "[encoded data removed]",
      "text/plain": [
       "<Figure size 432x288 with 1 Axes>"
      ]
     },
     "metadata": {
      "needs_background": "light"
     },
     "output_type": "display_data"
    }
   ],
   "source": [
    "sns.distplot(df[\"progresion_anual\"])"
   ]
  }
 ],
 "metadata": {
  "kernelspec": {
   "display_name": "Python 3",
   "language": "python",
   "name": "python3"
  },
  "toc": {
   "base_numbering": 1,
   "nav_menu": {},
   "number_sections": true,
   "sideBar": true,
   "skip_h1_title": false,
   "title_cell": "Table of Contents",
   "title_sidebar": "Contents",
   "toc_cell": false,
   "toc_position": {},
   "toc_section_display": true,
   "toc_window_display": false
  },
  "varInspector": {
   "cols": {
    "lenName": 16,
    "lenType": 16,
    "lenVar": 40
   },
   "kernels_config": {
    "python": {
     "delete_cmd_postfix": "",
     "delete_cmd_prefix": "del ",
     "library": "var_list.py",
     "varRefreshCmd": "print(var_dic_list())"
    },
    "r": {
     "delete_cmd_postfix": ") ",
     "delete_cmd_prefix": "rm(",
     "library": "var_list.r",
     "varRefreshCmd": "cat(var_dic_list()) "
    }
   },
   "types_to_exclude": [
    "module",
    "function",
    "builtin_function_or_method",
    "instance",
    "_Feature"
   ],
   "window_display": false
  }
 },
 "nbformat": 4,
 "nbformat_minor": 5
}
