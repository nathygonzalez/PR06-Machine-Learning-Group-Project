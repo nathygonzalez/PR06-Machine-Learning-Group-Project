{
 "cells": [
  {
   "cell_type": "code",
   "execution_count": 1,
   "id": "069e56d2",
   "metadata": {},
   "outputs": [],
   "source": [
    "import pandas as pd\n",
    "import numpy as np\n",
    "import seaborn as sns\n",
    "import matplotlib.pyplot as plt"
   ]
  },
  {
   "cell_type": "markdown",
   "id": "3dd7e07f",
   "metadata": {},
   "source": [
    "## Filtramos el dataset por posicion"
   ]
  },
  {
   "cell_type": "code",
   "execution_count": 2,
   "id": "a8947d4a",
   "metadata": {},
   "outputs": [],
   "source": [
    "df=pd.read_csv('data/df_cleaned.csv')"
   ]
  },
  {
   "cell_type": "code",
   "execution_count": 3,
   "id": "03e3610e",
   "metadata": {},
   "outputs": [],
   "source": [
    "df=df[df['player_positions']=='portero']"
   ]
  },
  {
   "cell_type": "markdown",
   "id": "096dd0cf",
   "metadata": {},
   "source": [
    "## Elimino columnas overall"
   ]
  },
  {
   "cell_type": "code",
   "execution_count": 4,
   "id": "c9764619",
   "metadata": {},
   "outputs": [],
   "source": [
    "df.drop([\"ls\",\"st\",\"rs\",\"lw\",\"lf\",\"cf\",\"rf\",\"rw\", 'lam', 'cam', 'ram', 'lm', 'lcm', 'cm', 'rcm', 'rm', 'ldm', 'cdm', 'rdm',\n",
    "     'lwb', 'rwb', 'lb', 'lcb', 'cb', 'rcb', 'rb',\"gk\"],axis=1,inplace=True)"
   ]
  },
  {
   "cell_type": "markdown",
   "id": "a11da44d",
   "metadata": {},
   "source": [
    "## feature engineering"
   ]
  },
  {
   "cell_type": "code",
   "execution_count": 5,
   "id": "dd368dbf",
   "metadata": {},
   "outputs": [
    {
     "data": {
      "text/plain": [
       "Right    8565\n",
       "Left     1069\n",
       "Name: preferred_foot, dtype: int64"
      ]
     },
     "execution_count": 5,
     "metadata": {},
     "output_type": "execute_result"
    }
   ],
   "source": [
    "df.preferred_foot.value_counts() #categorica a OHE"
   ]
  },
  {
   "cell_type": "code",
   "execution_count": 6,
   "id": "95e3ad2d",
   "metadata": {},
   "outputs": [
    {
     "data": {
      "text/plain": [
       "Medium/Medium    9634\n",
       "Name: work_rate, dtype: int64"
      ]
     },
     "execution_count": 6,
     "metadata": {},
     "output_type": "execute_result"
    }
   ],
   "source": [
    "df.work_rate.value_counts() #categorica transformarla con un ordinal encoder"
   ]
  },
  {
   "cell_type": "code",
   "execution_count": 7,
   "id": "f6905a3f",
   "metadata": {},
   "outputs": [
    {
     "data": {
      "text/plain": [
       "Normal    6863\n",
       "Lean      2140\n",
       "Stocky     614\n",
       "Unique      17\n",
       "Name: body_type, dtype: int64"
      ]
     },
     "execution_count": 7,
     "metadata": {},
     "output_type": "execute_result"
    }
   ],
   "source": [
    "df.body_type.value_counts() #Transformar la variable de más a menos mosculado con un ordinal encoder\n",
    "#(Lean < Normal < Stocky) + Unique = -1\n",
    "#oe_cat = OrdinalEncoder(handle_unknown='use_encoded_value', unknown_value=-1, categories=[unique_categories for _ in [\"columns\", \"you\", \"want\"]])"
   ]
  },
  {
   "cell_type": "code",
   "execution_count": 8,
   "id": "24a48a8b",
   "metadata": {},
   "outputs": [
    {
     "data": {
      "text/plain": [
       "No     8861\n",
       "Yes     773\n",
       "Name: real_face, dtype: int64"
      ]
     },
     "execution_count": 8,
     "metadata": {},
     "output_type": "execute_result"
    }
   ],
   "source": [
    "df.real_face.value_counts() #categorica a OHE"
   ]
  },
  {
   "cell_type": "code",
   "execution_count": 9,
   "id": "f739e32c",
   "metadata": {},
   "outputs": [
    {
     "data": {
      "text/plain": [
       "2019    1476\n",
       "2020    1461\n",
       "2021    1435\n",
       "2017    1400\n",
       "2018    1386\n",
       "2016    1266\n",
       "2015    1210\n",
       "Name: año_version, dtype: int64"
      ]
     },
     "execution_count": 9,
     "metadata": {},
     "output_type": "execute_result"
    }
   ],
   "source": [
    "df.año_version.value_counts() #categorica a OHE"
   ]
  },
  {
   "cell_type": "code",
   "execution_count": 10,
   "id": "c3813777",
   "metadata": {},
   "outputs": [
    {
     "data": {
      "text/plain": [
       "portero    9634\n",
       "Name: player_positions, dtype: int64"
      ]
     },
     "execution_count": 10,
     "metadata": {},
     "output_type": "execute_result"
    }
   ],
   "source": [
    "df.player_positions.value_counts() #categorica a OHE"
   ]
  },
  {
   "cell_type": "code",
   "execution_count": 11,
   "id": "0b4b6946",
   "metadata": {},
   "outputs": [
    {
     "name": "stdout",
     "output_type": "stream",
     "text": [
      "['sofifa_id', 'short_name', 'long_name', 'player_positions', 'overall', 'potential', 'value_eur', 'wage_eur', 'age', 'dob', 'height_cm', 'weight_kg', 'club_team_id', 'club_name', 'league_name', 'league_level', 'club_position', 'club_jersey_number', 'club_joined', 'club_contract_valid_until', 'nationality_id', 'nationality_name', 'nation_team_id', 'nation_position', 'preferred_foot', 'weak_foot', 'skill_moves', 'international_reputation', 'work_rate', 'body_type', 'real_face', 'player_traits', 'pace', 'shooting', 'passing', 'dribbling', 'defending', 'physic', 'attacking_crossing', 'attacking_finishing', 'attacking_heading_accuracy', 'attacking_short_passing', 'attacking_volleys', 'skill_dribbling', 'skill_curve', 'skill_fk_accuracy', 'skill_long_passing', 'skill_ball_control', 'movement_acceleration', 'movement_sprint_speed', 'movement_agility', 'movement_reactions', 'movement_balance', 'power_shot_power', 'power_jumping', 'power_stamina', 'power_strength', 'power_long_shots', 'mentality_aggression', 'mentality_interceptions', 'mentality_positioning', 'mentality_vision', 'mentality_penalties', 'mentality_composure', 'defending_marking_awareness', 'defending_standing_tackle', 'defending_sliding_tackle', 'goalkeeping_diving', 'goalkeeping_handling', 'goalkeeping_kicking', 'goalkeeping_positioning', 'goalkeeping_reflexes', 'goalkeeping_speed', 'año_version', 'progresion_anual', 'overall_team/year', 'teams_in_league/year', 'mean_league/year', 'mean_team/year', 'ranking', 'puntos', 'años_de_contrato']\n"
     ]
    }
   ],
   "source": [
    "#ver todas las variables \n",
    "pd.set_option('display.max_columns', None)\n",
    "print(df.columns.tolist())"
   ]
  },
  {
   "cell_type": "code",
   "execution_count": 12,
   "id": "3cffaf08",
   "metadata": {},
   "outputs": [],
   "source": [
    "#eliminamos columnas que sabemos seguro que sólo aportan ruido\n",
    "df.drop([\"sofifa_id\",'short_name', 'long_name',\"nationality_id\",\"dob\",'club_team_id', 'club_name', 'league_name',\n",
    "        'club_jersey_number', 'club_joined', 'club_contract_valid_until','nationality_id', 'nationality_name','player_traits',\n",
    "        'ranking','puntos'],axis=1,inplace=True)"
   ]
  },
  {
   "cell_type": "markdown",
   "id": "e3bc9e80",
   "metadata": {},
   "source": [
    "## Feacture selection"
   ]
  },
  {
   "cell_type": "code",
   "execution_count": 13,
   "id": "e3540d80",
   "metadata": {},
   "outputs": [],
   "source": [
    "from sklearn.preprocessing import StandardScaler, OneHotEncoder, LabelEncoder, OrdinalEncoder\n",
    "from sklearn.compose import make_column_transformer\n",
    "from sklearn.pipeline import make_pipeline\n",
    "from sklearn.linear_model import LinearRegression, Lasso, Ridge, ElasticNet"
   ]
  },
  {
   "cell_type": "code",
   "execution_count": 14,
   "id": "c9b977e9",
   "metadata": {},
   "outputs": [],
   "source": [
    "work_rate_ord=['Low/Low','Low/Medium','Low/High','Medium/Low','Medium/Medium','Medium/High','High/Low','High/Medium','High/High']\n",
    "league_level_ord=['0.0','4.0','3.0','2.0','1.0']\n",
    "#body_type_ord=['Lean','Normal','Stocky'] con OHE"
   ]
  },
  {
   "cell_type": "code",
   "execution_count": 15,
   "id": "df158723",
   "metadata": {},
   "outputs": [],
   "source": [
    "df['league_level']=df['league_level'].apply(str)"
   ]
  },
  {
   "cell_type": "code",
   "execution_count": 16,
   "id": "8f13ad64",
   "metadata": {},
   "outputs": [],
   "source": [
    "df.drop('player_positions',axis=1,inplace=True)"
   ]
  },
  {
   "cell_type": "code",
   "execution_count": 17,
   "id": "4570d918",
   "metadata": {},
   "outputs": [
    {
     "data": {
      "text/plain": [
       "league_level      True\n",
       "preferred_foot    True\n",
       "work_rate         True\n",
       "body_type         True\n",
       "real_face         True\n",
       "dtype: bool"
      ]
     },
     "execution_count": 17,
     "metadata": {},
     "output_type": "execute_result"
    }
   ],
   "source": [
    "categorical = df.dtypes == object\n",
    "categorical[categorical==True]"
   ]
  },
  {
   "cell_type": "code",
   "execution_count": 18,
   "id": "72fddeb2",
   "metadata": {},
   "outputs": [],
   "source": [
    "#definimos X e y\n",
    "X=df.drop('progresion_anual',axis=1)\n",
    "y=df['progresion_anual']"
   ]
  },
  {
   "cell_type": "code",
   "execution_count": 19,
   "id": "c05d6b0b",
   "metadata": {},
   "outputs": [],
   "source": [
    "\n",
    "feature_engineering=make_column_transformer((OrdinalEncoder(categories=[work_rate_ord,league_level_ord]),['work_rate','league_level']),\n",
    "                                            (OneHotEncoder(drop='first'),['preferred_foot','body_type','real_face','año_version','nation_team_id','club_position']),\n",
    "                                            (StandardScaler(),  X.select_dtypes('number').drop(['año_version','club_position','nation_team_id'],axis=1).columns) \n",
    "                                           )"
   ]
  },
  {
   "cell_type": "code",
   "execution_count": 20,
   "id": "5201ad5b",
   "metadata": {},
   "outputs": [],
   "source": [
    "#transformamos las X en variables numéricas todas\n",
    "X_features = feature_engineering.fit_transform(X)"
   ]
  },
  {
   "cell_type": "code",
   "execution_count": 21,
   "id": "aade8668",
   "metadata": {},
   "outputs": [
    {
     "data": {
      "text/plain": [
       "(9634, 72)"
      ]
     },
     "execution_count": 21,
     "metadata": {},
     "output_type": "execute_result"
    }
   ],
   "source": [
    "#comprobamos tamaño\n",
    "X_features.shape"
   ]
  },
  {
   "cell_type": "code",
   "execution_count": 22,
   "id": "88764c1b",
   "metadata": {},
   "outputs": [],
   "source": [
    "from sklearn.feature_selection import SelectFromModel, SelectKBest, mutual_info_regression\n",
    "from sklearn.pipeline import Pipeline"
   ]
  },
  {
   "cell_type": "code",
   "execution_count": 23,
   "id": "f3696736",
   "metadata": {},
   "outputs": [],
   "source": [
    "X_model = SelectFromModel(Ridge()).fit_transform(X_features, y)"
   ]
  },
  {
   "cell_type": "code",
   "execution_count": 24,
   "id": "a99730c4",
   "metadata": {},
   "outputs": [],
   "source": [
    "X_model = SelectFromModel(Ridge(max_iter=10000)).fit_transform(X_features, y)"
   ]
  },
  {
   "cell_type": "code",
   "execution_count": 25,
   "id": "7352491c",
   "metadata": {},
   "outputs": [
    {
     "data": {
      "text/plain": [
       "(9634, 19)"
      ]
     },
     "execution_count": 25,
     "metadata": {},
     "output_type": "execute_result"
    }
   ],
   "source": [
    "X_model.shape #seleccionar 19 variables"
   ]
  },
  {
   "cell_type": "markdown",
   "id": "89821501",
   "metadata": {},
   "source": [
    "## Feacture importance"
   ]
  },
  {
   "cell_type": "code",
   "execution_count": 26,
   "id": "01b39b33",
   "metadata": {},
   "outputs": [],
   "source": [
    "#formula para sacar los nombres de un X_features\n",
    "def get_column_names_from_ColumnTransformer(column_transformer):    \n",
    "    col_name = []\n",
    "    for transformer_in_columns in column_transformer.transformers_[:-1]:#the last transformer is ColumnTransformer's 'remainder'\n",
    "        raw_col_name = transformer_in_columns[2]\n",
    "        if isinstance(transformer_in_columns[1],Pipeline): \n",
    "            transformer = transformer_in_columns[1].steps[-1][1]\n",
    "        else:\n",
    "            transformer = transformer_in_columns[1]\n",
    "        try:\n",
    "            names = transformer.get_feature_names()\n",
    "        except AttributeError: # if no 'get_feature_names' function, use raw column name\n",
    "            names = raw_col_name\n",
    "        if isinstance(names,np.ndarray): # eg.\n",
    "            col_name += names.tolist()\n",
    "        elif isinstance(names,list):\n",
    "            col_name += names    \n",
    "        elif isinstance(names,str):\n",
    "            col_name.append(names)\n",
    "    return col_name"
   ]
  },
  {
   "cell_type": "code",
   "execution_count": 27,
   "id": "0c26e424",
   "metadata": {},
   "outputs": [],
   "source": [
    "m=mutual_info_regression(X_features, y)"
   ]
  },
  {
   "cell_type": "code",
   "execution_count": 28,
   "id": "abfd1eb7",
   "metadata": {},
   "outputs": [
    {
     "name": "stderr",
     "output_type": "stream",
     "text": [
      "C:\\Users\\carlo\\anaconda3\\lib\\site-packages\\sklearn\\utils\\deprecation.py:87: FutureWarning: Function get_feature_names is deprecated; get_feature_names is deprecated in 1.0 and will be removed in 1.2. Please use get_feature_names_out instead.\n",
      "  warnings.warn(msg, category=FutureWarning)\n"
     ]
    }
   ],
   "source": [
    "#obtengo todos los nombres en una lista\n",
    "variables=(get_column_names_from_ColumnTransformer(feature_engineering))+X.select_dtypes('number').drop(['año_version','club_position','nation_team_id'],axis=1).columns.to_list()"
   ]
  },
  {
   "cell_type": "code",
   "execution_count": 29,
   "id": "fb49f8e3",
   "metadata": {
    "scrolled": true
   },
   "outputs": [
    {
     "data": {
      "text/plain": [
       "overall                     2.222923\n",
       "value_eur                   0.732051\n",
       "goalkeeping_diving          0.640205\n",
       "goalkeeping_positioning     0.629509\n",
       "goalkeeping_reflexes        0.621344\n",
       "potential                   0.610446\n",
       "goalkeeping_handling        0.555294\n",
       "wage_eur                    0.379606\n",
       "movement_reactions          0.370051\n",
       "goalkeeping_kicking         0.281461\n",
       "mean_league/year            0.188652\n",
       "mean_team/year              0.169631\n",
       "age                         0.147012\n",
       "mentality_composure         0.123727\n",
       "international_reputation    0.118070\n",
       "overall_team/year           0.106865\n",
       "power_shot_power            0.088913\n",
       "power_jumping               0.081460\n",
       "mentality_vision            0.079157\n",
       "dtype: float64"
      ]
     },
     "execution_count": 29,
     "metadata": {},
     "output_type": "execute_result"
    }
   ],
   "source": [
    "pd.Series(m,index=variables).sort_values(kind=\"quicksort\",ascending=False).head(19)"
   ]
  },
  {
   "cell_type": "code",
   "execution_count": 30,
   "id": "8159ffec",
   "metadata": {},
   "outputs": [],
   "source": [
    "top_X=pd.Series(m,index=variables).sort_values(kind=\"quicksort\",ascending=False).head(19)"
   ]
  },
  {
   "cell_type": "code",
   "execution_count": 31,
   "id": "afbdf0fc",
   "metadata": {},
   "outputs": [],
   "source": [
    "top_X=top_X.to_frame('top').reset_index()['index'].to_list() #x5_1 es igual a 'club_position'"
   ]
  },
  {
   "cell_type": "code",
   "execution_count": 32,
   "id": "427e2a7b",
   "metadata": {},
   "outputs": [
    {
     "data": {
      "text/plain": [
       "['overall',\n",
       " 'value_eur',\n",
       " 'goalkeeping_diving',\n",
       " 'goalkeeping_positioning',\n",
       " 'goalkeeping_reflexes',\n",
       " 'potential',\n",
       " 'goalkeeping_handling',\n",
       " 'wage_eur',\n",
       " 'movement_reactions',\n",
       " 'goalkeeping_kicking',\n",
       " 'mean_league/year',\n",
       " 'mean_team/year',\n",
       " 'age',\n",
       " 'mentality_composure',\n",
       " 'international_reputation',\n",
       " 'overall_team/year',\n",
       " 'power_shot_power',\n",
       " 'power_jumping',\n",
       " 'mentality_vision']"
      ]
     },
     "execution_count": 32,
     "metadata": {},
     "output_type": "execute_result"
    }
   ],
   "source": [
    "top_X"
   ]
  },
  {
   "cell_type": "code",
   "execution_count": 33,
   "id": "9b1a0f51",
   "metadata": {},
   "outputs": [
    {
     "data": {
      "text/plain": [
       "\"top_X.remove('x5_1')\\ntop_X.remove('x2_Yes')\""
      ]
     },
     "execution_count": 33,
     "metadata": {},
     "output_type": "execute_result"
    }
   ],
   "source": [
    "'''top_X.remove('x5_1')\n",
    "top_X.remove('x2_Yes')'''"
   ]
  },
  {
   "cell_type": "code",
   "execution_count": 34,
   "id": "a1b8c88c",
   "metadata": {},
   "outputs": [
    {
     "data": {
      "text/plain": [
       "\"top_X.append('club_position')\\ntop_X.append('real_face')\""
      ]
     },
     "execution_count": 34,
     "metadata": {},
     "output_type": "execute_result"
    }
   ],
   "source": [
    "'''top_X.append('club_position')\n",
    "top_X.append('real_face')'''"
   ]
  },
  {
   "cell_type": "markdown",
   "id": "0ac33124",
   "metadata": {},
   "source": [
    "## Creación de pipeline"
   ]
  },
  {
   "cell_type": "code",
   "execution_count": 35,
   "id": "b444381a",
   "metadata": {},
   "outputs": [],
   "source": [
    "#definimos X e y\n",
    "X=df[top_X]\n",
    "y=df['progresion_anual']"
   ]
  },
  {
   "cell_type": "code",
   "execution_count": 36,
   "id": "5e0dab58",
   "metadata": {},
   "outputs": [],
   "source": [
    "#Con top 19 variables\n",
    "feature_engineering=make_column_transformer((StandardScaler(),  X.select_dtypes('number').columns)\n",
    "                                           )"
   ]
  },
  {
   "cell_type": "code",
   "execution_count": 37,
   "id": "0e141581",
   "metadata": {
    "code_folding": []
   },
   "outputs": [
    {
     "data": {
      "text/plain": [
       "\"#Con top 20 variables\\nfeature_engineering=make_column_transformer((OneHotEncoder(drop='first'),['club_position']),\\n                                            (StandardScaler(),  X.select_dtypes('number').drop(['club_position'],axis=1).columns)\\n                                           )\\n                                           \""
      ]
     },
     "execution_count": 37,
     "metadata": {},
     "output_type": "execute_result"
    }
   ],
   "source": [
    "'''#Con top 20 variables\n",
    "feature_engineering=make_column_transformer((OneHotEncoder(drop='first'),['club_position']),\n",
    "                                            (StandardScaler(),  X.select_dtypes('number').drop(['club_position'],axis=1).columns)\n",
    "                                           )\n",
    "                                           '''"
   ]
  },
  {
   "cell_type": "code",
   "execution_count": 38,
   "id": "8616a882",
   "metadata": {
    "code_folding": []
   },
   "outputs": [
    {
     "data": {
      "text/plain": [
       "\"#Con top 30 variables\\nfeature_engineering=make_column_transformer((OneHotEncoder(drop='first'),['club_position','real_face']),\\n                                            (StandardScaler(),  X.select_dtypes('number').drop(['club_position'],axis=1).columns)\\n                                           )\\n                                           \""
      ]
     },
     "execution_count": 38,
     "metadata": {},
     "output_type": "execute_result"
    }
   ],
   "source": [
    "'''#Con top 30 variables\n",
    "feature_engineering=make_column_transformer((OneHotEncoder(drop='first'),['club_position','real_face']),\n",
    "                                            (StandardScaler(),  X.select_dtypes('number').drop(['club_position'],axis=1).columns)\n",
    "                                           )\n",
    "                                           '''"
   ]
  },
  {
   "cell_type": "code",
   "execution_count": 39,
   "id": "cc472719",
   "metadata": {},
   "outputs": [],
   "source": [
    "#creamos un pipeline?\n",
    "pipe = make_pipeline(feature_engineering, Ridge())"
   ]
  },
  {
   "cell_type": "code",
   "execution_count": 40,
   "id": "8017081d",
   "metadata": {},
   "outputs": [
    {
     "data": {
      "text/plain": [
       "Pipeline(steps=[('columntransformer',\n",
       "                 ColumnTransformer(transformers=[('standardscaler',\n",
       "                                                  StandardScaler(),\n",
       "                                                  Index(['overall', 'value_eur', 'goalkeeping_diving', 'goalkeeping_positioning',\n",
       "       'goalkeeping_reflexes', 'potential', 'goalkeeping_handling', 'wage_eur',\n",
       "       'movement_reactions', 'goalkeeping_kicking', 'mean_league/year',\n",
       "       'mean_team/year', 'age', 'mentality_composure',\n",
       "       'international_reputation', 'overall_team/year', 'power_shot_power',\n",
       "       'power_jumping', 'mentality_vision'],\n",
       "      dtype='object'))])),\n",
       "                ('ridge', Ridge())])"
      ]
     },
     "execution_count": 40,
     "metadata": {},
     "output_type": "execute_result"
    }
   ],
   "source": [
    "pipe.fit(X,y)"
   ]
  },
  {
   "cell_type": "code",
   "execution_count": 41,
   "id": "2316ceac",
   "metadata": {},
   "outputs": [
    {
     "data": {
      "text/plain": [
       "0.18529726717577655"
      ]
     },
     "execution_count": 41,
     "metadata": {},
     "output_type": "execute_result"
    }
   ],
   "source": [
    "pipe.score(X,y)"
   ]
  },
  {
   "cell_type": "code",
   "execution_count": 42,
   "id": "97ed7aa2",
   "metadata": {},
   "outputs": [],
   "source": [
    "from sklearn.model_selection import GridSearchCV"
   ]
  },
  {
   "cell_type": "code",
   "execution_count": 43,
   "id": "6e4a5a0f",
   "metadata": {},
   "outputs": [],
   "source": [
    "params={'ridge__alpha':10.0**np.arange(-3,3)}"
   ]
  },
  {
   "cell_type": "code",
   "execution_count": 44,
   "id": "b4b069eb",
   "metadata": {},
   "outputs": [],
   "source": [
    "model=GridSearchCV(pipe, param_grid=params, cv=5) .fit(X,y)"
   ]
  },
  {
   "cell_type": "code",
   "execution_count": 45,
   "id": "98a31166",
   "metadata": {},
   "outputs": [
    {
     "data": {
      "text/plain": [
       "{'ridge__alpha': 0.001}"
      ]
     },
     "execution_count": 45,
     "metadata": {},
     "output_type": "execute_result"
    }
   ],
   "source": [
    "model.best_params_"
   ]
  },
  {
   "cell_type": "code",
   "execution_count": 46,
   "id": "8887852f",
   "metadata": {},
   "outputs": [
    {
     "data": {
      "text/plain": [
       "0.18530815168845216"
      ]
     },
     "execution_count": 46,
     "metadata": {},
     "output_type": "execute_result"
    }
   ],
   "source": [
    "model.best_estimator_.fit(X,y).score(X,y) #mejor modelo de regresion"
   ]
  },
  {
   "cell_type": "markdown",
   "id": "e91cb66e",
   "metadata": {},
   "source": [
    "## Modelos clasificación"
   ]
  },
  {
   "cell_type": "code",
   "execution_count": 47,
   "id": "f2db50a4",
   "metadata": {},
   "outputs": [],
   "source": [
    "from sklearn import svm\n",
    "from sklearn.tree import DecisionTreeClassifier\n",
    "from sklearn.model_selection import train_test_split\n",
    "from sklearn.tree import DecisionTreeRegressor\n",
    "from sklearn.linear_model import LinearRegression\n",
    "from sklearn import ensemble\n"
   ]
  },
  {
   "cell_type": "code",
   "execution_count": 48,
   "id": "00a12c6d",
   "metadata": {},
   "outputs": [],
   "source": [
    "from sklearn.metrics import classification_report\n",
    "target=[]\n",
    "#elegimos el % de target para que sea 0 y 1\n",
    "for i in df.progresion_anual:\n",
    "    if i>0.1:\n",
    "        target.append(1)\n",
    "    else:\n",
    "        target.append(0)\n",
    "df[\"target\"]=target\n"
   ]
  },
  {
   "cell_type": "code",
   "execution_count": 49,
   "id": "cf2b5330",
   "metadata": {},
   "outputs": [],
   "source": [
    "X_features = feature_engineering.fit_transform(X)"
   ]
  },
  {
   "cell_type": "code",
   "execution_count": 50,
   "id": "58d9c865",
   "metadata": {},
   "outputs": [],
   "source": [
    "#elegir la X\n",
    "X=X_features\n",
    "y=df.target\n"
   ]
  },
  {
   "cell_type": "code",
   "execution_count": 51,
   "id": "7bc980ca",
   "metadata": {},
   "outputs": [],
   "source": [
    "#rebalanceo\n",
    "import imblearn\n",
    "from imblearn.under_sampling import RandomUnderSampler\n",
    "X_res, y_res = RandomUnderSampler().fit_resample(X,y)\n",
    "#split\n",
    "X_train, X_test, y_train, y_test = train_test_split(X_res, y_res, test_size = 0.15, random_state=42)"
   ]
  },
  {
   "cell_type": "code",
   "execution_count": 52,
   "id": "17b923a1",
   "metadata": {},
   "outputs": [],
   "source": [
    "from sklearn.svm import SVC"
   ]
  },
  {
   "cell_type": "code",
   "execution_count": 53,
   "id": "11d0f4a8",
   "metadata": {},
   "outputs": [
    {
     "data": {
      "text/plain": [
       "array([[-1.02485241, -0.33818712, -0.61946142, ..., -0.59499779,\n",
       "        -0.47476068, -1.0975021 ],\n",
       "       [-1.54896144, -0.35240928, -0.87732053, ..., -1.44822434,\n",
       "        -0.5630452 ,  0.03984778],\n",
       "       [ 0.15439293, -0.26885407,  0.02518636, ...,  1.18902137,\n",
       "         0.67293808, -1.7040887 ],\n",
       "       ...,\n",
       "       [-2.07307048, -0.34885374, -1.2641092 , ...,  0.33579482,\n",
       "         0.14323096,  0.03984778],\n",
       "       [ 0.15439293, -0.24218751,  0.92769326, ...,  1.34415347,\n",
       "         2.0854904 , -0.7942088 ],\n",
       "       [-0.36971611, -0.3088539 ,  0.02518636, ..., -0.67256384,\n",
       "         0.7612226 , -0.7942088 ]])"
      ]
     },
     "execution_count": 53,
     "metadata": {},
     "output_type": "execute_result"
    }
   ],
   "source": [
    "X_train"
   ]
  },
  {
   "cell_type": "code",
   "execution_count": 54,
   "id": "67398754",
   "metadata": {},
   "outputs": [
    {
     "name": "stdout",
     "output_type": "stream",
     "text": [
      "              precision    recall  f1-score   support\n",
      "\n",
      "           0       0.72      0.60      0.66        63\n",
      "           1       0.68      0.78      0.72        67\n",
      "\n",
      "    accuracy                           0.69       130\n",
      "   macro avg       0.70      0.69      0.69       130\n",
      "weighted avg       0.70      0.69      0.69       130\n",
      "\n"
     ]
    }
   ],
   "source": [
    "#modelo3\n",
    "model3=DecisionTreeClassifier().fit(X_train,y_train)\n",
    "y_pred=model3.predict(X_test)\n",
    "print(classification_report(y_test, y_pred))"
   ]
  },
  {
   "cell_type": "code",
   "execution_count": 55,
   "id": "cdf9ae31",
   "metadata": {},
   "outputs": [],
   "source": [
    "#modelo4\n",
    "model4=SVC()"
   ]
  },
  {
   "cell_type": "code",
   "execution_count": 56,
   "id": "0e9fcf80",
   "metadata": {},
   "outputs": [
    {
     "data": {
      "text/plain": [
       "SVC()"
      ]
     },
     "execution_count": 56,
     "metadata": {},
     "output_type": "execute_result"
    }
   ],
   "source": [
    "model4"
   ]
  },
  {
   "cell_type": "code",
   "execution_count": 57,
   "id": "9241924a",
   "metadata": {},
   "outputs": [
    {
     "data": {
      "text/plain": [
       "0.7"
      ]
     },
     "execution_count": 57,
     "metadata": {},
     "output_type": "execute_result"
    }
   ],
   "source": [
    "model4.fit(X_train,y_train).score(X_test,y_test)\n"
   ]
  },
  {
   "cell_type": "code",
   "execution_count": 58,
   "id": "f88b3932",
   "metadata": {},
   "outputs": [
    {
     "name": "stdout",
     "output_type": "stream",
     "text": [
      "              precision    recall  f1-score   support\n",
      "\n",
      "           0       0.74      0.59      0.65        63\n",
      "           1       0.68      0.81      0.73        67\n",
      "\n",
      "    accuracy                           0.70       130\n",
      "   macro avg       0.71      0.70      0.69       130\n",
      "weighted avg       0.71      0.70      0.70       130\n",
      "\n"
     ]
    }
   ],
   "source": [
    "y_pred=model4.predict(X_test)\n",
    "print(classification_report(y_test, y_pred))"
   ]
  },
  {
   "cell_type": "code",
   "execution_count": 59,
   "id": "293b0e44",
   "metadata": {},
   "outputs": [
    {
     "data": {
      "text/plain": [
       "array([0, 1, 1, 1, 0, 0, 1, 0, 1, 1, 0, 1, 1, 1, 1, 1, 0, 1, 0, 1, 1, 1,\n",
       "       0, 0, 1, 1, 0, 1, 0, 1, 1, 0, 1, 0, 0, 0, 0, 0, 0, 1, 1, 1, 1, 1,\n",
       "       0, 1, 0, 0, 1, 1, 1, 1, 0, 1, 1, 1, 1, 0, 1, 0, 0, 1, 1, 1, 0, 0,\n",
       "       1, 1, 1, 1, 1, 0, 1, 1, 0, 1, 1, 0, 1, 1, 1, 1, 1, 1, 1, 0, 1, 0,\n",
       "       1, 1, 1, 1, 0, 0, 1, 1, 0, 1, 0, 1, 1, 1, 1, 0, 1, 1, 0, 0, 0, 1,\n",
       "       0, 1, 1, 0, 0, 1, 1, 0, 0, 0, 1, 1, 0, 1, 1, 1, 0, 1, 0, 0],\n",
       "      dtype=int64)"
      ]
     },
     "execution_count": 59,
     "metadata": {},
     "output_type": "execute_result"
    }
   ],
   "source": [
    "y_pred"
   ]
  }
 ],
 "metadata": {
  "kernelspec": {
   "display_name": "Python 3",
   "language": "python",
   "name": "python3"
  },
  "language_info": {
   "codemirror_mode": {
    "name": "ipython",
    "version": 3
   },
   "file_extension": ".py",
   "mimetype": "text/x-python",
   "name": "python",
   "nbconvert_exporter": "python",
   "pygments_lexer": "ipython3",
   "version": "3.8.8"
  },
  "toc": {
   "base_numbering": 1,
   "nav_menu": {},
   "number_sections": true,
   "sideBar": true,
   "skip_h1_title": false,
   "title_cell": "Table of Contents",
   "title_sidebar": "Contents",
   "toc_cell": false,
   "toc_position": {},
   "toc_section_display": true,
   "toc_window_display": false
  },
  "varInspector": {
   "cols": {
    "lenName": 16,
    "lenType": 16,
    "lenVar": 40
   },
   "kernels_config": {
    "python": {
     "delete_cmd_postfix": "",
     "delete_cmd_prefix": "del ",
     "library": "var_list.py",
     "varRefreshCmd": "print(var_dic_list())"
    },
    "r": {
     "delete_cmd_postfix": ") ",
     "delete_cmd_prefix": "rm(",
     "library": "var_list.r",
     "varRefreshCmd": "cat(var_dic_list()) "
    }
   },
   "types_to_exclude": [
    "module",
    "function",
    "builtin_function_or_method",
    "instance",
    "_Feature"
   ],
   "window_display": false
  }
 },
 "nbformat": 4,
 "nbformat_minor": 5
}
