{
 "cells": [
  {
   "cell_type": "code",
   "execution_count": 1,
   "id": "c5a92368",
   "metadata": {},
   "outputs": [],
   "source": [
    "import pandas as pd\n",
    "import numpy as np\n",
    "import seaborn as sns\n",
    "import matplotlib.pyplot as plt"
   ]
  },
  {
   "cell_type": "code",
   "execution_count": 2,
   "id": "9eea2bd0",
   "metadata": {},
   "outputs": [
    {
     "name": "stderr",
     "output_type": "stream",
     "text": [
      "C:\\Users\\carlo\\anaconda3\\lib\\site-packages\\IPython\\core\\interactiveshell.py:3165: DtypeWarning: Columns (99) have mixed types.Specify dtype option on import or set low_memory=False.\n",
      "  has_raised = await self.run_ast_nodes(code_ast.body, cell_name,\n"
     ]
    }
   ],
   "source": [
    "df=pd.read_csv('data/df_cleaned.csv')"
   ]
  },
  {
   "cell_type": "markdown",
   "id": "696244bc",
   "metadata": {},
   "source": [
    "## penultima limpieza"
   ]
  },
  {
   "cell_type": "code",
   "execution_count": 3,
   "id": "ff30476c",
   "metadata": {},
   "outputs": [],
   "source": [
    "df['gk'] =df['gk'].replace(\"+\",\"\")"
   ]
  },
  {
   "cell_type": "code",
   "execution_count": 4,
   "id": "ececff56",
   "metadata": {},
   "outputs": [],
   "source": [
    "df['gk'] = df['gk'].str.replace(r'\\+', '', regex=True)\n"
   ]
  },
  {
   "cell_type": "code",
   "execution_count": 5,
   "id": "c32f8e2c",
   "metadata": {},
   "outputs": [],
   "source": [
    "df.gk.fillna(0,inplace=True)"
   ]
  },
  {
   "cell_type": "code",
   "execution_count": 6,
   "id": "0349c1ba",
   "metadata": {},
   "outputs": [],
   "source": [
    "df['gk']=df.gk.astype(int)"
   ]
  },
  {
   "cell_type": "code",
   "execution_count": 7,
   "id": "37587e87",
   "metadata": {},
   "outputs": [
    {
     "data": {
      "text/plain": [
       "array([15, 16, 14, 17, 87, 34, 13, 18, 85, 83,  8, 84, 12, 82,  9, 11, 80,\n",
       "       81, 20,  6,  7, 79, 35, 10, 78, 77,  5, 76, 75, 25, 74, 73, 72, 27,\n",
       "       33, 71, 70, 69, 68, 67, 66, 65, 39, 64, 63, 62, 61, 60, 59,  4, 58,\n",
       "       57, 56, 55, 54, 53, 52, 51, 50, 49, 48, 47, 46, 43, 19, 37, 21, 38,\n",
       "       23, 22, 29, 31, 28, 32, 44, 89, 86, 45, 90, 88, 24,  0])"
      ]
     },
     "execution_count": 7,
     "metadata": {},
     "output_type": "execute_result"
    }
   ],
   "source": [
    "df['gk'].unique()"
   ]
  },
  {
   "cell_type": "markdown",
   "id": "820d28a0",
   "metadata": {},
   "source": [
    "## Añadir variable años pendientes de contrato"
   ]
  },
  {
   "cell_type": "code",
   "execution_count": 8,
   "id": "96b41198",
   "metadata": {},
   "outputs": [],
   "source": [
    "df['años_de_contrato']=np.where((df['club_contract_valid_until']-df['año_version'])<0,0,(df['club_contract_valid_until']-df['año_version']))"
   ]
  },
  {
   "cell_type": "code",
   "execution_count": 9,
   "id": "4fc69b4c",
   "metadata": {},
   "outputs": [
    {
     "data": {
      "text/plain": [
       "años_de_contrato\n",
       "0.0    30707\n",
       "1.0    21182\n",
       "2.0    17779\n",
       "3.0     9287\n",
       "4.0     4872\n",
       "5.0     2502\n",
       "6.0     1413\n",
       "7.0        3\n",
       "8.0        2\n",
       "Name: años_de_contrato, dtype: int64"
      ]
     },
     "execution_count": 9,
     "metadata": {},
     "output_type": "execute_result"
    }
   ],
   "source": [
    "#comprobación\n",
    "df.groupby('años_de_contrato')['años_de_contrato'].count()"
   ]
  },
  {
   "cell_type": "markdown",
   "id": "5390cca4",
   "metadata": {},
   "source": [
    "## Agrupar columna bodytype"
   ]
  },
  {
   "cell_type": "code",
   "execution_count": 10,
   "id": "8c1d29c1",
   "metadata": {},
   "outputs": [],
   "source": [
    "Lean=['Lean (170-)','Lean (185+)','Lean (170-185)']\n",
    "Normal=['Normal (170-)','Normal (170-185)','Normal (185+)']\n",
    "Stocky=['Stocky (170-)','Stocky (170-185)','Stocky (185+)']"
   ]
  },
  {
   "cell_type": "code",
   "execution_count": 11,
   "id": "0cd648be",
   "metadata": {},
   "outputs": [],
   "source": [
    "#agrupo posiciones en posiciones genéricas    \n",
    "for i in df.index:\n",
    "    if df.at[i,'body_type'] in Lean:\n",
    "        df.at[i,'body_type']='Lean'\n",
    "    elif df.at[i,'body_type'] in Normal:\n",
    "        df.at[i,'body_type']='Normal'\n",
    "    elif df.at[i,'body_type'] in Stocky:\n",
    "        df.at[i,'body_type']='Stocky'\n",
    "    else:\n",
    "        pass"
   ]
  },
  {
   "cell_type": "markdown",
   "id": "dfb92f3a",
   "metadata": {},
   "source": [
    "## feature engineering"
   ]
  },
  {
   "cell_type": "code",
   "execution_count": 12,
   "id": "dd368dbf",
   "metadata": {},
   "outputs": [
    {
     "data": {
      "text/plain": [
       "Right    66970\n",
       "Left     20777\n",
       "Name: preferred_foot, dtype: int64"
      ]
     },
     "execution_count": 12,
     "metadata": {},
     "output_type": "execute_result"
    }
   ],
   "source": [
    "df.preferred_foot.value_counts() #categorica a OHE"
   ]
  },
  {
   "cell_type": "code",
   "execution_count": 13,
   "id": "95e3ad2d",
   "metadata": {},
   "outputs": [
    {
     "data": {
      "text/plain": [
       "Medium/Medium    47248\n",
       "High/Medium      15911\n",
       "Medium/High       8196\n",
       "High/High         4712\n",
       "Medium/Low        4072\n",
       "High/Low          3332\n",
       "Low/Medium        2078\n",
       "Low/High          2058\n",
       "Low/Low            140\n",
       "Name: work_rate, dtype: int64"
      ]
     },
     "execution_count": 13,
     "metadata": {},
     "output_type": "execute_result"
    }
   ],
   "source": [
    "df.work_rate.value_counts() #categorica transformarla con un ordinal encoder"
   ]
  },
  {
   "cell_type": "code",
   "execution_count": 14,
   "id": "f6905a3f",
   "metadata": {},
   "outputs": [
    {
     "data": {
      "text/plain": [
       "Normal    51581\n",
       "Lean      30898\n",
       "Stocky     5099\n",
       "Unique      169\n",
       "Name: body_type, dtype: int64"
      ]
     },
     "execution_count": 14,
     "metadata": {},
     "output_type": "execute_result"
    }
   ],
   "source": [
    "df.body_type.value_counts() #Transformar la variable de más a menos mosculado con un ordinal encoder\n",
    "#(Lean < Normal < Stocky) + Unique = -1\n",
    "#oe_cat = OrdinalEncoder(handle_unknown='use_encoded_value', unknown_value=-1, categories=[unique_categories for _ in [\"columns\", \"you\", \"want\"]])"
   ]
  },
  {
   "cell_type": "code",
   "execution_count": 15,
   "id": "24a48a8b",
   "metadata": {},
   "outputs": [
    {
     "data": {
      "text/plain": [
       "No     78885\n",
       "Yes     8862\n",
       "Name: real_face, dtype: int64"
      ]
     },
     "execution_count": 15,
     "metadata": {},
     "output_type": "execute_result"
    }
   ],
   "source": [
    "df.real_face.value_counts() #categorica a OHE"
   ]
  },
  {
   "cell_type": "code",
   "execution_count": 16,
   "id": "f739e32c",
   "metadata": {},
   "outputs": [
    {
     "data": {
      "text/plain": [
       "2021    13300\n",
       "2020    13275\n",
       "2019    13194\n",
       "2018    12689\n",
       "2017    12607\n",
       "2016    11442\n",
       "2015    11240\n",
       "Name: año_version, dtype: int64"
      ]
     },
     "execution_count": 16,
     "metadata": {},
     "output_type": "execute_result"
    }
   ],
   "source": [
    "df.año_version.value_counts() #categorica a OHE"
   ]
  },
  {
   "cell_type": "code",
   "execution_count": 17,
   "id": "c3813777",
   "metadata": {},
   "outputs": [
    {
     "data": {
      "text/plain": [
       "centrocampista    36424\n",
       "defensa           29039\n",
       "delantero         12650\n",
       "portero            9634\n",
       "Name: player_positions, dtype: int64"
      ]
     },
     "execution_count": 17,
     "metadata": {},
     "output_type": "execute_result"
    }
   ],
   "source": [
    "df.player_positions.value_counts() #categorica a OHE"
   ]
  },
  {
   "cell_type": "code",
   "execution_count": 18,
   "id": "0b4b6946",
   "metadata": {},
   "outputs": [
    {
     "name": "stdout",
     "output_type": "stream",
     "text": [
      "['sofifa_id', 'short_name', 'long_name', 'player_positions', 'overall', 'potential', 'value_eur', 'wage_eur', 'age', 'dob', 'height_cm', 'weight_kg', 'club_team_id', 'club_name', 'league_name', 'league_level', 'club_position', 'club_jersey_number', 'club_joined', 'club_contract_valid_until', 'nationality_id', 'nationality_name', 'nation_team_id', 'nation_position', 'preferred_foot', 'weak_foot', 'skill_moves', 'international_reputation', 'work_rate', 'body_type', 'real_face', 'player_traits', 'pace', 'shooting', 'passing', 'dribbling', 'defending', 'physic', 'attacking_crossing', 'attacking_finishing', 'attacking_heading_accuracy', 'attacking_short_passing', 'attacking_volleys', 'skill_dribbling', 'skill_curve', 'skill_fk_accuracy', 'skill_long_passing', 'skill_ball_control', 'movement_acceleration', 'movement_sprint_speed', 'movement_agility', 'movement_reactions', 'movement_balance', 'power_shot_power', 'power_jumping', 'power_stamina', 'power_strength', 'power_long_shots', 'mentality_aggression', 'mentality_interceptions', 'mentality_positioning', 'mentality_vision', 'mentality_penalties', 'mentality_composure', 'defending_marking_awareness', 'defending_standing_tackle', 'defending_sliding_tackle', 'goalkeeping_diving', 'goalkeeping_handling', 'goalkeeping_kicking', 'goalkeeping_positioning', 'goalkeeping_reflexes', 'goalkeeping_speed', 'ls', 'st', 'rs', 'lw', 'lf', 'cf', 'rf', 'rw', 'lam', 'cam', 'ram', 'lm', 'lcm', 'cm', 'rcm', 'rm', 'lwb', 'ldm', 'cdm', 'rdm', 'rwb', 'lb', 'lcb', 'cb', 'rcb', 'rb', 'gk', 'año_version', 'progresion_anual', 'overall_team/year', 'teams_in_league/year', 'mean_league/year', 'mean_team/year', 'ranking', 'puntos', 'años_de_contrato']\n"
     ]
    }
   ],
   "source": [
    "#ver todas las variables \n",
    "pd.set_option('display.max_columns', None)\n",
    "print(df.columns.tolist())"
   ]
  },
  {
   "cell_type": "code",
   "execution_count": 19,
   "id": "3cffaf08",
   "metadata": {},
   "outputs": [],
   "source": [
    "#eliminamos columnas que sabemos seguro que sólo aportan ruido\n",
    "df.drop([\"sofifa_id\",'short_name', 'long_name',\"nationality_id\",\"dob\",'club_team_id', 'club_name', 'league_name',\n",
    "        'club_jersey_number', 'club_joined', 'club_contract_valid_until','nationality_id', 'nationality_name','player_traits',\n",
    "        'ranking','puntos'],axis=1,inplace=True)"
   ]
  },
  {
   "cell_type": "markdown",
   "id": "401fee10",
   "metadata": {},
   "source": [
    "## Filtramos el dataset por posicion"
   ]
  },
  {
   "cell_type": "code",
   "execution_count": null,
   "id": "f555a70e",
   "metadata": {},
   "outputs": [],
   "source": [
    "#Viendo el tipo de coliniaridad se ve necesario probar a separar el dataset en 4 por posicion"
   ]
  },
  {
   "cell_type": "code",
   "execution_count": 20,
   "id": "9ebc136d",
   "metadata": {},
   "outputs": [],
   "source": [
    "df=df[df['player_positions']=='centrocampista']"
   ]
  },
  {
   "cell_type": "markdown",
   "id": "5874560b",
   "metadata": {},
   "source": [
    "\n",
    "## Feacture selection"
   ]
  },
  {
   "cell_type": "code",
   "execution_count": 22,
   "id": "89ddbca7",
   "metadata": {},
   "outputs": [],
   "source": [
    "from sklearn.preprocessing import StandardScaler, OneHotEncoder, LabelEncoder, OrdinalEncoder\n",
    "from sklearn.compose import make_column_transformer\n",
    "from sklearn.pipeline import make_pipeline"
   ]
  },
  {
   "cell_type": "code",
   "execution_count": 24,
   "id": "c9b977e9",
   "metadata": {},
   "outputs": [],
   "source": [
    "work_rate_ord=['Low/Low','Low/Medium','Low/High','Medium/Low','Medium/Medium','Medium/High','High/Low','High/Medium','High/High']\n",
    "league_level_ord=['0.0','4.0','3.0','2.0','1.0']\n",
    "#body_type_ord=['Lean','Normal','Stocky'] con OHE"
   ]
  },
  {
   "cell_type": "code",
   "execution_count": 25,
   "id": "df158723",
   "metadata": {},
   "outputs": [],
   "source": [
    "df['league_level']=df['league_level'].apply(str)"
   ]
  },
  {
   "cell_type": "code",
   "execution_count": 26,
   "id": "8f13ad64",
   "metadata": {},
   "outputs": [],
   "source": [
    "df.drop('player_positions',axis=1,inplace=True)"
   ]
  },
  {
   "cell_type": "code",
   "execution_count": 27,
   "id": "4570d918",
   "metadata": {},
   "outputs": [
    {
     "data": {
      "text/plain": [
       "league_level      True\n",
       "preferred_foot    True\n",
       "work_rate         True\n",
       "body_type         True\n",
       "real_face         True\n",
       "dtype: bool"
      ]
     },
     "execution_count": 27,
     "metadata": {},
     "output_type": "execute_result"
    }
   ],
   "source": [
    "categorical = df.dtypes == object\n",
    "categorical[categorical==True]"
   ]
  },
  {
   "cell_type": "code",
   "execution_count": 28,
   "id": "72fddeb2",
   "metadata": {},
   "outputs": [],
   "source": [
    "#definimos X e y\n",
    "X=df.drop('progresion_anual',axis=1)\n",
    "y=df['progresion_anual']"
   ]
  },
  {
   "cell_type": "code",
   "execution_count": 29,
   "id": "c05d6b0b",
   "metadata": {},
   "outputs": [],
   "source": [
    "\n",
    "feature_engineering=make_column_transformer((OrdinalEncoder(categories=[work_rate_ord,league_level_ord]),['work_rate','league_level']),\n",
    "                                            (OneHotEncoder(drop='first'),['preferred_foot','body_type','real_face','año_version','nation_team_id','club_position']),\n",
    "                                            (StandardScaler(),  X.select_dtypes('number').drop(['año_version','club_position','nation_team_id'],axis=1).columns) \n",
    "                                           )"
   ]
  },
  {
   "cell_type": "code",
   "execution_count": 30,
   "id": "5201ad5b",
   "metadata": {},
   "outputs": [],
   "source": [
    "#transformamos las X en variables numéricas todas\n",
    "X_features = feature_engineering.fit_transform(X)"
   ]
  },
  {
   "cell_type": "code",
   "execution_count": 31,
   "id": "aade8668",
   "metadata": {},
   "outputs": [
    {
     "data": {
      "text/plain": [
       "(36424, 99)"
      ]
     },
     "execution_count": 31,
     "metadata": {},
     "output_type": "execute_result"
    }
   ],
   "source": [
    "#comprobamos tamaño\n",
    "X_features.shape"
   ]
  },
  {
   "cell_type": "code",
   "execution_count": 32,
   "id": "88764c1b",
   "metadata": {},
   "outputs": [],
   "source": [
    "from sklearn.feature_selection import SelectFromModel, SelectKBest, mutual_info_regression\n",
    "from sklearn.pipeline import Pipeline"
   ]
  },
  {
   "cell_type": "code",
   "execution_count": 33,
   "id": "01b39b33",
   "metadata": {},
   "outputs": [],
   "source": [
    "#formula para sacar los nombres de un X_features\n",
    "def get_column_names_from_ColumnTransformer(column_transformer):    \n",
    "    col_name = []\n",
    "    for transformer_in_columns in column_transformer.transformers_[:-1]:#the last transformer is ColumnTransformer's 'remainder'\n",
    "        raw_col_name = transformer_in_columns[2]\n",
    "        if isinstance(transformer_in_columns[1],Pipeline): \n",
    "            transformer = transformer_in_columns[1].steps[-1][1]\n",
    "        else:\n",
    "            transformer = transformer_in_columns[1]\n",
    "        try:\n",
    "            names = transformer.get_feature_names()\n",
    "        except AttributeError: # if no 'get_feature_names' function, use raw column name\n",
    "            names = raw_col_name\n",
    "        if isinstance(names,np.ndarray): # eg.\n",
    "            col_name += names.tolist()\n",
    "        elif isinstance(names,list):\n",
    "            col_name += names    \n",
    "        elif isinstance(names,str):\n",
    "            col_name.append(names)\n",
    "    return col_name"
   ]
  },
  {
   "cell_type": "code",
   "execution_count": 34,
   "id": "0c26e424",
   "metadata": {},
   "outputs": [],
   "source": [
    "m=mutual_info_regression(X_features, y)"
   ]
  },
  {
   "cell_type": "code",
   "execution_count": 35,
   "id": "abfd1eb7",
   "metadata": {},
   "outputs": [
    {
     "name": "stderr",
     "output_type": "stream",
     "text": [
      "C:\\Users\\carlo\\anaconda3\\lib\\site-packages\\sklearn\\utils\\deprecation.py:87: FutureWarning: Function get_feature_names is deprecated; get_feature_names is deprecated in 1.0 and will be removed in 1.2. Please use get_feature_names_out instead.\n",
      "  warnings.warn(msg, category=FutureWarning)\n"
     ]
    }
   ],
   "source": [
    "#obtengo todos los nombres en una lista\n",
    "variables=(get_column_names_from_ColumnTransformer(feature_engineering))+X.select_dtypes('number').drop(['año_version','club_position','nation_team_id'],axis=1).columns.to_list()"
   ]
  },
  {
   "cell_type": "code",
   "execution_count": 36,
   "id": "fb49f8e3",
   "metadata": {
    "scrolled": true
   },
   "outputs": [
    {
     "data": {
      "text/plain": [
       "overall               2.516563\n",
       "value_eur             0.964549\n",
       "rm                    0.902283\n",
       "lm                    0.899615\n",
       "cam                   0.854957\n",
       "ram                   0.852466\n",
       "lam                   0.849245\n",
       "rf                    0.748304\n",
       "lf                    0.748006\n",
       "cf                    0.747299\n",
       "rw                    0.734355\n",
       "lw                    0.731646\n",
       "cm                    0.726283\n",
       "rcm                   0.726240\n",
       "lcm                   0.724937\n",
       "skill_ball_control    0.578109\n",
       "potential             0.553706\n",
       "ls                    0.524088\n",
       "wage_eur              0.521036\n",
       "rs                    0.520878\n",
       "dtype: float64"
      ]
     },
     "execution_count": 36,
     "metadata": {},
     "output_type": "execute_result"
    }
   ],
   "source": [
    "pd.Series(m,index=variables).sort_values(kind=\"quicksort\",ascending=False).head(20)"
   ]
  },
  {
   "cell_type": "code",
   "execution_count": 37,
   "id": "04e1ac20",
   "metadata": {},
   "outputs": [],
   "source": [
    "from sklearn.linear_model import LinearRegression, Lasso, Ridge, ElasticNet"
   ]
  },
  {
   "cell_type": "code",
   "execution_count": 38,
   "id": "0c8271d9",
   "metadata": {},
   "outputs": [
    {
     "data": {
      "text/plain": [
       "0.3010051916663351"
      ]
     },
     "execution_count": 38,
     "metadata": {},
     "output_type": "execute_result"
    }
   ],
   "source": [
    "LinearRegression().fit(X_features, y).score(X_features, y)"
   ]
  },
  {
   "cell_type": "markdown",
   "id": "c8cc7cf7",
   "metadata": {},
   "source": [
    "## Examinar correlaciones entre variables"
   ]
  },
  {
   "cell_type": "code",
   "execution_count": 42,
   "id": "4d665b2b",
   "metadata": {
    "scrolled": false
   },
   "outputs": [
    {
     "name": "stdout",
     "output_type": "stream",
     "text": [
      "physic          power_strength    0.900940\n",
      "power_strength  physic            0.900940\n",
      "passing         cam               0.902006\n",
      "lam             passing           0.902006\n",
      "ram             passing           0.902006\n",
      "                                    ...   \n",
      "rm              rw                0.985076\n",
      "lm              rw                0.985076\n",
      "                lw                0.985076\n",
      "lw              rm                0.985076\n",
      "                lm                0.985076\n",
      "Length: 360, dtype: float64\n"
     ]
    }
   ],
   "source": [
    "c = df.select_dtypes('number').drop(['año_version','club_position','nation_team_id'],axis=1).corr().abs()\n",
    "\n",
    "s = c.unstack()\n",
    "so = s[s<1].sort_values(kind=\"quicksort\")\n",
    "#so.shape\n",
    "print(so[so>0.90])"
   ]
  },
  {
   "cell_type": "code",
   "execution_count": 43,
   "id": "e4a25336",
   "metadata": {},
   "outputs": [],
   "source": [
    "df_corr=so.to_frame(name='correlacion')"
   ]
  },
  {
   "cell_type": "code",
   "execution_count": 44,
   "id": "e328e4ca",
   "metadata": {},
   "outputs": [],
   "source": [
    "df_corr=df_corr[df_corr['correlacion']>0.90].reset_index().rename(columns={'level_0':'variable_1','level_1':'variable_2'})"
   ]
  },
  {
   "cell_type": "code",
   "execution_count": 45,
   "id": "8f628147",
   "metadata": {},
   "outputs": [
    {
     "data": {
      "text/html": [
       "<div>\n",
       "<style scoped>\n",
       "    .dataframe tbody tr th:only-of-type {\n",
       "        vertical-align: middle;\n",
       "    }\n",
       "\n",
       "    .dataframe tbody tr th {\n",
       "        vertical-align: top;\n",
       "    }\n",
       "\n",
       "    .dataframe thead th {\n",
       "        text-align: right;\n",
       "    }\n",
       "</style>\n",
       "<table border=\"1\" class=\"dataframe\">\n",
       "  <thead>\n",
       "    <tr style=\"text-align: right;\">\n",
       "      <th></th>\n",
       "      <th>variable_1</th>\n",
       "      <th>variable_2</th>\n",
       "      <th>correlacion</th>\n",
       "    </tr>\n",
       "  </thead>\n",
       "  <tbody>\n",
       "    <tr>\n",
       "      <th>0</th>\n",
       "      <td>physic</td>\n",
       "      <td>power_strength</td>\n",
       "      <td>0.900940</td>\n",
       "    </tr>\n",
       "    <tr>\n",
       "      <th>1</th>\n",
       "      <td>power_strength</td>\n",
       "      <td>physic</td>\n",
       "      <td>0.900940</td>\n",
       "    </tr>\n",
       "    <tr>\n",
       "      <th>2</th>\n",
       "      <td>passing</td>\n",
       "      <td>cam</td>\n",
       "      <td>0.902006</td>\n",
       "    </tr>\n",
       "    <tr>\n",
       "      <th>3</th>\n",
       "      <td>lam</td>\n",
       "      <td>passing</td>\n",
       "      <td>0.902006</td>\n",
       "    </tr>\n",
       "    <tr>\n",
       "      <th>4</th>\n",
       "      <td>ram</td>\n",
       "      <td>passing</td>\n",
       "      <td>0.902006</td>\n",
       "    </tr>\n",
       "    <tr>\n",
       "      <th>...</th>\n",
       "      <td>...</td>\n",
       "      <td>...</td>\n",
       "      <td>...</td>\n",
       "    </tr>\n",
       "    <tr>\n",
       "      <th>355</th>\n",
       "      <td>rm</td>\n",
       "      <td>rw</td>\n",
       "      <td>0.985076</td>\n",
       "    </tr>\n",
       "    <tr>\n",
       "      <th>356</th>\n",
       "      <td>lm</td>\n",
       "      <td>rw</td>\n",
       "      <td>0.985076</td>\n",
       "    </tr>\n",
       "    <tr>\n",
       "      <th>357</th>\n",
       "      <td>lm</td>\n",
       "      <td>lw</td>\n",
       "      <td>0.985076</td>\n",
       "    </tr>\n",
       "    <tr>\n",
       "      <th>358</th>\n",
       "      <td>lw</td>\n",
       "      <td>rm</td>\n",
       "      <td>0.985076</td>\n",
       "    </tr>\n",
       "    <tr>\n",
       "      <th>359</th>\n",
       "      <td>lw</td>\n",
       "      <td>lm</td>\n",
       "      <td>0.985076</td>\n",
       "    </tr>\n",
       "  </tbody>\n",
       "</table>\n",
       "<p>360 rows × 3 columns</p>\n",
       "</div>"
      ],
      "text/plain": [
       "         variable_1      variable_2  correlacion\n",
       "0            physic  power_strength     0.900940\n",
       "1    power_strength          physic     0.900940\n",
       "2           passing             cam     0.902006\n",
       "3               lam         passing     0.902006\n",
       "4               ram         passing     0.902006\n",
       "..              ...             ...          ...\n",
       "355              rm              rw     0.985076\n",
       "356              lm              rw     0.985076\n",
       "357              lm              lw     0.985076\n",
       "358              lw              rm     0.985076\n",
       "359              lw              lm     0.985076\n",
       "\n",
       "[360 rows x 3 columns]"
      ]
     },
     "execution_count": 45,
     "metadata": {},
     "output_type": "execute_result"
    }
   ],
   "source": [
    "df_corr #Hay una alta coliniaridad entre 360 combinaciones de variables"
   ]
  },
  {
   "cell_type": "code",
   "execution_count": 39,
   "id": "542b3cad",
   "metadata": {},
   "outputs": [
    {
     "data": {
      "text/plain": [
       "<AxesSubplot:>"
      ]
     },
     "execution_count": 39,
     "metadata": {},
     "output_type": "execute_result"
    },
    {
     "data": {
      "image/png": "[encoded data removed]",
      "text/plain": [
       "<Figure size 720x720 with 2 Axes>"
      ]
     },
     "metadata": {
      "needs_background": "light"
     },
     "output_type": "display_data"
    }
   ],
   "source": [
    "plt.rcParams['figure.figsize'] = (10,10)\n",
    "sns.heatmap(df.select_dtypes('number').drop(['año_version','club_position','nation_team_id'],axis=1).corr())\n"
   ]
  },
  {
   "cell_type": "markdown",
   "id": "a0f8f0fc",
   "metadata": {},
   "source": [
    "## Eliminar coliniaridad con VIF"
   ]
  },
  {
   "cell_type": "code",
   "execution_count": 40,
   "id": "ef6a9626",
   "metadata": {},
   "outputs": [],
   "source": [
    "data_num=df.select_dtypes('number').drop(['año_version','club_position','nation_team_id'],axis=1)"
   ]
  },
  {
   "cell_type": "code",
   "execution_count": 41,
   "id": "16ab217c",
   "metadata": {},
   "outputs": [],
   "source": [
    "from statsmodels.stats.outliers_influence import variance_inflation_factor\n",
    "import statsmodels.api as sm"
   ]
  },
  {
   "cell_type": "code",
   "execution_count": 73,
   "id": "04752fa8",
   "metadata": {},
   "outputs": [
    {
     "name": "stdout",
     "output_type": "stream",
     "text": [
      "Wall time: 2.78 s\n"
     ]
    },
    {
     "data": {
      "text/plain": [
       "wage_eur            4.174984\n",
       "power_long_shots    4.054397\n",
       "mentality_vision    3.908176\n",
       "value_eur           3.793606\n",
       "skill_curve         3.689649\n",
       "dtype: float64"
      ]
     },
     "execution_count": 73,
     "metadata": {},
     "output_type": "execute_result"
    }
   ],
   "source": [
    "%%time\n",
    "X = sm.add_constant(data_num.drop(['progresion_anual','lw','lm','rm','cf','lf','lcm','cam','ls','rdm','st','rcm','cm','lam',\n",
    "                                  'rcb','lcb','lb','rwb','rf','rdm','cdm','physic','pace','cb','shooting','passing',\n",
    "                                  'dribbling','ldm','lwb','ram','rw','defending_standing_tackle','defending_marking_awareness',\n",
    "                                  'rs','mentality_interceptions','rb','mean_team/year','defending','skill_ball_control',\n",
    "                                  'attacking_short_passing','skill_dribbling','movement_acceleration','movement_sprint_speed',\n",
    "                                  'potential','movement_reactions','goalkeeping_speed','goalkeeping_kicking',\n",
    "                                  'goalkeeping_kicking','goalkeeping_diving','goalkeeping_handling','goalkeeping_positioning', 'goalkeeping_reflexes', 'gk',\n",
    "                                  ],axis=1))\n",
    "VIF=pd.Series([variance_inflation_factor(X,i) for i in range (1, X.shape[1])],index=X.columns[1:]).sort_values(kind=\"quicksort\",ascending=False)\n",
    "VIF[1:].head()"
   ]
  },
  {
   "cell_type": "code",
   "execution_count": 74,
   "id": "b511c20d",
   "metadata": {
    "scrolled": true
   },
   "outputs": [
    {
     "data": {
      "text/plain": [
       "nation_position         1.352582\n",
       "mentality_composure     1.309479\n",
       "teams_in_league/year    1.200207\n",
       "weak_foot               1.114261\n",
       "años_de_contrato        1.083349\n",
       "dtype: float64"
      ]
     },
     "execution_count": 74,
     "metadata": {},
     "output_type": "execute_result"
    }
   ],
   "source": [
    "VIF[1:].tail()"
   ]
  },
  {
   "cell_type": "code",
   "execution_count": 75,
   "id": "31922f76",
   "metadata": {},
   "outputs": [],
   "source": [
    "df_sin_coliniaridad=data_num.drop(['progresion_anual','lw','lm','rm','cf','lf','lcm','cam','ls','rdm','st','rcm','cm','lam',\n",
    "                                  'rcb','lcb','lb','rwb','rf','rdm','cdm','physic','pace','cb','shooting','passing',\n",
    "                                  'dribbling','ldm','lwb','ram','rw','defending_standing_tackle','defending_marking_awareness',\n",
    "                                  'rs','mentality_interceptions','rb','mean_team/year','defending','skill_ball_control',\n",
    "                                  'attacking_short_passing','skill_dribbling','movement_acceleration','movement_sprint_speed',\n",
    "                                  'potential','movement_reactions','goalkeeping_speed','goalkeeping_kicking',\n",
    "                                  'goalkeeping_kicking','goalkeeping_diving','goalkeeping_handling','goalkeeping_positioning', 'goalkeeping_reflexes', 'gk',\n",
    "                                  ],axis=1)"
   ]
  },
  {
   "cell_type": "code",
   "execution_count": 76,
   "id": "4c8595c5",
   "metadata": {},
   "outputs": [
    {
     "data": {
      "text/plain": [
       "<AxesSubplot:>"
      ]
     },
     "execution_count": 76,
     "metadata": {},
     "output_type": "execute_result"
    },
    {
     "data": {
      "image/png": "[encoded data removed]",
      "text/plain": [
       "<Figure size 720x720 with 2 Axes>"
      ]
     },
     "metadata": {
      "needs_background": "light"
     },
     "output_type": "display_data"
    }
   ],
   "source": [
    "plt.rcParams['figure.figsize'] = (10,10)\n",
    "sns.heatmap(df_sin_coliniaridad.corr())"
   ]
  },
  {
   "cell_type": "code",
   "execution_count": 77,
   "id": "21920183",
   "metadata": {},
   "outputs": [
    {
     "data": {
      "text/plain": [
       "Index(['overall', 'value_eur', 'wage_eur', 'age', 'height_cm', 'weight_kg',\n",
       "       'nation_position', 'weak_foot', 'skill_moves',\n",
       "       'international_reputation', 'attacking_crossing', 'attacking_finishing',\n",
       "       'attacking_heading_accuracy', 'attacking_volleys', 'skill_curve',\n",
       "       'skill_fk_accuracy', 'skill_long_passing', 'movement_agility',\n",
       "       'movement_balance', 'power_shot_power', 'power_jumping',\n",
       "       'power_stamina', 'power_strength', 'power_long_shots',\n",
       "       'mentality_aggression', 'mentality_positioning', 'mentality_vision',\n",
       "       'mentality_penalties', 'mentality_composure',\n",
       "       'defending_sliding_tackle', 'overall_team/year', 'teams_in_league/year',\n",
       "       'mean_league/year', 'años_de_contrato'],\n",
       "      dtype='object')"
      ]
     },
     "execution_count": 77,
     "metadata": {},
     "output_type": "execute_result"
    }
   ],
   "source": [
    "df_sin_coliniaridad.columns"
   ]
  },
  {
   "cell_type": "markdown",
   "id": "f6fc9b37",
   "metadata": {},
   "source": [
    "## Creación de pipeline"
   ]
  },
  {
   "cell_type": "code",
   "execution_count": 103,
   "id": "92557a72",
   "metadata": {},
   "outputs": [],
   "source": [
    "#definimos X e y\n",
    "X=df_sin_coliniaridad.join(df.select_dtypes(include='object')).join(df[['año_version','club_position','nation_team_id']])\n",
    "y=df['progresion_anual']"
   ]
  },
  {
   "cell_type": "code",
   "execution_count": 104,
   "id": "28fcc431",
   "metadata": {},
   "outputs": [
    {
     "data": {
      "text/plain": [
       "Index(['overall', 'value_eur', 'wage_eur', 'age', 'height_cm', 'weight_kg',\n",
       "       'nation_position', 'weak_foot', 'skill_moves',\n",
       "       'international_reputation', 'attacking_crossing', 'attacking_finishing',\n",
       "       'attacking_heading_accuracy', 'attacking_volleys', 'skill_curve',\n",
       "       'skill_fk_accuracy', 'skill_long_passing', 'movement_agility',\n",
       "       'movement_balance', 'power_shot_power', 'power_jumping',\n",
       "       'power_stamina', 'power_strength', 'power_long_shots',\n",
       "       'mentality_aggression', 'mentality_positioning', 'mentality_vision',\n",
       "       'mentality_penalties', 'mentality_composure',\n",
       "       'defending_sliding_tackle', 'overall_team/year', 'teams_in_league/year',\n",
       "       'mean_league/year', 'años_de_contrato', 'league_level',\n",
       "       'preferred_foot', 'work_rate', 'body_type', 'real_face', 'año_version',\n",
       "       'club_position', 'nation_team_id'],\n",
       "      dtype='object')"
      ]
     },
     "execution_count": 104,
     "metadata": {},
     "output_type": "execute_result"
    }
   ],
   "source": [
    "X.columns"
   ]
  },
  {
   "cell_type": "code",
   "execution_count": 111,
   "id": "ff0e1212",
   "metadata": {},
   "outputs": [],
   "source": [
    "feature_engineering=make_column_transformer((OrdinalEncoder(categories=[work_rate_ord,league_level_ord]),['work_rate','league_level']),\n",
    "                                            (OneHotEncoder(drop='first'),['preferred_foot','body_type','real_face','año_version','nation_team_id','club_position']),\n",
    "                                            (StandardScaler(),  X.select_dtypes('number').drop(['año_version','club_position','nation_team_id','nation_position'],axis=1).columns)\n",
    "                                           )"
   ]
  },
  {
   "cell_type": "code",
   "execution_count": 112,
   "id": "5747ffa9",
   "metadata": {},
   "outputs": [],
   "source": [
    "#creamos un pipeline?\n",
    "pipe = make_pipeline(feature_engineering, Ridge())"
   ]
  },
  {
   "cell_type": "code",
   "execution_count": 113,
   "id": "992466af",
   "metadata": {},
   "outputs": [
    {
     "data": {
      "text/plain": [
       "Pipeline(steps=[('columntransformer',\n",
       "                 ColumnTransformer(transformers=[('ordinalencoder',\n",
       "                                                  OrdinalEncoder(categories=[['Low/Low',\n",
       "                                                                              'Low/Medium',\n",
       "                                                                              'Low/High',\n",
       "                                                                              'Medium/Low',\n",
       "                                                                              'Medium/Medium',\n",
       "                                                                              'Medium/High',\n",
       "                                                                              'High/Low',\n",
       "                                                                              'High/Medium',\n",
       "                                                                              'High/High'],\n",
       "                                                                             ['0.0',\n",
       "                                                                              '4.0',\n",
       "                                                                              '3.0',\n",
       "                                                                              '2.0',\n",
       "                                                                              '1.0']]),\n",
       "                                                  ['work_rate',\n",
       "                                                   'league_level']),\n",
       "                                                 ('onehotencoder',\n",
       "                                                  OneHotEncoder(drop='first'),\n",
       "                                                  ['preferred...\n",
       "       'movement_balance', 'power_shot_power', 'power_jumping',\n",
       "       'power_stamina', 'power_strength', 'power_long_shots',\n",
       "       'mentality_aggression', 'mentality_positioning', 'mentality_vision',\n",
       "       'mentality_penalties', 'mentality_composure',\n",
       "       'defending_sliding_tackle', 'overall_team/year', 'teams_in_league/year',\n",
       "       'mean_league/year', 'años_de_contrato'],\n",
       "      dtype='object'))])),\n",
       "                ('ridge', Ridge())])"
      ]
     },
     "execution_count": 113,
     "metadata": {},
     "output_type": "execute_result"
    }
   ],
   "source": [
    "pipe.fit(X,y)"
   ]
  },
  {
   "cell_type": "code",
   "execution_count": 114,
   "id": "af88e2c5",
   "metadata": {},
   "outputs": [
    {
     "data": {
      "text/plain": [
       "0.29268615253295716"
      ]
     },
     "execution_count": 114,
     "metadata": {},
     "output_type": "execute_result"
    }
   ],
   "source": [
    "pipe.score(X,y)"
   ]
  },
  {
   "cell_type": "code",
   "execution_count": 115,
   "id": "94b6573d",
   "metadata": {},
   "outputs": [],
   "source": [
    "from sklearn.model_selection import GridSearchCV"
   ]
  },
  {
   "cell_type": "code",
   "execution_count": 116,
   "id": "28bf874b",
   "metadata": {},
   "outputs": [],
   "source": [
    "params={'ridge__alpha':10.0**np.arange(-3,3)}"
   ]
  },
  {
   "cell_type": "code",
   "execution_count": 117,
   "id": "c4b64fff",
   "metadata": {},
   "outputs": [
    {
     "name": "stderr",
     "output_type": "stream",
     "text": [
      "C:\\Users\\carlo\\anaconda3\\lib\\site-packages\\sklearn\\model_selection\\_validation.py:770: UserWarning: Scoring failed. The score on this train-test partition for these parameters will be set to nan. Details: \n",
      "Traceback (most recent call last):\n",
      "  File \"C:\\Users\\carlo\\anaconda3\\lib\\site-packages\\sklearn\\model_selection\\_validation.py\", line 761, in _score\n",
      "    scores = scorer(estimator, X_test, y_test)\n",
      "  File \"C:\\Users\\carlo\\anaconda3\\lib\\site-packages\\sklearn\\metrics\\_scorer.py\", line 418, in _passthrough_scorer\n",
      "    return estimator.score(*args, **kwargs)\n",
      "  File \"C:\\Users\\carlo\\anaconda3\\lib\\site-packages\\sklearn\\utils\\metaestimators.py\", line 113, in <lambda>\n",
      "    out = lambda *args, **kwargs: self.fn(obj, *args, **kwargs)  # noqa\n",
      "  File \"C:\\Users\\carlo\\anaconda3\\lib\\site-packages\\sklearn\\pipeline.py\", line 707, in score\n",
      "    Xt = transform.transform(Xt)\n",
      "  File \"C:\\Users\\carlo\\anaconda3\\lib\\site-packages\\sklearn\\compose\\_column_transformer.py\", line 748, in transform\n",
      "    Xs = self._fit_transform(\n",
      "  File \"C:\\Users\\carlo\\anaconda3\\lib\\site-packages\\sklearn\\compose\\_column_transformer.py\", line 606, in _fit_transform\n",
      "    return Parallel(n_jobs=self.n_jobs)(\n",
      "  File \"C:\\Users\\carlo\\anaconda3\\lib\\site-packages\\joblib\\parallel.py\", line 1044, in __call__\n",
      "    while self.dispatch_one_batch(iterator):\n",
      "  File \"C:\\Users\\carlo\\anaconda3\\lib\\site-packages\\joblib\\parallel.py\", line 859, in dispatch_one_batch\n",
      "    self._dispatch(tasks)\n",
      "  File \"C:\\Users\\carlo\\anaconda3\\lib\\site-packages\\joblib\\parallel.py\", line 777, in _dispatch\n",
      "    job = self._backend.apply_async(batch, callback=cb)\n",
      "  File \"C:\\Users\\carlo\\anaconda3\\lib\\site-packages\\joblib\\_parallel_backends.py\", line 208, in apply_async\n",
      "    result = ImmediateResult(func)\n",
      "  File \"C:\\Users\\carlo\\anaconda3\\lib\\site-packages\\joblib\\_parallel_backends.py\", line 572, in __init__\n",
      "    self.results = batch()\n",
      "  File \"C:\\Users\\carlo\\anaconda3\\lib\\site-packages\\joblib\\parallel.py\", line 262, in __call__\n",
      "    return [func(*args, **kwargs)\n",
      "  File \"C:\\Users\\carlo\\anaconda3\\lib\\site-packages\\joblib\\parallel.py\", line 262, in <listcomp>\n",
      "    return [func(*args, **kwargs)\n",
      "  File \"C:\\Users\\carlo\\anaconda3\\lib\\site-packages\\sklearn\\utils\\fixes.py\", line 216, in __call__\n",
      "    return self.function(*args, **kwargs)\n",
      "  File \"C:\\Users\\carlo\\anaconda3\\lib\\site-packages\\sklearn\\pipeline.py\", line 876, in _transform_one\n",
      "    res = transformer.transform(X)\n",
      "  File \"C:\\Users\\carlo\\anaconda3\\lib\\site-packages\\sklearn\\preprocessing\\_encoders.py\", line 509, in transform\n",
      "    X_int, X_mask = self._transform(\n",
      "  File \"C:\\Users\\carlo\\anaconda3\\lib\\site-packages\\sklearn\\preprocessing\\_encoders.py\", line 142, in _transform\n",
      "    raise ValueError(msg)\n",
      "ValueError: Found unknown categories [2015] in column 3 during transform\n",
      "\n",
      "  warnings.warn(\n",
      "C:\\Users\\carlo\\anaconda3\\lib\\site-packages\\sklearn\\model_selection\\_validation.py:770: UserWarning: Scoring failed. The score on this train-test partition for these parameters will be set to nan. Details: \n",
      "Traceback (most recent call last):\n",
      "  File \"C:\\Users\\carlo\\anaconda3\\lib\\site-packages\\sklearn\\model_selection\\_validation.py\", line 761, in _score\n",
      "    scores = scorer(estimator, X_test, y_test)\n",
      "  File \"C:\\Users\\carlo\\anaconda3\\lib\\site-packages\\sklearn\\metrics\\_scorer.py\", line 418, in _passthrough_scorer\n",
      "    return estimator.score(*args, **kwargs)\n",
      "  File \"C:\\Users\\carlo\\anaconda3\\lib\\site-packages\\sklearn\\utils\\metaestimators.py\", line 113, in <lambda>\n",
      "    out = lambda *args, **kwargs: self.fn(obj, *args, **kwargs)  # noqa\n",
      "  File \"C:\\Users\\carlo\\anaconda3\\lib\\site-packages\\sklearn\\pipeline.py\", line 707, in score\n",
      "    Xt = transform.transform(Xt)\n",
      "  File \"C:\\Users\\carlo\\anaconda3\\lib\\site-packages\\sklearn\\compose\\_column_transformer.py\", line 748, in transform\n",
      "    Xs = self._fit_transform(\n",
      "  File \"C:\\Users\\carlo\\anaconda3\\lib\\site-packages\\sklearn\\compose\\_column_transformer.py\", line 606, in _fit_transform\n",
      "    return Parallel(n_jobs=self.n_jobs)(\n",
      "  File \"C:\\Users\\carlo\\anaconda3\\lib\\site-packages\\joblib\\parallel.py\", line 1044, in __call__\n",
      "    while self.dispatch_one_batch(iterator):\n",
      "  File \"C:\\Users\\carlo\\anaconda3\\lib\\site-packages\\joblib\\parallel.py\", line 859, in dispatch_one_batch\n",
      "    self._dispatch(tasks)\n",
      "  File \"C:\\Users\\carlo\\anaconda3\\lib\\site-packages\\joblib\\parallel.py\", line 777, in _dispatch\n",
      "    job = self._backend.apply_async(batch, callback=cb)\n",
      "  File \"C:\\Users\\carlo\\anaconda3\\lib\\site-packages\\joblib\\_parallel_backends.py\", line 208, in apply_async\n",
      "    result = ImmediateResult(func)\n",
      "  File \"C:\\Users\\carlo\\anaconda3\\lib\\site-packages\\joblib\\_parallel_backends.py\", line 572, in __init__\n",
      "    self.results = batch()\n",
      "  File \"C:\\Users\\carlo\\anaconda3\\lib\\site-packages\\joblib\\parallel.py\", line 262, in __call__\n",
      "    return [func(*args, **kwargs)\n",
      "  File \"C:\\Users\\carlo\\anaconda3\\lib\\site-packages\\joblib\\parallel.py\", line 262, in <listcomp>\n",
      "    return [func(*args, **kwargs)\n",
      "  File \"C:\\Users\\carlo\\anaconda3\\lib\\site-packages\\sklearn\\utils\\fixes.py\", line 216, in __call__\n",
      "    return self.function(*args, **kwargs)\n",
      "  File \"C:\\Users\\carlo\\anaconda3\\lib\\site-packages\\sklearn\\pipeline.py\", line 876, in _transform_one\n",
      "    res = transformer.transform(X)\n",
      "  File \"C:\\Users\\carlo\\anaconda3\\lib\\site-packages\\sklearn\\preprocessing\\_encoders.py\", line 509, in transform\n",
      "    X_int, X_mask = self._transform(\n",
      "  File \"C:\\Users\\carlo\\anaconda3\\lib\\site-packages\\sklearn\\preprocessing\\_encoders.py\", line 142, in _transform\n",
      "    raise ValueError(msg)\n",
      "ValueError: Found unknown categories [2018] in column 3 during transform\n",
      "\n",
      "  warnings.warn(\n",
      "C:\\Users\\carlo\\anaconda3\\lib\\site-packages\\sklearn\\model_selection\\_validation.py:770: UserWarning: Scoring failed. The score on this train-test partition for these parameters will be set to nan. Details: \n",
      "Traceback (most recent call last):\n",
      "  File \"C:\\Users\\carlo\\anaconda3\\lib\\site-packages\\sklearn\\model_selection\\_validation.py\", line 761, in _score\n",
      "    scores = scorer(estimator, X_test, y_test)\n",
      "  File \"C:\\Users\\carlo\\anaconda3\\lib\\site-packages\\sklearn\\metrics\\_scorer.py\", line 418, in _passthrough_scorer\n",
      "    return estimator.score(*args, **kwargs)\n",
      "  File \"C:\\Users\\carlo\\anaconda3\\lib\\site-packages\\sklearn\\utils\\metaestimators.py\", line 113, in <lambda>\n",
      "    out = lambda *args, **kwargs: self.fn(obj, *args, **kwargs)  # noqa\n",
      "  File \"C:\\Users\\carlo\\anaconda3\\lib\\site-packages\\sklearn\\pipeline.py\", line 707, in score\n",
      "    Xt = transform.transform(Xt)\n",
      "  File \"C:\\Users\\carlo\\anaconda3\\lib\\site-packages\\sklearn\\compose\\_column_transformer.py\", line 748, in transform\n",
      "    Xs = self._fit_transform(\n",
      "  File \"C:\\Users\\carlo\\anaconda3\\lib\\site-packages\\sklearn\\compose\\_column_transformer.py\", line 606, in _fit_transform\n",
      "    return Parallel(n_jobs=self.n_jobs)(\n",
      "  File \"C:\\Users\\carlo\\anaconda3\\lib\\site-packages\\joblib\\parallel.py\", line 1044, in __call__\n",
      "    while self.dispatch_one_batch(iterator):\n",
      "  File \"C:\\Users\\carlo\\anaconda3\\lib\\site-packages\\joblib\\parallel.py\", line 859, in dispatch_one_batch\n",
      "    self._dispatch(tasks)\n",
      "  File \"C:\\Users\\carlo\\anaconda3\\lib\\site-packages\\joblib\\parallel.py\", line 777, in _dispatch\n",
      "    job = self._backend.apply_async(batch, callback=cb)\n",
      "  File \"C:\\Users\\carlo\\anaconda3\\lib\\site-packages\\joblib\\_parallel_backends.py\", line 208, in apply_async\n",
      "    result = ImmediateResult(func)\n",
      "  File \"C:\\Users\\carlo\\anaconda3\\lib\\site-packages\\joblib\\_parallel_backends.py\", line 572, in __init__\n",
      "    self.results = batch()\n",
      "  File \"C:\\Users\\carlo\\anaconda3\\lib\\site-packages\\joblib\\parallel.py\", line 262, in __call__\n",
      "    return [func(*args, **kwargs)\n",
      "  File \"C:\\Users\\carlo\\anaconda3\\lib\\site-packages\\joblib\\parallel.py\", line 262, in <listcomp>\n",
      "    return [func(*args, **kwargs)\n",
      "  File \"C:\\Users\\carlo\\anaconda3\\lib\\site-packages\\sklearn\\utils\\fixes.py\", line 216, in __call__\n",
      "    return self.function(*args, **kwargs)\n",
      "  File \"C:\\Users\\carlo\\anaconda3\\lib\\site-packages\\sklearn\\pipeline.py\", line 876, in _transform_one\n",
      "    res = transformer.transform(X)\n",
      "  File \"C:\\Users\\carlo\\anaconda3\\lib\\site-packages\\sklearn\\preprocessing\\_encoders.py\", line 509, in transform\n",
      "    X_int, X_mask = self._transform(\n",
      "  File \"C:\\Users\\carlo\\anaconda3\\lib\\site-packages\\sklearn\\preprocessing\\_encoders.py\", line 142, in _transform\n",
      "    raise ValueError(msg)\n",
      "ValueError: Found unknown categories [2021] in column 3 during transform\n",
      "\n",
      "  warnings.warn(\n",
      "C:\\Users\\carlo\\anaconda3\\lib\\site-packages\\sklearn\\model_selection\\_validation.py:770: UserWarning: Scoring failed. The score on this train-test partition for these parameters will be set to nan. Details: \n",
      "Traceback (most recent call last):\n",
      "  File \"C:\\Users\\carlo\\anaconda3\\lib\\site-packages\\sklearn\\model_selection\\_validation.py\", line 761, in _score\n",
      "    scores = scorer(estimator, X_test, y_test)\n",
      "  File \"C:\\Users\\carlo\\anaconda3\\lib\\site-packages\\sklearn\\metrics\\_scorer.py\", line 418, in _passthrough_scorer\n",
      "    return estimator.score(*args, **kwargs)\n",
      "  File \"C:\\Users\\carlo\\anaconda3\\lib\\site-packages\\sklearn\\utils\\metaestimators.py\", line 113, in <lambda>\n",
      "    out = lambda *args, **kwargs: self.fn(obj, *args, **kwargs)  # noqa\n",
      "  File \"C:\\Users\\carlo\\anaconda3\\lib\\site-packages\\sklearn\\pipeline.py\", line 707, in score\n",
      "    Xt = transform.transform(Xt)\n",
      "  File \"C:\\Users\\carlo\\anaconda3\\lib\\site-packages\\sklearn\\compose\\_column_transformer.py\", line 748, in transform\n",
      "    Xs = self._fit_transform(\n",
      "  File \"C:\\Users\\carlo\\anaconda3\\lib\\site-packages\\sklearn\\compose\\_column_transformer.py\", line 606, in _fit_transform\n",
      "    return Parallel(n_jobs=self.n_jobs)(\n",
      "  File \"C:\\Users\\carlo\\anaconda3\\lib\\site-packages\\joblib\\parallel.py\", line 1044, in __call__\n",
      "    while self.dispatch_one_batch(iterator):\n",
      "  File \"C:\\Users\\carlo\\anaconda3\\lib\\site-packages\\joblib\\parallel.py\", line 859, in dispatch_one_batch\n",
      "    self._dispatch(tasks)\n",
      "  File \"C:\\Users\\carlo\\anaconda3\\lib\\site-packages\\joblib\\parallel.py\", line 777, in _dispatch\n",
      "    job = self._backend.apply_async(batch, callback=cb)\n",
      "  File \"C:\\Users\\carlo\\anaconda3\\lib\\site-packages\\joblib\\_parallel_backends.py\", line 208, in apply_async\n",
      "    result = ImmediateResult(func)\n",
      "  File \"C:\\Users\\carlo\\anaconda3\\lib\\site-packages\\joblib\\_parallel_backends.py\", line 572, in __init__\n",
      "    self.results = batch()\n",
      "  File \"C:\\Users\\carlo\\anaconda3\\lib\\site-packages\\joblib\\parallel.py\", line 262, in __call__\n",
      "    return [func(*args, **kwargs)\n",
      "  File \"C:\\Users\\carlo\\anaconda3\\lib\\site-packages\\joblib\\parallel.py\", line 262, in <listcomp>\n",
      "    return [func(*args, **kwargs)\n",
      "  File \"C:\\Users\\carlo\\anaconda3\\lib\\site-packages\\sklearn\\utils\\fixes.py\", line 216, in __call__\n",
      "    return self.function(*args, **kwargs)\n",
      "  File \"C:\\Users\\carlo\\anaconda3\\lib\\site-packages\\sklearn\\pipeline.py\", line 876, in _transform_one\n",
      "    res = transformer.transform(X)\n",
      "  File \"C:\\Users\\carlo\\anaconda3\\lib\\site-packages\\sklearn\\preprocessing\\_encoders.py\", line 509, in transform\n",
      "    X_int, X_mask = self._transform(\n",
      "  File \"C:\\Users\\carlo\\anaconda3\\lib\\site-packages\\sklearn\\preprocessing\\_encoders.py\", line 142, in _transform\n",
      "    raise ValueError(msg)\n",
      "ValueError: Found unknown categories [2015] in column 3 during transform\n",
      "\n",
      "  warnings.warn(\n"
     ]
    },
    {
     "name": "stderr",
     "output_type": "stream",
     "text": [
      "C:\\Users\\carlo\\anaconda3\\lib\\site-packages\\sklearn\\model_selection\\_validation.py:770: UserWarning: Scoring failed. The score on this train-test partition for these parameters will be set to nan. Details: \n",
      "Traceback (most recent call last):\n",
      "  File \"C:\\Users\\carlo\\anaconda3\\lib\\site-packages\\sklearn\\model_selection\\_validation.py\", line 761, in _score\n",
      "    scores = scorer(estimator, X_test, y_test)\n",
      "  File \"C:\\Users\\carlo\\anaconda3\\lib\\site-packages\\sklearn\\metrics\\_scorer.py\", line 418, in _passthrough_scorer\n",
      "    return estimator.score(*args, **kwargs)\n",
      "  File \"C:\\Users\\carlo\\anaconda3\\lib\\site-packages\\sklearn\\utils\\metaestimators.py\", line 113, in <lambda>\n",
      "    out = lambda *args, **kwargs: self.fn(obj, *args, **kwargs)  # noqa\n",
      "  File \"C:\\Users\\carlo\\anaconda3\\lib\\site-packages\\sklearn\\pipeline.py\", line 707, in score\n",
      "    Xt = transform.transform(Xt)\n",
      "  File \"C:\\Users\\carlo\\anaconda3\\lib\\site-packages\\sklearn\\compose\\_column_transformer.py\", line 748, in transform\n",
      "    Xs = self._fit_transform(\n",
      "  File \"C:\\Users\\carlo\\anaconda3\\lib\\site-packages\\sklearn\\compose\\_column_transformer.py\", line 606, in _fit_transform\n",
      "    return Parallel(n_jobs=self.n_jobs)(\n",
      "  File \"C:\\Users\\carlo\\anaconda3\\lib\\site-packages\\joblib\\parallel.py\", line 1044, in __call__\n",
      "    while self.dispatch_one_batch(iterator):\n",
      "  File \"C:\\Users\\carlo\\anaconda3\\lib\\site-packages\\joblib\\parallel.py\", line 859, in dispatch_one_batch\n",
      "    self._dispatch(tasks)\n",
      "  File \"C:\\Users\\carlo\\anaconda3\\lib\\site-packages\\joblib\\parallel.py\", line 777, in _dispatch\n",
      "    job = self._backend.apply_async(batch, callback=cb)\n",
      "  File \"C:\\Users\\carlo\\anaconda3\\lib\\site-packages\\joblib\\_parallel_backends.py\", line 208, in apply_async\n",
      "    result = ImmediateResult(func)\n",
      "  File \"C:\\Users\\carlo\\anaconda3\\lib\\site-packages\\joblib\\_parallel_backends.py\", line 572, in __init__\n",
      "    self.results = batch()\n",
      "  File \"C:\\Users\\carlo\\anaconda3\\lib\\site-packages\\joblib\\parallel.py\", line 262, in __call__\n",
      "    return [func(*args, **kwargs)\n",
      "  File \"C:\\Users\\carlo\\anaconda3\\lib\\site-packages\\joblib\\parallel.py\", line 262, in <listcomp>\n",
      "    return [func(*args, **kwargs)\n",
      "  File \"C:\\Users\\carlo\\anaconda3\\lib\\site-packages\\sklearn\\utils\\fixes.py\", line 216, in __call__\n",
      "    return self.function(*args, **kwargs)\n",
      "  File \"C:\\Users\\carlo\\anaconda3\\lib\\site-packages\\sklearn\\pipeline.py\", line 876, in _transform_one\n",
      "    res = transformer.transform(X)\n",
      "  File \"C:\\Users\\carlo\\anaconda3\\lib\\site-packages\\sklearn\\preprocessing\\_encoders.py\", line 509, in transform\n",
      "    X_int, X_mask = self._transform(\n",
      "  File \"C:\\Users\\carlo\\anaconda3\\lib\\site-packages\\sklearn\\preprocessing\\_encoders.py\", line 142, in _transform\n",
      "    raise ValueError(msg)\n",
      "ValueError: Found unknown categories [2018] in column 3 during transform\n",
      "\n",
      "  warnings.warn(\n",
      "C:\\Users\\carlo\\anaconda3\\lib\\site-packages\\sklearn\\model_selection\\_validation.py:770: UserWarning: Scoring failed. The score on this train-test partition for these parameters will be set to nan. Details: \n",
      "Traceback (most recent call last):\n",
      "  File \"C:\\Users\\carlo\\anaconda3\\lib\\site-packages\\sklearn\\model_selection\\_validation.py\", line 761, in _score\n",
      "    scores = scorer(estimator, X_test, y_test)\n",
      "  File \"C:\\Users\\carlo\\anaconda3\\lib\\site-packages\\sklearn\\metrics\\_scorer.py\", line 418, in _passthrough_scorer\n",
      "    return estimator.score(*args, **kwargs)\n",
      "  File \"C:\\Users\\carlo\\anaconda3\\lib\\site-packages\\sklearn\\utils\\metaestimators.py\", line 113, in <lambda>\n",
      "    out = lambda *args, **kwargs: self.fn(obj, *args, **kwargs)  # noqa\n",
      "  File \"C:\\Users\\carlo\\anaconda3\\lib\\site-packages\\sklearn\\pipeline.py\", line 707, in score\n",
      "    Xt = transform.transform(Xt)\n",
      "  File \"C:\\Users\\carlo\\anaconda3\\lib\\site-packages\\sklearn\\compose\\_column_transformer.py\", line 748, in transform\n",
      "    Xs = self._fit_transform(\n",
      "  File \"C:\\Users\\carlo\\anaconda3\\lib\\site-packages\\sklearn\\compose\\_column_transformer.py\", line 606, in _fit_transform\n",
      "    return Parallel(n_jobs=self.n_jobs)(\n",
      "  File \"C:\\Users\\carlo\\anaconda3\\lib\\site-packages\\joblib\\parallel.py\", line 1044, in __call__\n",
      "    while self.dispatch_one_batch(iterator):\n",
      "  File \"C:\\Users\\carlo\\anaconda3\\lib\\site-packages\\joblib\\parallel.py\", line 859, in dispatch_one_batch\n",
      "    self._dispatch(tasks)\n",
      "  File \"C:\\Users\\carlo\\anaconda3\\lib\\site-packages\\joblib\\parallel.py\", line 777, in _dispatch\n",
      "    job = self._backend.apply_async(batch, callback=cb)\n",
      "  File \"C:\\Users\\carlo\\anaconda3\\lib\\site-packages\\joblib\\_parallel_backends.py\", line 208, in apply_async\n",
      "    result = ImmediateResult(func)\n",
      "  File \"C:\\Users\\carlo\\anaconda3\\lib\\site-packages\\joblib\\_parallel_backends.py\", line 572, in __init__\n",
      "    self.results = batch()\n",
      "  File \"C:\\Users\\carlo\\anaconda3\\lib\\site-packages\\joblib\\parallel.py\", line 262, in __call__\n",
      "    return [func(*args, **kwargs)\n",
      "  File \"C:\\Users\\carlo\\anaconda3\\lib\\site-packages\\joblib\\parallel.py\", line 262, in <listcomp>\n",
      "    return [func(*args, **kwargs)\n",
      "  File \"C:\\Users\\carlo\\anaconda3\\lib\\site-packages\\sklearn\\utils\\fixes.py\", line 216, in __call__\n",
      "    return self.function(*args, **kwargs)\n",
      "  File \"C:\\Users\\carlo\\anaconda3\\lib\\site-packages\\sklearn\\pipeline.py\", line 876, in _transform_one\n",
      "    res = transformer.transform(X)\n",
      "  File \"C:\\Users\\carlo\\anaconda3\\lib\\site-packages\\sklearn\\preprocessing\\_encoders.py\", line 509, in transform\n",
      "    X_int, X_mask = self._transform(\n",
      "  File \"C:\\Users\\carlo\\anaconda3\\lib\\site-packages\\sklearn\\preprocessing\\_encoders.py\", line 142, in _transform\n",
      "    raise ValueError(msg)\n",
      "ValueError: Found unknown categories [2021] in column 3 during transform\n",
      "\n",
      "  warnings.warn(\n",
      "C:\\Users\\carlo\\anaconda3\\lib\\site-packages\\sklearn\\model_selection\\_validation.py:770: UserWarning: Scoring failed. The score on this train-test partition for these parameters will be set to nan. Details: \n",
      "Traceback (most recent call last):\n",
      "  File \"C:\\Users\\carlo\\anaconda3\\lib\\site-packages\\sklearn\\model_selection\\_validation.py\", line 761, in _score\n",
      "    scores = scorer(estimator, X_test, y_test)\n",
      "  File \"C:\\Users\\carlo\\anaconda3\\lib\\site-packages\\sklearn\\metrics\\_scorer.py\", line 418, in _passthrough_scorer\n",
      "    return estimator.score(*args, **kwargs)\n",
      "  File \"C:\\Users\\carlo\\anaconda3\\lib\\site-packages\\sklearn\\utils\\metaestimators.py\", line 113, in <lambda>\n",
      "    out = lambda *args, **kwargs: self.fn(obj, *args, **kwargs)  # noqa\n",
      "  File \"C:\\Users\\carlo\\anaconda3\\lib\\site-packages\\sklearn\\pipeline.py\", line 707, in score\n",
      "    Xt = transform.transform(Xt)\n",
      "  File \"C:\\Users\\carlo\\anaconda3\\lib\\site-packages\\sklearn\\compose\\_column_transformer.py\", line 748, in transform\n",
      "    Xs = self._fit_transform(\n",
      "  File \"C:\\Users\\carlo\\anaconda3\\lib\\site-packages\\sklearn\\compose\\_column_transformer.py\", line 606, in _fit_transform\n",
      "    return Parallel(n_jobs=self.n_jobs)(\n",
      "  File \"C:\\Users\\carlo\\anaconda3\\lib\\site-packages\\joblib\\parallel.py\", line 1044, in __call__\n",
      "    while self.dispatch_one_batch(iterator):\n",
      "  File \"C:\\Users\\carlo\\anaconda3\\lib\\site-packages\\joblib\\parallel.py\", line 859, in dispatch_one_batch\n",
      "    self._dispatch(tasks)\n",
      "  File \"C:\\Users\\carlo\\anaconda3\\lib\\site-packages\\joblib\\parallel.py\", line 777, in _dispatch\n",
      "    job = self._backend.apply_async(batch, callback=cb)\n",
      "  File \"C:\\Users\\carlo\\anaconda3\\lib\\site-packages\\joblib\\_parallel_backends.py\", line 208, in apply_async\n",
      "    result = ImmediateResult(func)\n",
      "  File \"C:\\Users\\carlo\\anaconda3\\lib\\site-packages\\joblib\\_parallel_backends.py\", line 572, in __init__\n",
      "    self.results = batch()\n",
      "  File \"C:\\Users\\carlo\\anaconda3\\lib\\site-packages\\joblib\\parallel.py\", line 262, in __call__\n",
      "    return [func(*args, **kwargs)\n",
      "  File \"C:\\Users\\carlo\\anaconda3\\lib\\site-packages\\joblib\\parallel.py\", line 262, in <listcomp>\n",
      "    return [func(*args, **kwargs)\n",
      "  File \"C:\\Users\\carlo\\anaconda3\\lib\\site-packages\\sklearn\\utils\\fixes.py\", line 216, in __call__\n",
      "    return self.function(*args, **kwargs)\n",
      "  File \"C:\\Users\\carlo\\anaconda3\\lib\\site-packages\\sklearn\\pipeline.py\", line 876, in _transform_one\n",
      "    res = transformer.transform(X)\n",
      "  File \"C:\\Users\\carlo\\anaconda3\\lib\\site-packages\\sklearn\\preprocessing\\_encoders.py\", line 509, in transform\n",
      "    X_int, X_mask = self._transform(\n",
      "  File \"C:\\Users\\carlo\\anaconda3\\lib\\site-packages\\sklearn\\preprocessing\\_encoders.py\", line 142, in _transform\n",
      "    raise ValueError(msg)\n",
      "ValueError: Found unknown categories [2015] in column 3 during transform\n",
      "\n",
      "  warnings.warn(\n"
     ]
    },
    {
     "name": "stderr",
     "output_type": "stream",
     "text": [
      "C:\\Users\\carlo\\anaconda3\\lib\\site-packages\\sklearn\\model_selection\\_validation.py:770: UserWarning: Scoring failed. The score on this train-test partition for these parameters will be set to nan. Details: \n",
      "Traceback (most recent call last):\n",
      "  File \"C:\\Users\\carlo\\anaconda3\\lib\\site-packages\\sklearn\\model_selection\\_validation.py\", line 761, in _score\n",
      "    scores = scorer(estimator, X_test, y_test)\n",
      "  File \"C:\\Users\\carlo\\anaconda3\\lib\\site-packages\\sklearn\\metrics\\_scorer.py\", line 418, in _passthrough_scorer\n",
      "    return estimator.score(*args, **kwargs)\n",
      "  File \"C:\\Users\\carlo\\anaconda3\\lib\\site-packages\\sklearn\\utils\\metaestimators.py\", line 113, in <lambda>\n",
      "    out = lambda *args, **kwargs: self.fn(obj, *args, **kwargs)  # noqa\n",
      "  File \"C:\\Users\\carlo\\anaconda3\\lib\\site-packages\\sklearn\\pipeline.py\", line 707, in score\n",
      "    Xt = transform.transform(Xt)\n",
      "  File \"C:\\Users\\carlo\\anaconda3\\lib\\site-packages\\sklearn\\compose\\_column_transformer.py\", line 748, in transform\n",
      "    Xs = self._fit_transform(\n",
      "  File \"C:\\Users\\carlo\\anaconda3\\lib\\site-packages\\sklearn\\compose\\_column_transformer.py\", line 606, in _fit_transform\n",
      "    return Parallel(n_jobs=self.n_jobs)(\n",
      "  File \"C:\\Users\\carlo\\anaconda3\\lib\\site-packages\\joblib\\parallel.py\", line 1044, in __call__\n",
      "    while self.dispatch_one_batch(iterator):\n",
      "  File \"C:\\Users\\carlo\\anaconda3\\lib\\site-packages\\joblib\\parallel.py\", line 859, in dispatch_one_batch\n",
      "    self._dispatch(tasks)\n",
      "  File \"C:\\Users\\carlo\\anaconda3\\lib\\site-packages\\joblib\\parallel.py\", line 777, in _dispatch\n",
      "    job = self._backend.apply_async(batch, callback=cb)\n",
      "  File \"C:\\Users\\carlo\\anaconda3\\lib\\site-packages\\joblib\\_parallel_backends.py\", line 208, in apply_async\n",
      "    result = ImmediateResult(func)\n",
      "  File \"C:\\Users\\carlo\\anaconda3\\lib\\site-packages\\joblib\\_parallel_backends.py\", line 572, in __init__\n",
      "    self.results = batch()\n",
      "  File \"C:\\Users\\carlo\\anaconda3\\lib\\site-packages\\joblib\\parallel.py\", line 262, in __call__\n",
      "    return [func(*args, **kwargs)\n",
      "  File \"C:\\Users\\carlo\\anaconda3\\lib\\site-packages\\joblib\\parallel.py\", line 262, in <listcomp>\n",
      "    return [func(*args, **kwargs)\n",
      "  File \"C:\\Users\\carlo\\anaconda3\\lib\\site-packages\\sklearn\\utils\\fixes.py\", line 216, in __call__\n",
      "    return self.function(*args, **kwargs)\n",
      "  File \"C:\\Users\\carlo\\anaconda3\\lib\\site-packages\\sklearn\\pipeline.py\", line 876, in _transform_one\n",
      "    res = transformer.transform(X)\n",
      "  File \"C:\\Users\\carlo\\anaconda3\\lib\\site-packages\\sklearn\\preprocessing\\_encoders.py\", line 509, in transform\n",
      "    X_int, X_mask = self._transform(\n",
      "  File \"C:\\Users\\carlo\\anaconda3\\lib\\site-packages\\sklearn\\preprocessing\\_encoders.py\", line 142, in _transform\n",
      "    raise ValueError(msg)\n",
      "ValueError: Found unknown categories [2018] in column 3 during transform\n",
      "\n",
      "  warnings.warn(\n",
      "C:\\Users\\carlo\\anaconda3\\lib\\site-packages\\sklearn\\model_selection\\_validation.py:770: UserWarning: Scoring failed. The score on this train-test partition for these parameters will be set to nan. Details: \n",
      "Traceback (most recent call last):\n",
      "  File \"C:\\Users\\carlo\\anaconda3\\lib\\site-packages\\sklearn\\model_selection\\_validation.py\", line 761, in _score\n",
      "    scores = scorer(estimator, X_test, y_test)\n",
      "  File \"C:\\Users\\carlo\\anaconda3\\lib\\site-packages\\sklearn\\metrics\\_scorer.py\", line 418, in _passthrough_scorer\n",
      "    return estimator.score(*args, **kwargs)\n",
      "  File \"C:\\Users\\carlo\\anaconda3\\lib\\site-packages\\sklearn\\utils\\metaestimators.py\", line 113, in <lambda>\n",
      "    out = lambda *args, **kwargs: self.fn(obj, *args, **kwargs)  # noqa\n",
      "  File \"C:\\Users\\carlo\\anaconda3\\lib\\site-packages\\sklearn\\pipeline.py\", line 707, in score\n",
      "    Xt = transform.transform(Xt)\n",
      "  File \"C:\\Users\\carlo\\anaconda3\\lib\\site-packages\\sklearn\\compose\\_column_transformer.py\", line 748, in transform\n",
      "    Xs = self._fit_transform(\n",
      "  File \"C:\\Users\\carlo\\anaconda3\\lib\\site-packages\\sklearn\\compose\\_column_transformer.py\", line 606, in _fit_transform\n",
      "    return Parallel(n_jobs=self.n_jobs)(\n",
      "  File \"C:\\Users\\carlo\\anaconda3\\lib\\site-packages\\joblib\\parallel.py\", line 1044, in __call__\n",
      "    while self.dispatch_one_batch(iterator):\n",
      "  File \"C:\\Users\\carlo\\anaconda3\\lib\\site-packages\\joblib\\parallel.py\", line 859, in dispatch_one_batch\n",
      "    self._dispatch(tasks)\n",
      "  File \"C:\\Users\\carlo\\anaconda3\\lib\\site-packages\\joblib\\parallel.py\", line 777, in _dispatch\n",
      "    job = self._backend.apply_async(batch, callback=cb)\n",
      "  File \"C:\\Users\\carlo\\anaconda3\\lib\\site-packages\\joblib\\_parallel_backends.py\", line 208, in apply_async\n",
      "    result = ImmediateResult(func)\n",
      "  File \"C:\\Users\\carlo\\anaconda3\\lib\\site-packages\\joblib\\_parallel_backends.py\", line 572, in __init__\n",
      "    self.results = batch()\n",
      "  File \"C:\\Users\\carlo\\anaconda3\\lib\\site-packages\\joblib\\parallel.py\", line 262, in __call__\n",
      "    return [func(*args, **kwargs)\n",
      "  File \"C:\\Users\\carlo\\anaconda3\\lib\\site-packages\\joblib\\parallel.py\", line 262, in <listcomp>\n",
      "    return [func(*args, **kwargs)\n",
      "  File \"C:\\Users\\carlo\\anaconda3\\lib\\site-packages\\sklearn\\utils\\fixes.py\", line 216, in __call__\n",
      "    return self.function(*args, **kwargs)\n",
      "  File \"C:\\Users\\carlo\\anaconda3\\lib\\site-packages\\sklearn\\pipeline.py\", line 876, in _transform_one\n",
      "    res = transformer.transform(X)\n",
      "  File \"C:\\Users\\carlo\\anaconda3\\lib\\site-packages\\sklearn\\preprocessing\\_encoders.py\", line 509, in transform\n",
      "    X_int, X_mask = self._transform(\n",
      "  File \"C:\\Users\\carlo\\anaconda3\\lib\\site-packages\\sklearn\\preprocessing\\_encoders.py\", line 142, in _transform\n",
      "    raise ValueError(msg)\n",
      "ValueError: Found unknown categories [2021] in column 3 during transform\n",
      "\n",
      "  warnings.warn(\n",
      "C:\\Users\\carlo\\anaconda3\\lib\\site-packages\\sklearn\\model_selection\\_validation.py:770: UserWarning: Scoring failed. The score on this train-test partition for these parameters will be set to nan. Details: \n",
      "Traceback (most recent call last):\n",
      "  File \"C:\\Users\\carlo\\anaconda3\\lib\\site-packages\\sklearn\\model_selection\\_validation.py\", line 761, in _score\n",
      "    scores = scorer(estimator, X_test, y_test)\n",
      "  File \"C:\\Users\\carlo\\anaconda3\\lib\\site-packages\\sklearn\\metrics\\_scorer.py\", line 418, in _passthrough_scorer\n",
      "    return estimator.score(*args, **kwargs)\n",
      "  File \"C:\\Users\\carlo\\anaconda3\\lib\\site-packages\\sklearn\\utils\\metaestimators.py\", line 113, in <lambda>\n",
      "    out = lambda *args, **kwargs: self.fn(obj, *args, **kwargs)  # noqa\n",
      "  File \"C:\\Users\\carlo\\anaconda3\\lib\\site-packages\\sklearn\\pipeline.py\", line 707, in score\n",
      "    Xt = transform.transform(Xt)\n",
      "  File \"C:\\Users\\carlo\\anaconda3\\lib\\site-packages\\sklearn\\compose\\_column_transformer.py\", line 748, in transform\n",
      "    Xs = self._fit_transform(\n",
      "  File \"C:\\Users\\carlo\\anaconda3\\lib\\site-packages\\sklearn\\compose\\_column_transformer.py\", line 606, in _fit_transform\n",
      "    return Parallel(n_jobs=self.n_jobs)(\n",
      "  File \"C:\\Users\\carlo\\anaconda3\\lib\\site-packages\\joblib\\parallel.py\", line 1044, in __call__\n",
      "    while self.dispatch_one_batch(iterator):\n",
      "  File \"C:\\Users\\carlo\\anaconda3\\lib\\site-packages\\joblib\\parallel.py\", line 859, in dispatch_one_batch\n",
      "    self._dispatch(tasks)\n",
      "  File \"C:\\Users\\carlo\\anaconda3\\lib\\site-packages\\joblib\\parallel.py\", line 777, in _dispatch\n",
      "    job = self._backend.apply_async(batch, callback=cb)\n",
      "  File \"C:\\Users\\carlo\\anaconda3\\lib\\site-packages\\joblib\\_parallel_backends.py\", line 208, in apply_async\n",
      "    result = ImmediateResult(func)\n",
      "  File \"C:\\Users\\carlo\\anaconda3\\lib\\site-packages\\joblib\\_parallel_backends.py\", line 572, in __init__\n",
      "    self.results = batch()\n",
      "  File \"C:\\Users\\carlo\\anaconda3\\lib\\site-packages\\joblib\\parallel.py\", line 262, in __call__\n",
      "    return [func(*args, **kwargs)\n",
      "  File \"C:\\Users\\carlo\\anaconda3\\lib\\site-packages\\joblib\\parallel.py\", line 262, in <listcomp>\n",
      "    return [func(*args, **kwargs)\n",
      "  File \"C:\\Users\\carlo\\anaconda3\\lib\\site-packages\\sklearn\\utils\\fixes.py\", line 216, in __call__\n",
      "    return self.function(*args, **kwargs)\n",
      "  File \"C:\\Users\\carlo\\anaconda3\\lib\\site-packages\\sklearn\\pipeline.py\", line 876, in _transform_one\n",
      "    res = transformer.transform(X)\n",
      "  File \"C:\\Users\\carlo\\anaconda3\\lib\\site-packages\\sklearn\\preprocessing\\_encoders.py\", line 509, in transform\n",
      "    X_int, X_mask = self._transform(\n",
      "  File \"C:\\Users\\carlo\\anaconda3\\lib\\site-packages\\sklearn\\preprocessing\\_encoders.py\", line 142, in _transform\n",
      "    raise ValueError(msg)\n",
      "ValueError: Found unknown categories [2015] in column 3 during transform\n",
      "\n",
      "  warnings.warn(\n"
     ]
    },
    {
     "name": "stderr",
     "output_type": "stream",
     "text": [
      "C:\\Users\\carlo\\anaconda3\\lib\\site-packages\\sklearn\\model_selection\\_validation.py:770: UserWarning: Scoring failed. The score on this train-test partition for these parameters will be set to nan. Details: \n",
      "Traceback (most recent call last):\n",
      "  File \"C:\\Users\\carlo\\anaconda3\\lib\\site-packages\\sklearn\\model_selection\\_validation.py\", line 761, in _score\n",
      "    scores = scorer(estimator, X_test, y_test)\n",
      "  File \"C:\\Users\\carlo\\anaconda3\\lib\\site-packages\\sklearn\\metrics\\_scorer.py\", line 418, in _passthrough_scorer\n",
      "    return estimator.score(*args, **kwargs)\n",
      "  File \"C:\\Users\\carlo\\anaconda3\\lib\\site-packages\\sklearn\\utils\\metaestimators.py\", line 113, in <lambda>\n",
      "    out = lambda *args, **kwargs: self.fn(obj, *args, **kwargs)  # noqa\n",
      "  File \"C:\\Users\\carlo\\anaconda3\\lib\\site-packages\\sklearn\\pipeline.py\", line 707, in score\n",
      "    Xt = transform.transform(Xt)\n",
      "  File \"C:\\Users\\carlo\\anaconda3\\lib\\site-packages\\sklearn\\compose\\_column_transformer.py\", line 748, in transform\n",
      "    Xs = self._fit_transform(\n",
      "  File \"C:\\Users\\carlo\\anaconda3\\lib\\site-packages\\sklearn\\compose\\_column_transformer.py\", line 606, in _fit_transform\n",
      "    return Parallel(n_jobs=self.n_jobs)(\n",
      "  File \"C:\\Users\\carlo\\anaconda3\\lib\\site-packages\\joblib\\parallel.py\", line 1044, in __call__\n",
      "    while self.dispatch_one_batch(iterator):\n",
      "  File \"C:\\Users\\carlo\\anaconda3\\lib\\site-packages\\joblib\\parallel.py\", line 859, in dispatch_one_batch\n",
      "    self._dispatch(tasks)\n",
      "  File \"C:\\Users\\carlo\\anaconda3\\lib\\site-packages\\joblib\\parallel.py\", line 777, in _dispatch\n",
      "    job = self._backend.apply_async(batch, callback=cb)\n",
      "  File \"C:\\Users\\carlo\\anaconda3\\lib\\site-packages\\joblib\\_parallel_backends.py\", line 208, in apply_async\n",
      "    result = ImmediateResult(func)\n",
      "  File \"C:\\Users\\carlo\\anaconda3\\lib\\site-packages\\joblib\\_parallel_backends.py\", line 572, in __init__\n",
      "    self.results = batch()\n",
      "  File \"C:\\Users\\carlo\\anaconda3\\lib\\site-packages\\joblib\\parallel.py\", line 262, in __call__\n",
      "    return [func(*args, **kwargs)\n",
      "  File \"C:\\Users\\carlo\\anaconda3\\lib\\site-packages\\joblib\\parallel.py\", line 262, in <listcomp>\n",
      "    return [func(*args, **kwargs)\n",
      "  File \"C:\\Users\\carlo\\anaconda3\\lib\\site-packages\\sklearn\\utils\\fixes.py\", line 216, in __call__\n",
      "    return self.function(*args, **kwargs)\n",
      "  File \"C:\\Users\\carlo\\anaconda3\\lib\\site-packages\\sklearn\\pipeline.py\", line 876, in _transform_one\n",
      "    res = transformer.transform(X)\n",
      "  File \"C:\\Users\\carlo\\anaconda3\\lib\\site-packages\\sklearn\\preprocessing\\_encoders.py\", line 509, in transform\n",
      "    X_int, X_mask = self._transform(\n",
      "  File \"C:\\Users\\carlo\\anaconda3\\lib\\site-packages\\sklearn\\preprocessing\\_encoders.py\", line 142, in _transform\n",
      "    raise ValueError(msg)\n",
      "ValueError: Found unknown categories [2018] in column 3 during transform\n",
      "\n",
      "  warnings.warn(\n",
      "C:\\Users\\carlo\\anaconda3\\lib\\site-packages\\sklearn\\model_selection\\_validation.py:770: UserWarning: Scoring failed. The score on this train-test partition for these parameters will be set to nan. Details: \n",
      "Traceback (most recent call last):\n",
      "  File \"C:\\Users\\carlo\\anaconda3\\lib\\site-packages\\sklearn\\model_selection\\_validation.py\", line 761, in _score\n",
      "    scores = scorer(estimator, X_test, y_test)\n",
      "  File \"C:\\Users\\carlo\\anaconda3\\lib\\site-packages\\sklearn\\metrics\\_scorer.py\", line 418, in _passthrough_scorer\n",
      "    return estimator.score(*args, **kwargs)\n",
      "  File \"C:\\Users\\carlo\\anaconda3\\lib\\site-packages\\sklearn\\utils\\metaestimators.py\", line 113, in <lambda>\n",
      "    out = lambda *args, **kwargs: self.fn(obj, *args, **kwargs)  # noqa\n",
      "  File \"C:\\Users\\carlo\\anaconda3\\lib\\site-packages\\sklearn\\pipeline.py\", line 707, in score\n",
      "    Xt = transform.transform(Xt)\n",
      "  File \"C:\\Users\\carlo\\anaconda3\\lib\\site-packages\\sklearn\\compose\\_column_transformer.py\", line 748, in transform\n",
      "    Xs = self._fit_transform(\n",
      "  File \"C:\\Users\\carlo\\anaconda3\\lib\\site-packages\\sklearn\\compose\\_column_transformer.py\", line 606, in _fit_transform\n",
      "    return Parallel(n_jobs=self.n_jobs)(\n",
      "  File \"C:\\Users\\carlo\\anaconda3\\lib\\site-packages\\joblib\\parallel.py\", line 1044, in __call__\n",
      "    while self.dispatch_one_batch(iterator):\n",
      "  File \"C:\\Users\\carlo\\anaconda3\\lib\\site-packages\\joblib\\parallel.py\", line 859, in dispatch_one_batch\n",
      "    self._dispatch(tasks)\n",
      "  File \"C:\\Users\\carlo\\anaconda3\\lib\\site-packages\\joblib\\parallel.py\", line 777, in _dispatch\n",
      "    job = self._backend.apply_async(batch, callback=cb)\n",
      "  File \"C:\\Users\\carlo\\anaconda3\\lib\\site-packages\\joblib\\_parallel_backends.py\", line 208, in apply_async\n",
      "    result = ImmediateResult(func)\n",
      "  File \"C:\\Users\\carlo\\anaconda3\\lib\\site-packages\\joblib\\_parallel_backends.py\", line 572, in __init__\n",
      "    self.results = batch()\n",
      "  File \"C:\\Users\\carlo\\anaconda3\\lib\\site-packages\\joblib\\parallel.py\", line 262, in __call__\n",
      "    return [func(*args, **kwargs)\n",
      "  File \"C:\\Users\\carlo\\anaconda3\\lib\\site-packages\\joblib\\parallel.py\", line 262, in <listcomp>\n",
      "    return [func(*args, **kwargs)\n",
      "  File \"C:\\Users\\carlo\\anaconda3\\lib\\site-packages\\sklearn\\utils\\fixes.py\", line 216, in __call__\n",
      "    return self.function(*args, **kwargs)\n",
      "  File \"C:\\Users\\carlo\\anaconda3\\lib\\site-packages\\sklearn\\pipeline.py\", line 876, in _transform_one\n",
      "    res = transformer.transform(X)\n",
      "  File \"C:\\Users\\carlo\\anaconda3\\lib\\site-packages\\sklearn\\preprocessing\\_encoders.py\", line 509, in transform\n",
      "    X_int, X_mask = self._transform(\n",
      "  File \"C:\\Users\\carlo\\anaconda3\\lib\\site-packages\\sklearn\\preprocessing\\_encoders.py\", line 142, in _transform\n",
      "    raise ValueError(msg)\n",
      "ValueError: Found unknown categories [2021] in column 3 during transform\n",
      "\n",
      "  warnings.warn(\n",
      "C:\\Users\\carlo\\anaconda3\\lib\\site-packages\\sklearn\\model_selection\\_validation.py:770: UserWarning: Scoring failed. The score on this train-test partition for these parameters will be set to nan. Details: \n",
      "Traceback (most recent call last):\n",
      "  File \"C:\\Users\\carlo\\anaconda3\\lib\\site-packages\\sklearn\\model_selection\\_validation.py\", line 761, in _score\n",
      "    scores = scorer(estimator, X_test, y_test)\n",
      "  File \"C:\\Users\\carlo\\anaconda3\\lib\\site-packages\\sklearn\\metrics\\_scorer.py\", line 418, in _passthrough_scorer\n",
      "    return estimator.score(*args, **kwargs)\n",
      "  File \"C:\\Users\\carlo\\anaconda3\\lib\\site-packages\\sklearn\\utils\\metaestimators.py\", line 113, in <lambda>\n",
      "    out = lambda *args, **kwargs: self.fn(obj, *args, **kwargs)  # noqa\n",
      "  File \"C:\\Users\\carlo\\anaconda3\\lib\\site-packages\\sklearn\\pipeline.py\", line 707, in score\n",
      "    Xt = transform.transform(Xt)\n",
      "  File \"C:\\Users\\carlo\\anaconda3\\lib\\site-packages\\sklearn\\compose\\_column_transformer.py\", line 748, in transform\n",
      "    Xs = self._fit_transform(\n",
      "  File \"C:\\Users\\carlo\\anaconda3\\lib\\site-packages\\sklearn\\compose\\_column_transformer.py\", line 606, in _fit_transform\n",
      "    return Parallel(n_jobs=self.n_jobs)(\n",
      "  File \"C:\\Users\\carlo\\anaconda3\\lib\\site-packages\\joblib\\parallel.py\", line 1044, in __call__\n",
      "    while self.dispatch_one_batch(iterator):\n",
      "  File \"C:\\Users\\carlo\\anaconda3\\lib\\site-packages\\joblib\\parallel.py\", line 859, in dispatch_one_batch\n",
      "    self._dispatch(tasks)\n",
      "  File \"C:\\Users\\carlo\\anaconda3\\lib\\site-packages\\joblib\\parallel.py\", line 777, in _dispatch\n",
      "    job = self._backend.apply_async(batch, callback=cb)\n",
      "  File \"C:\\Users\\carlo\\anaconda3\\lib\\site-packages\\joblib\\_parallel_backends.py\", line 208, in apply_async\n",
      "    result = ImmediateResult(func)\n",
      "  File \"C:\\Users\\carlo\\anaconda3\\lib\\site-packages\\joblib\\_parallel_backends.py\", line 572, in __init__\n",
      "    self.results = batch()\n",
      "  File \"C:\\Users\\carlo\\anaconda3\\lib\\site-packages\\joblib\\parallel.py\", line 262, in __call__\n",
      "    return [func(*args, **kwargs)\n",
      "  File \"C:\\Users\\carlo\\anaconda3\\lib\\site-packages\\joblib\\parallel.py\", line 262, in <listcomp>\n",
      "    return [func(*args, **kwargs)\n",
      "  File \"C:\\Users\\carlo\\anaconda3\\lib\\site-packages\\sklearn\\utils\\fixes.py\", line 216, in __call__\n",
      "    return self.function(*args, **kwargs)\n",
      "  File \"C:\\Users\\carlo\\anaconda3\\lib\\site-packages\\sklearn\\pipeline.py\", line 876, in _transform_one\n",
      "    res = transformer.transform(X)\n",
      "  File \"C:\\Users\\carlo\\anaconda3\\lib\\site-packages\\sklearn\\preprocessing\\_encoders.py\", line 509, in transform\n",
      "    X_int, X_mask = self._transform(\n",
      "  File \"C:\\Users\\carlo\\anaconda3\\lib\\site-packages\\sklearn\\preprocessing\\_encoders.py\", line 142, in _transform\n",
      "    raise ValueError(msg)\n",
      "ValueError: Found unknown categories [2015] in column 3 during transform\n",
      "\n",
      "  warnings.warn(\n"
     ]
    },
    {
     "name": "stderr",
     "output_type": "stream",
     "text": [
      "C:\\Users\\carlo\\anaconda3\\lib\\site-packages\\sklearn\\model_selection\\_validation.py:770: UserWarning: Scoring failed. The score on this train-test partition for these parameters will be set to nan. Details: \n",
      "Traceback (most recent call last):\n",
      "  File \"C:\\Users\\carlo\\anaconda3\\lib\\site-packages\\sklearn\\model_selection\\_validation.py\", line 761, in _score\n",
      "    scores = scorer(estimator, X_test, y_test)\n",
      "  File \"C:\\Users\\carlo\\anaconda3\\lib\\site-packages\\sklearn\\metrics\\_scorer.py\", line 418, in _passthrough_scorer\n",
      "    return estimator.score(*args, **kwargs)\n",
      "  File \"C:\\Users\\carlo\\anaconda3\\lib\\site-packages\\sklearn\\utils\\metaestimators.py\", line 113, in <lambda>\n",
      "    out = lambda *args, **kwargs: self.fn(obj, *args, **kwargs)  # noqa\n",
      "  File \"C:\\Users\\carlo\\anaconda3\\lib\\site-packages\\sklearn\\pipeline.py\", line 707, in score\n",
      "    Xt = transform.transform(Xt)\n",
      "  File \"C:\\Users\\carlo\\anaconda3\\lib\\site-packages\\sklearn\\compose\\_column_transformer.py\", line 748, in transform\n",
      "    Xs = self._fit_transform(\n",
      "  File \"C:\\Users\\carlo\\anaconda3\\lib\\site-packages\\sklearn\\compose\\_column_transformer.py\", line 606, in _fit_transform\n",
      "    return Parallel(n_jobs=self.n_jobs)(\n",
      "  File \"C:\\Users\\carlo\\anaconda3\\lib\\site-packages\\joblib\\parallel.py\", line 1044, in __call__\n",
      "    while self.dispatch_one_batch(iterator):\n",
      "  File \"C:\\Users\\carlo\\anaconda3\\lib\\site-packages\\joblib\\parallel.py\", line 859, in dispatch_one_batch\n",
      "    self._dispatch(tasks)\n",
      "  File \"C:\\Users\\carlo\\anaconda3\\lib\\site-packages\\joblib\\parallel.py\", line 777, in _dispatch\n",
      "    job = self._backend.apply_async(batch, callback=cb)\n",
      "  File \"C:\\Users\\carlo\\anaconda3\\lib\\site-packages\\joblib\\_parallel_backends.py\", line 208, in apply_async\n",
      "    result = ImmediateResult(func)\n",
      "  File \"C:\\Users\\carlo\\anaconda3\\lib\\site-packages\\joblib\\_parallel_backends.py\", line 572, in __init__\n",
      "    self.results = batch()\n",
      "  File \"C:\\Users\\carlo\\anaconda3\\lib\\site-packages\\joblib\\parallel.py\", line 262, in __call__\n",
      "    return [func(*args, **kwargs)\n",
      "  File \"C:\\Users\\carlo\\anaconda3\\lib\\site-packages\\joblib\\parallel.py\", line 262, in <listcomp>\n",
      "    return [func(*args, **kwargs)\n",
      "  File \"C:\\Users\\carlo\\anaconda3\\lib\\site-packages\\sklearn\\utils\\fixes.py\", line 216, in __call__\n",
      "    return self.function(*args, **kwargs)\n",
      "  File \"C:\\Users\\carlo\\anaconda3\\lib\\site-packages\\sklearn\\pipeline.py\", line 876, in _transform_one\n",
      "    res = transformer.transform(X)\n",
      "  File \"C:\\Users\\carlo\\anaconda3\\lib\\site-packages\\sklearn\\preprocessing\\_encoders.py\", line 509, in transform\n",
      "    X_int, X_mask = self._transform(\n",
      "  File \"C:\\Users\\carlo\\anaconda3\\lib\\site-packages\\sklearn\\preprocessing\\_encoders.py\", line 142, in _transform\n",
      "    raise ValueError(msg)\n",
      "ValueError: Found unknown categories [2018] in column 3 during transform\n",
      "\n",
      "  warnings.warn(\n",
      "C:\\Users\\carlo\\anaconda3\\lib\\site-packages\\sklearn\\model_selection\\_validation.py:770: UserWarning: Scoring failed. The score on this train-test partition for these parameters will be set to nan. Details: \n",
      "Traceback (most recent call last):\n",
      "  File \"C:\\Users\\carlo\\anaconda3\\lib\\site-packages\\sklearn\\model_selection\\_validation.py\", line 761, in _score\n",
      "    scores = scorer(estimator, X_test, y_test)\n",
      "  File \"C:\\Users\\carlo\\anaconda3\\lib\\site-packages\\sklearn\\metrics\\_scorer.py\", line 418, in _passthrough_scorer\n",
      "    return estimator.score(*args, **kwargs)\n",
      "  File \"C:\\Users\\carlo\\anaconda3\\lib\\site-packages\\sklearn\\utils\\metaestimators.py\", line 113, in <lambda>\n",
      "    out = lambda *args, **kwargs: self.fn(obj, *args, **kwargs)  # noqa\n",
      "  File \"C:\\Users\\carlo\\anaconda3\\lib\\site-packages\\sklearn\\pipeline.py\", line 707, in score\n",
      "    Xt = transform.transform(Xt)\n",
      "  File \"C:\\Users\\carlo\\anaconda3\\lib\\site-packages\\sklearn\\compose\\_column_transformer.py\", line 748, in transform\n",
      "    Xs = self._fit_transform(\n",
      "  File \"C:\\Users\\carlo\\anaconda3\\lib\\site-packages\\sklearn\\compose\\_column_transformer.py\", line 606, in _fit_transform\n",
      "    return Parallel(n_jobs=self.n_jobs)(\n",
      "  File \"C:\\Users\\carlo\\anaconda3\\lib\\site-packages\\joblib\\parallel.py\", line 1044, in __call__\n",
      "    while self.dispatch_one_batch(iterator):\n",
      "  File \"C:\\Users\\carlo\\anaconda3\\lib\\site-packages\\joblib\\parallel.py\", line 859, in dispatch_one_batch\n",
      "    self._dispatch(tasks)\n",
      "  File \"C:\\Users\\carlo\\anaconda3\\lib\\site-packages\\joblib\\parallel.py\", line 777, in _dispatch\n",
      "    job = self._backend.apply_async(batch, callback=cb)\n",
      "  File \"C:\\Users\\carlo\\anaconda3\\lib\\site-packages\\joblib\\_parallel_backends.py\", line 208, in apply_async\n",
      "    result = ImmediateResult(func)\n",
      "  File \"C:\\Users\\carlo\\anaconda3\\lib\\site-packages\\joblib\\_parallel_backends.py\", line 572, in __init__\n",
      "    self.results = batch()\n",
      "  File \"C:\\Users\\carlo\\anaconda3\\lib\\site-packages\\joblib\\parallel.py\", line 262, in __call__\n",
      "    return [func(*args, **kwargs)\n",
      "  File \"C:\\Users\\carlo\\anaconda3\\lib\\site-packages\\joblib\\parallel.py\", line 262, in <listcomp>\n",
      "    return [func(*args, **kwargs)\n",
      "  File \"C:\\Users\\carlo\\anaconda3\\lib\\site-packages\\sklearn\\utils\\fixes.py\", line 216, in __call__\n",
      "    return self.function(*args, **kwargs)\n",
      "  File \"C:\\Users\\carlo\\anaconda3\\lib\\site-packages\\sklearn\\pipeline.py\", line 876, in _transform_one\n",
      "    res = transformer.transform(X)\n",
      "  File \"C:\\Users\\carlo\\anaconda3\\lib\\site-packages\\sklearn\\preprocessing\\_encoders.py\", line 509, in transform\n",
      "    X_int, X_mask = self._transform(\n",
      "  File \"C:\\Users\\carlo\\anaconda3\\lib\\site-packages\\sklearn\\preprocessing\\_encoders.py\", line 142, in _transform\n",
      "    raise ValueError(msg)\n",
      "ValueError: Found unknown categories [2021] in column 3 during transform\n",
      "\n",
      "  warnings.warn(\n",
      "C:\\Users\\carlo\\anaconda3\\lib\\site-packages\\sklearn\\model_selection\\_validation.py:770: UserWarning: Scoring failed. The score on this train-test partition for these parameters will be set to nan. Details: \n",
      "Traceback (most recent call last):\n",
      "  File \"C:\\Users\\carlo\\anaconda3\\lib\\site-packages\\sklearn\\model_selection\\_validation.py\", line 761, in _score\n",
      "    scores = scorer(estimator, X_test, y_test)\n",
      "  File \"C:\\Users\\carlo\\anaconda3\\lib\\site-packages\\sklearn\\metrics\\_scorer.py\", line 418, in _passthrough_scorer\n",
      "    return estimator.score(*args, **kwargs)\n",
      "  File \"C:\\Users\\carlo\\anaconda3\\lib\\site-packages\\sklearn\\utils\\metaestimators.py\", line 113, in <lambda>\n",
      "    out = lambda *args, **kwargs: self.fn(obj, *args, **kwargs)  # noqa\n",
      "  File \"C:\\Users\\carlo\\anaconda3\\lib\\site-packages\\sklearn\\pipeline.py\", line 707, in score\n",
      "    Xt = transform.transform(Xt)\n",
      "  File \"C:\\Users\\carlo\\anaconda3\\lib\\site-packages\\sklearn\\compose\\_column_transformer.py\", line 748, in transform\n",
      "    Xs = self._fit_transform(\n",
      "  File \"C:\\Users\\carlo\\anaconda3\\lib\\site-packages\\sklearn\\compose\\_column_transformer.py\", line 606, in _fit_transform\n",
      "    return Parallel(n_jobs=self.n_jobs)(\n",
      "  File \"C:\\Users\\carlo\\anaconda3\\lib\\site-packages\\joblib\\parallel.py\", line 1044, in __call__\n",
      "    while self.dispatch_one_batch(iterator):\n",
      "  File \"C:\\Users\\carlo\\anaconda3\\lib\\site-packages\\joblib\\parallel.py\", line 859, in dispatch_one_batch\n",
      "    self._dispatch(tasks)\n",
      "  File \"C:\\Users\\carlo\\anaconda3\\lib\\site-packages\\joblib\\parallel.py\", line 777, in _dispatch\n",
      "    job = self._backend.apply_async(batch, callback=cb)\n",
      "  File \"C:\\Users\\carlo\\anaconda3\\lib\\site-packages\\joblib\\_parallel_backends.py\", line 208, in apply_async\n",
      "    result = ImmediateResult(func)\n",
      "  File \"C:\\Users\\carlo\\anaconda3\\lib\\site-packages\\joblib\\_parallel_backends.py\", line 572, in __init__\n",
      "    self.results = batch()\n",
      "  File \"C:\\Users\\carlo\\anaconda3\\lib\\site-packages\\joblib\\parallel.py\", line 262, in __call__\n",
      "    return [func(*args, **kwargs)\n",
      "  File \"C:\\Users\\carlo\\anaconda3\\lib\\site-packages\\joblib\\parallel.py\", line 262, in <listcomp>\n",
      "    return [func(*args, **kwargs)\n",
      "  File \"C:\\Users\\carlo\\anaconda3\\lib\\site-packages\\sklearn\\utils\\fixes.py\", line 216, in __call__\n",
      "    return self.function(*args, **kwargs)\n",
      "  File \"C:\\Users\\carlo\\anaconda3\\lib\\site-packages\\sklearn\\pipeline.py\", line 876, in _transform_one\n",
      "    res = transformer.transform(X)\n",
      "  File \"C:\\Users\\carlo\\anaconda3\\lib\\site-packages\\sklearn\\preprocessing\\_encoders.py\", line 509, in transform\n",
      "    X_int, X_mask = self._transform(\n",
      "  File \"C:\\Users\\carlo\\anaconda3\\lib\\site-packages\\sklearn\\preprocessing\\_encoders.py\", line 142, in _transform\n",
      "    raise ValueError(msg)\n",
      "ValueError: Found unknown categories [2015] in column 3 during transform\n",
      "\n",
      "  warnings.warn(\n"
     ]
    },
    {
     "name": "stderr",
     "output_type": "stream",
     "text": [
      "C:\\Users\\carlo\\anaconda3\\lib\\site-packages\\sklearn\\model_selection\\_validation.py:770: UserWarning: Scoring failed. The score on this train-test partition for these parameters will be set to nan. Details: \n",
      "Traceback (most recent call last):\n",
      "  File \"C:\\Users\\carlo\\anaconda3\\lib\\site-packages\\sklearn\\model_selection\\_validation.py\", line 761, in _score\n",
      "    scores = scorer(estimator, X_test, y_test)\n",
      "  File \"C:\\Users\\carlo\\anaconda3\\lib\\site-packages\\sklearn\\metrics\\_scorer.py\", line 418, in _passthrough_scorer\n",
      "    return estimator.score(*args, **kwargs)\n",
      "  File \"C:\\Users\\carlo\\anaconda3\\lib\\site-packages\\sklearn\\utils\\metaestimators.py\", line 113, in <lambda>\n",
      "    out = lambda *args, **kwargs: self.fn(obj, *args, **kwargs)  # noqa\n",
      "  File \"C:\\Users\\carlo\\anaconda3\\lib\\site-packages\\sklearn\\pipeline.py\", line 707, in score\n",
      "    Xt = transform.transform(Xt)\n",
      "  File \"C:\\Users\\carlo\\anaconda3\\lib\\site-packages\\sklearn\\compose\\_column_transformer.py\", line 748, in transform\n",
      "    Xs = self._fit_transform(\n",
      "  File \"C:\\Users\\carlo\\anaconda3\\lib\\site-packages\\sklearn\\compose\\_column_transformer.py\", line 606, in _fit_transform\n",
      "    return Parallel(n_jobs=self.n_jobs)(\n",
      "  File \"C:\\Users\\carlo\\anaconda3\\lib\\site-packages\\joblib\\parallel.py\", line 1044, in __call__\n",
      "    while self.dispatch_one_batch(iterator):\n",
      "  File \"C:\\Users\\carlo\\anaconda3\\lib\\site-packages\\joblib\\parallel.py\", line 859, in dispatch_one_batch\n",
      "    self._dispatch(tasks)\n",
      "  File \"C:\\Users\\carlo\\anaconda3\\lib\\site-packages\\joblib\\parallel.py\", line 777, in _dispatch\n",
      "    job = self._backend.apply_async(batch, callback=cb)\n",
      "  File \"C:\\Users\\carlo\\anaconda3\\lib\\site-packages\\joblib\\_parallel_backends.py\", line 208, in apply_async\n",
      "    result = ImmediateResult(func)\n",
      "  File \"C:\\Users\\carlo\\anaconda3\\lib\\site-packages\\joblib\\_parallel_backends.py\", line 572, in __init__\n",
      "    self.results = batch()\n",
      "  File \"C:\\Users\\carlo\\anaconda3\\lib\\site-packages\\joblib\\parallel.py\", line 262, in __call__\n",
      "    return [func(*args, **kwargs)\n",
      "  File \"C:\\Users\\carlo\\anaconda3\\lib\\site-packages\\joblib\\parallel.py\", line 262, in <listcomp>\n",
      "    return [func(*args, **kwargs)\n",
      "  File \"C:\\Users\\carlo\\anaconda3\\lib\\site-packages\\sklearn\\utils\\fixes.py\", line 216, in __call__\n",
      "    return self.function(*args, **kwargs)\n",
      "  File \"C:\\Users\\carlo\\anaconda3\\lib\\site-packages\\sklearn\\pipeline.py\", line 876, in _transform_one\n",
      "    res = transformer.transform(X)\n",
      "  File \"C:\\Users\\carlo\\anaconda3\\lib\\site-packages\\sklearn\\preprocessing\\_encoders.py\", line 509, in transform\n",
      "    X_int, X_mask = self._transform(\n",
      "  File \"C:\\Users\\carlo\\anaconda3\\lib\\site-packages\\sklearn\\preprocessing\\_encoders.py\", line 142, in _transform\n",
      "    raise ValueError(msg)\n",
      "ValueError: Found unknown categories [2018] in column 3 during transform\n",
      "\n",
      "  warnings.warn(\n",
      "C:\\Users\\carlo\\anaconda3\\lib\\site-packages\\sklearn\\model_selection\\_validation.py:770: UserWarning: Scoring failed. The score on this train-test partition for these parameters will be set to nan. Details: \n",
      "Traceback (most recent call last):\n",
      "  File \"C:\\Users\\carlo\\anaconda3\\lib\\site-packages\\sklearn\\model_selection\\_validation.py\", line 761, in _score\n",
      "    scores = scorer(estimator, X_test, y_test)\n",
      "  File \"C:\\Users\\carlo\\anaconda3\\lib\\site-packages\\sklearn\\metrics\\_scorer.py\", line 418, in _passthrough_scorer\n",
      "    return estimator.score(*args, **kwargs)\n",
      "  File \"C:\\Users\\carlo\\anaconda3\\lib\\site-packages\\sklearn\\utils\\metaestimators.py\", line 113, in <lambda>\n",
      "    out = lambda *args, **kwargs: self.fn(obj, *args, **kwargs)  # noqa\n",
      "  File \"C:\\Users\\carlo\\anaconda3\\lib\\site-packages\\sklearn\\pipeline.py\", line 707, in score\n",
      "    Xt = transform.transform(Xt)\n",
      "  File \"C:\\Users\\carlo\\anaconda3\\lib\\site-packages\\sklearn\\compose\\_column_transformer.py\", line 748, in transform\n",
      "    Xs = self._fit_transform(\n",
      "  File \"C:\\Users\\carlo\\anaconda3\\lib\\site-packages\\sklearn\\compose\\_column_transformer.py\", line 606, in _fit_transform\n",
      "    return Parallel(n_jobs=self.n_jobs)(\n",
      "  File \"C:\\Users\\carlo\\anaconda3\\lib\\site-packages\\joblib\\parallel.py\", line 1044, in __call__\n",
      "    while self.dispatch_one_batch(iterator):\n",
      "  File \"C:\\Users\\carlo\\anaconda3\\lib\\site-packages\\joblib\\parallel.py\", line 859, in dispatch_one_batch\n",
      "    self._dispatch(tasks)\n",
      "  File \"C:\\Users\\carlo\\anaconda3\\lib\\site-packages\\joblib\\parallel.py\", line 777, in _dispatch\n",
      "    job = self._backend.apply_async(batch, callback=cb)\n",
      "  File \"C:\\Users\\carlo\\anaconda3\\lib\\site-packages\\joblib\\_parallel_backends.py\", line 208, in apply_async\n",
      "    result = ImmediateResult(func)\n",
      "  File \"C:\\Users\\carlo\\anaconda3\\lib\\site-packages\\joblib\\_parallel_backends.py\", line 572, in __init__\n",
      "    self.results = batch()\n",
      "  File \"C:\\Users\\carlo\\anaconda3\\lib\\site-packages\\joblib\\parallel.py\", line 262, in __call__\n",
      "    return [func(*args, **kwargs)\n",
      "  File \"C:\\Users\\carlo\\anaconda3\\lib\\site-packages\\joblib\\parallel.py\", line 262, in <listcomp>\n",
      "    return [func(*args, **kwargs)\n",
      "  File \"C:\\Users\\carlo\\anaconda3\\lib\\site-packages\\sklearn\\utils\\fixes.py\", line 216, in __call__\n",
      "    return self.function(*args, **kwargs)\n",
      "  File \"C:\\Users\\carlo\\anaconda3\\lib\\site-packages\\sklearn\\pipeline.py\", line 876, in _transform_one\n",
      "    res = transformer.transform(X)\n",
      "  File \"C:\\Users\\carlo\\anaconda3\\lib\\site-packages\\sklearn\\preprocessing\\_encoders.py\", line 509, in transform\n",
      "    X_int, X_mask = self._transform(\n",
      "  File \"C:\\Users\\carlo\\anaconda3\\lib\\site-packages\\sklearn\\preprocessing\\_encoders.py\", line 142, in _transform\n",
      "    raise ValueError(msg)\n",
      "ValueError: Found unknown categories [2021] in column 3 during transform\n",
      "\n",
      "  warnings.warn(\n",
      "C:\\Users\\carlo\\anaconda3\\lib\\site-packages\\sklearn\\model_selection\\_search.py:969: UserWarning: One or more of the test scores are non-finite: [nan nan nan nan nan nan]\n",
      "  warnings.warn(\n"
     ]
    }
   ],
   "source": [
    "model=GridSearchCV(pipe, param_grid=params, cv=5) .fit(X,y)"
   ]
  },
  {
   "cell_type": "code",
   "execution_count": 118,
   "id": "840237a9",
   "metadata": {},
   "outputs": [
    {
     "data": {
      "text/plain": [
       "{'ridge__alpha': 0.001}"
      ]
     },
     "execution_count": 118,
     "metadata": {},
     "output_type": "execute_result"
    }
   ],
   "source": [
    "model.best_params_"
   ]
  },
  {
   "cell_type": "code",
   "execution_count": 119,
   "id": "623f5495",
   "metadata": {},
   "outputs": [
    {
     "data": {
      "text/plain": [
       "0.2926867174351133"
      ]
     },
     "execution_count": 119,
     "metadata": {},
     "output_type": "execute_result"
    }
   ],
   "source": [
    "model.best_estimator_.fit(X,y).score(X,y)"
   ]
  },
  {
   "cell_type": "code",
   "execution_count": null,
   "id": "102611d3",
   "metadata": {},
   "outputs": [],
   "source": [
    "#Aquí hay que hacer la curva ROC para decididir el umbral\n",
    "#from sklearn.metrics import auc, roc_curve\n",
    "#fpr, tpr, th=roc_curve(y, p[:,1])"
   ]
  },
  {
   "cell_type": "markdown",
   "id": "ac020a35",
   "metadata": {},
   "source": [
    "## Modelos clasificación"
   ]
  },
  {
   "cell_type": "code",
   "execution_count": 120,
   "id": "d7fa49cf",
   "metadata": {},
   "outputs": [],
   "source": [
    "from sklearn import svm\n",
    "from sklearn.tree import DecisionTreeClassifier\n",
    "from sklearn.model_selection import train_test_split\n",
    "from sklearn.tree import DecisionTreeRegressor\n",
    "from sklearn.linear_model import LinearRegression\n",
    "from sklearn import ensemble\n",
    "\n"
   ]
  },
  {
   "cell_type": "code",
   "execution_count": 125,
   "id": "e8474699",
   "metadata": {},
   "outputs": [],
   "source": [
    "from sklearn.metrics import classification_report\n",
    "target=[]\n",
    "#elegimos el % de target para que sea 0 y 1\n",
    "for i in df.progresion_anual:\n",
    "    if i>0.1:\n",
    "        target.append(1)\n",
    "    else:\n",
    "        target.append(0)\n",
    "df[\"target\"]=target\n"
   ]
  },
  {
   "cell_type": "code",
   "execution_count": 75,
   "id": "d8061f25",
   "metadata": {},
   "outputs": [],
   "source": [
    "numerics = ['int16', 'int32', 'int64', 'float16', 'float32', 'float64']\n"
   ]
  },
  {
   "cell_type": "code",
   "execution_count": 124,
   "id": "6a02a8b0",
   "metadata": {},
   "outputs": [],
   "source": [
    "X_features = feature_engineering.fit_transform(X)"
   ]
  },
  {
   "cell_type": "code",
   "execution_count": 126,
   "id": "83be92b2",
   "metadata": {},
   "outputs": [],
   "source": [
    "#elegir la X\n",
    "X=X_features\n",
    "y=df.target\n",
    "X_train, X_test, y_train, y_test = train_test_split(X, y, test_size = 0.15, random_state=42)"
   ]
  },
  {
   "cell_type": "code",
   "execution_count": 149,
   "id": "f46d69b7",
   "metadata": {},
   "outputs": [],
   "source": [
    "#rebalanceo\n",
    "import imblearn\n",
    "from imblearn.under_sampling import RandomUnderSampler\n",
    "X_res, y_res = RandomUnderSampler().fit_resample(X,y)"
   ]
  },
  {
   "cell_type": "code",
   "execution_count": 151,
   "id": "42904cea",
   "metadata": {},
   "outputs": [],
   "source": [
    "X_train, X_test, y_train, y_test = train_test_split(X_res, y_res, test_size = 0.15, random_state=42)"
   ]
  },
  {
   "cell_type": "code",
   "execution_count": 152,
   "id": "ef9528bb",
   "metadata": {},
   "outputs": [],
   "source": [
    "#modelo1\n",
    "model1=ensemble.RandomForestRegressor().fit(X_train,y_train)"
   ]
  },
  {
   "cell_type": "code",
   "execution_count": 153,
   "id": "3e6665bb",
   "metadata": {},
   "outputs": [
    {
     "data": {
      "text/plain": [
       "0.4153606302079118"
      ]
     },
     "execution_count": 153,
     "metadata": {},
     "output_type": "execute_result"
    }
   ],
   "source": [
    "model1.score(X_test,y_test)"
   ]
  },
  {
   "cell_type": "code",
   "execution_count": 154,
   "id": "83002549",
   "metadata": {},
   "outputs": [
    {
     "name": "stdout",
     "output_type": "stream",
     "text": [
      "              precision    recall  f1-score   support\n",
      "\n",
      "           0       0.74      0.67      0.70       282\n",
      "           1       0.68      0.74      0.71       263\n",
      "\n",
      "    accuracy                           0.71       545\n",
      "   macro avg       0.71      0.71      0.71       545\n",
      "weighted avg       0.71      0.71      0.71       545\n",
      "\n"
     ]
    }
   ],
   "source": [
    "#modelo2\n",
    "model2=DecisionTreeRegressor().fit(X_train,y_train)\n",
    "y_pred=model2.predict(X_test)\n",
    "print(classification_report(y_test, y_pred))"
   ]
  },
  {
   "cell_type": "code",
   "execution_count": 155,
   "id": "96b3ebcd",
   "metadata": {},
   "outputs": [
    {
     "name": "stdout",
     "output_type": "stream",
     "text": [
      "              precision    recall  f1-score   support\n",
      "\n",
      "           0       0.73      0.66      0.69       282\n",
      "           1       0.67      0.74      0.70       263\n",
      "\n",
      "    accuracy                           0.70       545\n",
      "   macro avg       0.70      0.70      0.70       545\n",
      "weighted avg       0.70      0.70      0.70       545\n",
      "\n"
     ]
    }
   ],
   "source": [
    "#modelo3\n",
    "model3=DecisionTreeClassifier().fit(X_train,y_train)\n",
    "y_pred=model3.predict(X_test)\n",
    "print(classification_report(y_test, y_pred))"
   ]
  },
  {
   "cell_type": "code",
   "execution_count": 143,
   "id": "84a8d64d",
   "metadata": {},
   "outputs": [
    {
     "data": {
      "text/plain": [
       "28"
      ]
     },
     "execution_count": 143,
     "metadata": {},
     "output_type": "execute_result"
    }
   ],
   "source": [
    "model3.get_depth()"
   ]
  },
  {
   "cell_type": "code",
   "execution_count": 158,
   "id": "af2c78c0",
   "metadata": {},
   "outputs": [
    {
     "name": "stdout",
     "output_type": "stream",
     "text": [
      "              precision    recall  f1-score   support\n",
      "\n",
      "           0       0.85      0.72      0.78       282\n",
      "           1       0.74      0.87      0.80       263\n",
      "\n",
      "    accuracy                           0.79       545\n",
      "   macro avg       0.80      0.79      0.79       545\n",
      "weighted avg       0.80      0.79      0.79       545\n",
      "\n"
     ]
    }
   ],
   "source": [
    "#modelo4\n",
    "model4=svm.SVC()\n",
    "model4.fit(X_train,y_train).score(X_test,y_test)\n",
    "y_pred=model.predict(X_test)\n",
    "print(classification_report(y_test, y_pred))"
   ]
  },
  {
   "cell_type": "code",
   "execution_count": 159,
   "id": "c3662565",
   "metadata": {},
   "outputs": [
    {
     "data": {
      "text/plain": [
       "0.7908256880733945"
      ]
     },
     "execution_count": 159,
     "metadata": {},
     "output_type": "execute_result"
    }
   ],
   "source": [
    "model4.score(X_test,y_test)"
   ]
  },
  {
   "cell_type": "code",
   "execution_count": 160,
   "id": "06eec081",
   "metadata": {},
   "outputs": [
    {
     "name": "stdout",
     "output_type": "stream",
     "text": [
      "Help on SVC in module sklearn.svm._classes object:\n",
      "\n",
      "class SVC(sklearn.svm._base.BaseSVC)\n",
      " |  SVC(*, C=1.0, kernel='rbf', degree=3, gamma='scale', coef0=0.0, shrinking=True, probability=False, tol=0.001, cache_size=200, class_weight=None, verbose=False, max_iter=-1, decision_function_shape='ovr', break_ties=False, random_state=None)\n",
      " |  \n",
      " |  C-Support Vector Classification.\n",
      " |  \n",
      " |  The implementation is based on libsvm. The fit time scales at least\n",
      " |  quadratically with the number of samples and may be impractical\n",
      " |  beyond tens of thousands of samples. For large datasets\n",
      " |  consider using :class:`~sklearn.svm.LinearSVC` or\n",
      " |  :class:`~sklearn.linear_model.SGDClassifier` instead, possibly after a\n",
      " |  :class:`~sklearn.kernel_approximation.Nystroem` transformer.\n",
      " |  \n",
      " |  The multiclass support is handled according to a one-vs-one scheme.\n",
      " |  \n",
      " |  For details on the precise mathematical formulation of the provided\n",
      " |  kernel functions and how `gamma`, `coef0` and `degree` affect each\n",
      " |  other, see the corresponding section in the narrative documentation:\n",
      " |  :ref:`svm_kernels`.\n",
      " |  \n",
      " |  Read more in the :ref:`User Guide <svm_classification>`.\n",
      " |  \n",
      " |  Parameters\n",
      " |  ----------\n",
      " |  C : float, default=1.0\n",
      " |      Regularization parameter. The strength of the regularization is\n",
      " |      inversely proportional to C. Must be strictly positive. The penalty\n",
      " |      is a squared l2 penalty.\n",
      " |  \n",
      " |  kernel : {'linear', 'poly', 'rbf', 'sigmoid', 'precomputed'} or callable,          default='rbf'\n",
      " |      Specifies the kernel type to be used in the algorithm.\n",
      " |      If none is given, 'rbf' will be used. If a callable is given it is\n",
      " |      used to pre-compute the kernel matrix from data matrices; that matrix\n",
      " |      should be an array of shape ``(n_samples, n_samples)``.\n",
      " |  \n",
      " |  degree : int, default=3\n",
      " |      Degree of the polynomial kernel function ('poly').\n",
      " |      Ignored by all other kernels.\n",
      " |  \n",
      " |  gamma : {'scale', 'auto'} or float, default='scale'\n",
      " |      Kernel coefficient for 'rbf', 'poly' and 'sigmoid'.\n",
      " |  \n",
      " |      - if ``gamma='scale'`` (default) is passed then it uses\n",
      " |        1 / (n_features * X.var()) as value of gamma,\n",
      " |      - if 'auto', uses 1 / n_features.\n",
      " |  \n",
      " |      .. versionchanged:: 0.22\n",
      " |         The default value of ``gamma`` changed from 'auto' to 'scale'.\n",
      " |  \n",
      " |  coef0 : float, default=0.0\n",
      " |      Independent term in kernel function.\n",
      " |      It is only significant in 'poly' and 'sigmoid'.\n",
      " |  \n",
      " |  shrinking : bool, default=True\n",
      " |      Whether to use the shrinking heuristic.\n",
      " |      See the :ref:`User Guide <shrinking_svm>`.\n",
      " |  \n",
      " |  probability : bool, default=False\n",
      " |      Whether to enable probability estimates. This must be enabled prior\n",
      " |      to calling `fit`, will slow down that method as it internally uses\n",
      " |      5-fold cross-validation, and `predict_proba` may be inconsistent with\n",
      " |      `predict`. Read more in the :ref:`User Guide <scores_probabilities>`.\n",
      " |  \n",
      " |  tol : float, default=1e-3\n",
      " |      Tolerance for stopping criterion.\n",
      " |  \n",
      " |  cache_size : float, default=200\n",
      " |      Specify the size of the kernel cache (in MB).\n",
      " |  \n",
      " |  class_weight : dict or 'balanced', default=None\n",
      " |      Set the parameter C of class i to class_weight[i]*C for\n",
      " |      SVC. If not given, all classes are supposed to have\n",
      " |      weight one.\n",
      " |      The \"balanced\" mode uses the values of y to automatically adjust\n",
      " |      weights inversely proportional to class frequencies in the input data\n",
      " |      as ``n_samples / (n_classes * np.bincount(y))``.\n",
      " |  \n",
      " |  verbose : bool, default=False\n",
      " |      Enable verbose output. Note that this setting takes advantage of a\n",
      " |      per-process runtime setting in libsvm that, if enabled, may not work\n",
      " |      properly in a multithreaded context.\n",
      " |  \n",
      " |  max_iter : int, default=-1\n",
      " |      Hard limit on iterations within solver, or -1 for no limit.\n",
      " |  \n",
      " |  decision_function_shape : {'ovo', 'ovr'}, default='ovr'\n",
      " |      Whether to return a one-vs-rest ('ovr') decision function of shape\n",
      " |      (n_samples, n_classes) as all other classifiers, or the original\n",
      " |      one-vs-one ('ovo') decision function of libsvm which has shape\n",
      " |      (n_samples, n_classes * (n_classes - 1) / 2). However, one-vs-one\n",
      " |      ('ovo') is always used as multi-class strategy. The parameter is\n",
      " |      ignored for binary classification.\n",
      " |  \n",
      " |      .. versionchanged:: 0.19\n",
      " |          decision_function_shape is 'ovr' by default.\n",
      " |  \n",
      " |      .. versionadded:: 0.17\n",
      " |         *decision_function_shape='ovr'* is recommended.\n",
      " |  \n",
      " |      .. versionchanged:: 0.17\n",
      " |         Deprecated *decision_function_shape='ovo' and None*.\n",
      " |  \n",
      " |  break_ties : bool, default=False\n",
      " |      If true, ``decision_function_shape='ovr'``, and number of classes > 2,\n",
      " |      :term:`predict` will break ties according to the confidence values of\n",
      " |      :term:`decision_function`; otherwise the first class among the tied\n",
      " |      classes is returned. Please note that breaking ties comes at a\n",
      " |      relatively high computational cost compared to a simple predict.\n",
      " |  \n",
      " |      .. versionadded:: 0.22\n",
      " |  \n",
      " |  random_state : int, RandomState instance or None, default=None\n",
      " |      Controls the pseudo random number generation for shuffling the data for\n",
      " |      probability estimates. Ignored when `probability` is False.\n",
      " |      Pass an int for reproducible output across multiple function calls.\n",
      " |      See :term:`Glossary <random_state>`.\n",
      " |  \n",
      " |  Attributes\n",
      " |  ----------\n",
      " |  class_weight_ : ndarray of shape (n_classes,)\n",
      " |      Multipliers of parameter C for each class.\n",
      " |      Computed based on the ``class_weight`` parameter.\n",
      " |  \n",
      " |  classes_ : ndarray of shape (n_classes,)\n",
      " |      The classes labels.\n",
      " |  \n",
      " |  coef_ : ndarray of shape (n_classes * (n_classes - 1) / 2, n_features)\n",
      " |      Weights assigned to the features (coefficients in the primal\n",
      " |      problem). This is only available in the case of a linear kernel.\n",
      " |  \n",
      " |      `coef_` is a readonly property derived from `dual_coef_` and\n",
      " |      `support_vectors_`.\n",
      " |  \n",
      " |  dual_coef_ : ndarray of shape (n_classes -1, n_SV)\n",
      " |      Dual coefficients of the support vector in the decision\n",
      " |      function (see :ref:`sgd_mathematical_formulation`), multiplied by\n",
      " |      their targets.\n",
      " |      For multiclass, coefficient for all 1-vs-1 classifiers.\n",
      " |      The layout of the coefficients in the multiclass case is somewhat\n",
      " |      non-trivial. See the :ref:`multi-class section of the User Guide\n",
      " |      <svm_multi_class>` for details.\n",
      " |  \n",
      " |  fit_status_ : int\n",
      " |      0 if correctly fitted, 1 otherwise (will raise warning)\n",
      " |  \n",
      " |  intercept_ : ndarray of shape (n_classes * (n_classes - 1) / 2,)\n",
      " |      Constants in decision function.\n",
      " |  \n",
      " |  n_features_in_ : int\n",
      " |      Number of features seen during :term:`fit`.\n",
      " |  \n",
      " |      .. versionadded:: 0.24\n",
      " |  \n",
      " |  feature_names_in_ : ndarray of shape (`n_features_in_`,)\n",
      " |      Names of features seen during :term:`fit`. Defined only when `X`\n",
      " |      has feature names that are all strings.\n",
      " |  \n",
      " |      .. versionadded:: 1.0\n",
      " |  \n",
      " |  support_ : ndarray of shape (n_SV)\n",
      " |      Indices of support vectors.\n",
      " |  \n",
      " |  support_vectors_ : ndarray of shape (n_SV, n_features)\n",
      " |      Support vectors.\n",
      " |  \n",
      " |  n_support_ : ndarray of shape (n_classes,), dtype=int32\n",
      " |      Number of support vectors for each class.\n",
      " |  \n",
      " |  probA_ : ndarray of shape (n_classes * (n_classes - 1) / 2)\n",
      " |  probB_ : ndarray of shape (n_classes * (n_classes - 1) / 2)\n",
      " |      If `probability=True`, it corresponds to the parameters learned in\n",
      " |      Platt scaling to produce probability estimates from decision values.\n",
      " |      If `probability=False`, it's an empty array. Platt scaling uses the\n",
      " |      logistic function\n",
      " |      ``1 / (1 + exp(decision_value * probA_ + probB_))``\n",
      " |      where ``probA_`` and ``probB_`` are learned from the dataset [2]_. For\n",
      " |      more information on the multiclass case and training procedure see\n",
      " |      section 8 of [1]_.\n",
      " |  \n",
      " |  shape_fit_ : tuple of int of shape (n_dimensions_of_X,)\n",
      " |      Array dimensions of training vector ``X``.\n",
      " |  \n",
      " |  See Also\n",
      " |  --------\n",
      " |  SVR : Support Vector Machine for Regression implemented using libsvm.\n",
      " |  \n",
      " |  LinearSVC : Scalable Linear Support Vector Machine for classification\n",
      " |      implemented using liblinear. Check the See Also section of\n",
      " |      LinearSVC for more comparison element.\n",
      " |  \n",
      " |  References\n",
      " |  ----------\n",
      " |  .. [1] `LIBSVM: A Library for Support Vector Machines\n",
      " |      <http://www.csie.ntu.edu.tw/~cjlin/papers/libsvm.pdf>`_\n",
      " |  \n",
      " |  .. [2] `Platt, John (1999). \"Probabilistic outputs for support vector\n",
      " |      machines and comparison to regularizedlikelihood methods.\"\n",
      " |      <http://citeseer.ist.psu.edu/viewdoc/summary?doi=10.1.1.41.1639>`_\n",
      " |  \n",
      " |  Examples\n",
      " |  --------\n",
      " |  >>> import numpy as np\n",
      " |  >>> from sklearn.pipeline import make_pipeline\n",
      " |  >>> from sklearn.preprocessing import StandardScaler\n",
      " |  >>> X = np.array([[-1, -1], [-2, -1], [1, 1], [2, 1]])\n",
      " |  >>> y = np.array([1, 1, 2, 2])\n",
      " |  >>> from sklearn.svm import SVC\n",
      " |  >>> clf = make_pipeline(StandardScaler(), SVC(gamma='auto'))\n",
      " |  >>> clf.fit(X, y)\n",
      " |  Pipeline(steps=[('standardscaler', StandardScaler()),\n",
      " |                  ('svc', SVC(gamma='auto'))])\n",
      " |  \n",
      " |  >>> print(clf.predict([[-0.8, -1]]))\n",
      " |  [1]\n",
      " |  \n",
      " |  Method resolution order:\n",
      " |      SVC\n",
      " |      sklearn.svm._base.BaseSVC\n",
      " |      sklearn.base.ClassifierMixin\n",
      " |      sklearn.svm._base.BaseLibSVM\n",
      " |      sklearn.base.BaseEstimator\n",
      " |      builtins.object\n",
      " |  \n",
      " |  Methods defined here:\n",
      " |  \n",
      " |  __init__(self, *, C=1.0, kernel='rbf', degree=3, gamma='scale', coef0=0.0, shrinking=True, probability=False, tol=0.001, cache_size=200, class_weight=None, verbose=False, max_iter=-1, decision_function_shape='ovr', break_ties=False, random_state=None)\n",
      " |      Initialize self.  See help(type(self)) for accurate signature.\n",
      " |  \n",
      " |  ----------------------------------------------------------------------\n",
      " |  Data and other attributes defined here:\n",
      " |  \n",
      " |  __abstractmethods__ = frozenset()\n",
      " |  \n",
      " |  ----------------------------------------------------------------------\n",
      " |  Methods inherited from sklearn.svm._base.BaseSVC:\n",
      " |  \n",
      " |  decision_function(self, X)\n",
      " |      Evaluate the decision function for the samples in X.\n",
      " |      \n",
      " |      Parameters\n",
      " |      ----------\n",
      " |      X : array-like of shape (n_samples, n_features)\n",
      " |          The input samples.\n",
      " |      \n",
      " |      Returns\n",
      " |      -------\n",
      " |      X : ndarray of shape (n_samples, n_classes * (n_classes-1) / 2)\n",
      " |          Returns the decision function of the sample for each class\n",
      " |          in the model.\n",
      " |          If decision_function_shape='ovr', the shape is (n_samples,\n",
      " |          n_classes).\n",
      " |      \n",
      " |      Notes\n",
      " |      -----\n",
      " |      If decision_function_shape='ovo', the function values are proportional\n",
      " |      to the distance of the samples X to the separating hyperplane. If the\n",
      " |      exact distances are required, divide the function values by the norm of\n",
      " |      the weight vector (``coef_``). See also `this question\n",
      " |      <https://stats.stackexchange.com/questions/14876/\n",
      " |      interpreting-distance-from-hyperplane-in-svm>`_ for further details.\n",
      " |      If decision_function_shape='ovr', the decision function is a monotonic\n",
      " |      transformation of ovo decision function.\n",
      " |  \n",
      " |  predict(self, X)\n",
      " |      Perform classification on samples in X.\n",
      " |      \n",
      " |      For an one-class model, +1 or -1 is returned.\n",
      " |      \n",
      " |      Parameters\n",
      " |      ----------\n",
      " |      X : {array-like, sparse matrix} of shape (n_samples, n_features) or                 (n_samples_test, n_samples_train)\n",
      " |          For kernel=\"precomputed\", the expected shape of X is\n",
      " |          (n_samples_test, n_samples_train).\n",
      " |      \n",
      " |      Returns\n",
      " |      -------\n",
      " |      y_pred : ndarray of shape (n_samples,)\n",
      " |          Class labels for samples in X.\n",
      " |  \n",
      " |  predict_log_proba(self, X)\n",
      " |      Compute log probabilities of possible outcomes for samples in X.\n",
      " |      \n",
      " |      The model need to have probability information computed at training\n",
      " |      time: fit with attribute `probability` set to True.\n",
      " |      \n",
      " |      Parameters\n",
      " |      ----------\n",
      " |      X : array-like of shape (n_samples, n_features) or                 (n_samples_test, n_samples_train)\n",
      " |          For kernel=\"precomputed\", the expected shape of X is\n",
      " |          (n_samples_test, n_samples_train).\n",
      " |      \n",
      " |      Returns\n",
      " |      -------\n",
      " |      T : ndarray of shape (n_samples, n_classes)\n",
      " |          Returns the log-probabilities of the sample for each class in\n",
      " |          the model. The columns correspond to the classes in sorted\n",
      " |          order, as they appear in the attribute :term:`classes_`.\n",
      " |      \n",
      " |      Notes\n",
      " |      -----\n",
      " |      The probability model is created using cross validation, so\n",
      " |      the results can be slightly different than those obtained by\n",
      " |      predict. Also, it will produce meaningless results on very small\n",
      " |      datasets.\n",
      " |  \n",
      " |  predict_proba(self, X)\n",
      " |      Compute probabilities of possible outcomes for samples in X.\n",
      " |      \n",
      " |      The model need to have probability information computed at training\n",
      " |      time: fit with attribute `probability` set to True.\n",
      " |      \n",
      " |      Parameters\n",
      " |      ----------\n",
      " |      X : array-like of shape (n_samples, n_features)\n",
      " |          For kernel=\"precomputed\", the expected shape of X is\n",
      " |          (n_samples_test, n_samples_train).\n",
      " |      \n",
      " |      Returns\n",
      " |      -------\n",
      " |      T : ndarray of shape (n_samples, n_classes)\n",
      " |          Returns the probability of the sample for each class in\n",
      " |          the model. The columns correspond to the classes in sorted\n",
      " |          order, as they appear in the attribute :term:`classes_`.\n",
      " |      \n",
      " |      Notes\n",
      " |      -----\n",
      " |      The probability model is created using cross validation, so\n",
      " |      the results can be slightly different than those obtained by\n",
      " |      predict. Also, it will produce meaningless results on very small\n",
      " |      datasets.\n",
      " |  \n",
      " |  ----------------------------------------------------------------------\n",
      " |  Readonly properties inherited from sklearn.svm._base.BaseSVC:\n",
      " |  \n",
      " |  probA_\n",
      " |      Parameter learned in Platt scaling when `probability=True`.\n",
      " |      \n",
      " |      Returns\n",
      " |      -------\n",
      " |      ndarray of shape  (n_classes * (n_classes - 1) / 2)\n",
      " |  \n",
      " |  probB_\n",
      " |      Parameter learned in Platt scaling when `probability=True`.\n",
      " |      \n",
      " |      Returns\n",
      " |      -------\n",
      " |      ndarray of shape  (n_classes * (n_classes - 1) / 2)\n",
      " |  \n",
      " |  ----------------------------------------------------------------------\n",
      " |  Methods inherited from sklearn.base.ClassifierMixin:\n",
      " |  \n",
      " |  score(self, X, y, sample_weight=None)\n",
      " |      Return the mean accuracy on the given test data and labels.\n",
      " |      \n",
      " |      In multi-label classification, this is the subset accuracy\n",
      " |      which is a harsh metric since you require for each sample that\n",
      " |      each label set be correctly predicted.\n",
      " |      \n",
      " |      Parameters\n",
      " |      ----------\n",
      " |      X : array-like of shape (n_samples, n_features)\n",
      " |          Test samples.\n",
      " |      \n",
      " |      y : array-like of shape (n_samples,) or (n_samples, n_outputs)\n",
      " |          True labels for `X`.\n",
      " |      \n",
      " |      sample_weight : array-like of shape (n_samples,), default=None\n",
      " |          Sample weights.\n",
      " |      \n",
      " |      Returns\n",
      " |      -------\n",
      " |      score : float\n",
      " |          Mean accuracy of ``self.predict(X)`` wrt. `y`.\n",
      " |  \n",
      " |  ----------------------------------------------------------------------\n",
      " |  Data descriptors inherited from sklearn.base.ClassifierMixin:\n",
      " |  \n",
      " |  __dict__\n",
      " |      dictionary for instance variables (if defined)\n",
      " |  \n",
      " |  __weakref__\n",
      " |      list of weak references to the object (if defined)\n",
      " |  \n",
      " |  ----------------------------------------------------------------------\n",
      " |  Methods inherited from sklearn.svm._base.BaseLibSVM:\n",
      " |  \n",
      " |  fit(self, X, y, sample_weight=None)\n",
      " |      Fit the SVM model according to the given training data.\n",
      " |      \n",
      " |      Parameters\n",
      " |      ----------\n",
      " |      X : {array-like, sparse matrix} of shape (n_samples, n_features)                 or (n_samples, n_samples)\n",
      " |          Training vectors, where `n_samples` is the number of samples\n",
      " |          and `n_features` is the number of features.\n",
      " |          For kernel=\"precomputed\", the expected shape of X is\n",
      " |          (n_samples, n_samples).\n",
      " |      \n",
      " |      y : array-like of shape (n_samples,)\n",
      " |          Target values (class labels in classification, real numbers in\n",
      " |          regression).\n",
      " |      \n",
      " |      sample_weight : array-like of shape (n_samples,), default=None\n",
      " |          Per-sample weights. Rescale C per sample. Higher weights\n",
      " |          force the classifier to put more emphasis on these points.\n",
      " |      \n",
      " |      Returns\n",
      " |      -------\n",
      " |      self : object\n",
      " |          Fitted estimator.\n",
      " |      \n",
      " |      Notes\n",
      " |      -----\n",
      " |      If X and y are not C-ordered and contiguous arrays of np.float64 and\n",
      " |      X is not a scipy.sparse.csr_matrix, X and/or y may be copied.\n",
      " |      \n",
      " |      If X is a dense array, then the other methods will not support sparse\n",
      " |      matrices as input.\n",
      " |  \n",
      " |  ----------------------------------------------------------------------\n",
      " |  Readonly properties inherited from sklearn.svm._base.BaseLibSVM:\n",
      " |  \n",
      " |  coef_\n",
      " |      Weights assigned to the features when `kernel=\"linear\"`.\n",
      " |      \n",
      " |      Returns\n",
      " |      -------\n",
      " |      ndarray of shape (n_features, n_classes)\n",
      " |  \n",
      " |  n_support_\n",
      " |      Number of support vectors for each class.\n",
      " |  \n",
      " |  ----------------------------------------------------------------------\n",
      " |  Methods inherited from sklearn.base.BaseEstimator:\n",
      " |  \n",
      " |  __getstate__(self)\n",
      " |  \n",
      " |  __repr__(self, N_CHAR_MAX=700)\n",
      " |      Return repr(self).\n",
      " |  \n",
      " |  __setstate__(self, state)\n",
      " |  \n",
      " |  get_params(self, deep=True)\n",
      " |      Get parameters for this estimator.\n",
      " |      \n",
      " |      Parameters\n",
      " |      ----------\n",
      " |      deep : bool, default=True\n",
      " |          If True, will return the parameters for this estimator and\n",
      " |          contained subobjects that are estimators.\n",
      " |      \n",
      " |      Returns\n",
      " |      -------\n",
      " |      params : dict\n",
      " |          Parameter names mapped to their values.\n",
      " |  \n",
      " |  set_params(self, **params)\n",
      " |      Set the parameters of this estimator.\n",
      " |      \n",
      " |      The method works on simple estimators as well as on nested objects\n",
      " |      (such as :class:`~sklearn.pipeline.Pipeline`). The latter have\n",
      " |      parameters of the form ``<component>__<parameter>`` so that it's\n",
      " |      possible to update each component of a nested object.\n",
      " |      \n",
      " |      Parameters\n",
      " |      ----------\n",
      " |      **params : dict\n",
      " |          Estimator parameters.\n",
      " |      \n",
      " |      Returns\n",
      " |      -------\n",
      " |      self : estimator instance\n",
      " |          Estimator instance.\n",
      "\n"
     ]
    }
   ],
   "source": [
    "help(model4)"
   ]
  },
  {
   "cell_type": "markdown",
   "id": "2227ab6d",
   "metadata": {},
   "source": [
    "## Hiperparametric tunnig"
   ]
  },
  {
   "cell_type": "code",
   "execution_count": 161,
   "id": "12c6009e",
   "metadata": {},
   "outputs": [],
   "source": [
    "from sklearn.model_selection import GridSearchCV"
   ]
  },
  {
   "cell_type": "code",
   "execution_count": 162,
   "id": "4490b961",
   "metadata": {},
   "outputs": [],
   "source": [
    "params = {'C': 10.0 ** np.arange(-2,3),\n",
    "         'kernel':['linear','rbf'],\n",
    "         'gamma':['scale','auto']}"
   ]
  },
  {
   "cell_type": "code",
   "execution_count": 164,
   "id": "461ab080",
   "metadata": {},
   "outputs": [],
   "source": [
    "model=GridSearchCV(svm.SVC(), param_grid=params, cv=5)"
   ]
  },
  {
   "cell_type": "code",
   "execution_count": 165,
   "id": "90917b04",
   "metadata": {},
   "outputs": [
    {
     "data": {
      "text/plain": [
       "GridSearchCV(cv=5, estimator=SVC(),\n",
       "             param_grid={'C': array([1.e-02, 1.e-01, 1.e+00, 1.e+01, 1.e+02]),\n",
       "                         'gamma': ['scale', 'auto'],\n",
       "                         'kernel': ['linear', 'rbf']})"
      ]
     },
     "execution_count": 165,
     "metadata": {},
     "output_type": "execute_result"
    }
   ],
   "source": [
    "model.fit(X_train, y_train)"
   ]
  },
  {
   "cell_type": "code",
   "execution_count": 170,
   "id": "a0486bb1",
   "metadata": {},
   "outputs": [
    {
     "data": {
      "text/plain": [
       "{'C': 1.0, 'gamma': 'scale', 'kernel': 'rbf'}"
      ]
     },
     "execution_count": 170,
     "metadata": {},
     "output_type": "execute_result"
    }
   ],
   "source": [
    "model.best_params_"
   ]
  },
  {
   "cell_type": "code",
   "execution_count": 167,
   "id": "20fc6a2d",
   "metadata": {},
   "outputs": [],
   "source": [
    "y_pred=model.best_estimator_.predict(X_test)"
   ]
  },
  {
   "cell_type": "code",
   "execution_count": 168,
   "id": "be89fd9b",
   "metadata": {},
   "outputs": [
    {
     "name": "stdout",
     "output_type": "stream",
     "text": [
      "              precision    recall  f1-score   support\n",
      "\n",
      "           0       0.85      0.72      0.78       282\n",
      "           1       0.74      0.87      0.80       263\n",
      "\n",
      "    accuracy                           0.79       545\n",
      "   macro avg       0.80      0.79      0.79       545\n",
      "weighted avg       0.80      0.79      0.79       545\n",
      "\n"
     ]
    }
   ],
   "source": [
    "print(classification_report(y_test, y_pred))"
   ]
  },
  {
   "cell_type": "code",
   "execution_count": 171,
   "id": "6ca1d2db",
   "metadata": {},
   "outputs": [
    {
     "data": {
      "text/plain": [
       "0.7908256880733945"
      ]
     },
     "execution_count": 171,
     "metadata": {},
     "output_type": "execute_result"
    }
   ],
   "source": [
    "model.score(X_test,y_test) #no cambia respecto a los parámetros por defecto"
   ]
  },
  {
   "cell_type": "code",
   "execution_count": null,
   "id": "4b96a054",
   "metadata": {},
   "outputs": [],
   "source": []
  }
 ],
 "metadata": {
  "kernelspec": {
   "display_name": "Python 3",
   "language": "python",
   "name": "python3"
  },
  "language_info": {
   "codemirror_mode": {
    "name": "ipython",
    "version": 3
   },
   "file_extension": ".py",
   "mimetype": "text/x-python",
   "name": "python",
   "nbconvert_exporter": "python",
   "pygments_lexer": "ipython3",
   "version": "3.8.8"
  },
  "toc": {
   "base_numbering": 1,
   "nav_menu": {},
   "number_sections": true,
   "sideBar": true,
   "skip_h1_title": false,
   "title_cell": "Table of Contents",
   "title_sidebar": "Contents",
   "toc_cell": false,
   "toc_position": {
    "height": "calc(100% - 180px)",
    "left": "10px",
    "top": "150px",
    "width": "426.656px"
   },
   "toc_section_display": true,
   "toc_window_display": true
  },
  "varInspector": {
   "cols": {
    "lenName": 16,
    "lenType": 16,
    "lenVar": 40
   },
   "kernels_config": {
    "python": {
     "delete_cmd_postfix": "",
     "delete_cmd_prefix": "del ",
     "library": "var_list.py",
     "varRefreshCmd": "print(var_dic_list())"
    },
    "r": {
     "delete_cmd_postfix": ") ",
     "delete_cmd_prefix": "rm(",
     "library": "var_list.r",
     "varRefreshCmd": "cat(var_dic_list()) "
    }
   },
   "types_to_exclude": [
    "module",
    "function",
    "builtin_function_or_method",
    "instance",
    "_Feature"
   ],
   "window_display": false
  }
 },
 "nbformat": 4,
 "nbformat_minor": 5
}
